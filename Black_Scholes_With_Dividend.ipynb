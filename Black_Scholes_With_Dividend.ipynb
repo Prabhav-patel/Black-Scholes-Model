{
  "nbformat": 4,
  "nbformat_minor": 0,
  "metadata": {
    "colab": {
      "provenance": []
    },
    "kernelspec": {
      "name": "python3",
      "display_name": "Python 3"
    },
    "language_info": {
      "name": "python"
    }
  },
  "cells": [
    {
      "cell_type": "markdown",
      "source": [
        "# **With Dividend**"
      ],
      "metadata": {
        "id": "45gigs1GAdGF"
      }
    },
    {
      "cell_type": "code",
      "source": [
        "import yfinance as yf\n",
        "import pandas as pd"
      ],
      "metadata": {
        "id": "lAOfMhk0AcO2"
      },
      "execution_count": 46,
      "outputs": []
    },
    {
      "cell_type": "code",
      "source": [
        "ticker=yf.Ticker('SPY')"
      ],
      "metadata": {
        "id": "Z0AP7S4sAcM0"
      },
      "execution_count": 47,
      "outputs": []
    },
    {
      "cell_type": "code",
      "source": [
        "current_price=ticker.history(period='1d').Close.values[0]"
      ],
      "metadata": {
        "id": "_7bKWL68AcLA"
      },
      "execution_count": 48,
      "outputs": []
    },
    {
      "cell_type": "code",
      "source": [
        "current_date=pd.Timestamp.now()\n",
        "maturity_date=current_date+pd.DateOffset(days=7)\n",
        "maturity_date"
      ],
      "metadata": {
        "colab": {
          "base_uri": "https://localhost:8080/"
        },
        "id": "gmxMNpx7AcJa",
        "outputId": "a62216c9-2ab9-4658-a9b0-4222c7723d18"
      },
      "execution_count": 49,
      "outputs": [
        {
          "output_type": "execute_result",
          "data": {
            "text/plain": [
              "Timestamp('2025-06-17 14:16:49.874902')"
            ]
          },
          "metadata": {},
          "execution_count": 49
        }
      ]
    },
    {
      "cell_type": "code",
      "source": [
        "opt_chain = ticker.option_chain(maturity_date.strftime(\"%Y-%m-%d\"))\n",
        "calls = opt_chain.calls\n",
        "puts = opt_chain.puts"
      ],
      "metadata": {
        "id": "nNfrC99uAcGN"
      },
      "execution_count": 50,
      "outputs": []
    },
    {
      "cell_type": "code",
      "source": [
        "end_date=pd.Timestamp.now()\n",
        "start_date=end_date-pd.DateOffset(years=2)\n",
        "df=yf.download('SPY',start_date,end_date)"
      ],
      "metadata": {
        "colab": {
          "base_uri": "https://localhost:8080/"
        },
        "id": "2vFTXijaBzOC",
        "outputId": "e0c5f0e6-9335-47a6-f8ef-07db599d8dcd"
      },
      "execution_count": 51,
      "outputs": [
        {
          "output_type": "stream",
          "name": "stderr",
          "text": [
            "\r[*********************100%***********************]  1 of 1 completed\n"
          ]
        }
      ]
    },
    {
      "cell_type": "code",
      "source": [
        "spy=df['Close']\n",
        "spy.head(2)"
      ],
      "metadata": {
        "colab": {
          "base_uri": "https://localhost:8080/",
          "height": 143
        },
        "id": "25eYhfXtBzLy",
        "outputId": "c76cc8b0-c19f-4278-9722-94d36e265f86"
      },
      "execution_count": 52,
      "outputs": [
        {
          "output_type": "execute_result",
          "data": {
            "text/plain": [
              "Ticker             SPY\n",
              "Date                  \n",
              "2023-06-12  422.233765\n",
              "2023-06-13  425.017487"
            ],
            "text/html": [
              "\n",
              "  <div id=\"df-8bf4da1e-59ed-4c73-ab83-b83a992a3879\" class=\"colab-df-container\">\n",
              "    <div>\n",
              "<style scoped>\n",
              "    .dataframe tbody tr th:only-of-type {\n",
              "        vertical-align: middle;\n",
              "    }\n",
              "\n",
              "    .dataframe tbody tr th {\n",
              "        vertical-align: top;\n",
              "    }\n",
              "\n",
              "    .dataframe thead th {\n",
              "        text-align: right;\n",
              "    }\n",
              "</style>\n",
              "<table border=\"1\" class=\"dataframe\">\n",
              "  <thead>\n",
              "    <tr style=\"text-align: right;\">\n",
              "      <th>Ticker</th>\n",
              "      <th>SPY</th>\n",
              "    </tr>\n",
              "    <tr>\n",
              "      <th>Date</th>\n",
              "      <th></th>\n",
              "    </tr>\n",
              "  </thead>\n",
              "  <tbody>\n",
              "    <tr>\n",
              "      <th>2023-06-12</th>\n",
              "      <td>422.233765</td>\n",
              "    </tr>\n",
              "    <tr>\n",
              "      <th>2023-06-13</th>\n",
              "      <td>425.017487</td>\n",
              "    </tr>\n",
              "  </tbody>\n",
              "</table>\n",
              "</div>\n",
              "    <div class=\"colab-df-buttons\">\n",
              "\n",
              "  <div class=\"colab-df-container\">\n",
              "    <button class=\"colab-df-convert\" onclick=\"convertToInteractive('df-8bf4da1e-59ed-4c73-ab83-b83a992a3879')\"\n",
              "            title=\"Convert this dataframe to an interactive table.\"\n",
              "            style=\"display:none;\">\n",
              "\n",
              "  <svg xmlns=\"http://www.w3.org/2000/svg\" height=\"24px\" viewBox=\"0 -960 960 960\">\n",
              "    <path d=\"M120-120v-720h720v720H120Zm60-500h600v-160H180v160Zm220 220h160v-160H400v160Zm0 220h160v-160H400v160ZM180-400h160v-160H180v160Zm440 0h160v-160H620v160ZM180-180h160v-160H180v160Zm440 0h160v-160H620v160Z\"/>\n",
              "  </svg>\n",
              "    </button>\n",
              "\n",
              "  <style>\n",
              "    .colab-df-container {\n",
              "      display:flex;\n",
              "      gap: 12px;\n",
              "    }\n",
              "\n",
              "    .colab-df-convert {\n",
              "      background-color: #E8F0FE;\n",
              "      border: none;\n",
              "      border-radius: 50%;\n",
              "      cursor: pointer;\n",
              "      display: none;\n",
              "      fill: #1967D2;\n",
              "      height: 32px;\n",
              "      padding: 0 0 0 0;\n",
              "      width: 32px;\n",
              "    }\n",
              "\n",
              "    .colab-df-convert:hover {\n",
              "      background-color: #E2EBFA;\n",
              "      box-shadow: 0px 1px 2px rgba(60, 64, 67, 0.3), 0px 1px 3px 1px rgba(60, 64, 67, 0.15);\n",
              "      fill: #174EA6;\n",
              "    }\n",
              "\n",
              "    .colab-df-buttons div {\n",
              "      margin-bottom: 4px;\n",
              "    }\n",
              "\n",
              "    [theme=dark] .colab-df-convert {\n",
              "      background-color: #3B4455;\n",
              "      fill: #D2E3FC;\n",
              "    }\n",
              "\n",
              "    [theme=dark] .colab-df-convert:hover {\n",
              "      background-color: #434B5C;\n",
              "      box-shadow: 0px 1px 3px 1px rgba(0, 0, 0, 0.15);\n",
              "      filter: drop-shadow(0px 1px 2px rgba(0, 0, 0, 0.3));\n",
              "      fill: #FFFFFF;\n",
              "    }\n",
              "  </style>\n",
              "\n",
              "    <script>\n",
              "      const buttonEl =\n",
              "        document.querySelector('#df-8bf4da1e-59ed-4c73-ab83-b83a992a3879 button.colab-df-convert');\n",
              "      buttonEl.style.display =\n",
              "        google.colab.kernel.accessAllowed ? 'block' : 'none';\n",
              "\n",
              "      async function convertToInteractive(key) {\n",
              "        const element = document.querySelector('#df-8bf4da1e-59ed-4c73-ab83-b83a992a3879');\n",
              "        const dataTable =\n",
              "          await google.colab.kernel.invokeFunction('convertToInteractive',\n",
              "                                                    [key], {});\n",
              "        if (!dataTable) return;\n",
              "\n",
              "        const docLinkHtml = 'Like what you see? Visit the ' +\n",
              "          '<a target=\"_blank\" href=https://colab.research.google.com/notebooks/data_table.ipynb>data table notebook</a>'\n",
              "          + ' to learn more about interactive tables.';\n",
              "        element.innerHTML = '';\n",
              "        dataTable['output_type'] = 'display_data';\n",
              "        await google.colab.output.renderOutput(dataTable, element);\n",
              "        const docLink = document.createElement('div');\n",
              "        docLink.innerHTML = docLinkHtml;\n",
              "        element.appendChild(docLink);\n",
              "      }\n",
              "    </script>\n",
              "  </div>\n",
              "\n",
              "\n",
              "    <div id=\"df-9537c741-2153-4595-8e54-833ee6d41da3\">\n",
              "      <button class=\"colab-df-quickchart\" onclick=\"quickchart('df-9537c741-2153-4595-8e54-833ee6d41da3')\"\n",
              "                title=\"Suggest charts\"\n",
              "                style=\"display:none;\">\n",
              "\n",
              "<svg xmlns=\"http://www.w3.org/2000/svg\" height=\"24px\"viewBox=\"0 0 24 24\"\n",
              "     width=\"24px\">\n",
              "    <g>\n",
              "        <path d=\"M19 3H5c-1.1 0-2 .9-2 2v14c0 1.1.9 2 2 2h14c1.1 0 2-.9 2-2V5c0-1.1-.9-2-2-2zM9 17H7v-7h2v7zm4 0h-2V7h2v10zm4 0h-2v-4h2v4z\"/>\n",
              "    </g>\n",
              "</svg>\n",
              "      </button>\n",
              "\n",
              "<style>\n",
              "  .colab-df-quickchart {\n",
              "      --bg-color: #E8F0FE;\n",
              "      --fill-color: #1967D2;\n",
              "      --hover-bg-color: #E2EBFA;\n",
              "      --hover-fill-color: #174EA6;\n",
              "      --disabled-fill-color: #AAA;\n",
              "      --disabled-bg-color: #DDD;\n",
              "  }\n",
              "\n",
              "  [theme=dark] .colab-df-quickchart {\n",
              "      --bg-color: #3B4455;\n",
              "      --fill-color: #D2E3FC;\n",
              "      --hover-bg-color: #434B5C;\n",
              "      --hover-fill-color: #FFFFFF;\n",
              "      --disabled-bg-color: #3B4455;\n",
              "      --disabled-fill-color: #666;\n",
              "  }\n",
              "\n",
              "  .colab-df-quickchart {\n",
              "    background-color: var(--bg-color);\n",
              "    border: none;\n",
              "    border-radius: 50%;\n",
              "    cursor: pointer;\n",
              "    display: none;\n",
              "    fill: var(--fill-color);\n",
              "    height: 32px;\n",
              "    padding: 0;\n",
              "    width: 32px;\n",
              "  }\n",
              "\n",
              "  .colab-df-quickchart:hover {\n",
              "    background-color: var(--hover-bg-color);\n",
              "    box-shadow: 0 1px 2px rgba(60, 64, 67, 0.3), 0 1px 3px 1px rgba(60, 64, 67, 0.15);\n",
              "    fill: var(--button-hover-fill-color);\n",
              "  }\n",
              "\n",
              "  .colab-df-quickchart-complete:disabled,\n",
              "  .colab-df-quickchart-complete:disabled:hover {\n",
              "    background-color: var(--disabled-bg-color);\n",
              "    fill: var(--disabled-fill-color);\n",
              "    box-shadow: none;\n",
              "  }\n",
              "\n",
              "  .colab-df-spinner {\n",
              "    border: 2px solid var(--fill-color);\n",
              "    border-color: transparent;\n",
              "    border-bottom-color: var(--fill-color);\n",
              "    animation:\n",
              "      spin 1s steps(1) infinite;\n",
              "  }\n",
              "\n",
              "  @keyframes spin {\n",
              "    0% {\n",
              "      border-color: transparent;\n",
              "      border-bottom-color: var(--fill-color);\n",
              "      border-left-color: var(--fill-color);\n",
              "    }\n",
              "    20% {\n",
              "      border-color: transparent;\n",
              "      border-left-color: var(--fill-color);\n",
              "      border-top-color: var(--fill-color);\n",
              "    }\n",
              "    30% {\n",
              "      border-color: transparent;\n",
              "      border-left-color: var(--fill-color);\n",
              "      border-top-color: var(--fill-color);\n",
              "      border-right-color: var(--fill-color);\n",
              "    }\n",
              "    40% {\n",
              "      border-color: transparent;\n",
              "      border-right-color: var(--fill-color);\n",
              "      border-top-color: var(--fill-color);\n",
              "    }\n",
              "    60% {\n",
              "      border-color: transparent;\n",
              "      border-right-color: var(--fill-color);\n",
              "    }\n",
              "    80% {\n",
              "      border-color: transparent;\n",
              "      border-right-color: var(--fill-color);\n",
              "      border-bottom-color: var(--fill-color);\n",
              "    }\n",
              "    90% {\n",
              "      border-color: transparent;\n",
              "      border-bottom-color: var(--fill-color);\n",
              "    }\n",
              "  }\n",
              "</style>\n",
              "\n",
              "      <script>\n",
              "        async function quickchart(key) {\n",
              "          const quickchartButtonEl =\n",
              "            document.querySelector('#' + key + ' button');\n",
              "          quickchartButtonEl.disabled = true;  // To prevent multiple clicks.\n",
              "          quickchartButtonEl.classList.add('colab-df-spinner');\n",
              "          try {\n",
              "            const charts = await google.colab.kernel.invokeFunction(\n",
              "                'suggestCharts', [key], {});\n",
              "          } catch (error) {\n",
              "            console.error('Error during call to suggestCharts:', error);\n",
              "          }\n",
              "          quickchartButtonEl.classList.remove('colab-df-spinner');\n",
              "          quickchartButtonEl.classList.add('colab-df-quickchart-complete');\n",
              "        }\n",
              "        (() => {\n",
              "          let quickchartButtonEl =\n",
              "            document.querySelector('#df-9537c741-2153-4595-8e54-833ee6d41da3 button');\n",
              "          quickchartButtonEl.style.display =\n",
              "            google.colab.kernel.accessAllowed ? 'block' : 'none';\n",
              "        })();\n",
              "      </script>\n",
              "    </div>\n",
              "\n",
              "    </div>\n",
              "  </div>\n"
            ],
            "application/vnd.google.colaboratory.intrinsic+json": {
              "type": "dataframe",
              "variable_name": "spy",
              "summary": "{\n  \"name\": \"spy\",\n  \"rows\": 501,\n  \"fields\": [\n    {\n      \"column\": \"Date\",\n      \"properties\": {\n        \"dtype\": \"date\",\n        \"min\": \"2023-06-12 00:00:00\",\n        \"max\": \"2025-06-10 00:00:00\",\n        \"num_unique_values\": 501,\n        \"samples\": [\n          \"2024-11-18 00:00:00\",\n          \"2023-09-26 00:00:00\",\n          \"2024-12-06 00:00:00\"\n        ],\n        \"semantic_type\": \"\",\n        \"description\": \"\"\n      }\n    },\n    {\n      \"column\": \"SPY\",\n      \"properties\": {\n        \"dtype\": \"number\",\n        \"std\": 61.245918850955604,\n        \"min\": 402.6302490234375,\n        \"max\": 611.0916748046875,\n        \"num_unique_values\": 499,\n        \"samples\": [\n          537.6099853515625,\n          420.12060546875,\n          523.1220092773438\n        ],\n        \"semantic_type\": \"\",\n        \"description\": \"\"\n      }\n    }\n  ]\n}"
            }
          },
          "metadata": {},
          "execution_count": 52
        }
      ]
    },
    {
      "cell_type": "code",
      "source": [
        "vol = df['Close'].pct_change().std()\n",
        "vol=vol[-1]"
      ],
      "metadata": {
        "colab": {
          "base_uri": "https://localhost:8080/"
        },
        "id": "a9gw72fzBzJj",
        "outputId": "93b342bf-5379-4b38-d593-d1e7a17bf557"
      },
      "execution_count": 53,
      "outputs": [
        {
          "output_type": "stream",
          "name": "stderr",
          "text": [
            "<ipython-input-53-2e26a25f0062>:2: FutureWarning: Series.__getitem__ treating keys as positions is deprecated. In a future version, integer keys will always be treated as labels (consistent with DataFrame behavior). To access a value by position, use `ser.iloc[pos]`\n",
            "  vol=vol[-1]\n"
          ]
        }
      ]
    },
    {
      "cell_type": "code",
      "source": [
        "import numpy as np\n",
        "import math\n",
        "annual_vol=vol*np.sqrt(252)\n",
        "annual_vol"
      ],
      "metadata": {
        "colab": {
          "base_uri": "https://localhost:8080/"
        },
        "id": "jdmSxf7pBzG9",
        "outputId": "3d01ff98-c579-4248-d746-0ec3e291b85b"
      },
      "execution_count": 54,
      "outputs": [
        {
          "output_type": "execute_result",
          "data": {
            "text/plain": [
              "np.float64(0.16506664432433396)"
            ]
          },
          "metadata": {},
          "execution_count": 54
        }
      ]
    },
    {
      "cell_type": "code",
      "source": [
        "!pip install fredapi"
      ],
      "metadata": {
        "colab": {
          "base_uri": "https://localhost:8080/"
        },
        "id": "lVk05A7xBzEk",
        "outputId": "74566e49-bd03-4f80-a82e-d53722ff47ac"
      },
      "execution_count": 55,
      "outputs": [
        {
          "output_type": "stream",
          "name": "stdout",
          "text": [
            "Requirement already satisfied: fredapi in /usr/local/lib/python3.11/dist-packages (0.5.2)\n",
            "Requirement already satisfied: pandas in /usr/local/lib/python3.11/dist-packages (from fredapi) (2.2.2)\n",
            "Requirement already satisfied: numpy>=1.23.2 in /usr/local/lib/python3.11/dist-packages (from pandas->fredapi) (2.0.2)\n",
            "Requirement already satisfied: python-dateutil>=2.8.2 in /usr/local/lib/python3.11/dist-packages (from pandas->fredapi) (2.9.0.post0)\n",
            "Requirement already satisfied: pytz>=2020.1 in /usr/local/lib/python3.11/dist-packages (from pandas->fredapi) (2025.2)\n",
            "Requirement already satisfied: tzdata>=2022.7 in /usr/local/lib/python3.11/dist-packages (from pandas->fredapi) (2025.2)\n",
            "Requirement already satisfied: six>=1.5 in /usr/local/lib/python3.11/dist-packages (from python-dateutil>=2.8.2->pandas->fredapi) (1.17.0)\n"
          ]
        }
      ]
    },
    {
      "cell_type": "code",
      "source": [
        "from fredapi import Fred\n",
        "fred = Fred(api_key='0f20831928a8c94e2df17df8fdefe2e6')\n",
        "latest_rate=((fred.get_series('TB3MS'))[-1])/100\n",
        "latest_rate"
      ],
      "metadata": {
        "colab": {
          "base_uri": "https://localhost:8080/"
        },
        "id": "uwlFkFovAcEC",
        "outputId": "c156323f-75cf-4598-ac46-0eeb138d552c"
      },
      "execution_count": 56,
      "outputs": [
        {
          "output_type": "stream",
          "name": "stderr",
          "text": [
            "<ipython-input-56-f8554fc235bc>:3: FutureWarning: Series.__getitem__ treating keys as positions is deprecated. In a future version, integer keys will always be treated as labels (consistent with DataFrame behavior). To access a value by position, use `ser.iloc[pos]`\n",
            "  latest_rate=((fred.get_series('TB3MS'))[-1])/100\n"
          ]
        },
        {
          "output_type": "execute_result",
          "data": {
            "text/plain": [
              "np.float64(0.0425)"
            ]
          },
          "metadata": {},
          "execution_count": 56
        }
      ]
    },
    {
      "cell_type": "code",
      "source": [
        "import yfinance as yf\n",
        "\n",
        "# Download SPY data\n",
        "spy = yf.Ticker(\"SPY\")\n",
        "\n",
        "# Get dividend history\n",
        "dividends = spy.dividends\n",
        "\n",
        "# Filter for quarterly dividends (last 4 quarters)\n",
        "last_4_quarters = dividends.tail(4)\n",
        "\n",
        "print(last_4_quarters)"
      ],
      "metadata": {
        "colab": {
          "base_uri": "https://localhost:8080/"
        },
        "id": "DgW314xcAb7A",
        "outputId": "798dfe07-dbc3-49b6-9e58-95c1d41a176b"
      },
      "execution_count": 57,
      "outputs": [
        {
          "output_type": "stream",
          "name": "stdout",
          "text": [
            "Date\n",
            "2024-06-21 00:00:00-04:00    1.759\n",
            "2024-09-20 00:00:00-04:00    1.746\n",
            "2024-12-20 00:00:00-05:00    1.966\n",
            "2025-03-21 00:00:00-04:00    1.696\n",
            "Name: Dividends, dtype: float64\n"
          ]
        }
      ]
    },
    {
      "cell_type": "code",
      "source": [
        "dividend_rate = (float)(last_4_quarters.sum() / current_price)\n",
        "dividend_rate"
      ],
      "metadata": {
        "colab": {
          "base_uri": "https://localhost:8080/"
        },
        "id": "y94F9-biAb4O",
        "outputId": "9f82861d-e645-4b3a-ddeb-c90b51883873"
      },
      "execution_count": 58,
      "outputs": [
        {
          "output_type": "execute_result",
          "data": {
            "text/plain": [
              "0.01192492618017278"
            ]
          },
          "metadata": {},
          "execution_count": 58
        }
      ]
    },
    {
      "cell_type": "markdown",
      "source": [
        "![image.png](data:image/png;base64,iVBORw0KGgoAAAANSUhEUgAAAscAAAFACAYAAABQq9HTAAAAAXNSR0IArs4c6QAAAARnQU1BAACxjwv8YQUAAAAJcEhZcwAAFxEAABcRAcom8z8AAK4qSURBVHhe7d0H3L7l+Mdx/lqkSYVoD7RoIDS1p7bS3lFSqbRQdqJpFgrRpIyiYZQthMqojFKpFFFkdf1f77P7eLqe63evZ/2e+3l+x+f1ul7P73eP676ucxzn9zzO4zyuJ1VJkiRJkiRJkhSe1HwhSZIkSZIkSWZVUhwnSZIkSZIkSYsUx0mSJEmSJEnSIsVxkiRJkiRJkrRIcZwkSZIkSZIkLVIcJ0mSJEmSJEmLFMdJkiRJkiRJ0iLFcZIkSZIkSZK0SHGcJEmSJEmSJC1SHCdJkiRJkiRJixTHSZIkSZIkSdIixXGSJEmSJEmStEhxnCRJkiRJkiQtUhwnSZIkSZIkSYsUx0mSJEmSJEnSIsVxkiRJkiRJkrRIcZwkSZIkSZIkLVIcJ0mSJEmSJEmLFMdJkiRJkiRJ0iLFcZIkSZIkSZK0SHGcJEmSJEmSJC1SHCdJkoyRf/7zn9VDDz1U/fWvfy3H3/72t+q///3vsM/861//GvYZ//73v/897DNJd/74xz9Wl19+eXXeeedV3/nOd6p//OMfzY8kSZKMmUkTxwYOA4gBYrSHwSbpj8cee6z6+9//PkMZjuR4+OGHZxjwk2Rmctddd1W//OUvq5/85CdFHH33u98t//7Vr35VPfjgg82PzxT+97//VV/5yleqt7zlLdWb3/zm6phjjqlOOeWU6k9/+tOwz/3gBz+o3vnOdw595qSTTqpuuummYZ8ZK48++mj1+9//vrr55purG264ofr2t79dfvfnP/95ddttt1UPPPBA8ytTBkL4iCOOqOaee+7qSU96UrXssstWV111VbFtSZIk48mkieM77rijes973lMdf/zxZVAZyRHfue6669Lz0ieE8VlnnTWq8nYcd9xx1dlnn13dfffdzVMnyYRCFN1yyy3VueeeW+25557VOuusU71whRdWz3zmM6tFFlmk/Hv99devjjrqqOpLX/pSEYczExNGou3pT396EW3/93//Vy233HIzCN+PfOQj1bOf/ezymSc/+cnVggsuWH3+858f9pnRct999xUR/P73v7/afvvtq1e84hVFPPqN5z3vedVqq61Wbb755tWRRx5ZXXnlldXvfve75ikGHpOhFVdcsZRfCOQ3vOENkzYpSpJk+jJp4vj73/9+teiii1ZPecpTqjnnnHNEx+yzz17+Ete5rNYf9957b7X66quX8p5jjjlmKNNeh4Fo7bXXrm688cbmqZNkwuB9/cAHPlDE3VxzzVXarr9PfepTq6c97Wnl8G+vhV3Ycsstq69+7WtlpWNmQBwT5oRoXN8KK6xQvLd1TC4XW2yxarbZZivX+axnPau67LLLhn1mNPz0pz+tXv/611eLL774UBkokyij+HeU3zzzzFPK6Atf+MKk2s///Oc/1W9+85uyEuDg/WeneOLbwUu8zDLLFFvkXvzde++9c8KeJMm4M2nimJeDMWfkeAEc/m3gcDDynQ6eGX/f/e53T6pxn0oYdF760peWMjZgKm8DpnLsVd4OA9ErX/nKFMfJTOP2226r9tlnn2reeectoi7EcNgA3leH9jvHnHMOe//Zz3lO9b73va+smEw0xPHRRx9dPeMZzxgSpjyc7cRxCFj9kBd5LOJYWJlwDv06ftf9hx2tl1E4IaKM/HvhhRcunua//OUvzVPPFEx81lxzzTKRWGmllapVV121XM8jjzzS/GhBXPdee+1VLbDAAuXgXLn00kubH0uSJBkzkyqOl1hiiWLQLUc6wuD1Ogwq/p5xxhkpjvuEOH7Zy15WypswVt7zzTffUFn2OhZaaKHibWouFSfJRHDnnXeW9haeT22WoCP8nvvc51YvfOELqxe96EVFVC211FKlfYZH2WeJ6QUXfEaJ/Z1oGzEZ4ph39ZJLLik2NBwMyio8w0suuWQRnS9+8YurlVdeuYR5CEPx21FG8T3xzzYIzmxsrnNNsZrFJrmWbh5/7YLdF8ZyxRVXFMGcJEky3gyEOGbUGXSxhB/+8IfL8aEPfajj8cEPfrD8/fGPf1yW5pLe1MVxeI4JC961j370ozOUcfM488wzy2B8//33N0+dJOMKwSM2dv755y9ik2gi5IQtvOpVr6o+9rGPVb/4xS9KrKnYWd7TE9/2tuolL3nJkID2HUJQGMMFF1zQ/IlxZTLEsVCKNdZYo/xeCGP/dv7ddtutnFfIAtFLhIrXtd9glVVWGZpwRLmyvZ/+9Kdn+mZbmytNaqI8rBAce+yxHT3HSZIkM4uBEMcOhvHAAw8sO4/7PfqFl8USpJ3c4y2mXYdzj+d5bTIc70wcdXEcnqNNNtmkiN1muXY7BgXlrYw6xSfWmcj6D9TZeIiLaE/jea3u3/n6KauREtc6nucWW8o7TDQRcNqrVSWCWTtu1w79/g9/+MPibY4JYGyQ23nnnYsQ65doW+1+px0zWxz/+c9/rg455JBynghJ87u86RdeeGHHdqOMbGzcaquthnnkeW3tR5D1Y7Q4tz7Qb5lBXQrt8PuuxUrWCSecMO62L3BtrlF7nYiN3NrBePbbJEkmj4ESxwcddFDzY6OGgeJZks7o4osvLpkaTj311OpTn/pU9Y1vfKP6wx/+0HO5lQfj1ltvLQOKw4aR8Jwy4LfffnvZ1MKz6ryj3SXvWqVYuuOOP5TUS+ecc0653i9/+cvl9/1mt6XGfmgnjjfddNMx7fTm4eO5IwKUj5ALv9MN9xGf95d3S0q/wCArFtEGnSj32267dWjA4QlTRjIXWEH4+te/3tbTZKASS2nA5/H2WfUvP6rvuO5236vj/qS/qtf/ffc9cX++rw1cffXV1cc//vHq/PPPr775zW+WDUIjHeClylN+2pOVk7jWb33rW2Up2aA7EpTTPffcU+7/oosuKkvR/vI4qiPvdxMy3tf2oq5++ctbqr/97aHynrqQbearX/1qaafOLeuCdGF/HWP8qhjhV7/61UOxsXEcfPDBJSNDL7SnzTbbrIhi4pjwsvGNZ7QT2px+wMP6ve99r/Rl90S4un+/W2+jTWa2ONbeCMnw/jqf0BJ10K1OA3aKBz5ikNkCMcpvf/vbZ4jRJsSjL7of/eHhh5/4DLv1s5/9rNhY9+ca7Evo1L70i1tv/U3pN/qKsIooM/fEQWJFMOxufYOe7/72t78t/STsTT8rWfqWzytrq2Q2eOqv2q/20rznJto7exF2QHmYbMV1Ob8N5tqNc7NN119/fWlPKZSTZGoyUOKYYRwPGOxPfvKT1QYbbFA95znPKYOWJVkHY+zvKqusXJbwLM928nr96Ec/KnGNvBu+ZwBi/Bhpgvj5z39+Obdrly6JOBqp95DAMqisu+665RyWGeN6/dv1ixl83eteV8pstMa2nTjmOTb4jRbCixCJ2GXlIHdrN3gFLZdLwcUb6N6k3wqUh+VfnkP373Ddf/7z/WUgI5ziu3532223nSEtlYFZXbg/8dLKM8o06n+FFV5YHXnkm8o9dKozYsBSfdS/9hr35zcPP/zwIna8F7/hs7xwNhb1M3BrS8qEd9O5mtfq3+JGZWYhDHrhfAT1NttsUy299NKlrJRhtCdCUbv1/uWXXdZx0kXs+F3l7Bzq12RNXyE09Qv1WO9XDvXBgzvadqrM9YO619j16qf9YmKhLdqIRhwTykcddWTbfm6CbPIkFZzyd6/RRvzV/1ZYaaVqzz336Jg6cmaKY0LubW97W9lsF5tq1cMhhxzc9v46QcSyZ0RxeI/XW2+9IvzqnH766UN2SZnY/EfUql8p4TbeeONy33W7pc9pX95vlpd+I7RDOWuLQjpiz4nD973u8Jl3vOMdQ+JV+yfq1W3YG/2sU1szuRVys+OOOw7rp34j+tkyyyxdHXDA/sVh0rzWwHgiDZ7r0b+1CY4cfcc17bLLLuV69ZVoN8pDzDcx3k18m0CYeN37pz+VieVI6jBJkolj2oljno3Xvva1xfA5L6NvMIosGJGZIbI2ED+f//ylbQUSL5KYRRtGDLAM34knnji07Bvn8h6h9olPfKLteTrhWu3GZ0zrO8z9Xhxei2u1bMqbOBoDOhHimAiST9X9hwjxgINuEFg+5778VY71HecGnMMOO6xcY+yyf8ELXlD9+te/qnbffffyepSL9w3OvFCBFYF99923lGn3+n/ca/aiF724COl2AyxPqFyxUf8RE0lQv/zlLy+DedSTcxJGkcpLW9l1111nEO51CDODv34Qm6lcX7v6V1/u1UMv2nnkwFN+8sknl81Yzuea6ueKIzyGBnQTkXbZCj7zmc8UQRF15do8mYzgWX755cvr2mq855x+z0H8WN4fKcSJSae+657VnzLW53qt8tQh8IRXEF7u0Tm0ieZkhUdeWyN4/FazvOL+Hi+vp5bJBq9+s63MTHHs3ojYaBOu0W9pqyPBNZvIRFsID7L+WcekzHt+R52zQTyubB2x6Dqa7SD+SrtGXNfLi80jLp1LGdeFscP34rfCnvDMgjdZSr+6vdF/mvUBKwHatjIO8d/ODkTd6ucmVe1WfNhImXqib/oOW/TLW26pdtppp1IGYavqdsBf44JwoGbbC4wxO+ywQ7XMssuUlbyvfvXKjv07SZKZx7QSx5YLDYoxoDkvw26QjFm934nBwGd81mD/2c9+tnm6slTGwDuPz/KgEDy8vGEEw7tloCBc+xXHBgnXGudhYJ2LF8ggS9y55ji/9w0GvJIGp5HSThwzxu2EUb/wrCsLA4PrdH0eFtINO8wNfspf2fNeCSUIiGODiUElBMDyz1++OuKIw4uQ9lu+G+WyxRZbDHlUhTMYrJRpxDHGZ6P+nTfq//EJyexF9BAuTXgreX+i/g3qPIjbbPPq8l2/o205p9+I640YUH/322+/GZ6UBhMcD1dR3yGWXJP22a7+QzQQRtplE94tAs09Ol/cu2sLb5a/rtfrIQb9hg1uTVGgPxAM6sjnXZN72WijjUo9R5m6/vBgxrV6X71YVh4JPGw77/yacp6oH+fnCR8JxIW2YAn817/+dRGUf7zzzmGeQRMqG9dcb72thDc8yivuyaH8tRVtuC5gZqY4vuaaa0p5Rxt27VtvvfWoBBUxqE07RwhtT/CrT0Rs2FUm0d45E173uoNK2jX17F61sehXYVv8JRaVFyEd6KvsrXbuvE1xHK87n3+/9a1vHQppYTPZsGh//krn2RTHPi+bhWtu2oGoX+eP63zcDsxWysLKULMsiWP9Lu7PObbacstqu+22LX3A953P6/pXlIFDmc03//zVxZdcMsN52WR5miM1qftRl1bIkiSZXAZKHI815viNb3zj0IARYoVxlhuTd9BAxJvAwMcA7GCUNtxwwxI7V6cujhk6BtAAWETH/PMV4USMeUqTsAexgP2KYx6R8Dj4a1C1dCc21rKluDu77IkMvxeG3Of9VtPQ9qKdOOaJFE9JqPVzNH9zosWx63TeEHiumSdwvfXWrV7/+teVchAnGQ8B4NX1eQONv8pUGzOhEQ/4xS9+sQy2vL4hEqP+eYbcT526OPbb2qjlUuf2fWEHYmEJCL8RHtsYiP2+z4n1bSJsQXotZefc2uyKK6xQRBYBxDv9uc99roRbhBc82ounxDXjpbU9g7Oy9buugQdX+QhbcT6TKtcb54vBW7uoe99RF8dxv4SAv7IkuE6immdQaE30J3/di9+w5D0SePte+cpXDIkZf5W/1YDxRDvmAY5VmpjIrLXWWkUwWhkSmy304DWveUKsux6f3W677YaFo8xMccwmaK+u12/xevOejgZeS9cZIRrq2sNE6rHddXHsMxGS4B799sabbFwEpVAPtiDeU2Y+71qVa9QhLzBbLC5Xmj3nq08MOQysHhDUyss4EZOafsWxJxFqf9F2lRO7IdRDvQu1sMJioqdNh33Vt4TwWB2pUxfHPqcPuE//XnyJxUtYhRh15z700ENLHccY5HBeoR3NPqafyxgU96MtWqn87PnnD/tckiQzn4ESx/vuu08ZdP7xj0fKpo9ux+O7yZ84H3FgyY+hZ2gYXMKLCOFVM4AZFHmnbOQwwIWoC68IcVWnLo7D2DNgjB/DzeBbLhPjamDvN+emayDGwygy4pbWLI3WN14RpLxflj/rAlTc3Ui9C+3yHJs48AYS93a/dzoIKl795uRhZonjECUmIkQeMczj7VD26lY8KLFar1Oeft58g1sMoM5vYx2vYXzW+V2Le61TF8dR/z5nQCeyrVS4Bp42v6GuCEWfi4FUu5IdwAa2QFsxUIcoMZASosRwfeOX++J1FtvsPD7rO0S4zwbu6V3velf5jN91PqEoBt9mTLHrfNOb3jQsdMF3rr322mGfa4rjqF/CXPm5TqJFm3eNxGF4IOOzJgwjwbW5bueJ8tNP2nnex4K+oN3X+x/xYyNZvQ+zFxGmFXWqjNmtutCZWeK4LuqjbbkWE7/RwLNvohNi2/kIvfpkpC6OlVVMJq1guXabPrUxh355/vmfGcq97PPOaUJJjMI9aDexya2ZrYLTQJ/yfjMDTD/imG036Y/PqA/1wiNO9McKiT7rPv0em+7+ww4Q6PVVhqY4Ln22TLyXLBNP77Pbzs0eeY3diLHINWjXbFQd7UNom2v12/5y3DQ/lyTJzGcgxHEMqDZyiCnrdtgItPrqqxXPQ11IEhAEdnghnjb33GXzXCdPLuHAwMfgzzAxVPUY0aY4ZujN7G3267R5ox+I/2uvvaZ4FHmnCHjxdJ0wQMUAxuC6bt7lkdBOHPOAGPhiebzTESEO9Y1zmBniOLyRJjPdyihCFMLDNedTn1qd9Pa3zxAuEMj7yoNcr3+Px65POpriOLxbRF+ncBTifZUXvWhIKPqO8hUrHCgDg2WIHOc+7dRTZ/CABUSB+49yM5iLVQ/0AysNNpaJ39am6r/XRLYPfa8upsUY12PZm+LYXxtc/U47vM5DWC9PImMkscLEWqRwi3o3IeoUrzlaCHtloN8pL+2vOfGrYyKi3rUDZUXUykYQzCxxTLibBIWYU9bqqNkv+0Vf0wfqQpINrG/Ka4pjn1FHMuo0V5KgLE47/fRq7tbKjOt0vUK4mp8nrJvi2Mpep8ws/Yhj1xXnLL8922zVvvvt13FTnP6uncbqgT5mRYdXPWiKY2XhWnm3m/cEr/EgR4hF2AArV3Vc90c+8uHqWc9apNhQk24rPZ3uP0mSmcdAiGOGLgwvg9frYEhsFAkvj6U6DxAJkeY8RFtzcKpD3B57zDFDhtZAwyjWl8CbYRXObzD55wgG/Ha0M6jdkHYojKyBxlKcpcGR0E4cFxHZ2jzS7TCYK6e6iMXMEMcGIgOLpdhOCDEQkhLXUUIF1lyzpPHrhEHcwBr17zuuhac5aIpjZU+M9MoHq20aoJVt3CdhFIM4IWXgdG/K14Tv+7XBuB2WoOuiQLlH6kDtaSRtiscsNhq6PvfHI1mf8DXFcdRtp8mmyYIl+fo1ygDRbUNiE/HBBGN4jp1HSJSVn/FkpOVFCMfEO8Rxvf/NLHHMzqmDEMf+mmRJTThaTGiizly7/9c39zXFsT7G694M66kjrljsbAhU3xHi08yEYTLUFMdW75qrHUEvcaxOrXIN2YHZZithEjaSdsJ3Lr7ooiGbFKEqPM1BXRw7lIV6rK8GNWFH2BN1HeXWzsNvomacMe6IrR9Las0kScaPgRLHMSvvdjA2vkMsxAzbcjaBwQCFR+WAAw7omXNXmp3wGDi3mbvBIKiL4xCV+9Y8dhOBQYfRNZAQd8pJbK2BMAQacTxSb1E7cRyekF5HiPKm52NmiGP1Q0RYyu+EJe4111xzaNB0frvJZSPoBo9glEeIcOESQTPmWBlIZdVJIAZWJYSsuD/fM/jziIX3SvxhXKvfJULF5xocv/a1r81w8HLaYFS/P6sovN+94A223M1DJmzAubR73r8Qoe5PrHsncewe/LZJWif8jrjTunAhtJoCsRvEktWj8Bz73YnwHHfDSoN2o72ZBKkTMb3hBQxxXO9/M0sccwYQbbHiEBP6ZoaJfmFr6v3GvfEc1/taM+bYZ+s2sh36sJWcuofbdTZjecdbHBOx9b7lr7CcXpk8fviDHxTbH31BXZuUxQSquSHP3w033KDrpE2/ZacjtMK1nHPOjJt+kyQZTAZCHDOgT59nnmqxJZYoHmCCy992hwHX+wbvWDI3gBExYYwZJMtTvWKALamKSw0Pn7/1uONmtgqxcwTAeMKLZznc9Vqu520zYIk9syOc6CcYwnMT4nikA2K7DXl+x4BFZPU6iKrmYDDR4jgmRLw/lmA7oZ6Ixfp1iCXstJQa2KDm9/1G1H897rgujkOs2aDVy+toEI/4d99xXl7VSJtnk2UM4A5eSXHE6tX3modc0ERV1Jvzer05WYEwBvdlY5kJovhL6faIemXkXIS734yJj/PaBNVJHMdnhCF0w5L/WMSx9lWPOXbYNNWt7seKOhGGQmSJpxbPb3Uo+p86UfZRVyGO6/1vZolj7c5ms3ACOI920+0BJ92ImOP6+brFHDtsdKuvrrTDdQpvqJ+XrRe6U2e8xXHzATD+2tDay0min6vruh3QRyPMqCmOiWd7FjqFVsGYZA9EiuMkmZoMhDguBmfeeavX7Lzz0BOI4mlE7Q7vM1ghUiyb8Uz06+UKxO1G3HF8z7Jc0BTHDDkRO14YGMXiEWiEt+twDc3D6wzyeItjA8BYYqdnljh2v90EEi8NMRLedddx2mmn9RSx2iDhaPCO+t9jjz2G3m+mciN+iO5e57WiEZsDndc98GTH5qX6ZkyHsmjWebvDNRAS/k1kNZdp9Q3X75qlpXLdzXPE4brqad16iWOfNYnrxljFMbHhOzEZUW769Xhnqwj0f5sl/YZUjFG2zSPa92SLY1x00YVD9Rc2qdeDdzohXMQkq+7htUpVF5PNVG7aVtMD3A79PK5TmVmpELpTZ7zFsbj3pj0yKa3H0rdDGIh2EN5x9kn2mm7i2EQqxXGSTF8GRhzzZNWF6UhgrHkXw8gzjlLrdNrgFEi47klpERvn+5avg3bieLQDUR2Dqcfu8pL5TQbUNTOgPDMGVl5dXiyeSl6NiF0bT3E81oeAjEYcq6uRimPlEena2uHpVmIa6wOR5ede9X/ddQawJzbPKVvxlEFdHLsOIsFg20scK1PXE+JY2/EQitgtHzvUQxhLM2VVRFYSg3TzEL9pEuV78W+Ds/ANGMSVgbrwW8rBEeKEyOUhNMCbEFmdiJSE/Ypj1zrRnmPxlzJDRAhDlLl7GynKWYyu1QPn1a4iHMZ9CqnhRW/2P7+nX/K063/K3wTKNYXQm0xxLKtIXIt6cT2ucTTYsGwS5ZrDbhKb9U2sdXHst/RXnvZeaCt1z7GNzE2HxXiLY/21PvH0V7/rFh8NHmd1HZMy1+v/3cSxSWiK4ySZvgyUOB7tQ0A8qc1AF8vYIXJ7bW6wPLjAAvMPXQMjVvcMT5Q4tuzNYxPixXXLlCAWVI5VO6XFOzL2vBpER3g1BkkcK/f6Rkj3c8wxxzQ/NgxCuO6pGg9xLKaQmIlB0fXImV3P19oOg3zk/I0yOeqoo4beb4ZVGMRlbOgljrVt3si4T21He4zBlMCNa1UGxC6hKxuHTWnNw+Adqyn+LSZUnHU8OczGvBAFUWb6lrZq4xgPofh15eS7NnBZjq+HTAyCOCZyxD5Hmjm/q/zEr44k68Vdd91VYryVibIWmuHawh7I5BH5Zf2G+jGZkbNZ3xRGxAup/pW/smhuyJsscRxPyAtBy3ZooyN5vDbUtUexO09Mktxjcy9DXRxHWZnYd8PKie/V+7lQnvqTMDHe4theDfdUf9/EoVuWG6jryFEefV1qzU4xxymOk2T6My3EMSMbjxVliAw+PK69lmN5TsK7wUCL7a0v/U2UOOYhd84QMoR9u/jRQLqfWPofJHHsQQk8LPXByINYOmGwIRDGWxzbsEWk1wWnQbLXoMiTFRMq9W9p3UbPoJmtwmeVfbdBEbySPGWxscy569lVeH2Vgff8JY5vu/W25mn6xhJ2iLIQb9p2p5h7Alm7HjRxDOLPPoBYKXFtVoVGIv6kebS50jXEYUUgykM8tteiDfIUt3tCZmDCOiji2CTBBD7sVojKZo7uXgiRYX/df0zgCMDmxtdmtgrldsIJJwz7TBOx42xc3WYp43r6O7QTxyY1oxXHRLnwpXhfGYkf75bWEPIKx2TDfWo7cr8HKY6TZNZjWohjxnH77bcfWh53PoOQB4N0gpehvrOZEeN9rBvSiRLH9U0jBg5Lf5125FviPPzww4Z9flDEMQ+dcq8PVjbANDfuBX7LvUY9hTiuL9OORhxb/iQ4wwvm/kx0ugkP8b92pIfXW/3zHtbTYjXFcQhoHsZOWMaXYSGEXYjjL15++ZAnSjw0YeR192dp+8tf7p59xMDPi0m8EJCEAqHk3m3SCrEdnsRuKdTkZ/X79fIaFHHsnkxswpvpILJsLuwmRgKZJurewxBdMeklkLWv+nUKNem0eVP/0+d9NupyMsUxiHWCNeolwhYuvPDC5kfbYgXCSlXdOx9Cs+mhb4pj7UGYSad81xDL7RHRYWecm219sGEXiGMrN8rUdRCdRHX9QTh1eoljqKvodyF0TYY64beI/fqEXR3VU0emOE6SWY9pIY5hqc9gEx4nRslTyBjgdjCqTY/IbrvuOiw+baLE8ea1bAWud6stt+yYdiyetmQA8fnxFMdEQa+0ZN0wKPFY1e9FeXUSUXarq6MY1MdLHIPg43FUPs5N9BL/zUe2BmLSpW8K4eseLMHXRVJTHIeHTUhMp4kXD7Hz1idqhMLNN9009BnnjSeTOa/PbrvtNh093QSacAOxwu6J6DzyyDcVwUwcC8cJEesvUat/tUOYjnO4NsegiWP3o2wji4xz+X0ix6qE6+8EwcZzGCKViHEdPPNRtsqsKY7rOaObmCyL+Q8ROQjiWHgIEenaox6jnwgV67RiACEj2rlrDNvnnohXqf6aNMVxTFaUs8lxE+UolCFEYQhVE9Emvu/xy+G19Vk2qtNEpR9xbHOuPuv31T87YFWxk/fYqpXNgtHGnZOorT+VcSLFMbvmMezCrky6O9mrJElmLtNGHBOX4kHDAxAD/x577F48KmI1eYvFdkrHZuAPA+qvwfiCCy4Yds6JEscHHnRQ9dRafNsiCy9csiAYuIhDA7jB3EBXT7XEyI6HOI6BwGAqhyvPimX4bodBUvk043h9v17mBlpLmUIWiBUCwSaiU055X/m9GNgc4ymOeYJjUK4Lhp122rEIPR5XbcTmLtdsAFWuUf+ESnPDUFMcOwgD1y3Vl+VtmVLEiBP+HstcT7vnGpzbUnHdG2Ywd48+E967Oeeaq2xGMxnSTn1GWegnci8TVcouDk/gCsQVz1ZLf0ZIipnkYVQuBKd7JxyslqijEI+DJo7hesWuK5uYFPq361XHrpWA9lQ7Ze+6tE8CxufVkc9qlzyTJk513v+B9w9dp/NaDRCjLl0h4UnsEinOa0JS73+DII4hfryevlAdubbFF1+i2FGPcRYuoA1rQ9qp2G19M1YslJF/62vqu90G1ro4jvai7LymLZm08RTrVyacvPbuX3mFONXHtb0mbInric/767zsM5vBZvtMTOD7EccEa3kQSGvTb9gk9ah/mwCwJcQyMWrjc5ShevH7J554Yu0qJ04cm8Qo3wgBcn57HnrtlUmSZOKZNuIYkbc4jKfzMow2W/CWMOYGFAbToO83GUQHo9RczpsocXz5ZZcNiZ0YoAys0gftv//+JZ2SQcbg6T58ltF23eMhjmOgjwEpjH63w+8aIJqP2TXo8YzGvcQ1EhzikYWQEPgh2izJhtgaT3GMK6+4otRX1L/fUbfKj5dcuINrid+O+ne9yrw52NXFsYPQMpjbbOc3DHxiKYnAaHch5hzed+3NMoOB30Yx34nzu16/p53yyAslEEutLCJswkCuTOtPGzOR8kTAertXbgZneWsJafcuZ7bPqK9BzFZRh1fRZMF9K1Nty3U6L888b67y8xs2e/mMsnGtMeFxHSYmzTy313792mqppZcu59IG4vzapvAc8aYyhzivc1opiLzQgyKOCULfrW/sfbxdP/40y8UWe17p71YJtKHIjFMX+up2/gXmr4497tihzZ1NmnmOtX19QF/wO97jdY5+FdcSds2hHbd7jDt7u+8++w61weizvstOmwiJH4/VvH7EMUzK4+EmMVFW5mySTZr6BFurHYWDxL0pG7/ZtDUTJY6NgfWNxP4q3+amyCRJZj7TShwbpMRfEsMMDcPMoPnr/44QGTHQMkqEEbHSZKLEMQFo+d1g6hriehjSuM44eLQMvBFjON7iOH671+F3LT83hZ4lUJ5neZqjPB3Ky2BTvxfxxrzhBiq/O97iGM4f4nX22R7/HdfSrH+H/7u3ffbZZwYhg2aeYynXeDQtgy608OP363zqLUIAHK7Ze67DqkU7YQDetvXWW7d83+F3lE29zLweA7f/G6R5OOtYaeAZtLHTZ1xLlG/9XA4DtjAM7Trqwe8OmjiGPil1nnbqfHPN+bhHXnm4LmWifKKfR7vzWcJTLGl9eTwgBMUgW0732WgP7fqfiQiPqP6nnAZFHIOH3ffFD0dbqZeDthmv+83o99HG2N/3vOfd1YN/6eyprItjZU7MffKTnxx6VLjD7zjcd9iVqBt7Em6qhRTVUW4m12LuS/22VlycJ9o7p0UI937FMZzX6k5cn3Kp96Pob2EHfIZDol34xUSJY5792EgeEzoTsl79LEmSiWfSxLEQAoI4DKzDE+LGAzuxt91mm+rZLaPb7ph77qcX74IBvdMDJuyu5l2I7zCgwh/GAxtfhCsYRJuCyGHAICZ5BT/1qfOGvWdQ7yfXaB33aNd/83dGcvDWtduI89e//rXkFTZ5aH7HQeiKOZTdQlhL/T0Db30jEbFtslL/jFCFTrHj7bC5jfc1xE+7wyDH22UJVxhDO5rimPgR4mA59MwzzywetHaCyv16Mt1FF13UM+3bDTf8qNyvuml3rjh4CHmAhRF0QsYTg7gybX6fYOEVE4Jhsx6hX3/f46vr4pgAislbHM0nnDXhpa1/3iSu16N7e2Fz58knn1w8fs0MFCHK6pMwk7Qtt9yyeBw7xa5C/zPJiXji+nkdPKO8yMqbYKq/RyDX+x+RFzHAcWizzXvXZoig+nm0kbEipaJJtHupOwKUS0ze6tdGgFlJMAH6X489B+0eAmJyZuJy4EEHDq2YNA+TAO26OZluouyEZmi3zfHAIVQpxLENqU0bZgLUThxDve29997VMssuWz3pyTNeo4PgN6kUz94pI4rQDkK3/j0rC93CH9g5k4/6d84668xhnyGu7R2of0Ysd7+OgCRJJo5JE8c2bjBsjJLDhgQpsMYLgkeM2SFvOKSkddt8883LxhyeDAaTx8Sg0g0ignhyfYQJ75C0WeOFgUFcqNhVg5trk+3BQGtwj0HBROKwww4r1+E9QrSTIe+EJUwDnXM41+GHHz6iw1KzGL1OIpWh57W1hBoPqrAhksAnCsKDx4vkHlyH0AFxkPWNQLysNsloD8rcIUaYAB8JBpjzPnVe+b4yFVZhiXm77bYrQv2d73xHGTy7PT2rnTiu53H2fdevPblXcb7u16Sn6TXsBhFH2Jp4CSWI8tMepCA77thji6eyn82T8mOrJ/et3bsmdSJFXayOqCvtOurBwYtVP78HvPiMOvK+NuDc3eCt41H0WX+VQ6eJ50hRnqefcXq1x557lL7MWypMhCDkoebh1Yd4hLtl6qij7nn4rOIQcsqKaHTtVqCizfJYRnvUD7SBev8LDy4vp88oL222ee/6MZvnHD7nPL3EY7+oO4LM5E29a+smbzKw8KDaj0HQqc92ewc60RTHJvPxhLxHHn6kTJicU6gCz6u+5v79RjfPahNtS3shhq0gmpgIMfvyl75UVkYgo4/rqbcxba5bH2ZDL77kkuqoo48qfcsEUdnor4SoCR0b3MzSUcdqlgwz0Vf8tqdTdvsOpwavtj4W16r+m9x00y9Kbmftjl22WpkkyeQzaeJ4ZsJA2mDD89BumXVQEPowUhE4iBDQynpQPCAmBrIc2JR3zz1/6unNDTqJ4+b3/V+MbL+Coxu80vJzK79mrOxIIU46pQicqigfdUm8E2nEkRAtAnasKKuRCLpBxT1o68SYybwNc9pyU6z3Qztx7EEpTdhYmz67eetHQidv8FggZvUtZcNG1VdKJpuYACRJMhjMEuI4SUZDv+I4SaYr/YrjJEmS6USK4yTpQIrjZFYnxXGSJLMiKY6TpAMpjpNZnRTHSZLMiqQ4TpIO2Cwl1VzsJCeSbcxKcZzMKsjmU8+AIdOFjCdJkiTTmRTHSdIBm+JkjeAtk0pN6jdZH1IcJ7MK55xzTskIYgXFg0RkBZHZJEmSZDqT4jhJOiCF0w033FB2/cvtKudtv2nCkmQ6IKuDlIXRB+Q575bfN0mSZDqQ4jhJkiRJkiRJWqQ4TpIkSZIkSZIWKY6TJEmSJEmSpEWK4yRJkiRJkiRpkeI4SZIkSZIkSVqkOE6SJEmSJEmSFimOkyRJkiRJkqRFiuMkSZIkSZIkaZHiOEmSJEmSJElapDhOkiRJkiRJkhYpjpMkSZIkSZKkRYrjJEmSJEmSJGmR4jhJkiRJkiRJWqQ4TpIkSZIkSZIWKY6TJEmSJEmSpEWK4yRJkiRJkiRpkeI4SZIkSZIkSVqkOE6SJEmSJEmSFimOkyRJkiRJkqRFiuMkSZIkSZIkaZHiOEmSJEmSJElapDhOkiRJkiRJkhYpjpMkSZIkSZKkRYrjJEmSJEmSJGmR4jhJkiRJkiRJWqQ4TpIkSZIkSZIWKY6TJEmSJEmSpEWK4yRJkiRJkiRpkeI4SZIkSZIkSVqkOE5mOf75z39Wd911V/XHP/6x+sMf/lD9/ve/r373u99Vd9xxR3XX3XeV9/zbaw6f8dq9995b/eUvf2meLkmSmcx///vf6v7776/uvPPO0lejD+ur+vXdd99d3os+7H2v33PPPdWDDz5Y/fvf/26eMkmSZIgUx8ksx1e+8pVqxx13rHbeeedq//33rw455JDqDW94Q3XQQQdVe+6xZ7XnnntW++2/X/XGQ99YHXrooeX1PfbYo3z2gx/8YPW///2vecokSWYiP/7xDdVhh72x2nbbbau99967Ovjgg0sfft3rXlfts88+1e67717tu+++pf86Xv/615fP7bbbbtX73ve+IqiTJEk6keI4maXgbXrta19bzTXXXNWrXvWq6rDDDqve/va3V+9+97vLQPukJz2pWnjhhavddt+tOvm9J1fvec97qiOPPLJaf/31q6c97WnVa17zmuK1SpJk8jj66KOq+eefv1p55ZWr/fbbr3rb295W+jBR/KxnPav04w033LD03/e+973VW97ylmq77bar5p577mrttdeubr/99uYpkyRJhkhxnMxSXHHFFdWaa65ZHX300dUDDzww7L1TTz21DKqveMUryjJsnV/+8pfVy172suqYY45Jz3GSTCJ///vfqw022KB69atfXfplnQsuuKB6znOeUy200ELVhRdeOOw9IVE8xxtttFH1j3/8Y9h7SZIkdVIcJ7MUJ554YvH+3nfffcNev+fue8qy65Of/OQSctHEMuxee+1VnX322dVjjz3WfHugEWN9ww03lBjMQb72Rx99tPrOd75T3ZlL3kkXvvSlLxVhfP311zffKqtAJrjrrrtu9dOf/rT5dnXCCSdUO+20U/PlgYeY/9nPfjbwHm+x3CYsP//5zwba1iRJL6acONb5eA7+9re/lcG0E//6179m2U0X//nPf0oZMaidDBTBNKt5QP/0pz+VuGEe4ibE44te9KJq3nnnLQK6ya9+9atq++23q6655prmWwONEJBzzjmn3Null1460CEhPHvbbLNNteUWW1S//vWvm28nSeHQQ99QveMd76j++te/DnudvbNfgDjWz5vvs4nHHXdcdfjhhw97fdBhzz/2sY9Va6yxRnXeeec13x4olLG6WXXVVaecrUySOgMvjhkGcaK33XZrdfXVV1Uf+tCHqqOOOqpsvvjABz5Q/ehHP6weeuihYd/RQT/+8XOqn//858Nen+4YDH7xi19UH/3oR8sAcNJJJ5VlxhtvvHFYGdm9/YlPfGKGcpsumBjJLEEMxwTpv//9T/E4vfWtby3l0eTyL15ezT7H7NXyyy9fXXbZZc23q5tvvrls4Pvtb3/bfKsthJ7fdx281PWj26QO2rwd9T775z//uYR/+P+DDzxQ/u315sDfiS9/+cvVMsssUx1x+OGlX4wWk1EZAOz4F3KiDG+88afjmr3DRO4HP/hBiSMVHypDyKwCYaetOP58//3VAw+o98cPbYANjPZgYtvERFddPN5eam3mwQfLa747yM4C1+8e6zZJe3Dd7iUm8vrGHnvsXtp1E55iHmOrP+KMm8hUIS6ZfeyF33Mt7fqw62xXB3V833WX+qz34QcfHOrDzt/LQaEM2KOll166jHnuf7S4ZtcT2Xhuufnm6jvf/vYMq2hjwfXedttt1RZbbFEE8o9//OPmR5JkSjCw4pgRsAz88Y9/vMSXLbzIwtWzn/3saokllqiWWmqpYiwWX3zx6rnPfW7ZkBGeJgbAZo2VVlqx+sY3vtE87bREWfF87rrrrtWiiy5aLbnkktVyyy1XveAFLyj/Vk4HHHBAMfTEjbCBTTbZpBjt6YZ7/OQnP1l2rx944IFlcuC188//TNmlrp089tjwAckA9f73v794nDpt1iFGv/e97/XleXW+I444olprrbXKYcBeb731yt+111m7tOluMY8GFzvsxUarJxsFd9xhh7KUvOmmm1brrrtO8c704ic/+Un14he/uNp4k42re//0p+bbfeN+3vnOd5aJg7Zkw+I888xTvfSlL62uvfba5sdnQPlbau1HnBlcP/WpT1WLLbZYySJCTMwKXHTRRaWN2Pi52WabVltttWW19dZbV1tvvVW12WablXbgPX38m9/8ZvPrRfixg5tuukn5jjbj0GZ8d5ttXj2w3nh1zlbrMxwfQmv0t+uuu65smCUKv/71r5f2Y+IrvKBdu/jc5z5XPe95z6sWWWSR6uKLL26+XT3yyCOlDIwrvTDRsIlvnXXWKTah3odt5D3jjDO6CmSCU5YbfUSdbLvtNsXuqg/1u846axfnjklnN0wWV1999dLvTU7HAlvo+vVhmxaf+cxnlk3GXm/y3//8t4wPv7399ur73/9+9Yuf/7zYkH4dKq7b+LPBhhv07VBIkkFiIMUxwyS2c6WVViqD8DOe8YxqzZevWZbEeAx4hH/zm99UX/va16o3v/nN1bLLLlsM2I9vuKF65zveUXYxE9TNzRrTEQMGL7DJgsmDwdNAwpASJeLyCC0GUZlsv/32RdwQHg8//HDzdFMa3kxCgNeCl9jhfg0uNumcfPLJza8UeFLEGxPH4hE7haL0y7//9a+SUkqbJI4N2E996lNLhow55pijDJg3tomHDIhj9WMSqO0//elPL7vsF1hggVKPBO9pp53W/NowTIKUg0mSgWos6I/HHntsteKKK5ZBdfbZZy9lZcAWbtIOglr78ttEnk2O/fZHouONb3xjaafqrJenfTpgQkC4rLveutVyyy9X2os6dyhzXriXv+LlJU1Zu5UP9b3llluWsKA555yztLUFF1yw2AQrBzvuuEOxB4OIlQirMsSt/qKd6Y/EJeFmj8B6661b2k+3viljBa+xchyrx5IwJNbZTOWu30UfVr6EH+HYCfVR78PGMd/Xh9mDVVZZpXiwif1OEJXCjF74whe2nRCNFIKewI97ecpTnlLNN998MziRTCKMKSYBxhUOF31xiSWXqHbYYYeSCrPb5D44//zzq/nnX6DaeefXVA891N9KV5IMCgMnjm+55eYi8Bh2g7DBXW5ZxqrdIGkg/cIXvlC8WsssvfRQGh/ZCPpdep6qECAfO/vsar4FFigedR7JdoLXayYbUaaMNcPVjxd0qiD5/+abb14GLZMD9+Y4+2MfK54kxv3SSy9pfq3wox/9qIgPItQAO1YM4DxCvFuE5S677FJEjoE1BiV11Wmgd92+b/n29NNPLwOq67eZiJD4858f6Do4+S4PnHo2eRxrPWtnQjIsB7/rXe8qA6o+RsDG4O4zBlVeOZ4m3nui5nnPe24RLGKehfz0C+89UUfc/WSMQmcqwI5FeznzrDOLANNOtF0TBPbP++q2U33yqApJ0c6IGiFEvK9EMY9fp/Y2mbBNVm0cvK0mXGyUiZ2x4OKLLypibtFFn9N2UhDoD9K4aZdWydp5lkeC9qys1QehK4ZZu1cvDpOQj3zkIx1XQ9SRPqMPE6UEMfuiTm6//bcdw2MCfclnZ5ttttLPxqPunNP9cCoR3Polz3h90sq+7LX3XtXiSyxesnoYR00STPQ5ndy7NilvdK+wJ+1uhx12LJlDzjrrrObbSTLQDJQ4vummX5RZP+Nupm1zBYPfyQAFDNnRRx1VzTfvvMWYMJCf/vSnx8WgDDK8CUQx8STGrls8GiNtwDHgmkDccsstzY/MVNRNLJOO9PC9et2aNFlSdm8G2fp7115zTZlgCVFot3sdJlfajQmWf48n//3Pf8oAxAPl/CF6eLTbhW80IfSJAx7DboK4jn5ETPveSARpP1hq/r//+79yD4R7IJbRIMpDT5gJ5zEo6sv640te8pLqpptuGnaubhAXRAE7wAPX73LudIAYJlwc0gf24/kntnj3iTDCRb33215Ggz7G3uh7zf7ZzxGxtgQU76i+SdA+//nPLyJSu8dXv/rV4k02MewW304462famvCp8UTbEwrB66oPuz6TXGEu/Xjjrd65L2Fe/bZjoSVLL71Umex/61vfar49Ji6//PIy8VRW+lbEHKsXbUcb+vCHP1zalDZEVJsYE/nCGH3P/VuR9F43xEub7GjH4xnbnCQTzcCI49tvv60sCxIpZug8Xs08tN34+c9+VpabdVwDNI/JdEbYBG+G+xVK0MtIMXwS4vN4MFRj9ayMFYaSN0FmCOmX+j1sMrQcWW8bdkUbtBZb7HnFa1mHx1xcnWXaTvd8yimnDKV/uvXWW5tvjwlxyrH6cdRRR5Y4P6EV880/f3XZ5Zc3Pz4Ddqdb1jRY9YPBzKYjA/geu+/ec2I5EgzsHqCirIQyffGLXxx6T32ceeaZRcT7S9BZnVh00ccHUzvtRyKOwaNP4POA//CHP2y+PS3RLyLEx2ES1WsFjOfPcjfvPI99vwJsLLA3JpLHH3/8DH2022FyJdY28ojznn73u98tIpuIZLuFHZlsxfsEaLsVsTqf/exnS5y6CZmsLOOJeFtiku1x/X7DOMUpceWVVzY/PgNCZqyACFXoBxMPAv/JT35SSR/ZzekxGoQnWkXUvmTBiInKJz/xiTKptnrWbpXWa+985zuK2DU57scjbEWPXWX3iOskmSoMhDi2bLXrro8/tcyx3fbbjXizmA4uRkqH33jjjQd288l4QRAyuDyRNq30QvkYQCyJieWbSK9SP/ACiTFkXAnHfg+fv+SSS4ZtZPFgDp4MG5AY4zqydoQ3qd1KgklGiJGJePqd6yXwvv3tbxdvXkzgnvTkJxfPaK92zhtIXPc72SM6xOrz/ny1j4F7JBCrvHiu3yaxutiN0AtCLgS5iQrBMlpxbEJnExOboKy6eQ6nCyYBPKC88w7e+G5cddVVJZ6b7bOSNN5CqhPqhneX0G320W6H1YZzzz23uq8lfgP9zqoPcWYD3kgzq/AsE2yW/21EHS+0a+LWSggPrhh7Qpk4Num2YtWrXbJBJpPN2N5OyIyjDejD7TbLjRV9V9syga57pffdZ5/SV4VcyArVbrNgZARR1j6rf3abuGiPnBnKiw1I73EyVZh0cayzyCwgJlOH4zW46eaRDaIBL4sO63G/vQzWVMcg4155L3g0ekEYemKUZTEejPEWgSMlNmzxco304LUKoUvki41TFjxTddGvbdkdbmm+U7xx7AY30I1HvHETnlQhHY9nyXisxEXyvDh4u7uJXt4zgt/9CYvphTo1mOpHYk/H24NIJBD6ytpybK8JloHXAD9acQzeJoKJILFRcbojywLvKfFixcDKRzt4VAkYm9eEn9mgPDPRll2DyVCzf/Y6CN/wVgbakk15PJpC4prvd8N1xIqGeOORrDj2wrUKH9CfrDy5LpNpNsUKEHvaLRaaOLQiKqyq3/Zr8sA+COOQdnM8MXm2v0JZGWsjvE692LPhdfZDu2q3CZBg1vd9TtjPaqut1jPsQ2hkbCy1STpJpgKTKo4t09jUYKlfZ+Nlaj7ycyTsu+++5TyWott5CacLDJQJgHs1I/dI1F4w6srF7mmeiemCwSu8mc14Yd5agxphJtVdOz7/+c8X7zvPzngvxxrwCWPiJTzEvOWEngGIABJf2snbx/Pq+mW+6Kc9W37myXE/JoojERj9wEMfMf29smVgPMSxyYO4euXVT9q4qY72oF0oM21H7GkT9cy7Kh7VhDBCEKYyBK24XOJ4pPbJikzEGwuR6qev9IuyftX661c77bjjUKgBb72JizZpxUoYU6ewNiEvVot4j9uFKjSxkmVC7V4I/vF2YrCRxoCYSETbYYPCueS+9LlOISPanM8R8PYXfOYzn2l+ZBg26a6xxurVAgvMX1bCxvuekmQimFRxzJtmo47OqKMJh+jHgHRClgue1F4z2akOb43l1hDHjN15557b/NgMMIQE13jGobaDECRqLBH38i6OFQLQ5GDOueYa2sQTWKYlFMXtdQpfEG6hHG2uGe94Y4Kc6OblD6FqYhMeGiJoww037CgaedCWWHzx6oM94voCA7FBW4yuPMijFQnyQOub+lHkKA3PnutefLHFqsvbPCilyXiIY/XGixXCZ6Lb02RitcumLffqEEfcjDfmhbOBjd0U091tSXu0KGMhNPrwAx36zXgjNp9nkTdzpEvvJpwRm96cII8VbZZ9tV8jJrH6sH4bYYA8sRFD3cRKjj4gFrwf2GcrWeyWeO6xIMRMHLfJRghS54x4Y2EudaHKMbXSyitVCy28UNnzI3d2E3ZMCEuMPSY0wty6YeJjf8xcc81Zyk1ITpIMOpMmjnUQXmNGgDB+9nOePeaAfYLADL2fJO9TGQaNh4mBslwlJGCpJZcsy32McBEhoxRGo4WIsbmDgCKEGM0VVlihevnLX17qpdNmuPGACJ53vvnKY5IDXnJhC8qoHm+s3REcBjgbgUKo2tRo2dN7xMFohWUd7ZsHprk86XqECmj3PE+WUdthEHIPze93wudMNK3AjGb50sTUTnbeZ4KUZ5Ln2iYk5zOwKSthHkRaL8ZDHBuM5UlmJ4jFsT4IYZARzyl22HK1iZN0fHXkl7XpzjHeDgDlbBVFDK2VGH1X21t9tdWKsJnI7DZEp02cNngJsesVbxwhWSYTsWdAeWmvVn+8x5M7Vg9l7NPQh5urFjbI6sMEothdAr3dChCROZI+TNwL2SD2e3lkO2HFTDkKeVAm+rL87Z4PEJve2Z3mNbF7+iinRqcJCsEcj+h2mMyY2HSDzSXEw9PcT5aeJJlsJk0c80zZPKHDGAx4QnrlTewFQ8k7OlajOBWQ4ogIIhoI5NlaQouXg8HaequtyjK4JcCJhnCSJo7XUiYMu6HFTkrjI8evTYBj8WT2Qr3vteeeZRCwVHjIIQeXDZ420cjNWQ+XsIGI4LMMa+OazCix81q5ER7igsfjqU77H7D/ULxxHf+3iSoGGINNs+3zthCDhGingaqO1QCTE+czMRlpDCovk7IT70qgEfZf+tIXq4MPfn3ZEGiTTqRxMvC226zTZDzEsTYj16p6dB2dHjoyHeCB06fZQ/UgFzYIPY4D968seRbHU6zyEgtJs8FX+5fOS3y5bCQEumvSRpubXccL96ftPZ6L/NKe4UCeJmgyy9boR/oucawvswFe14bbPWJ6JBDpnC3sRTPm/+677ioP8njKU2Yr3uPtt99uhrRu7oMYNansN96YiFTH7qFdSE03xF6feOLbyvUSxXKSs83xdEuOCt55sdJCPfp9KE8dwvmVr3zlUOjPbrvt2tfqxdVXX13GKr+vXU3UWJAk48WkiWPiKZ7kZObNOA8CDBKDaFAwKPd7+HynQ3ywg+AYr80ixIk0aAydCQaBTBxHTKjDYMED9KY3vamnN2a02IlMkKtLdcg7UU9uTwgaqAy6/XgbR4uB2xKmEAYeMJsOiV/ek3oaMKEOBn5LiAZi3jhJ8Q2kXhPKcMUVV8ywnD1SlIHBiKhoDqwGBhlGePzVnUlFcyAnWAy+hGg/Awkvmram3t33SNoZIR0bmngN654g5SAsxXvq2N9+4o0xHuIYVkmkgtKeta/pilzl0X+JPvdq4qcNhJdSHSgLfX88IJ5kH/CbwtpkVKhvZuZNJFzZl89d8Llh3x0veFyFcOiP/WykNkHyWd5aQlnf0Yf1W68LN/H6WD2UvKQbbrRhmaS2CwVgV4XxxYOVmt58YVrsnvGk2wM/Ar9x3HHHlrpgM0cyAbKhjpfaJFL7IEDDSaR8bd70HlFrnBDX3BTz/WCSZrx2jZwPyrkffvrTn5TfNZGxybTXBChJJptJEccMhU0MPCQhDuoPFJhMGFi7hO0uNuPv5+DdM7DEwavhSU/1w2s2I4zGIHWCR/G0U08dittmsGLJLJ7I5jXLdJ621M7A1+HB6bSxpB0GoUjVJZyi3b3xKlj25Lkg+CaaiKcmcokp8ciTsWHJDnYb7wjJdsutPPo8PPqA8uPlr09gLKlazuVJ6gf3GBtSiepedR0Q0YSx9qO82oVjEEw8TQZWHk0rAv3QFMejfSCJgZ3HSdv+8Y/bb6yc6pjsEqHKymFCQvDxPLIpNkFZaYsJihj5sbZrgtTKhvPxRjdzhAfibdX9OR9/ImxpVsDDdIQBGKvarUZ6RPVSSy05NI4Rp/UMMYQj+9gpbKqJiaiJkPowZnSKY25iAvP2k04aeoKfMKgmEScdmXKEsYx07wmbFpuf/Zbf6WcFCZwkxiTxzsLg2tnEJBkkJkUcM+qW7nRSgzLh1Gln7MyGWOBddDB+/R5ya8YhdrDdwZPRr2jpF09g4xklBnmw5bAMQaJ8zfJj057BsJ0XUuyZ9DyEJC+JQVrcWjfE6xLlfscyvjCPdojZsylN3OJEea/bYTe/azv11FObb80UhDiIG2zG9QUmDcrbNeoDyrL+JDQbZ5Rrp+83EZYRG+Ysybar53bwBMXjoLWBdoMdj39kA+DR6jeP7HiJY55+E2gi5BvfGL7pcrpAeBAvRKhJLe+/Mt9uu+2KfSFkLJNHe9G2TE5Hiz0CYrn9ntUnAq5dm/nB979fvfhFLxpRaMB0gGfzwgsvqBZfbPGOoWnqRHy+FaDIeFNfHXnzMY/HG3dL11iHcyEyVaib5opTJ0xqhDypS6tVncJf7K+IDBv92pXAfgQ2yffd60EHHTii+H9jn9UP3mt7KUYqzJNkZjMp4thyE4+ITmbA47UY73yOsyLEJ+PM+y221i5qA5/DjL1d2jBeQAZVbLAYR2ESBmRxZSYs7QZMWFKMJWAPaIjPMaIe6kJcM4KMtkF+tMJoJPhtS67uSZtybbwb2ls70TeRyDqwxuqrd82AIfSDeIzl8ghX4EFSB1Yk+vUOGhBj8PO9TvVWR58TZ+070ik2l4UD4SYR7yqtXD9L36iLY/Ux2pAImwSJQbZiLNkIbNS1elGfyI72IFgJ2rGG3wS8jFYKtAMix/KzMJl6aABBE/sM9GmbrEa7PG0ybS+AutE/77jjjvI6+2BFyv3xLhLGJtbtVhSmM2ypjEAmKe1WxAJhHGxcZFz66Ec/MuQA2WLLLUpf7HdSwVPsQUTqRN32E4rBrsWGRCEe9na0gx2JBxCtuMIKI47d1z6tGpm48W7369UOfN7kIR4HP95OoiQZbyZFHBtUDMqx7G+JsCnaRgKv2elnnF796tcj6/DTHaJCzLFyJn54JeoGl4gljB11Y0k0idXlgfx1GyNK5FjiVXeEHaPLQPNcbrXVVtV6669fvWKttUpoigG+U47h8cY9HHfssdUmG29crukFz39+8XgZMPodoMYDZSxmlGe422Y6g66NjMrRIUWX10wkhEYYRPoRubCBcL111y3CyYNDen3P+8rFpMnAzrPbKUaTx4i3yTX2G2+Mpjgebcy5p0FGblairte9tYM4EPdvgI6MD2M5iCZlxuM6HgO9TVPElf5kKd/ktvkQF55EqzqxGcomydGEKplEhnNCvfo9kzGpMLUd/dbyucPTNG2m6keoTSd4RQlbfbLb2GRyJGZb3SlPY5nxSLzyKiuvXOKN+00/KPbf76nbfnLX6wfSV/LImjgS6Z281EJ0xAj7nMfKt0vT1gnnNDk2IRM6MhKPcWBi+uJVX1xCK/bYY4/q0UdnrfaUTD0mRRwb/ImHEMficcfChz/8oWrllVfqGQow1eEdtJGx2xOZ6hgEhRdEDLLY0hjkeJxsjOChEnrQ9EB5Wpzlwo9+5CMzDA6WuXm5DNL+GmjFSBLfhxx8cPEYf/BDHyqhFzMTRvvKK66oLrn44uL1vuprXysZAIiriUwl18TkgeA45f3v77l8SKAKa4hNPTYI2kyjXKWL6heeGbGpzmOC0qzPJt43qIfXmqe73TKuNhThGjb69BtvjPESx+pSeTiPMJ3RiGPebn1HuxaeMNZDvYnFJRya/WOk8FJGvLhDP+0kqGw21ZfVmSVqKzgjRVuRzcBvscEmaPquPmxlQPz7aaedWsq9n0wE0xF92J4Bsd69+pJ2sPBCCw2FsSm3L3z+89XiSyxRbGW/mOAK04g20KtdseV+Wx2yxTJ1tJuM6y/arP5rImyC2++E7saf/rT0XfelLDrli++FsWvFlVYs59HWxvI8gySZGUyKOGYEzJBjc4lBut/O2oT42HjjjUqHa2cYphN2Z/MoEgj9oEyFSRDHBJhlwihnhpVnhEe5mSkB8gRL7SStWXNZkZiORPIEmVhZ9dDLmM8qyLdMFNrI1gux6Dz3IYyIHQLFZr2RxAWaGFiS5RmyTN5rQCeErSr4TR4hMdLthDxvfGQzcF7L7f0yXuI4HntOAJg4TDciv7FyIl7abagKePd5dtWZura600wD2AuTVp5A32cX5PBlF9rV/6yIvhMP7zBZ7YVVqZVXWaWUp3oRdsBuWl0YicOGnbUCpx14Wl1z5aAJoWrcI445MnynUx0ab12bzzYfltSJkmlo/fWLqGbzm3tG/L6VCyuQvdBu9WHjjUw9na4zSQaFSRHH4qR4cEIQjCXHMW8Qr9JYYhHrSOVGoPCeHHvs+BzOZTmKgbn3vv5iSJuY/Rs03StPaD+EOGYUGTgiI0TTn++/vxh/xrLdUpxytZQtPKEZL8yDwBiru25Pn5sVUU+8sCYx/YRy2AV/6KGHDnlwbeARC2qZuzkp6YaJYWQ7WH311ar//rf7RIVAUr8GdANWp5yqYg1tDHRe9xUp4h795z97ZjZpimMicDSYbJioPb4hr/eEY6pBiOnXkd/YxLQTPG4ymPisNuPz/WY0CXg2o+6FZow0/nS6Y3ziSOCJ7TeE4IADDyzxtOypspVdRR/uxwYExHBsJObN7zUm8sbGswLYd6kA22XVYJ9Ntp3XpChyoBsftKd2E2kx6K5/0ec+t6xgtXNeCdUguv3thb0XJmKO3JCXTAUmRRzDDmDLggw0QdAp20E3eKB5TsyeR5LXtRs2WIgpJNjFRY/H4VziE/fca8/qD3e030ncC+LHpjnL9f2WFWMrz65B1D3V48xu/c1vykyeV7ldCifxyuIziZLm+5blhAAwtuI402P8BJaheYJtqOl3Mx1vqD6gnkxklKsHqYyEep5jIUa9NiCaYEVojPjyTvHGUgBGXtPI/OHc7z/llLKS0Y3xEsd+V1wlr+poYmwHnZNOOmnIE2wjbK9wJN57S/6EmO9J+9VrolLH+fVtv2flZzweeDOdEB/Lky/zTzux2Q5tXZ3oT7EiygE0knphR6X79F17JXo9yMfekDXWWH0oe0nzKX6BCWX0dWNITLqFfHCeNMOpiGmx5iZO3SZqMt0Yj/pZ4ZIWz1hj06AnhOaYkQw6kyaOLcXY/MEQmHF7bGm7GWwnfF9HZ0RG86SfThA3PCkTcRC4I7nHOgSqiQCh0q+nyCDIg6F8mynNhELwOvEA1x+SEQi14GXwe03PMq+ywVXdyVTRKT4yILzk7R3PehpUeNkNkrw4/cbVmdjttuuupTwJHt6VeDpavxiEbepyjhe+cIXqzju7L3XefPPNZYOOz/MQtVsadU7v+YxBzYQJhABPVKed8UFdHBPgoxHHPPEeeGEyJp3bSB6MMBVgb+qP47UprtdE3yYwk1KTqYj7l6GmX0zaIqSGGO80MQosp3ssfadsJtMN8ca8vyaG/ca384RKv2ayEg9jst9hpIgNVi88wrKidINnebPNNi1tgEjtlBnnrW97awmDc21yDLNLDhsuOZbqK3/aI1Fv5YtwNjlwuD/eY+F4Dp5lcdEcAf1krvjud79TbJtVMZPq0Y6DSTKzmDRxrHMQYDo1Y8CLKW9nP52GyLKblzeq3/ipqY6QiPDWbrPtNj2X+xismHxY+mqm37IDnaEijtt548Ta8WbyLjU9EjwaPE7O7W83weLclgjVVf3Ja9MRbVfoCy+nCcRIsHRpadRAZ5WhH29MHQOY5Xl1ok/1KmsCywMg/N5LXvrS6o+NJVwDoNR/JlDagA200U6IcINip1CMQJaS5y32RJ7j5mO0+0UcpkmathYpx6YLhFjkkFYXyrYfCNXYmOevGNd+Ifg4FizHC6mp59duQjhb6mefhbdMd/RhdcA2jvR+pWaM2HgTz3Z2tRd+k7A2+ew14bGCE55mKf7a9Udj7PLPX77UNVsfIXnsg3Cp+v4V3lxPcTXOCKezeiWEjk1zCIfwew7tjb0yee6VyeRx23RhuQbl0wzTS5JBZNLEMcxEGYPIt8mgWKohvpoxTowWwffZz55fbdV6Xn0/sU7TBZ5IZcRwCkchGGxwajeZsOwaD5hQTu2MtEkFr7KBtd37IY4ZtHZxnh/56EeLR9q1yHpRh9EmhKS54pkS0jGSXdtTCVkweESFCVkujDy0sg8Y3JRtP7lwxSZaHldnskP0mvy0w3Xw8KpXXp9eXi/pwoij2Wafvbqs5RUGLzJvrQ1F6jiW+3mmTLJs5HR/9dANvyVsh7fLdRh8iWseqxALfs8KiPcNkP3EVBt4Q8RbpWhO8qYa7BrBqY8qCwIknv7HsybWNXIp39lmIvDww38vbcrqkb4XmQriSWyErlWBXqsWhNTzX/B4LDkP6T//+cTqj++ahLCvJthWQjwlbrruLdA/TeT0YW12scWeV1Zv9EOvaa+9vPnQ/vWTcEiMJlyFXVbe6lZ/6YV6NH7yVhOtEcahn/DQipsWcsEmaSsRsmPToLEhJqz6r/0F4ayKTFKdDjbBX+EXvWAnpIPUxmWs+Pvfu4d8JckgMKniGDozQSxkIB6BLLWbpR2dlcDgUfZ/3g65EuVJ7BWPNZ0wKIlhZbAZNcKEQVxt9dXKzP7CCy6ovvyVrxRBK7WPJWzGzdPu2oVMgMG3TM2b0M5zJOm/sAregXYxkOLU1InrsET73ve8t3ghzjjzjPL0Q+nEiBoivt/Uc1MNS42Wm3nFicjmAOI1g1O78m0HkeJ7Nm+OBoJGrKTflfGilzgmTtUVgWwCQ9zri5b23ZPB+XGxsFhZkhXTbFMeT2dziZ13yHd5o8TZaxPOaxA1wfLXAE5wr7b66mXZ+Kyzzhp2jnYIR4oBm/ib6rGKRC87Jp7T5DNESIgNXjtlpxxPOeWUYd9VxpdeesnQwxSibB2+y34uudRSpe/1I2TP+uBZxUO5yCILl4mH/itriQ3J7I3+++pXv7ptNpvpgvZkVU5qu3hSZP3gPNCer7/++uZX22Kyox78bWZ36AeCWtYJv62v9cL4qZ0IA1nkWYuUyRWHU3kI0RprFPEqpC0y4giFEA4lbILtiv5E/Nez5vR79LM3wqTBA4qU5c677Jyb8ZIpwaSL44BYs2ufSDZzNkgYXP3b4Kwzi80jmJte5ekOr4YBz+OhIS5MDLGlbvGGz1xooeJ9InYtW6233npF6HRLbccL77MG53bphuRTJUocnR7iwbASLBE2YaC1+dDkhoCXQaSXQJvKaIc84jxM0qhZapS9w+SNwDQ5ITIIvH4goi1hj3ZFJJZZeRKJz34GId/hFeQNtpSqDg3O9ce5C/ngZSKgxSnatNqEcLN5xyYm966v2kdwwIEHlIHa4f977Lln9Zqddy6f8UCPXhAu0a6nw3Isb7GJC8+idmOFR1k5/Fs7IkiVI1FTR30KnWELtDHlGWWrvxE+W229dXl4TL8bwXhG1QUhxcaaWHuQhXOp95mZH3wy4CU3pkR91Puwf/Ocq5d+90tYzTOOjTQsKnA9MUlWz/0KbH3JPag/E1AhSB/60IeGbIAJzmt22qn0cU9O1efrKz8mymwHW85u9Tr81u6779Z3qjvhWcLNTMDarXYmyaAxMOI4sCSoI+vYJ574trKBwIDQLa51ukNcMULNZWjL3zzr4sTe+ta3VG9/+0lF1HYTxcFDD/21DIZm83UhFDC2NlMR2v146YltS8XtNnYlMwcTEZkveBJNakYS42sQ1fc69TObLgmEfjyS44mcqLykPJu98r4mo+f+++4rk2ChM9N5QjsVMCFklwnZfj3WgZAdK3Vtw2oee6wIVSngZhaEsOxKQio4TvoJT0mSQWDgxHEyc/j3v/9VHXTQgSW2jfe3OZu3pG4TFG9Cr7RgyeAgVtmERuyxne9TGVkVeLmsIDXDOJJkukLg8sxa1RO6NpUR+2xVw94DIYA58UqmCimOZ1EYKXHFwjL2P2D/YenYCGVLjOKNZbVIpg6RtUIs+VT31MTOeUu9/ayGJMl0wT4b4tjTKUezOXdQsBqx0EILlf0rnValkmQQSXE8C/PPfz5aHXHE4dUSSy5Rffozny6hERLL26gh9tRMP73GUw8eV3GjvDVWBaYiYi0JAysbdt1P9Y14STIS2GGx5zYJCjGcigjtkP5Npox+slokySCR4ngWRxxn7GyWCcNmIZvrLMmnMJ6aWBWwGdLTDYnk5hOwpgIEsU2me+65x5RP35Yko+Gyyy4r4lgf/ssU3Bgp5SCPsU28/W5KTpJBIcVxUsSUTXeW42PzY7+PTU0GE2EyUjbJ9CBncT+ZKwYFGwNtRpKW7ve//13z7SSZJeB5lUpRWMKbjz56SmVpkr5Nlg8pC2VESZKpRorjZAixxrlhYvrg4QZWBTyAgxequelyEBFbvN2225Z0VNKeJcmsjD0DMrXIYyy131Towx7cI9++bEf2DSTJVCTFcZJMY+65++7yiFdLm3bBDzI8ZQbVF77gBeXx2zlRS5KqpF6TL93Dd0aSnnEyIN6lHfUQGw8NmgpiPknakeI4SaY5Bte3vOUt5THggxwuI7bYgOohI1MpDCRJJhr5pz24o5+Hbkwm+vDZZ59dvfe9763+0eeDaJJkEElxnCSzAGKQ2z4YYIDgZbIJNL1NSTIj+q+QhUFG3/V0xqkUH50k7UhxnCRJkiRJkiQtUhwnSZIkSZIkSYsUx0mSJEmSJEnSIsVxkiRJkiRJkrRIcZwkSZIkSZIkLVIcJ0mSJEmSJEmLFMdJkiRJkiRJ0iLFcZIkSZIkSZK0SHGcJEmSJEmSJC1SHCdJkiRJkiRJixTHSZIkSZIkSdIixXGSJEmSJEmStEhxnCRJkiRJkiQtUhwnSZIkSZIkSYsUx0mSJEmSJEnSIsVxkiRJkiRJkrRIcZwkSZIkSZIkLVIcJ0mSJEmSJEmLFMdJkiRJkiRJ0iLFcZIkSZIkSZK0SHGcJEmSJEmSJC1SHCdJkiRJkiRJixTHSZIkSZIkSdIixXGSJEmSJEmStEhxnCRJkiRJkiQtUhwnSZIkSZIkSYsUx0mSJEmSJEnSIsVxkiRJkiRJkrRIcZwkSZIkSZIkLVIcJ0mSJEmSJEmLFMdJkiRJkiRJ0iLFcZIkSZIkSZK0SHGcJEmSJEmSJC1SHCdJkiRJkiRJixTHSZIkSZIkSdIixXGSJEmSJEmStEhxnCRJkiRJkiQtUhwnSZIkSZIkSYsUx0mSJEmSJEnSIsVxkiRJkiRJkrRIcZwkSZIkSZIkLVIcJ0mSJEmSJEmLFMdJkiRJkiRJ0iLFcZIkSZIkSZK0SHGcJEmSJEmSJC1SHCdJkiRJkiRJixTHSZIkSZIkSdIixXGSJEmSJEmStEhxnCRJkiRJkiQtUhwnSZIkSZIkSYsUx0mSJEmSJEnSIsVxkiRJkiRJkrRIcZwkSZIkSZIkLVIcJ0mSJEmSJEmLFMdJkiRJkiRJ0iLFcZIkSZIkSZK0SHGcJEmSJEmSJC1SHCdJkiQDxR133FF99atfrb773e9Wf/7zn6vHHnus+ZEkSZIJY9LE8f/+97/q0Ucfrf75z3+WvyM54jv//e9/m6dNOmBw+de//jWq8o4y9/0cpJKJRPuK9nbfffdVd911VxFH//jHP7I91njooYeqP/3pT0VE3n777dVtt91W/u21v/71r82PTyluvfXWaqutt6qe9rSnVQsssED1ute9rrr33nubH0uSJJkwJk0c33333dXZZ59dnX766dUZZ5wxoiO+c8MNN1T/+c9/mqdO2vDII49U559//qjK23HqqadWF198cREsSTJRPPTQX4tdeP/731/tuuuu1UYbbVjtt99+5f9nnXXWMBvw0Y9+tLrkkkuqH/zgB9Uf77yzCObpDGcA8XvNNVdXRx11VLXddttVr3jFK6plllmmWnrppcu/t9122+pNb3pT8brec8891b///e/maQYa9/jud7+7euYzn1nNNtts1ZxzzlnNPffc5Z6TJElmFpMmjg1oSy21VDF8884774iOpz/96eXvKaecUjxKSW94Xl7+8peX8p5nnnlmKNNex1xzzVVtsMEG1c9+9rPmqZNk3OAFXXzxxYso0s/nnvtpQ/29ecw333zV/PPPX44111yzet/73lc8qDPbm+z3HnjggdLHTB79/dvf/lZWx8YLnuLPfvazpQ+638fLZu7iXX3qU59aDv/2mmPBBResXvWqV1Wf+MQnqr/85S/N081U2Oh62VgJ6CTaOTt4it3L7LPPXs0xxxzVU57ylDKxn9n1miTJrMukiePvf//71fOe97xi/MK4GxAZxF4HY+nve97znhTHfWJQWmONNUp5E7rK299m2XY6nvSkJ1WvfOUrqxtvvLF56iQZN4jj5zznOdX//d//DYk9bVUb5EmsH15jMxwhEgnCb37zG+MqTHshvGOXXXapXvayl1XrrLNOtdZaa1Xvete7imAeD6yy8RQLMXCf+q1DX66Xi39H/46DB/YNb3hD9cc//rF52pkCT/AXvvCFYjuUjQk673Y3O8Lr/cIXvrDUq0kQu/XLX/6y+bEkSZIJY9LEMc/xEkssUQY0XpDwDvF49Dp4Tvz9wAc+kOK4T4hjg7fyJjiUNw+yAbdZvu0On99oo42qn//8581TJ8m4QRybNBN6YRccz3jGM6qFF164Wmihhcrh/+xAiMX4Sxy+5CUvqb71rW/NNE+jGGhizgQyJvn77rvvuMTJ/va3v6123333IbFb9xTrl89+9rOr5z73ueXwb6/VPckhMLfddpvqD3/4Q/P0Ew5xLPxFfbp+k54ll1yyuv7665sfHcJ3vvzlL1d77713CRExVszMyU6SJMlAiGNGnFAj3t7xjneU4+1vf3vH46STTip/v/3tb3dcnkuGUxfH4ZF7/vOfXx1zzDHFy9Us4+bxtre9rSzRimNMkomiKY611eWWW66EUH3qU5+qPv7xj5dDDDzhxEtLKMck2+ef/OQnV6997Wur3//+983TTwghjv1uiPTxEMcm/vodr7Bzur/ovy9+8YuLnfzGN75R/frXvy6b2PxbvK73COKYCJsw+L/yEu4xMyF0P/axjw2tEFr1E07XTRzDxMY+iekeR54kyWAyEOLYwXjbeMMY9nuMZDMeYzuzPEnjwXhfa10cx6DJE2y5tVmunQ4iYJA8OCMpo6lU/xNxreN9vmC8r7UujolAgvDggw+u7r///iK09HmHUIaHH364uv/++6ozzji9bEgLQU1I8iqL0Z0ZuK4VV1yxeEUjDGT//fcvsbWjRZl+/vOfLyEm9ftiJ/fZZ58i/PXJJl5Thq9//etLGcSkgQeZ5/2LX/xi8ysTzjnnnDMU+kLoqysp2iaS8W6XdSby3EmSDAYDJY5txBhPDFqWJb/+9a9Xn/vc54rn6Stf+UoJDbDBpZeB45U2KBOWsaHEgBw8+OCDZfn2wgsvLMuAdpKPFtf68MN/L7F1YvRc7/e+970St0gM9LrWXrQTx5tuuumY0j4pH9fnvp2fV/nvf/9782PDIGri8/4qX6I7cJ/OEWX++Aae+4dEuXK65ZZbqi996Uul3H/0ox+1FQnwWSKCR+2CCy4o9a+ebCp0373KVLkTOMPr/4n7832bnX784x+XOhMr+Ytf/GJUoT7uT2zpddddV+4rrvWmm27qWabtcO/K2v1fc8011Wc+85ny19K6euuVBlGZqpuoq/vuu7d69NEnypkHUtlrp86tH5ho/a/HeXvRThyLt633uybaz/EnHF8tsOACQx5WIQ6HHHLIkKdUXfl3ve3pv90me8poeP3fW/3970+c74EH/lzel0LtBS94wTBxLNPGzTffXNqH32Jvuv1WE3brNa95TbmP8Bg7t1AD190L10sghwc5QizEZLdb/XHOetk0NxRqg+5Hv7v88surn/70p+XeOvUh7Ud/0aZlGglxrF6FVRDp3o+jvgKo/8TmvTh6OUJchz6tb+s35513Xunz+r4236u9V489Vv3jkUeGfi9sU5SB8z/44ANlLNHe9dEf/vCHmYM5SaYpAyWODzzwwObHRoXBkgE3uKywwgrFGBtwxeX5TZ6L9ddfr8QsG9g6YQBYb731ysAnBGH11VevPvShDxVDSxRIneTcvDs+c9FFF/U2wm3gIdp+++3LcqglZLv1Xa/rXHnllav111+/estb3lKWT0cLg98Ux5tsssmYvFsmGTvvvHNZJuU5UxaWv7vxzW9+s9yXZehll122bNK56qqrht63lGpp2H0rc0dcp5y3lqu9pnyUOxHSjKU00F555ZXlvbiuxRZbbKj+Xe/aa69Vvfe97ylirBPKe+ONNx6q/1VXXXXo/kwK3vnOd5bX3I86c27153rPPffcvkUykUnIqf/mtTr3hhtuWLxvBut+UC9WYdS3a3e/ystf5f7KtdYq719/3XUd2yvxot2pI99RjsQ/iA8iK9ppnHv55ZevDth//zG103bi+Igjjug5iTMpEWIhtCHE8VZbbTV0LSYKwhCUb7QJHlj9ohPalXO4f/W/yiqrVCeeeGJ5T92++tWvLuXrfV7aiOV3POtZzyrv+S1lePzxx/ddfyBCtYE553g8a4f7kpFjJDH/Qi1e9KIXlQmDa/NXhg8TmSa77bbbUNloc8cdd1wRzNqHtrf22muXOtYmow+ttdYrq9NOO7WtU+DSSy8tKeaUjXYSZeOva/Ce39Jm3BdbGxCfL33pS8t7ynCllVYqk8ROaDPvfe97S/3HNSo7/cg9GQOE2bAJ2kE7vC5sTD27ZtcnMwhxT5iz+2uu+bKhscS5wz4LO3ugDzv6r0cfrf6TYYBJMiWYduKYoT700EOLQTa48uaIc3NY0vPXQDPnnHOUzSuEzNe/fm3zNAVLf4suumgZaB2u0eAo0wbDHeeO9xjXTmKjHa71zW9+cykHA5frcsT1xv/F6xl87fgm+kfDRIhjdeic7l9Z+HvkkUc2PzYMg36Up8MmIrlqAx5C9RcZMhwE5+9//7uy6z6ET/ye0JC6wHU/ytQg5h6jLOvH42U6e7XgggtU66//quqKK64Y+n4dXiiDbVyH9iRGm+jYcsstSyaAqKPIGOD8vGQGZ/fRTXzhIx/5SBFdYu59t95en2irc5ZNaDIiEIGd4K0Tj0tkx/l8P87pb1yr95Wr2F0TkiY81+4h7t131d13vvOdMkmM1yNLgr/OrR2bUBIio2G04tiEeIcddijX5DuuR3+x+hLv86TW2w7xY8LVCWnhCKu4V/0wbJR2StzV24YyDXEc/Tne5/Ft57HthH0AIfSdi60KYd4vPJrqV0x2bOZz2LPR9MQTlvWyMXkiSPVnv608va4d+bfP6UOErnbZzCYhV3Xce3NzZfTLeJ9t064CeaydN973eyaQ7fjqlVdWr9pgg7Kx2O+E/Yy+GO3efbOzRx99dFubp32cfPLJQ7/pIH5/9atfFS80MRx9Kdp89C92wCRKe2mHSZEc3euuu2616SabFPE/s2O/kyQZGdNKHFuK22OPPcr5GLBYTvTX4EBk1AeJGNSlCuINa0IE8yD4vu8atHkut9566zJQes17jKQBiLewX3HMI2EXesThRTnEdca1xj34PQabp9VGxJHSSRyPJd2UAYvBj0Hc9fE4dYMQjcHKfROfQhICg7YB2eAYHq8XvPAFxTtD8PpulJPvb7bZZmUJGpZ5DzrooHJuddJv/fOuecBJE0KUOIr656k+8MADqr322nOo3p2vXk+uN+7NoG8w7lTGhIvJQQhq3+tU/zHgb7PNNm0FsmV73jOCNq6r2Z6ivcbvKEu/b/m5uWwtXpfH02/6vPZNpFrhCMFTv/fwDPoN7++4445tRUgvRiuOwTvot0Mcy1ohTAXEz2GHHTb0vr9bbLFF6YedcC0mAlFe6tMEDSYUVg38jnuue40d9br0W2KQ23lY2/G73/2ulF9cq3oy4bGkP1J+/etfFWGnPKNtmrzceeedwz5ndSJ+T/thi8V6E35ej7qO/uNcIXKVAc9zfRWOo8D3ol3Xy8YRbdO9LbLIIkOTGPDSapexic/YIHSpiT6rDlxDtJd6udf7T/RX/2Yjmn1S+9Af43qdz+RRSIh+4DrjnM0277PeM+nQD5u4H84a5eEanE94X5Ikg8tAiWNGayy89a1vHTLu/jJijCwxe9pppxVvht+wdOa9MNKMliVSHsE6dXHMEBoceZJ9b4455yhChOfSoMx7wuD1K455hniaCEvnNsDw3vAOiWcjIs8888zymkEi7sfniIWR0k4cE5Zj8WBMtDh2nc7Lc0WYun/XTSjsvPNrStgM8Rk5XIlDdeT8vmfAMvBuvvnmZZCzPCx8IQRvvf7Vo1jmOnVxHPVPuM0//3ylTpZaeqlS765BWYaHLgZNn3Ht7QbCr33ta2W52G/7vM8uucQSZfJFmPK88qCZwOgbPhNi3j00s7SYMEV+4BAEPF9vfOMbizfZ+XiDXa/zxXXqK8InmuFFdXHsXnxHX/Jvr/MsasMnnHBCyV3r+p1Pm/YdYQVSeI2U0YpjYkc/rwtK9/WTn/ykvD+e4lgfj3ADudZN3EoIREsk+7xQAaEUHkwinEMb6Dd2nG3k9Y6yd608k/1+v47v8JDXRSK727R1dXHsc8Sc1Qp9W12alIn91u+e+9xFh2xS1Ld/K4vAqov7FnpkQhWCWjnqk+ywz3ufKI0+zNvdjzjmqdZnXXP0Zefmzdc/1I0+r+/7PXXjM9q785188nuHna8pjl0rb7S26DrYTuflXbYiZOUwPhe/bRKi7uoI14gJZYj3sJPNCWmSJIPDgInj0XuOhUBYng5h9NSWMDZA88QwfgY0IlHMXQwGjHsYRMa8Tl0cOydDaLAwaLzr3e8qj6+2lMawExf9bPICAch7E54Ef12P9EZ1scqw8qiIew3BH0JupGmq6uI4DLpJghCESI/X6SDYiSBLjHVmljj213eUg7jXm276RfF8OSyLE4rqQpxiXIvvqCcDHs+ykAOba6wuWMINIRX1b3AjcuvUxXHUv3rwHV41v+kaxGYSUuKpX/nKVwyVcXyeIK2LMHXstfBk+X2TLqKgvvSu/sXMWpKvlzGPlhCHgBeTUPVeLOUb1MXA897WN1ZpN4StgT/6nvO69jpNcRy/bRKp/FynuuIpI1R4RqONRj+xijNSRiuOr7766tL/6/2E9zX6yXiK44hbFXes7NW/OFVt1L0r07322qvYHZ9RTr7Tj23AtddeWyZOIUBdq1Wm0aDdq+/YmOc+9K1mDG9dHDvC473TTjsVe6kc3af2fsMNPyp1G7Y2rnHdddYpm/ZA+Ckb7UNIQdjY6PPqy/txRBv1tx9x/Oajjy7vOa/+WG+bsZHOvev7H/jA+6tFFll4yCHis2yhDXVBUxw7Z/y+cJybb76p2A7X6vx+h+2Lfu472p4QjLqDxHWY8OoPzhXi2N6FkWzQTJJk5jIQ4jg8ToToFltsXgYtM/52hwwL3rekVt9cceyxx5bBK7w3c841V/WWt751WCaEOpdddlkZ0CIert1g2RTHjCXv3Cnvf3/bOM1+eeSRh6uLL76oeAY//OEPFw9x0/jXsUHN9YXoEAYSy8X90k4cG3Qsm9YfrtDu8Bmfb4aezAxxHNdKGHcrIx4oXtriIeKJn2OO6k1HHjlDbGVgEyAxVRcgJiz1zX1NcRxijRevk6iyO55XKTypvqMM6wOx5fGIVw0xZQLSqU3xwpkQhZjWZuurLEQAcfvBD36wCAuHDXWdBl/ii2cwBKi/xHBdvDXFsc/whnZqdyanhGS9P5mAdOp/nWgnjuXnbbdcHfAaW9YnfuI7ft/ELmzERIjjQDk3U7kdcMABfWWVaId9Beqn7t03GRsNrtUE2GTI+aJPNUOzmuJY+fNeNz2hARGsTUbf93kTPDmNm1i5qItjNrUeRlGnH3FMoBPicb0+Z2Mcwd0ONsAEK0JLXIvyqDtDmuI42pE23Cku3QqfFQO/7/O+65xNm3PFlVeU1S7XG3ammy1LkmTyGQhxHAaZkQkD0usgGCMbAGNk93wMTozUS1/2surGn/2s+bND+O4Rhx8+ZGANQMRyfcNbM6zCZ8Uxdhuo+8EA8Nhjjv7yZX7yk58cGvhdp4Gg0yayTrQTx1FWyr3bYVBx73URi5khjh1EiWXSThjYeI2i/l2zwei7HQZgEA0esBD171qIQVlIgqY4juvtJBADXnYTiqgz36t7lGQecU/ed628hNpaN2KzUJSz9h6Dtjbk3P22J+KC9znEtvuzMbC+zNsUx37TsnoznCPgoSYIm9fYDNfoRTtxTNQ2BYf6c26bOXk3iR1laZLtu679qq99bejzEymOnVs7qYtj3tpemzE7IQZc+4n272iuavSL+iLYoj1GW27aj7o4dg8OorbTBAuf+tR5ZWIdNkVbae4b0S4J5ro4Fu7T6SEg/YhjfZRdrrdNk8tmvdTh6RWf7Jyulc3yGOsYQ5ri2F/hGBwYnTApq68YKF+TVh7mOiavrt+52DETi079KEmSwWCgxDGj1BRmzcOAznCJ5QuvlKVnm6rCuBsc991nn54bYHht694EA4j0bkFdHDtc32iXN0cCj5NQjd/85jdlyZrnzEAQXiRiqr6s3g/txDFj7nyMe7cjluonQxzHINVcBq5jyVfca9S/84sD7yXMzj///KGVBmXB88zbGDRjjp2X175XrKDQD/cVdabdiocPgRf5a6PdSVdFQNx4442lXzQP9y5+Ne5PeRNtnbxvTYRxEIGWmN0T8RWbtEIc8zrXB+y6OHadfrudVzAggoj+uvgULx/L7P1SF8fRTgmQ7bbbrtSp1IEOwobnUmiQz4YwjjbT3Bw1lcSx1I68sEOTq9lnr9542GHNj/WFa9V2tO26OLbCUacujn3O6kevB3Wwj0KZ6iJVbHJ9tWAixPGJJ504LL5/9jlmL17cblgR0n7UUb19Cn1BUxxrU/pwu7R3gXuTztM9RRuxgtHJ05wkydRhcMTxPPNUz1500eLxM8P3t91hKXy11VYr3tQYpBhay5qEXghIYqTTMnUgJlOYBIPoOhg3A0nQzFZheZwAGE943Cyzi43mmWPAeUGFkNhIw/tmMPH7yinEcTPEoRd1ccyQKyflbFe5cuh1EFSxaSaYaHGsPhy8nN1EjOvQJuI6/HWOXh5+m6SIxBAN/tpsE9TFcYhIIq2Xd9aEhuCN9qjubOaJHfJEWQgR7xNd2q9cskR+81DGzuf6og34fLs24Nq0W+mieMbFvhKSflNoinPpQ37TPcV9ESSdxHEM/NpBNyLuebzEcbELrcmu87U7wvsdnyOoxD8328tUEsfCA0wI3Etc61577938WF/wWoqZrfcnYrOZL7kujpWjjaC96s6mvm233W5Y/xf2Vr/viRDH6iDarfvRXmxw7YaNiUIr6vVvFTDCRpriWLsyQeCg6MR//vPfMkGL76Q4TpLpw0CIY4ZlnnnnrbbZdtsSC9ftYFT9tTQcS37iKwmoupdLZope8J6suupqQ99j5ImYoCmOeTCbm/bGAq8ETzSvt9g119Ec/B2uywAxXuLY4X7l6u22bNqLmSWO3W+3HLHih2NyFNdhBaCXiFW/4mjDS+k+9txzz6H3m6nceN9MYHqd11KtiZzzOa97sIHJSob3Ypd9iD/nb9Z5u8N1Rhsh6j/96U8P+12e8qOOOrIIauUafaHdUfrcPPP0LY59tp6Puh0TJY4dhJLXmoc6j3tyvfpnuxWDqSSOhQDoq1EGrrUeAjASiGOZVGIi5D44BJqiry6O3YdNZN3KBjZJioWul6kMIfVMGBMhjgnQKGtlxHtdj+nvhNXG+j0KTwtR3U4cW5WINJHtsIKU4jhJpicDIY7DANaF6UjgATTLr4tcy8S9hN/VV19VrbzySkPiiME0gAZNcSy+rr7sPhZ4Yhl1v1kXLQx3PKnKEn48oS28SOMpjsf6EJDRiGMpxUYqjpVFt4HaBjMDXX3JVFq3Xmn1vvOdbxfxo2yj/j01LaiLY9chrpVnuZc4JhpMeOriWMYJdUCsqNOoa+8L51l1tVWLsOA9bh5yW1u+JeT921/L1/W4UeJByii/VW9P2rYlem2Id51g1a7cSwimfsSxa22XC7rORIhj5eMaCBXXr1wdvN/uw+qKMAsbMgmd+pJ+ndGKY78xs8WxrDAmrtGetSMTnkhLNxKEE3AchI1zbexO86mSzTzHJu3tJhl1ZG1oF2deF5QTIY6thkS79BkrYL1CQJw3NjaHONaO2A50EsfaQCdSHCfJ9GWgxHFzM0e/iL0kGGNwYthsYOmV/ukzn/l09cxnPmOYYKw/hWqixDHPd+xeZlRdt/8LBfEgEZsCLa3a+CVTgQ1efj/ubVDEMW8NsVYXx7KGdMO9RT2Nlzj26FlLpDHwuR4erV73dvnll1XPetYiQ2WiLsR3B82wCnVg2bgXRIzJWj2sgjCL7AWyXcS1Ei0ExaWfv7SkhlOm7Q6DP4+if2uX7jkeR2ww5ll0zigzuWktpxMmHuUrDlpGC/1OHeh7fnuQxbGycxDA4nBdvxAkB1GjfyjrftIampTI+Vy/PqFL3YSMNI1EeEyOZpY4Fg4mw0RcKwFo1Uqu9pFgEie3tclXCDjXZ4LXtI11cez3TMrqj3Ruh7pVhvVJqf/XH7AxEeJYeITfi37r/nrtwdD3ml5u9rCeBzvFcZIkwbQQx7wgITZDcOy6664zxMg2sXs4BjQGjqCQVi2YKHF8+OGHl+tkTJ2bCBEj2omzz/7YkHdzkMSxAYu3sz7guLduiBUP0The4li4Qjz+1nU4Py9qtyVRnHvuecMErJjy+oMMmtkqtBViqZk5oQkxWk+Vpu4s98eyuLZZn8gRy/0IvE6YSIXIjfswoeoUc23A1+b89iCL4/hd+wB6rQL1gkhrxpwS3c3wgjo2+rIJ0WdGIo55VJtZC0aClaXIRe2czs3TPRLhpW8TbzHJ0Jf8tdLWLM+6OPabwry6bUYDgWvFph7+od/VN6y2E8dsaidPbz/iWB9li8NhYDLczX5Cu3JtdSFv1SvsSorjJEnqTAtxbLCyDBlhFYwUw9bJOwEDl/jSGBAYTcu29V3cEyWOY0NWiCPLhJ0GUoMLL3hd+A2KOLbsanm/LjgMDp2eukesCZ0JoT9e4lgZWVoPb6Pv8E5126TDk8SzWq9/AqceqtAUx65bvKa0bJ0wyIrXjGwbBk3XdcnFFw+FYxjcCVhtykFIX3VV52uFezTZi4efKA+/RUyIrw+h6z5s5uL17AThK9TC/UwFcdzPQ0D6wQSlXt8m1LGs3g57GaK/9BLHwlbq4tgEqFub7YVNnRF+Ew+kkKHB6lI/acAIN2EEvhui2F+Tu3bhEs1UbspfeXXa1OwaPMiiHrfu/M2nd2q3NhuHgHReYWOd+mY/4lhoVkxGXC9xrF48Pr4T+jWbEGWhXbNVEXqV4jhJkjrTQhzDZguCI7wYDCfxW1/iq+OpTfXHihoYdtpxx2HetokSx5tuttnQQMRI82h02nBmKVnco8+Ntzgm0nvF5XbDAPm6171u2L0Qss0cqoHlfAOjgaQuji2ZB6MRx4gBNcrJgOkJaX/6U/ty5cGOR1JH/du4VH9wQ1Mch8Awieq0AYiXTLuqx3hq5z+v5dwWq11f6SAC9tp7z473SFTL7SqfL9ElhEL4Tzz1r6QkbIlY7UNIh7Rw7dDOtLcQNbOSOBayVL9nYreenaaOVQce/WirvcSxuNenzPb4KoTP6qPNuN6RoC7UCbsY7U9d8OiydRFS0w4TbY9ONgGK74aN1Va0mybNh4Cwd/pqpwwldYGqLWl3+rJ2U0f7VO4xEQs76vra0Y84JoJN7ON6fUZf9jvtIFZ32GGHofAv5ej8yiKYSHHsc54qeOaZZ5SJgsfUNz33SZIMFtNGHFsC9USn8N4wVoz2EUccXmIUGSxeUkaWUeRBYSzDsBPWzQdNTJQ43mfffYcMqnPHgBfJ4RlOQonItPQbG7vGSxzHgG9Ad89yhPY6DHrXXHPNDN4Z6cLi+hzuy8Bl6daudQJBXN+nP/2pYbmIY5AaL3FMzGy04YZD1xL3+LrXHVTCDnhbTZTEUfK0Royy+ncdMlE0Yzqb4jiumXAjJqTBEz9usJMxw+Ba9045tEexrnXRbSD2sACfi/p42txzF6+65ebw5msLNmeZyPFMut44Djhg/6HzXXb5ZdVTWiLW+XgYpTMTwxz15d6JcpOZECkjyVYxHcQxQeeeiC73rm5MJNgDqc20VXaEV9PE2r3H5KmbOFZum22+2bC+5d8ey87OaXvqYaQTUW0+VrfCnun/2qr2I3uIOtbPlJv6FdKj7rWBmPi7ljJZ3GnHGfpvUBfHfsd3/d/mvdNPP7142LVzcd5shpjkel/2b5Ptdl5p5R4rG2HHtA32zbWbsEWZ9iOOoa+6R+d1vX5fnz7nnLNLH9ferbTo+0Jc6jbBZ3nl68J3IsUxu8mO+13t2mpbM5VekiSDxbQRx/BEJ167ukchxJVsAZbRPbrTIGfg85sMsIHDYNMMMZgocfzZ888vno4QZ65BbKPNLPIoG1QtzRNaftt7xCLDPh7iOAYohzJw7l6HcjSANo26x3ALC4h7cW5l6zUeSoOFDWcLLrhA+T2TkhA94ymOccHnPlcmGlH/IQINclKp2ZBjkCIu6vXv83bnNx8aUxfHITrtcJdGzXd8l1dfSI+MAPFalG1409o9/c6EwWQuhI/7VH7EiHZqSdwSupzXNhyFuPB5myAJoeCWX95SrbTyykOesahjnyPMZe4gvCMu2/WLZw3BMKuIYxMo5RnXGGJTWyOWeOUJF33e6zyn2lOUaSdxTPQeftjh5TwhSF27/5sQOq+JVCdh2g2iUKYSQt41RJiEe9AuxM3qZ1ZJCFa2wns+6zris7022DVjjmVxUf9ei5Aj7dyEWt2EYyGEKdvYyXOrrXM+xDVFe19m2WVKeeuXkf7NKkk/4ph3nG2JPucz2uoznrFgtcEGryrt3cRC3w/xGu1SnYrprjNR4thn2HLlFeORa+AMGelkKUmSmce0EscMnDi5EMj1pTzGyWsx2PtN/2esPLGsXZqkiRLHvIgEYAwscT0Msv/Xj9e+dpfi7YvUW+MpjkMc9XMoNwOx7Bl13AsRp/4iBjAGZdfqtbgXccEGvgg5GG9xbCCK5eRS/7N3rn9HtBEDdDsB28xzbMB2bcTmAgsuMHQ+9+n9KNcYAA3CHsvcKW7Tfa+66uP5kJ3D74RYj8PrUZb+L6SjuTP/H4/8o8RBm0z5jM+7P+XcbE88pR5Frdyjf8wq4hji20P0zf20uYe85+6z3lbVu1zZ+ox6VaadxDGEP8UEqS6QnddrJuedQqd6IRvPlltuUc011+PeXNcSIlY5uW6HfzdFsToWHtLraYrNPMc21vLORlm5D4fzKY8ot/iO8JROG0AJWbbdZ7Xj6CfhnWbbZGIJ+hHHcE9CjKLP1G2V/+tXIVzjM5wSRHDzKZcTJY61FQ8OKu2ttZrk31JeNq8hSZLBYdLEMWNosInByMGwjBUG5yMf+XC19lprVc945jOHnb9+MLqWqnnWOm1esmTOOxPfMfgcc8wxzY+NCqJS2jMThDDm9YOX0qDG2yMdU/09nr/mo5x7YWC2Uav5OyM5eJPaTSJ4XKVAM4g1v+MwIGy5xRZl97slxvp7vLj1R796klVslIuDWOqVeSTgeTr33E+WFQLequa1xGEgI2ZMPGx+akdTHMeGKCLguOOPK6I9RHf9MPDzKBvk2wmpOtdcc3Xx/LnHujhrHjzxYo47xXNr9zx3PNshTpv3y1OtLWnvMYGIgzCoi2Pnapafx213Q4aM+uetEjRXGnrBgxiTxjis6ozG69qJ8z9z/uMTiSfPWM7qQAYGoRY8zSYT9fd5ATvVqfADOajnnW/GfmDlYrTiGLfddmt16KFvKJOjut10vSFc6+1HX/TZQw45uGfWFjTFsTI3IeXx5i0OsV0/2EPlI7SqHjbUDn3MJJS9azoB2Ae2NtAWw3kRRzzJronz6sOuo901xqEtm9xr1+3ylBPHkQc5DgK9/kCTJvqc+q5/xz0Ko6kjA9IzF3piHDFpbk5wkyQZLCZNHIvt88AFM3+HZUEP7hgvbrn55upd7353td322xWhxANkydpSs5hYA4040U4DHcR7ylfq+hg9y6M2Ro0XUns5H68KIWzpU2o0S7+8kzGYioEkoHggfM4yZKcNYZ3geeOBcy/OZYPKSA7XRMz/7ne/a566YCDlkbT0ahlYWRNj8gLzksQALUbSZ9zL1ltvXcRG3atls5ABmRCMtkEsd9pY2Qkpuixdunb1bxATk6iMLaE7p7joTl5dtBPH9cmR72vD2hMvqbZlUx/vci9PXR2eNfcstEP9R/k53+abbVaEFc9wrxRykG1Fjlx17L6dQyyoug/vm81c4lK1JfWgjN1L3ZNlIuMz6shnlGNdwLTD5i2/5bP+yrLSLga1G9q85XDtLX5XuFQ/994v//7Xv8vkcpfX7lLKh23QPoT/qE8TOFhtMXmOMtImbajq5vET7nLCW06odtlll1K+2gbvIts2Ht5vMen6kzbsmk1ATPJ4eE2MvLbxJhtXxxx7TM/6qtMUx/VUdGyN3Mj6svLS1oUnaR9saL/hASY42rk+z57qK373ta99bRkPAm1RX9AGYmzo5MAAO2rSqE9HX9R/lIU+oA2xTd2EromhEDHXFXaWXe42oXHfJoTxHddq5appq3iS3/Pe95T2pQy1oV6TiSRJJpdJE8czC14Cwo0H1sBlmazdbu3JxoDr2pqbOaYaJhsmFcragNdP2qmJhmdbOIhruvXW27oK4jqdxHHT8+R87tXEYaxty8AqFCHa6n/GUH687fIndxNzszrEu9UQ2T3GQ7w2kdbwXx2e2jcWrF7wyhPy4mdNsm2a02ZHI7zaieNmDH7YKG19PCYrRO14nKeOvkhI6z/6fPMeJhN7Wsb7fpMkmRimvThOktHSrzhOkqlOP+I4SZJkViHFcZJ0IMVxMquQ4jhJkuQJUhwnSQdSHCezCimOkyRJniDFcZJ0QEynjU6RBYBwsNkuxXEy3bDRThuP9H9jST2XJEky1UlxnCQd8EQwGTekWZP6TFYAebRTHCfTDdlNpK2Uak2eeNlNIltFkiTJrEaK4yTpgIwAHj0uJ6lDuiiCOUmmG1LESWXm4UJf/OIXS/YOuX+TJElmRVIcJ0mSJEmSJEmLFMdJkiRJkiRJ0iLFcZIkSZIkSZK0SHGcJEmSJEmSJC1SHCdJkiRJkiRJixTHSZIkSZIkSdIixXGSJEmSJEmStEhxnCRJkiRJkiQtUhwnSZIkSZIkSYsUx0mSJEmSJEnSIsVxkiRJkiRJkrRIcZwkSZIkSZIkLVIcJ0mSJEmSJEmLFMdJkiRJkiRJ0iLFcZIkSZIkSZK0SHGcJEmSJEmSJC1SHCdJkiRJkiRJixTHSZIkSZIkSdIixXGSJEmSJEmStEhxnCRJkiRJkiQtUhwnSZIkSZIkSYsUx0mSJEmSJEnSIsVxkiRJkiRJkrRIcZwkSZIkSZIkLVIcJ0mSJEmSJEmLFMdJkiRJkiRJ0iLFcZIkSZIkSZK0SHGcJEmSJEmSJC1SHCdJkiRJkiRJixTHySzBY489Vv3jH/+o/vKXv1QPPvhg9ec//7kcDzzwQHntr3/9a/kbrzv8/6GHHqoefvjh6j//+U/zlEmSzCLo/2wBm8BmhI1gS9gOR/11//ba3/72t+rRRx8t9idJkqlDiuNkluCOO+6oTjvt1OqAAw6oDjvssOrNb35zdeyxx1bHHHNMdeSRR1aHH354dcQRR5TXjjvuuGGvf+ADH6huvfXW5imTJJkFIIyvuuprxRa8/vWvr4466qhiH9iKo48+unrTm95UbIp/sx3xOnvCznzlK18pE/MkSaYOKY6TWYJPfvKT1aKLPqdadNFFqy222KJ64xvfWAauPffcs1pqqaWq2WabrVpllVWGBjiD3dZbb13NP//81QorrFB973vfa54ySZJZAF7gzTbbtHrGM55RrbrqqtW+++5bBLHJ8zrrrFPNN9981TzzzFPtuuuu1fHHH1/syn777Ve96EUvqmafffYilv/+9783T5skyQCT4jiZ9vz3v/+tDjzwwCJyv/SlL1WPPPJI9c9//rMsd37zm98srz/1qU+t3va2t5XX4rjvvvuKt2illVaq/vjHPzZPmyTJLMCPf/zjaoklliiC+Pe///2Q7fD3DW94QxHGhPAtt9wyZDu8961vfatadtllq/e85z0ZVpEkU4wUx8m05yc/+Um13XbbVR/96Eebb1Wf//znqznmmKN6wQteUIRzk3PPPbd65StfWQT2VMJgfM8991R33XVXDsw1CJc77vhD9ac//an5VpLMgHCI0047rdp+++1LLHEd/WrDDTcs3uGDDjqoxBjXEaPMs8yGTDV4uv/whz+UmOnkCawi/Pa3v63+9a9/Nd9KphkpjpNpzxlnnF4GL16fOga3d7/73dWTnvSkaoMNNihGr45Yw4997GPVa17zmmGvTwW+853vlIGb1yo3Ez7BvffeW73uda+rXv3qV89Q37My//vf/0o78bcT3d6brtxzz93VLrvsXF188cXNt6rbbruteIaf/OQnV5/4xCeqf//738PeZ2+0s8svv3zY64MOr7e46q222qr64Q9/2Hx7lubKK6+sXv7yl1cf//jH065OcwZKHGtssSxlZlY/6svdzc/Mio3UQFUvB4a5ftTLrlP5eL3ddx3OO+je0rj25muuvY744ve+970zeFCFSuy+++5FHIs9bg7+PD9nnnlmdcIJJwx7vRP19ttsw81ztyPK/d//nrFO4l6b99COX/3qV9Xaa69dbbTRRmWA7uc7g4D2ZmB2yBByz913V7/5zW/K/8cLv/G1r32tWnHFFcuk5/77729+ZJZCu/rlL39ZxJ2J4qc+9anqhhtumMEL+t3vfrcc/bTjqYi+y0usPAL95qc//Wm1ySablElVk4suuqh69rOfXUKyfvSjHzXfLq+ZlJuo9kK51se5sBuP24PhNq4dMR60s+dxnn7seTgMhJF8+MMfHte+N5G4bvfpektWogcfrG679dbq7rvvbn50TPCoH3LIIdXSSy9dXXrppc23k2nEwIhjxviDH/xgtdNOO5UlLMcOO+xQDv/edttty9K4/xvUHK997Wur3XbbtYifr371q2VAnVUwgO2yyy6lPHbbbbdqr732rPbZZ+9q7733Kv/22s4771zts88+1Ze//OUZBBJDwgjGd/fff78Sl7v//vtXe+21VynfQd6Exmvzrne9q2ye+/73v18M/+9+97vq7W9/e2kP1157bRkYvP6DH/ygbbYJ92eDzdOf/vRyriYGlJtuuqkcvTC4EhjKbetXbz3UVqPtnnHGGSUNVCcY9fe///3VZpttVtq0TT8GVtk1CPcddti+XGMvMSdcQL0LE+lnUB4UtEfCbNNNN61WX3316oUvfGG1zDLLVMsvv3ypv3Yoc33+9ttvL+EjztGPAPCZc845p1pooYWqQ9946AyTqVkB9uDrX/96aZvK+bnPfW61+OKLV0suuWQZ+NdYY40i/ogu3sOXvOQl1Tve8Y7maaYFMtmcddZZ1aGHHlqdeOKJ1S9+8YvSV90/r699Cc1JgTbEu2rD7mqrrVZCEJoIa1J2luJ74Tf9Pm8t2xHjH88zu2xi0g1x0WzPjjvuWOw5u8F+7LvvPsWesPPf+MY3evaPz33uc9Viiy1W9lpMpQwbN998c3XwwQdXL33pS8vG6uc///nVc57znLKxull3TYwT9pf0e78mShwPbNT111/ffDuZJgyMODaom5ExyjZI2Rk899xzV0972tOKeNFhV1555WrV1VYtnyFqbJRaZJFFioF63vOeVwbWj3zkI11FyHRBaqGXvOTxcpBtwaaQeeedt/xVHmb+vGM6sYlDE4aAiLLTWjkrY9/3f2W/xhqrVz/5yY+bXxsIGDOGn1fX4G5wsjHGa8IgtKP111+/GC4ioDkxCC688MISL0hIfvGLX2y+Xb7HsHb6fh3CzE51xnmFFVeoFn3uoqVMtV+eJcLjhx1EHkwOpYci2HxPPUR9+jcPld3xTY9eHfGBb3nLW0pf0Q+mEkQusWFQc/+Wqnn03fevf/3r5serq666qnj9X/ziF1fLLbdcEdEvfelLqr333ruImV51RhDLTOK3TBJnJUzEiEAieOGFFy795Yorrigbyog5fUg71mZtQttyyy2rueaaq0z+phvu2yoLp4CUayagG2zwqmrbbbcpdsUEs11b0t/ZmDnnnLPYHfmOm3SzPU20WRNjwm7Z5ZatFlxwwWI7lDv7IRSoE36D8DWBicwZYT8czqU+fabb9bhX44nraOdMGGSMca961auK/WTT2Q4Hm9kNNvPUU08tbeAzn/lM8+2O6CdslXK9+ebezpNk6jEw4pgXiPeHF8hSFuHGOMw2+2zVyqusXLyDvIXed/i3Dsz7d9JJJxUxqFMw9gz6dN9w8/e//22oLD772c8WYygdGcNIIFgqtSRtWV12hnaIuWRQZptt9iKQeeIZCF4I5x1Uj9oll1xS6pi3hrcg0rBdccVXyiCz5pprlk12Ntt1w0DIgJpAaE9jwaCjzSlT5yL0TDJcmwHu//7v/6r3vPvdHVc3eHR4JAgUXizePNfGe+SevO79Tl4QrxP7BkL306nOBxXXbwlUn7acqx+rQ540Xp1A+QlzIYiJFwJZCi31H0KC91P598owYqMmcW1ydPXVVzffnpYQxrxp2glnA89oc8KlLWrHUh4qT/WgnL797W8P+9xU5/pvX18msmLzeY/dt7+Esv7KM/jXDo4Wfdzk4ilPeUpZhegn9KEb2jVbze5+6ctfql72speVa1D+7ADh+7Of/az5tSFiBUUd8R77HoeR1Vjjqfe6eUb1PY4GfYgdmWoIgdNmedi32WabMrl2/+edd96wz9EZd955Z3Gc2I+x3nrrFTv9zGc+szhbRgJHBEcUj38/qwPJ1GJgxHEdszmGWUcl9iwRdZvxMgwe1CCHLUNC6J1//vnNj01beDxMDBhqXuR2m0faYdnQ54mpyy67rIi7buU8CBBRJk4XXHBB+T9DqM5PP/30MriZ0RPHDH0374fBYI899ijfFUbSa7lxpGizL3vZS6tll12mtGECwwBn+a8XJjWveMUrimeqnde0HYTghhtuUIz8VPfwGdDcR6TXq08oeHn1c15fEwZhJg4D4/ve974hG+C78s228+gFBsrYkCl0ZVZAxpZnPetZZfLxla98ufn2MGRvMQlRPiYgRMV0QT/Ux5ZYcolhG+bYP6suxp6ddtqx7WTUZ9hYq5ad4o3HgnCXNdd8WVm9i0kiAccJ1A/GQiEF6roeQ90N98zLbJXABGGqwmESY4L6rYcGcpaYEDpspIyy9VlhRSNdbWOnTaCU23SbOCYDKo7NyjVWYk8DPvvss3uKF15noiiWY3lBp5Mx7wQP4Tvf+c6h+xav2U0UgtggOiwL8bDp5BMNI82AEDCMt6Wsfg6fJXxtMoOByVIoLyojznto6Z0XEO6N15xYbDewBTwMvmt1ol288Vj420MPVS9ZY43igXrLW04YWtWwBPvpT3+6+fEZkB+VKOEd75eYIOkD3QThoMOzKcbSBNekgnCJCRvRoM3y1DS9nVD3QlsWWGCB0hcMWrx63dAm1Y/B0ka96QzvoWVzHkler14rQ1KXhdAQhtHLBk80P//5z4uAOeWUU2awE90Om3G1nTqEo/vacosthpWDduXJdsYd32sHLzG7abVOfuPxFpNSxwkZtAdBzLF+zb5b5auvorSDd1j/4NVuFwfdDpvM/I7y8LCkya7nsWBsIFjdCydK3RZyAPEUC8GTbYIt3njjjYvOMKkeqTiGkBp23QpmM9VfMrUZSHEsXYqBjUEgki0L9SJySuoUGqvctN2WoaYLDCAjEAaUx71TdgrYtMZjKq7b8v3MElKuiRCxqcdyloGnn4NwJahvrQn4EEuMnSX0zTffvO+BIBCKwjskVnW8Uy1977vfrZZeaqkSu2nglPpHuxRiYdNMr0mbgZuxNinsB0bZBj6Ddb/epUGFODFpMWDxftXDXY477thiFwg8ovehNjlYb7vt1pKWjwBU5sq7W3iF3xNmoG5sWprKwqAb7otQ1EbYiuuu+1bzI20RoqUc+5nUTTTEsaVvzoCmneh26BM26Abag83MvIZHH33UsN8Q2mCCya7Uv1OHmF533XWL/TABHk8batXU0/WMZVa3CDZ2XX8wiesVF2t5PzLVtJtAtsN+C/drL08/m48HGRufwxts5agOjaB+Y0+SFSftgK0YrTgWx21irV8Jf0umDwMnjsMTaqOMAYsntB/jY4lV59YpdA4zxKne0fvBkp6NdwY8HrOmQaijI/M+MJ6WTLuJ6ImgpOe6554SvtHvEZ9vtzz41re+tXgX/e0Uy9sJWS20FYNIL0/7SOHpNpBFlgWeKLFp2qVYz3YbJOvYKS4Ott+lOr+j7gn9fr8zqNx4441FFOv7YkHr3pgtt9qytHODmUlzpx38r3/960vd+ixPM696NyyR+7y4WgJsOqL/aOvK1UDer23ce6+9Suzmdddd13xrpmNVged0NDak/vhmIkYbs+GwKTY5YqxaWHrvFEfKA09M6s8msmONN65jHFtrrbWq3ffYo/xfmBj77re0Z/HE3VbErLAJlbO5t980bDIaaRdClabyY661cZmK9GUhL71WjTgplOdYxLGJkvHUb3L6TLW9HklnBk4c33ffvSWNTcQb84j108nFz5rB6eRm2rNKkLxZP085z4JNXO02U/C0MuIGf15mG+6mA1tvvXUxSjzII4FHJvIb84yN5+DGQ8czL97tD62Hjoh746n3e9pmt1hY3gxxf7zh/SzTmRTwjjm3mOapPLiZrFnuNIEQy2mAr096ttlm29K/Yzf6V6+8ctj3A55C9sNhks2D3w279IXmENy9BtSpClto8qTceN97TRgCYRVEdTfv+1TDvbOXPMT1SQLRaS+D9iWdWjt8Rn5bWRGEZI33QzKk3TQxPrkV0qE/sxcRNseOdErR6NpM9GSrEV/bz/4Rq6scUM4tleJUhpPDBl73om57Teis6o1VHEO6PGOwfS4jXcFMBpeBE8e/vf32Ei9lEDT7I+r6WeqUjshAqJGa+X/hC1/oyzhMZcyUxd8xBiGOml5QIuzYY48tMWxyAk9U57Vcxesysx43evfdd1WrrbZqaSP9hN3UMbgYEAgws/3x5G9/e6isYOy/335DApj4NinRNnmAeDM7beLhDTUAijfup/2qT5OE8CpNJXj15HeNByxoz2L4iA4CTlaSupdMDlZZKdQb8dLpCXdWEtgPZc2j3muDok2PHvSgDLulzJrKmHSxq0SW8iUixOb3gsD4QSuP+ETi+uwb4OWdaAhajgSraPVJKiFqsmwzaKf0ftojscr7ri2O9/WKN3Zt9dUlaQuJce1Zv+AdbQevpVhoTiLhc/0QIVz6SacwkkGETdV+ecpjBVS8cTghPC+hV3z2eIljK4U2uZpcTxfHUzKA4viaa64pHuNIxdJPYyMI5RsMz5xl1U6euekEbw4vJS+IDm7Aq4dKMB5iqiwB6vjjveRjCVwMMeEnrtZgIZzlTUccUd6bSHhY3BdR03wsdCcYVBtWxDDzKj530UWLV9HA348Q7Ycf/eiH5bqkI6sLCtlTvB51JTauXagIz6nl3n49mDw/RI/d7EJFpgImAPKPWj4WXyx+UzvSj03wCFuDTTNTBy+yiY2VAptI2y0vq0eZQtgCYpfQ6LWywFa4Ht8RrzyzJngzE2UnVluZxGZHm5HEIdsAOhm54dkvqcYIUnbDypa9Ipb5bY4crz7ZhKCVIpGQio2+7IL+QxjrT83Nmfqy/qpNaqPsh01s4/kESvb5gAP2L6tOdU+9zeZsbKyKGuva2TyrA7z8G224Yd9tWLy9SbvfNFEddEyi2EiTYw4Ojgj/tjpnD02kvjNJ6FUv4yWOr73268Xbr27yqXnTh4ESxyFcGO+IN+61qYBRj93tOoVlwLHmrJ0q8D4a8JSVmNZ6vDHPA0OpTEwyOj1lbDQIS+CxNpgRcjYB2v1uoOP585qZ+0TWg7h0dU5U9Qq7IcYMuB4SYwIhHli5zDXnnEXQC2Ew0I01/R9jrAzq8cYBASaG1u8SyBtvvNEM4g88xgbtfmOH7cIneAhvntZBRl9WX/q1wcSKhgFNZhlLwepASAXhYUPSaCa42mYsrYY9aCck6hDZkb1A9oHIfDKdIO60LaKYGCIiDOayMhBbQtlMEAiPXhtGxwqRKdZXfzQJMjniDf3Qhz5Uso2IsTVpmqgndHIgmFz7DRMEmXvce2TmYFPjSZQEq4w52pTDhI699TmhOLzPm2+xRclWMNZHFRPq2j2HR33ip+6smvAcx8SRt7KJCSOv8TFvfnPPTCTBq1/9eGga+0iEDzLXXntNGVfYCqtlNmea0GgvJlVyQ2vTbEivUCqMlzg2kQnnHPvWLZ90MnUYKHFsedXucsbb8pGNSZ0wSyYAxY6GODQLbic4+kWjtoRlqV0anfE6CEmi34a4fo1WP8iyYIlU55b6i8HnHSXQLN3rrLG0LAZ7PBCjZze189r4wQjVxUc8Ke5pcz+tDCoThU01liD7SUPHg65MIvOFf1tqd+3O4XV1zoM2Fgy6e++zd/Git0vvRNDzTBGzT3/63NXnPvfZYe8Tg+KNTTZ6LQnCAHruueeWelbfY73+iYTYIEAIX5M1S6CBe5VeSTuODWM+O9JNlhA3aXKmTAhBdd0Pl156yVA59huPO9XQD9Zea60hu2ByydZGPGtkBzJZbHpOxwsezeOPP64IHLbLA13kHK6vePH0CyOQCWKiPNp+z4NfTjrxxCKwTAr0T+2vHm9s4u162IeTTz652DRZZKzsEPNe8z22ZDSTuTpf/sqXSxoyewiaEM7sivpyjSbX9f7BFogzHkm8sX631lqvLHVvM14vR9RkYqyXN961HnjgAcPCA417Md5xPPDsG2t7MV7i2Jgbm/KEd/Zju5PBZ6DEMU+jma8B1ADJo8C7xIA6/Jt31EAaHsAFFpi/LIUyblK1jAVeAmKJ58AyU7+HWSuPQhw6Cg9A/fC6zjeaAb8dOiThrUM6LEvyNsqMwDiInVR+4YUXc9zLg9YLMZ68GowJr0mnDRw2CRpoez26c7ph4Ff2Jg/tBkoTt8io4thvv/2HPFT43ncf37jXz5IgTLSIfedSvzfccEPzIwPBXx58sDrh+OPLwE6wmiw2IZAMcNoqz4+NUe3CJrrBg2NTTAg93rB+N5J5uqLvWVLnpZuufOPrXy8p63iMox0qc0KVrYg0WDzo/aSm+tejM4YGdYLt41lj37WFTrmWOT6sLAiZEpc+0ZjQs6f2ZGh7kxWedNpppxYnR33iGHDcsPfatcNKUf1zxi5j43LLL993vLEwirBHNrGOd9jdeHHdt7415Jk1jt5++/AVSRMdm3ej7RK8/Xjxx0scwwOb/LaHCfVrc5LBZqDEsQ0B4c0gjqXTibgiosNf/7ecb4naMqF8tdLfjAcECYEuzzKvQr+HOGmH64/DcnfzIC7Ha2OLJTBPdjNTVl6EBY+HpSVlwtDxcISngSeGF60f0dUOg4fJSYSvHHnkm9rGtd19113Va3baqVpu2eVmSLw/3REfb9BSzp3S5Jm0ECIMOQ/q1VdfNfTeOR8/p3g9P/Hxjw/7TieIDQ9nUB/6xFhWTSYSnliiwyDEKxkb8OpoS/GAChOviAUdCeJn/Y7y4H0fSXnov/rSaJ6UNdUgCoQQERRsBjtLsCq3yBLk356K126p3aSFMDP5PfiQg0tIAS9qfaLXhAAV9kOUP+Up/1ets87abT1s+s37TnlfaQO8sb1CpsYLgoajQ4z6ZGxMI37FyvMOd9o0LVSLQyg2nVs1DWS2ESKy8QgeHe98JkHqmvDuZLMmE5skd9xhh2IXrA4b29qNoZxa9fzG/YxzdXEstZ82PFrYNb8tNKfTRuFkajEw4pgR5FEiHAxSsSni+9//fok9c+jM4mzFBPY7O56u2HFtomAwYxTEEIrZrHt7LKPyRERaK7Pb0XrXxe0aRBkA3v1vf/v6ofcYdl5puZO323bbasEFFihLg/0YqOkCwWATHnHbLVZS2I6l01jKPumkE4cGM2FE4ue+ff0TZduN+kYyk8d+vCVQL4SMiaBNcGM9hLbI/dpuWdbmJ3GCrpF3plOYg7bqfRO5V7z85W3P1Y16+7SqNNIHAMnKYELe7clo/UCkKItmGY3mUK7qaKJCC8COWrK2QZTYEvajDtgLQtGkoY62avJASNokxhMsnE37sxG6k7AjsmMPxLOetUj1sY99dOg9wlnbVQccHupAHPrMSMX5yCMPl4mYJ8Oxo8YdzpGJjrtuYiJnxdHKXDvxB/3dqmnEPFtliowjvh/xxu02+rbDJIC9ca5+YnQDE1lts9leR3to4+q63Xjh4TMmrDHhbTfuKy8rpj4z7zzz9H0v4ymO9QXnsYLbTxaYZPAZGHFs+UxmhVhy0xGSzkhVJ3Udg25A43VoboDjWbRETziHR85g184I9cKgFb8n1tgOc8uQYqws08ZmFZtsGJl23sHpjAFJTm6rG92W1dQJg2wCaJCzXOjBE7w2vA/a/b1tPGrtUMbxwAsep3ae/Hb4Le1CuI/QGwZ9LIdBXd03n+hnwiDvtnbjGnm32+2IN7jxCBGnPGI2Z/Xr/YKVo1jWlIVgNIOTCY1BmHdKzPxoESqgTJVts5xGekS5Eq4zA8LeBI090c85KpohJlYBTGL0+fpE28TQ6pTVpWbecO3A9+wjcV6ZVdh6ca6ENVvC46YO3bOYZKJpomEHZT/Zb999hzYHmrhaGjcBGI2dHC3Kx+pfpxRygYmMNmrfgnK0mRDioq1EyZbQ73VzZkSsbvNhKN3wWXar2V5Hc0Q/0W+a9otgFlrDVrpGe0ParSTUw6lWW3XV6ut9ev6b4tjm4NFS9uHMOUe1+uqrjXhingwmAyOOf/ObX5ck9To946zTjzTmcFaBuKnnNyaMOsUTi0Ou58g0EPXrWQj+8cgjxUj5LRMXIsfGMa/ZNWzWfOihbyg7/jt5jqY7PJ0GDKEu7eKN6/BsEGLEsfZ+3nnnldR3K628cnV0lyccNuH9tdFSvUh636+3tSxdv+99xaDL9DLWw8RMu7r4oouG/Q6PJ/Hj+njKhUK1G9wsnfL8mMTZPGrw7eQ9a6K9ybTguzyfvLajgefZAOn37W8YLYSsclUmzXIa6RHlOtpHN9fDxPrdQc8jSKDGygaPamDC4t7YE+esQ2jwDPNmNvOOq1/2nO0guIUeCQFgP9gRAkW4kc1tMzNuXvnod+rMBjuhJja4EvoTmUquHUKCrPLZr9ENQtAEWlkSjepK2ZuULP/857f1rHZCaIzYbvXcaf9IO2wE5+FuttfRHNq4Q/aN5gOMeLbjwTXspI2G7RDaKCQrJsf9ev3HUxzvs+8+1exzzF6tscbq0/Ypm7MaAyOOeTTDw2nHrR2oSXsi3jg2Z3R7+AOhRsAalBgYy4Yj9azx4pjhMz4MMiPCkPEcjVRoT1fEG4sHZOSbnrMmjLdNpCEabRwT/2lw++S55zY/3hHlT8g5jxCbdhkyJhPCTKiPNsMj3OkBGzxEBnmfM0jZnNcPJgfEmjhjKQSbYSW89JbM+9nUJRxJH/FQGSJtOmAi4oEoNgz3+7AKbTe8cMqjnh4wQldMxpt5zHn9TIRMwMV/1hFbLPOECbp4Zp5ZdWIy126yNKthU6LyMcHtNbljb01YQhxbxTPRLfHGm2zSdoNjJ3jNpbJU12PZjzJRmKTwhtMExq1OD04yHvGmuw/xxv1OrMdTHJugs+VS+41mv0QyeAyEOI54YyEVGhjvQ7uNIBON67juum9VZ511ZllWG7/jw9WHP/yhkl6mXw9ON8RhE0M6taVoS1Kd4CW089+gFCnvpB7q14CA8LPRj/ERD9j0Gs3qRLyxSV2nR7s2Of6EE6p55p23TFjEChLWltD7jTdGPVuFjTX9isqZhcFslVVeVPp0twebGEwsaUeYSXjAtdFO7ZTwtSxvUCPK2sWnEnMe7SoEqRe8T8qRR79TXPRUw+RJqAKPbj+PIgeBZKBXFrxxyjCQEYgDg8e3KQCINt5h39tvv32HvcfbKe48Ngb3Ch2Y1RAvrO9b+eg1sQbnxoorrVQEstAKccO88cKB+vl+UM9WYUI4ku/ODIT4GK+Mc9pkO6842ysMKyZzVi/jdWNft9XnpjiWN3m0xMqq8MJeE5xkajAQ4pjHJx6v6xB7ORmzWIOJND4GcstN43WI67JkxovTa8m9H3hzeGh0aue9+OKLmx8ZBk8lD0FszGMQ+/UkgTHmfQoR1u8DKmYViFTL38q430md5eNITxRPdTI49uPlDBh+IRq+a4BsPnhkstFOeLZcnwcutHvapX4e7Zl3WQx1eL/EIVv6bXoXDXp211tyFffeKT5ZDPSKK65QXXTRhc23ZsBKleskMoS5TAcM0jxv679qvb434gqriFUik466veIR9rqVqKYA0BaJXu97sETdfmvTVrrYK5OP0YaJTFe0PZ5Rmxv7waqd1GuxEVuZ208i7ngk4yZxaGOl73OwjFea0fHCHo65535amVwbl9tdn30XMq64B/bXJBdWNvT/brHr4yWOlbm4adcgln7QVvCS0TEQ4tiGGiKPF41ngQdiJJ18PCEabc6RDWK8DqLF0S3VUb8QBhLS64gOorXXgzB4qxleAoT3RlyljTb9ljFjHDPjkk2hD3HsgRTXj8ALOpWxpGzCIfXVSDILiLnT5nk8lG2/g2MdG958l1BsZhaYbIhhG1RcH8HVzrtLCIubNsjbayDmEz5rsOMNa4pfsaErr7TSsPeIM15m/YMHjBi0WZT3sx9v/gUXfK5cpw1ZMopMdZQHsaSvL77E4n1PhsW+ssHCS2z+qqN9KiNipOnFY0tk+fA+50Z9hayecpA47ie+lWf6qqu+1reon8p4sAhx3Osx53WsHhLE+o3wCv2/076TTrDrMRHipW3XPycTK0Par+vrNKEihiNLDe9ylAExzZHTKRQDdXGsLEe78VX75vkf1HJMRsdAiONrrrm6eDQjtmhWy487EsyUiTAd0YxayqN+MNiYHceTsWzqaG6A6IalK1599USQdcJgZsbOWz6rPASE58cO/pFu5LLcb1IY4THNzAD9oK+oF6sdnQaQycLg44mX2qp4ynaCyiabJZZcYijHsCcwIrxpzaf+EWzCUEzSTBIt9cuO4hAOYYAj8NSFz2222WYzZHFpQlCHV5Q3/847p77nhzg1eZApxOSrU0hLHZOZyDVNXDSFqU1fTRFSx9K89228rOcwjqe3sTvCu6Qj64Q2oU2vs/baRYQ348inGybTypPAa25k7IYwGbHb7Ln+L+Z4NHmK7QkwjhhTBm0ztUkUu6pNtYsHFq6z+x67D+XoJqah3YqbtxrdLVREGfL0hudYaNxo+M1vbi1hjq5BGGWnULBkajEp4tgyqY4oWbblD0nkdXCNVG5NA6D3hAO0W0qZlTCw6MTKwxIRASRUgweYYYwd+oRHuyV5HdVAZsCJBPK+ZxOT5WPxbuqiuXTdhAecwGEAeOTq9WJAY+TFvBpAxd5K9dSMS5wuiK9UZmL2pENSLgZ+gzkvJTEmbraXZ56HgedCmcoT24+Hs4lVF4LGqsCgTUa0XZuHeMcNcvXMB5brTQZMongplYF2w8NpkLcML36vLrKsvhiEnI/HTDvWD9odPuOcNuo1U0Q18Zu8+D6/6WabNt+ekhAIBJOy0DYXX3yx6gtf+Hzb1SvtmSeSF1G5mdA0wyZg02i/4rj5Oyb10daF2DQ92SbqbJiJ9cqrrFz6lLzH0xH9nt0VWkXQzTffvCX8yLI+G2pC0GujM9sia4SJj4k1uzsaUSacwoTFEzbbhT1NJkLUpEXUZrSdepu0Wipjhr0KbJ/PxMqbiRg7YeJcJ/LxO5zLCpE2r4+I3baCxZ4aa31GG+1lw8HjT7eY4FvtSKYHM10ca2yWfxlQm0V0So2KMNbAiTcb8oQLMMJCHPppoNMVEwReMJ1YfJjlH+WkvMz4bZCLx1cff9xxw76r3HgjbMgRe2jgcxAVypzAsPRUnibWIzQD4lst30nif/TRR5WwCXXJYyc+UZ3yvFkmbHqdpgvKlEjjkeTZjIT80X4JPQM70dzPYMXTqS5sWBqNl4x4JOy0BcvZ3TagTAYmEeKxLY+uutqqZcASR6y9CEWxYc6mQuLZQG+AUybsAs96/X60L2U8koOg64VJjgwMPFBvPOyNzbenJAZ/wmHJJZcocdwmUGyHOE7lSgz/9MafFvtK1BJnwlp4Izt52iOsgleuKY7rYRXsSTtx5zfZh2c8Y8Eyef7qV68sNkQoDXGnD0gTaZWqucowXYhHaGvfETIQafMizZ2+0Y8t4Dk1qRYGQxCOZpwksNl0Y0K7x1ZPNpxBwqvmm3++6sCDDiwp9qyCCPMzJopz5yFWfuyDVU05s73WdBbZXLrBhhuW78oWtNxyy5ayr4+HJm4bbbhRmVhyAvVyGsEqC3G9zLLLjMj7nww2M10cR8J/RlL6JoHsGrXGSMRJhULomfkRILN6YzNwS1clW4SyUj7KSXnp4GbWxJjBr/nwgki+rzxNRIinrbbeqmyo8W/n8t2NNt64+m2fg5Hck4wPg8rrx4vNeLkOD5aIZfHpijI1iChP5aoMo+2qD68p037jVnnX46EDo4GXlbfN4EBYND1ygwAvorZp4BFG4tD3ZXCpqsfK0qdQCAO9CQfhIGSimZbK0q/JHCHb61AHPis+uReyyPC+8f5MhxSSRJI2KvTEZESb5aUkPpUv0exYepmlq0Wfu2gJyVFelpW7rdSpI+1MbuLmRiftUBYc71tB6YR89vvvv1+xGdqBGG/1bYJvEmWFazQib6qgf4pLNb7F2Md2hLNIuRDH/exdINwIRRON0W4CM3mNzdbqfxDLXnYkY5bxRqgU55mVpZ///PGHbYgrttoRWX+MT+02JwvRetmaaxabTSBvvvkW1ZZbbVnO7dCuaQ7imB3XHvsRx36byLZK1e6R6MnUZKaL42Qa8Nhj1Z133FEGMpvzmkuoycyFR8TSOa+TydCgItTEtWoz7VYWHnzggeJdNGGYWYM04UhAEgfCOMYj1eJkwwHBI2xiUPfgPvroP0s+Z+mueGrl1jWh5UnuZxORh7PwdhIXzUmwjZHOSSRYyegFEaEtmJgQaIO24jErYdJp5Yu4G2RbbkJmA56QimZ70eZlVWI/xiMjVL/4LZN6K7LTYWKdPEGK4ySZ4lg+FH9nWdASetI/wpY8Vcuy6HTJb4x+Jhf9fKaOJ3/xMPP0Et917IvwMBvl2Iz1TAYbqUBNrK2c9JOJKHkCE0YhYVYNm6FGydQmxXGSTAPiCZOWHJtL3klnhB/Y52BpebrGuY4XvHMyTQhBaYarCP+KULnpuhF3umJ1IUIDxI33s1cieTyUSAgHr7vVmNFkC0kGlxTHSTINsEwtcwnhMpp8ybMiwjxkyjG4eZhI0hseY7HjRIFJmPAYS/EeSiGeWQackXqkk8nn0ksvLdliTHBMdJLeCAkS42z/jZCOZHqR4jhJpgniSWUcKBvz+tjtPqvD2y63ss056TXuD8JXbCURJfZYKjC5Ym0ItjE0vWdTE95jG9BkbTjrzDNzgtMD7Vx5CSOyKTK97dOPFMdJMk0wwEmWL7XTGw45pGsC/Fkd8YFSkskOMF3z6U4UNkPJQSuLgPbGW2yDXgrjqY1wGBk0ll9uuTLRTjojxZwsL/JUW4FKph8pjpNkGmGZW9YAhvsTn/jEDLu6k8cfBhBlJMdueslGh3KTpaJdTuNkamKiKAWiJ+d1ync9q+NhKcrIcxhGm0IvGXxSHCfJNEMuVbmThVcM2lOvJhuCjtfH7nwhASnskuQJ9A8P0pCDWhz+dEhtOJ6Ir5cT2XMHPN03mb6kOE6SaYgYWg/esOSdy91P4Mljnmj1rne9qzyyOEmS4QjHko2EOPY46+RxrMLZpyCP9/cbqQyT6UeK4ySZpgixkH82wwaegKf43nvv7fokuCSZ1TGhlgFH2EzyBOKL8yl4swYpjpMkSZIkSZKkRYrjJEmSJEmSJGmR4jhJkiRJkiRJWqQ4TpIkSZIkSZIWKY6TJEmSJEmSpEWK4yRJkiRJkiRpkeI4SZIkSZIkSVqkOE6SJEmSJEmSFimOkyRJkiRJkqRFiuMkSZIkSZIkaZHiOEmSJEmSJElapDhOkiRJkiRJkhYpjpMkSZIkSZKkRYrjJEmSJEmSJGmR4jhJkiRJkiRJWqQ4TpIkSZIkSZIWKY6TJEmSJEmSpEWK4yRJkiRJkiRpkeI4SZIkSZIkSVqkOE6SJEmSJEmSFimOkyRJkiRJkqRFiuMkSZIkSZIkaZHiOEmSJEmSJElapDhOkiRJkiRJkhYpjpMkSZIkSZKkRYrjJEmSJEmSJGmR4jhJkiRJkiRJWvw/6nJ/+cKPmocAAAAASUVORK5CYII=)"
      ],
      "metadata": {
        "id": "ZvOItS5uCr90"
      }
    },
    {
      "cell_type": "markdown",
      "source": [
        "![image.png](data:image/png;base64,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)"
      ],
      "metadata": {
        "id": "AcvCXyJDHeqx"
      }
    },
    {
      "cell_type": "markdown",
      "source": [
        "## **Call Option**"
      ],
      "metadata": {
        "id": "yefhx6OuCwwh"
      }
    },
    {
      "cell_type": "code",
      "source": [
        "strike_price=int(current_price)+1\n",
        "option_det=calls[calls['strike']==strike_price]\n",
        "option_det"
      ],
      "metadata": {
        "colab": {
          "base_uri": "https://localhost:8080/",
          "height": 118
        },
        "id": "pmS2vCfdAcBL",
        "outputId": "b24c2bd8-96bc-4f83-c1c3-2cfe55e163d2"
      },
      "execution_count": 59,
      "outputs": [
        {
          "output_type": "execute_result",
          "data": {
            "text/plain": [
              "        contractSymbol             lastTradeDate  strike  lastPrice   bid  \\\n",
              "46  SPY250617C00602000 2025-06-10 13:43:39+00:00   602.0       3.94  3.91   \n",
              "\n",
              "     ask  change  percentChange  volume  openInterest  impliedVolatility  \\\n",
              "46  3.95    0.23       6.199461    15.0           421           0.124459   \n",
              "\n",
              "    inTheMoney contractSize currency  \n",
              "46       False      REGULAR      USD  "
            ],
            "text/html": [
              "\n",
              "  <div id=\"df-a2b01180-a268-460d-b7bb-d6f05ad628b7\" class=\"colab-df-container\">\n",
              "    <div>\n",
              "<style scoped>\n",
              "    .dataframe tbody tr th:only-of-type {\n",
              "        vertical-align: middle;\n",
              "    }\n",
              "\n",
              "    .dataframe tbody tr th {\n",
              "        vertical-align: top;\n",
              "    }\n",
              "\n",
              "    .dataframe thead th {\n",
              "        text-align: right;\n",
              "    }\n",
              "</style>\n",
              "<table border=\"1\" class=\"dataframe\">\n",
              "  <thead>\n",
              "    <tr style=\"text-align: right;\">\n",
              "      <th></th>\n",
              "      <th>contractSymbol</th>\n",
              "      <th>lastTradeDate</th>\n",
              "      <th>strike</th>\n",
              "      <th>lastPrice</th>\n",
              "      <th>bid</th>\n",
              "      <th>ask</th>\n",
              "      <th>change</th>\n",
              "      <th>percentChange</th>\n",
              "      <th>volume</th>\n",
              "      <th>openInterest</th>\n",
              "      <th>impliedVolatility</th>\n",
              "      <th>inTheMoney</th>\n",
              "      <th>contractSize</th>\n",
              "      <th>currency</th>\n",
              "    </tr>\n",
              "  </thead>\n",
              "  <tbody>\n",
              "    <tr>\n",
              "      <th>46</th>\n",
              "      <td>SPY250617C00602000</td>\n",
              "      <td>2025-06-10 13:43:39+00:00</td>\n",
              "      <td>602.0</td>\n",
              "      <td>3.94</td>\n",
              "      <td>3.91</td>\n",
              "      <td>3.95</td>\n",
              "      <td>0.23</td>\n",
              "      <td>6.199461</td>\n",
              "      <td>15.0</td>\n",
              "      <td>421</td>\n",
              "      <td>0.124459</td>\n",
              "      <td>False</td>\n",
              "      <td>REGULAR</td>\n",
              "      <td>USD</td>\n",
              "    </tr>\n",
              "  </tbody>\n",
              "</table>\n",
              "</div>\n",
              "    <div class=\"colab-df-buttons\">\n",
              "\n",
              "  <div class=\"colab-df-container\">\n",
              "    <button class=\"colab-df-convert\" onclick=\"convertToInteractive('df-a2b01180-a268-460d-b7bb-d6f05ad628b7')\"\n",
              "            title=\"Convert this dataframe to an interactive table.\"\n",
              "            style=\"display:none;\">\n",
              "\n",
              "  <svg xmlns=\"http://www.w3.org/2000/svg\" height=\"24px\" viewBox=\"0 -960 960 960\">\n",
              "    <path d=\"M120-120v-720h720v720H120Zm60-500h600v-160H180v160Zm220 220h160v-160H400v160Zm0 220h160v-160H400v160ZM180-400h160v-160H180v160Zm440 0h160v-160H620v160ZM180-180h160v-160H180v160Zm440 0h160v-160H620v160Z\"/>\n",
              "  </svg>\n",
              "    </button>\n",
              "\n",
              "  <style>\n",
              "    .colab-df-container {\n",
              "      display:flex;\n",
              "      gap: 12px;\n",
              "    }\n",
              "\n",
              "    .colab-df-convert {\n",
              "      background-color: #E8F0FE;\n",
              "      border: none;\n",
              "      border-radius: 50%;\n",
              "      cursor: pointer;\n",
              "      display: none;\n",
              "      fill: #1967D2;\n",
              "      height: 32px;\n",
              "      padding: 0 0 0 0;\n",
              "      width: 32px;\n",
              "    }\n",
              "\n",
              "    .colab-df-convert:hover {\n",
              "      background-color: #E2EBFA;\n",
              "      box-shadow: 0px 1px 2px rgba(60, 64, 67, 0.3), 0px 1px 3px 1px rgba(60, 64, 67, 0.15);\n",
              "      fill: #174EA6;\n",
              "    }\n",
              "\n",
              "    .colab-df-buttons div {\n",
              "      margin-bottom: 4px;\n",
              "    }\n",
              "\n",
              "    [theme=dark] .colab-df-convert {\n",
              "      background-color: #3B4455;\n",
              "      fill: #D2E3FC;\n",
              "    }\n",
              "\n",
              "    [theme=dark] .colab-df-convert:hover {\n",
              "      background-color: #434B5C;\n",
              "      box-shadow: 0px 1px 3px 1px rgba(0, 0, 0, 0.15);\n",
              "      filter: drop-shadow(0px 1px 2px rgba(0, 0, 0, 0.3));\n",
              "      fill: #FFFFFF;\n",
              "    }\n",
              "  </style>\n",
              "\n",
              "    <script>\n",
              "      const buttonEl =\n",
              "        document.querySelector('#df-a2b01180-a268-460d-b7bb-d6f05ad628b7 button.colab-df-convert');\n",
              "      buttonEl.style.display =\n",
              "        google.colab.kernel.accessAllowed ? 'block' : 'none';\n",
              "\n",
              "      async function convertToInteractive(key) {\n",
              "        const element = document.querySelector('#df-a2b01180-a268-460d-b7bb-d6f05ad628b7');\n",
              "        const dataTable =\n",
              "          await google.colab.kernel.invokeFunction('convertToInteractive',\n",
              "                                                    [key], {});\n",
              "        if (!dataTable) return;\n",
              "\n",
              "        const docLinkHtml = 'Like what you see? Visit the ' +\n",
              "          '<a target=\"_blank\" href=https://colab.research.google.com/notebooks/data_table.ipynb>data table notebook</a>'\n",
              "          + ' to learn more about interactive tables.';\n",
              "        element.innerHTML = '';\n",
              "        dataTable['output_type'] = 'display_data';\n",
              "        await google.colab.output.renderOutput(dataTable, element);\n",
              "        const docLink = document.createElement('div');\n",
              "        docLink.innerHTML = docLinkHtml;\n",
              "        element.appendChild(docLink);\n",
              "      }\n",
              "    </script>\n",
              "  </div>\n",
              "\n",
              "\n",
              "  <div id=\"id_4e03fa8f-b586-4393-8442-170402ee98ab\">\n",
              "    <style>\n",
              "      .colab-df-generate {\n",
              "        background-color: #E8F0FE;\n",
              "        border: none;\n",
              "        border-radius: 50%;\n",
              "        cursor: pointer;\n",
              "        display: none;\n",
              "        fill: #1967D2;\n",
              "        height: 32px;\n",
              "        padding: 0 0 0 0;\n",
              "        width: 32px;\n",
              "      }\n",
              "\n",
              "      .colab-df-generate:hover {\n",
              "        background-color: #E2EBFA;\n",
              "        box-shadow: 0px 1px 2px rgba(60, 64, 67, 0.3), 0px 1px 3px 1px rgba(60, 64, 67, 0.15);\n",
              "        fill: #174EA6;\n",
              "      }\n",
              "\n",
              "      [theme=dark] .colab-df-generate {\n",
              "        background-color: #3B4455;\n",
              "        fill: #D2E3FC;\n",
              "      }\n",
              "\n",
              "      [theme=dark] .colab-df-generate:hover {\n",
              "        background-color: #434B5C;\n",
              "        box-shadow: 0px 1px 3px 1px rgba(0, 0, 0, 0.15);\n",
              "        filter: drop-shadow(0px 1px 2px rgba(0, 0, 0, 0.3));\n",
              "        fill: #FFFFFF;\n",
              "      }\n",
              "    </style>\n",
              "    <button class=\"colab-df-generate\" onclick=\"generateWithVariable('option_det')\"\n",
              "            title=\"Generate code using this dataframe.\"\n",
              "            style=\"display:none;\">\n",
              "\n",
              "  <svg xmlns=\"http://www.w3.org/2000/svg\" height=\"24px\"viewBox=\"0 0 24 24\"\n",
              "       width=\"24px\">\n",
              "    <path d=\"M7,19H8.4L18.45,9,17,7.55,7,17.6ZM5,21V16.75L18.45,3.32a2,2,0,0,1,2.83,0l1.4,1.43a1.91,1.91,0,0,1,.58,1.4,1.91,1.91,0,0,1-.58,1.4L9.25,21ZM18.45,9,17,7.55Zm-12,3A5.31,5.31,0,0,0,4.9,8.1,5.31,5.31,0,0,0,1,6.5,5.31,5.31,0,0,0,4.9,4.9,5.31,5.31,0,0,0,6.5,1,5.31,5.31,0,0,0,8.1,4.9,5.31,5.31,0,0,0,12,6.5,5.46,5.46,0,0,0,6.5,12Z\"/>\n",
              "  </svg>\n",
              "    </button>\n",
              "    <script>\n",
              "      (() => {\n",
              "      const buttonEl =\n",
              "        document.querySelector('#id_4e03fa8f-b586-4393-8442-170402ee98ab button.colab-df-generate');\n",
              "      buttonEl.style.display =\n",
              "        google.colab.kernel.accessAllowed ? 'block' : 'none';\n",
              "\n",
              "      buttonEl.onclick = () => {\n",
              "        google.colab.notebook.generateWithVariable('option_det');\n",
              "      }\n",
              "      })();\n",
              "    </script>\n",
              "  </div>\n",
              "\n",
              "    </div>\n",
              "  </div>\n"
            ],
            "application/vnd.google.colaboratory.intrinsic+json": {
              "type": "dataframe",
              "variable_name": "option_det",
              "summary": "{\n  \"name\": \"option_det\",\n  \"rows\": 1,\n  \"fields\": [\n    {\n      \"column\": \"contractSymbol\",\n      \"properties\": {\n        \"dtype\": \"string\",\n        \"num_unique_values\": 1,\n        \"samples\": [\n          \"SPY250617C00602000\"\n        ],\n        \"semantic_type\": \"\",\n        \"description\": \"\"\n      }\n    },\n    {\n      \"column\": \"lastTradeDate\",\n      \"properties\": {\n        \"dtype\": \"date\",\n        \"min\": \"2025-06-10 13:43:39+00:00\",\n        \"max\": \"2025-06-10 13:43:39+00:00\",\n        \"num_unique_values\": 1,\n        \"samples\": [\n          \"2025-06-10 13:43:39+00:00\"\n        ],\n        \"semantic_type\": \"\",\n        \"description\": \"\"\n      }\n    },\n    {\n      \"column\": \"strike\",\n      \"properties\": {\n        \"dtype\": \"number\",\n        \"std\": null,\n        \"min\": 602.0,\n        \"max\": 602.0,\n        \"num_unique_values\": 1,\n        \"samples\": [\n          602.0\n        ],\n        \"semantic_type\": \"\",\n        \"description\": \"\"\n      }\n    },\n    {\n      \"column\": \"lastPrice\",\n      \"properties\": {\n        \"dtype\": \"number\",\n        \"std\": null,\n        \"min\": 3.94,\n        \"max\": 3.94,\n        \"num_unique_values\": 1,\n        \"samples\": [\n          3.94\n        ],\n        \"semantic_type\": \"\",\n        \"description\": \"\"\n      }\n    },\n    {\n      \"column\": \"bid\",\n      \"properties\": {\n        \"dtype\": \"number\",\n        \"std\": null,\n        \"min\": 3.91,\n        \"max\": 3.91,\n        \"num_unique_values\": 1,\n        \"samples\": [\n          3.91\n        ],\n        \"semantic_type\": \"\",\n        \"description\": \"\"\n      }\n    },\n    {\n      \"column\": \"ask\",\n      \"properties\": {\n        \"dtype\": \"number\",\n        \"std\": null,\n        \"min\": 3.95,\n        \"max\": 3.95,\n        \"num_unique_values\": 1,\n        \"samples\": [\n          3.95\n        ],\n        \"semantic_type\": \"\",\n        \"description\": \"\"\n      }\n    },\n    {\n      \"column\": \"change\",\n      \"properties\": {\n        \"dtype\": \"number\",\n        \"std\": null,\n        \"min\": 0.23000002,\n        \"max\": 0.23000002,\n        \"num_unique_values\": 1,\n        \"samples\": [\n          0.23000002\n        ],\n        \"semantic_type\": \"\",\n        \"description\": \"\"\n      }\n    },\n    {\n      \"column\": \"percentChange\",\n      \"properties\": {\n        \"dtype\": \"number\",\n        \"std\": null,\n        \"min\": 6.1994615,\n        \"max\": 6.1994615,\n        \"num_unique_values\": 1,\n        \"samples\": [\n          6.1994615\n        ],\n        \"semantic_type\": \"\",\n        \"description\": \"\"\n      }\n    },\n    {\n      \"column\": \"volume\",\n      \"properties\": {\n        \"dtype\": \"number\",\n        \"std\": null,\n        \"min\": 15.0,\n        \"max\": 15.0,\n        \"num_unique_values\": 1,\n        \"samples\": [\n          15.0\n        ],\n        \"semantic_type\": \"\",\n        \"description\": \"\"\n      }\n    },\n    {\n      \"column\": \"openInterest\",\n      \"properties\": {\n        \"dtype\": \"number\",\n        \"std\": null,\n        \"min\": 421,\n        \"max\": 421,\n        \"num_unique_values\": 1,\n        \"samples\": [\n          421\n        ],\n        \"semantic_type\": \"\",\n        \"description\": \"\"\n      }\n    },\n    {\n      \"column\": \"impliedVolatility\",\n      \"properties\": {\n        \"dtype\": \"number\",\n        \"std\": null,\n        \"min\": 0.12445943908691406,\n        \"max\": 0.12445943908691406,\n        \"num_unique_values\": 1,\n        \"samples\": [\n          0.12445943908691406\n        ],\n        \"semantic_type\": \"\",\n        \"description\": \"\"\n      }\n    },\n    {\n      \"column\": \"inTheMoney\",\n      \"properties\": {\n        \"dtype\": \"boolean\",\n        \"num_unique_values\": 1,\n        \"samples\": [\n          false\n        ],\n        \"semantic_type\": \"\",\n        \"description\": \"\"\n      }\n    },\n    {\n      \"column\": \"contractSize\",\n      \"properties\": {\n        \"dtype\": \"string\",\n        \"num_unique_values\": 1,\n        \"samples\": [\n          \"REGULAR\"\n        ],\n        \"semantic_type\": \"\",\n        \"description\": \"\"\n      }\n    },\n    {\n      \"column\": \"currency\",\n      \"properties\": {\n        \"dtype\": \"string\",\n        \"num_unique_values\": 1,\n        \"samples\": [\n          \"USD\"\n        ],\n        \"semantic_type\": \"\",\n        \"description\": \"\"\n      }\n    }\n  ]\n}"
            }
          },
          "metadata": {},
          "execution_count": 59
        }
      ]
    },
    {
      "cell_type": "code",
      "source": [
        "#Required Data\n",
        "S = current_price\n",
        "K = strike_price\n",
        "r = latest_rate\n",
        "q = dividend_rate\n",
        "sigma = annual_vol\n",
        "print(sigma)\n",
        "T=(float)(6/252)"
      ],
      "metadata": {
        "colab": {
          "base_uri": "https://localhost:8080/"
        },
        "id": "VJIJxVIkAb-o",
        "outputId": "6233d30b-99c1-4baa-c92c-d531522e3d3a"
      },
      "execution_count": 60,
      "outputs": [
        {
          "output_type": "stream",
          "name": "stdout",
          "text": [
            "0.16506664432433396\n"
          ]
        }
      ]
    },
    {
      "cell_type": "code",
      "source": [
        "d1=(np.log(S/K) + (r+(sigma**2)/2)*T) / (sigma*np.sqrt(T))\n",
        "d1"
      ],
      "metadata": {
        "colab": {
          "base_uri": "https://localhost:8080/"
        },
        "id": "-O9JKnTgAb11",
        "outputId": "e8b93ab2-76dd-4334-8c37-974ee608f675"
      },
      "execution_count": 61,
      "outputs": [
        {
          "output_type": "execute_result",
          "data": {
            "text/plain": [
              "np.float64(-0.012154608064558706)"
            ]
          },
          "metadata": {},
          "execution_count": 61
        }
      ]
    },
    {
      "cell_type": "code",
      "source": [
        "d2=d1-(sigma*np.sqrt(T))\n",
        "d2"
      ],
      "metadata": {
        "colab": {
          "base_uri": "https://localhost:8080/"
        },
        "id": "__wcguzeAb0L",
        "outputId": "70e3d251-2479-49cc-b7c8-b7fd8b8ae3c5"
      },
      "execution_count": 62,
      "outputs": [
        {
          "output_type": "execute_result",
          "data": {
            "text/plain": [
              "np.float64(-0.037624944250804565)"
            ]
          },
          "metadata": {},
          "execution_count": 62
        }
      ]
    },
    {
      "cell_type": "code",
      "source": [
        "from scipy.stats import norm"
      ],
      "metadata": {
        "id": "9WNt3SYwAbxm"
      },
      "execution_count": 63,
      "outputs": []
    },
    {
      "cell_type": "code",
      "source": [
        "model_price = S*norm.cdf(d1)*np.exp(-q*T)  - K*(np.exp(-r*T))*norm.cdf(d2)\n",
        "model_price"
      ],
      "metadata": {
        "colab": {
          "base_uri": "https://localhost:8080/"
        },
        "id": "QcE6f_BGAbvn",
        "outputId": "d695f3a0-f797-447e-e931-a03d8dfe33d9"
      },
      "execution_count": 64,
      "outputs": [
        {
          "output_type": "execute_result",
          "data": {
            "text/plain": [
              "np.float64(5.835594699280307)"
            ]
          },
          "metadata": {},
          "execution_count": 64
        }
      ]
    },
    {
      "cell_type": "markdown",
      "source": [
        "## **Conclusion**"
      ],
      "metadata": {
        "id": "PV0QY1X2Hxkz"
      }
    },
    {
      "cell_type": "markdown",
      "source": [
        "So Modeled Option's Price = $6.19\n",
        "\n",
        "Whereas the actual price = $4.61\n",
        "\n",
        "As (Actual < Modeled) an asset is underprices(good for the buyer)\n",
        "\n",
        "And The value of price is same unlike the binomial model where the modeled price got more and more finer as N increased."
      ],
      "metadata": {
        "id": "1gkzJUaoH5QB"
      }
    },
    {
      "cell_type": "code",
      "source": [
        "strike_price=int(current_price)+1\n",
        "option_det=puts[puts['strike']==strike_price]\n",
        "option_det"
      ],
      "metadata": {
        "colab": {
          "base_uri": "https://localhost:8080/",
          "height": 118
        },
        "id": "LmBj9H4IAbti",
        "outputId": "4f35d4d5-7e93-49c3-fddd-8f5377ff654c"
      },
      "execution_count": 65,
      "outputs": [
        {
          "output_type": "execute_result",
          "data": {
            "text/plain": [
              "        contractSymbol             lastTradeDate  strike  lastPrice   bid  \\\n",
              "76  SPY250617P00602000 2025-06-10 13:43:49+00:00   602.0       5.07  5.03   \n",
              "\n",
              "     ask  change  percentChange  volume  openInterest  impliedVolatility  \\\n",
              "76  5.06    -0.6     -10.582009    18.0           166           0.128183   \n",
              "\n",
              "    inTheMoney contractSize currency  \n",
              "76        True      REGULAR      USD  "
            ],
            "text/html": [
              "\n",
              "  <div id=\"df-c25ca4de-14a8-4a48-a808-7d2cccf8b1a4\" class=\"colab-df-container\">\n",
              "    <div>\n",
              "<style scoped>\n",
              "    .dataframe tbody tr th:only-of-type {\n",
              "        vertical-align: middle;\n",
              "    }\n",
              "\n",
              "    .dataframe tbody tr th {\n",
              "        vertical-align: top;\n",
              "    }\n",
              "\n",
              "    .dataframe thead th {\n",
              "        text-align: right;\n",
              "    }\n",
              "</style>\n",
              "<table border=\"1\" class=\"dataframe\">\n",
              "  <thead>\n",
              "    <tr style=\"text-align: right;\">\n",
              "      <th></th>\n",
              "      <th>contractSymbol</th>\n",
              "      <th>lastTradeDate</th>\n",
              "      <th>strike</th>\n",
              "      <th>lastPrice</th>\n",
              "      <th>bid</th>\n",
              "      <th>ask</th>\n",
              "      <th>change</th>\n",
              "      <th>percentChange</th>\n",
              "      <th>volume</th>\n",
              "      <th>openInterest</th>\n",
              "      <th>impliedVolatility</th>\n",
              "      <th>inTheMoney</th>\n",
              "      <th>contractSize</th>\n",
              "      <th>currency</th>\n",
              "    </tr>\n",
              "  </thead>\n",
              "  <tbody>\n",
              "    <tr>\n",
              "      <th>76</th>\n",
              "      <td>SPY250617P00602000</td>\n",
              "      <td>2025-06-10 13:43:49+00:00</td>\n",
              "      <td>602.0</td>\n",
              "      <td>5.07</td>\n",
              "      <td>5.03</td>\n",
              "      <td>5.06</td>\n",
              "      <td>-0.6</td>\n",
              "      <td>-10.582009</td>\n",
              "      <td>18.0</td>\n",
              "      <td>166</td>\n",
              "      <td>0.128183</td>\n",
              "      <td>True</td>\n",
              "      <td>REGULAR</td>\n",
              "      <td>USD</td>\n",
              "    </tr>\n",
              "  </tbody>\n",
              "</table>\n",
              "</div>\n",
              "    <div class=\"colab-df-buttons\">\n",
              "\n",
              "  <div class=\"colab-df-container\">\n",
              "    <button class=\"colab-df-convert\" onclick=\"convertToInteractive('df-c25ca4de-14a8-4a48-a808-7d2cccf8b1a4')\"\n",
              "            title=\"Convert this dataframe to an interactive table.\"\n",
              "            style=\"display:none;\">\n",
              "\n",
              "  <svg xmlns=\"http://www.w3.org/2000/svg\" height=\"24px\" viewBox=\"0 -960 960 960\">\n",
              "    <path d=\"M120-120v-720h720v720H120Zm60-500h600v-160H180v160Zm220 220h160v-160H400v160Zm0 220h160v-160H400v160ZM180-400h160v-160H180v160Zm440 0h160v-160H620v160ZM180-180h160v-160H180v160Zm440 0h160v-160H620v160Z\"/>\n",
              "  </svg>\n",
              "    </button>\n",
              "\n",
              "  <style>\n",
              "    .colab-df-container {\n",
              "      display:flex;\n",
              "      gap: 12px;\n",
              "    }\n",
              "\n",
              "    .colab-df-convert {\n",
              "      background-color: #E8F0FE;\n",
              "      border: none;\n",
              "      border-radius: 50%;\n",
              "      cursor: pointer;\n",
              "      display: none;\n",
              "      fill: #1967D2;\n",
              "      height: 32px;\n",
              "      padding: 0 0 0 0;\n",
              "      width: 32px;\n",
              "    }\n",
              "\n",
              "    .colab-df-convert:hover {\n",
              "      background-color: #E2EBFA;\n",
              "      box-shadow: 0px 1px 2px rgba(60, 64, 67, 0.3), 0px 1px 3px 1px rgba(60, 64, 67, 0.15);\n",
              "      fill: #174EA6;\n",
              "    }\n",
              "\n",
              "    .colab-df-buttons div {\n",
              "      margin-bottom: 4px;\n",
              "    }\n",
              "\n",
              "    [theme=dark] .colab-df-convert {\n",
              "      background-color: #3B4455;\n",
              "      fill: #D2E3FC;\n",
              "    }\n",
              "\n",
              "    [theme=dark] .colab-df-convert:hover {\n",
              "      background-color: #434B5C;\n",
              "      box-shadow: 0px 1px 3px 1px rgba(0, 0, 0, 0.15);\n",
              "      filter: drop-shadow(0px 1px 2px rgba(0, 0, 0, 0.3));\n",
              "      fill: #FFFFFF;\n",
              "    }\n",
              "  </style>\n",
              "\n",
              "    <script>\n",
              "      const buttonEl =\n",
              "        document.querySelector('#df-c25ca4de-14a8-4a48-a808-7d2cccf8b1a4 button.colab-df-convert');\n",
              "      buttonEl.style.display =\n",
              "        google.colab.kernel.accessAllowed ? 'block' : 'none';\n",
              "\n",
              "      async function convertToInteractive(key) {\n",
              "        const element = document.querySelector('#df-c25ca4de-14a8-4a48-a808-7d2cccf8b1a4');\n",
              "        const dataTable =\n",
              "          await google.colab.kernel.invokeFunction('convertToInteractive',\n",
              "                                                    [key], {});\n",
              "        if (!dataTable) return;\n",
              "\n",
              "        const docLinkHtml = 'Like what you see? Visit the ' +\n",
              "          '<a target=\"_blank\" href=https://colab.research.google.com/notebooks/data_table.ipynb>data table notebook</a>'\n",
              "          + ' to learn more about interactive tables.';\n",
              "        element.innerHTML = '';\n",
              "        dataTable['output_type'] = 'display_data';\n",
              "        await google.colab.output.renderOutput(dataTable, element);\n",
              "        const docLink = document.createElement('div');\n",
              "        docLink.innerHTML = docLinkHtml;\n",
              "        element.appendChild(docLink);\n",
              "      }\n",
              "    </script>\n",
              "  </div>\n",
              "\n",
              "\n",
              "  <div id=\"id_235e4853-da48-4b3f-a512-a6baaf1b1d74\">\n",
              "    <style>\n",
              "      .colab-df-generate {\n",
              "        background-color: #E8F0FE;\n",
              "        border: none;\n",
              "        border-radius: 50%;\n",
              "        cursor: pointer;\n",
              "        display: none;\n",
              "        fill: #1967D2;\n",
              "        height: 32px;\n",
              "        padding: 0 0 0 0;\n",
              "        width: 32px;\n",
              "      }\n",
              "\n",
              "      .colab-df-generate:hover {\n",
              "        background-color: #E2EBFA;\n",
              "        box-shadow: 0px 1px 2px rgba(60, 64, 67, 0.3), 0px 1px 3px 1px rgba(60, 64, 67, 0.15);\n",
              "        fill: #174EA6;\n",
              "      }\n",
              "\n",
              "      [theme=dark] .colab-df-generate {\n",
              "        background-color: #3B4455;\n",
              "        fill: #D2E3FC;\n",
              "      }\n",
              "\n",
              "      [theme=dark] .colab-df-generate:hover {\n",
              "        background-color: #434B5C;\n",
              "        box-shadow: 0px 1px 3px 1px rgba(0, 0, 0, 0.15);\n",
              "        filter: drop-shadow(0px 1px 2px rgba(0, 0, 0, 0.3));\n",
              "        fill: #FFFFFF;\n",
              "      }\n",
              "    </style>\n",
              "    <button class=\"colab-df-generate\" onclick=\"generateWithVariable('option_det')\"\n",
              "            title=\"Generate code using this dataframe.\"\n",
              "            style=\"display:none;\">\n",
              "\n",
              "  <svg xmlns=\"http://www.w3.org/2000/svg\" height=\"24px\"viewBox=\"0 0 24 24\"\n",
              "       width=\"24px\">\n",
              "    <path d=\"M7,19H8.4L18.45,9,17,7.55,7,17.6ZM5,21V16.75L18.45,3.32a2,2,0,0,1,2.83,0l1.4,1.43a1.91,1.91,0,0,1,.58,1.4,1.91,1.91,0,0,1-.58,1.4L9.25,21ZM18.45,9,17,7.55Zm-12,3A5.31,5.31,0,0,0,4.9,8.1,5.31,5.31,0,0,0,1,6.5,5.31,5.31,0,0,0,4.9,4.9,5.31,5.31,0,0,0,6.5,1,5.31,5.31,0,0,0,8.1,4.9,5.31,5.31,0,0,0,12,6.5,5.46,5.46,0,0,0,6.5,12Z\"/>\n",
              "  </svg>\n",
              "    </button>\n",
              "    <script>\n",
              "      (() => {\n",
              "      const buttonEl =\n",
              "        document.querySelector('#id_235e4853-da48-4b3f-a512-a6baaf1b1d74 button.colab-df-generate');\n",
              "      buttonEl.style.display =\n",
              "        google.colab.kernel.accessAllowed ? 'block' : 'none';\n",
              "\n",
              "      buttonEl.onclick = () => {\n",
              "        google.colab.notebook.generateWithVariable('option_det');\n",
              "      }\n",
              "      })();\n",
              "    </script>\n",
              "  </div>\n",
              "\n",
              "    </div>\n",
              "  </div>\n"
            ],
            "application/vnd.google.colaboratory.intrinsic+json": {
              "type": "dataframe",
              "variable_name": "option_det",
              "summary": "{\n  \"name\": \"option_det\",\n  \"rows\": 1,\n  \"fields\": [\n    {\n      \"column\": \"contractSymbol\",\n      \"properties\": {\n        \"dtype\": \"string\",\n        \"num_unique_values\": 1,\n        \"samples\": [\n          \"SPY250617P00602000\"\n        ],\n        \"semantic_type\": \"\",\n        \"description\": \"\"\n      }\n    },\n    {\n      \"column\": \"lastTradeDate\",\n      \"properties\": {\n        \"dtype\": \"date\",\n        \"min\": \"2025-06-10 13:43:49+00:00\",\n        \"max\": \"2025-06-10 13:43:49+00:00\",\n        \"num_unique_values\": 1,\n        \"samples\": [\n          \"2025-06-10 13:43:49+00:00\"\n        ],\n        \"semantic_type\": \"\",\n        \"description\": \"\"\n      }\n    },\n    {\n      \"column\": \"strike\",\n      \"properties\": {\n        \"dtype\": \"number\",\n        \"std\": null,\n        \"min\": 602.0,\n        \"max\": 602.0,\n        \"num_unique_values\": 1,\n        \"samples\": [\n          602.0\n        ],\n        \"semantic_type\": \"\",\n        \"description\": \"\"\n      }\n    },\n    {\n      \"column\": \"lastPrice\",\n      \"properties\": {\n        \"dtype\": \"number\",\n        \"std\": null,\n        \"min\": 5.07,\n        \"max\": 5.07,\n        \"num_unique_values\": 1,\n        \"samples\": [\n          5.07\n        ],\n        \"semantic_type\": \"\",\n        \"description\": \"\"\n      }\n    },\n    {\n      \"column\": \"bid\",\n      \"properties\": {\n        \"dtype\": \"number\",\n        \"std\": null,\n        \"min\": 5.03,\n        \"max\": 5.03,\n        \"num_unique_values\": 1,\n        \"samples\": [\n          5.03\n        ],\n        \"semantic_type\": \"\",\n        \"description\": \"\"\n      }\n    },\n    {\n      \"column\": \"ask\",\n      \"properties\": {\n        \"dtype\": \"number\",\n        \"std\": null,\n        \"min\": 5.06,\n        \"max\": 5.06,\n        \"num_unique_values\": 1,\n        \"samples\": [\n          5.06\n        ],\n        \"semantic_type\": \"\",\n        \"description\": \"\"\n      }\n    },\n    {\n      \"column\": \"change\",\n      \"properties\": {\n        \"dtype\": \"number\",\n        \"std\": null,\n        \"min\": -0.5999999,\n        \"max\": -0.5999999,\n        \"num_unique_values\": 1,\n        \"samples\": [\n          -0.5999999\n        ],\n        \"semantic_type\": \"\",\n        \"description\": \"\"\n      }\n    },\n    {\n      \"column\": \"percentChange\",\n      \"properties\": {\n        \"dtype\": \"number\",\n        \"std\": null,\n        \"min\": -10.582009,\n        \"max\": -10.582009,\n        \"num_unique_values\": 1,\n        \"samples\": [\n          -10.582009\n        ],\n        \"semantic_type\": \"\",\n        \"description\": \"\"\n      }\n    },\n    {\n      \"column\": \"volume\",\n      \"properties\": {\n        \"dtype\": \"number\",\n        \"std\": null,\n        \"min\": 18.0,\n        \"max\": 18.0,\n        \"num_unique_values\": 1,\n        \"samples\": [\n          18.0\n        ],\n        \"semantic_type\": \"\",\n        \"description\": \"\"\n      }\n    },\n    {\n      \"column\": \"openInterest\",\n      \"properties\": {\n        \"dtype\": \"number\",\n        \"std\": null,\n        \"min\": 166,\n        \"max\": 166,\n        \"num_unique_values\": 1,\n        \"samples\": [\n          166\n        ],\n        \"semantic_type\": \"\",\n        \"description\": \"\"\n      }\n    },\n    {\n      \"column\": \"impliedVolatility\",\n      \"properties\": {\n        \"dtype\": \"number\",\n        \"std\": null,\n        \"min\": 0.12818254638671872,\n        \"max\": 0.12818254638671872,\n        \"num_unique_values\": 1,\n        \"samples\": [\n          0.12818254638671872\n        ],\n        \"semantic_type\": \"\",\n        \"description\": \"\"\n      }\n    },\n    {\n      \"column\": \"inTheMoney\",\n      \"properties\": {\n        \"dtype\": \"boolean\",\n        \"num_unique_values\": 1,\n        \"samples\": [\n          true\n        ],\n        \"semantic_type\": \"\",\n        \"description\": \"\"\n      }\n    },\n    {\n      \"column\": \"contractSize\",\n      \"properties\": {\n        \"dtype\": \"string\",\n        \"num_unique_values\": 1,\n        \"samples\": [\n          \"REGULAR\"\n        ],\n        \"semantic_type\": \"\",\n        \"description\": \"\"\n      }\n    },\n    {\n      \"column\": \"currency\",\n      \"properties\": {\n        \"dtype\": \"string\",\n        \"num_unique_values\": 1,\n        \"samples\": [\n          \"USD\"\n        ],\n        \"semantic_type\": \"\",\n        \"description\": \"\"\n      }\n    }\n  ]\n}"
            }
          },
          "metadata": {},
          "execution_count": 65
        }
      ]
    },
    {
      "cell_type": "code",
      "source": [
        "#Required Data\n",
        "S = current_price\n",
        "K = strike_price\n",
        "r = latest_rate\n",
        "q = dividend_rate\n",
        "sigma = annual_vol\n",
        "print(sigma)\n",
        "T=(float)(6/252)"
      ],
      "metadata": {
        "colab": {
          "base_uri": "https://localhost:8080/"
        },
        "id": "CFh8eObNAbra",
        "outputId": "b29822df-30a7-4e89-cb94-79022f440a6b"
      },
      "execution_count": 66,
      "outputs": [
        {
          "output_type": "stream",
          "name": "stdout",
          "text": [
            "0.16506664432433396\n"
          ]
        }
      ]
    },
    {
      "cell_type": "code",
      "source": [
        "d1=(np.log(S/K) + (r+(sigma**2)/2)*T) / (sigma*np.sqrt(T))\n",
        "d1"
      ],
      "metadata": {
        "colab": {
          "base_uri": "https://localhost:8080/"
        },
        "id": "HAnFgsfrAbpA",
        "outputId": "aec9e96b-2c4f-46fb-a990-34048cee844f"
      },
      "execution_count": 67,
      "outputs": [
        {
          "output_type": "execute_result",
          "data": {
            "text/plain": [
              "np.float64(-0.012154608064558706)"
            ]
          },
          "metadata": {},
          "execution_count": 67
        }
      ]
    },
    {
      "cell_type": "code",
      "source": [
        "d2=d1-(sigma*np.sqrt(T))\n",
        "d2"
      ],
      "metadata": {
        "colab": {
          "base_uri": "https://localhost:8080/"
        },
        "id": "uCLSOvZNAbmv",
        "outputId": "32df767b-9841-4899-e850-116afbf3d8e1"
      },
      "execution_count": 68,
      "outputs": [
        {
          "output_type": "execute_result",
          "data": {
            "text/plain": [
              "np.float64(-0.037624944250804565)"
            ]
          },
          "metadata": {},
          "execution_count": 68
        }
      ]
    },
    {
      "cell_type": "code",
      "source": [
        "model_price = K*(np.exp(-r*T))*norm.cdf(-d2) - S*np.exp(-q*T)*norm.cdf(-d1)\n",
        "model_price"
      ],
      "metadata": {
        "colab": {
          "base_uri": "https://localhost:8080/"
        },
        "id": "QnInG8UsAblo",
        "outputId": "dba9eec2-18d6-4c30-955e-288822260f27"
      },
      "execution_count": 69,
      "outputs": [
        {
          "output_type": "execute_result",
          "data": {
            "text/plain": [
              "np.float64(6.387345006774808)"
            ]
          },
          "metadata": {},
          "execution_count": 69
        }
      ]
    },
    {
      "cell_type": "markdown",
      "source": [
        "## ***Conclusion***"
      ],
      "metadata": {
        "id": "XPX0CJTBIiM9"
      }
    },
    {
      "cell_type": "markdown",
      "source": [
        "So Modeled Option's Price = $6.01\n",
        "\n",
        "Whereas the actual price = $4.71\n",
        "\n",
        "As (Actual < Modeled) an asset is underprices(good for the buyer)\n",
        "\n",
        "And The value of price is same unlike the binomial model where the modeled price got more and more finer as N increased."
      ],
      "metadata": {
        "id": "qp-1XaJlIjk7"
      }
    },
    {
      "cell_type": "code",
      "execution_count": 69,
      "metadata": {
        "id": "k9P4XpHBAH7r"
      },
      "outputs": [],
      "source": []
    }
  ]
}