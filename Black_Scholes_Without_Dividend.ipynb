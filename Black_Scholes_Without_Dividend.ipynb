{
  "nbformat": 4,
  "nbformat_minor": 0,
  "metadata": {
    "colab": {
      "provenance": []
    },
    "kernelspec": {
      "name": "python3",
      "display_name": "Python 3"
    },
    "language_info": {
      "name": "python"
    }
  },
  "cells": [
    {
      "cell_type": "markdown",
      "source": [
        "# **Without Dividend**"
      ],
      "metadata": {
        "id": "_MskA-97BTDq"
      }
    },
    {
      "cell_type": "code",
      "source": [
        "import yfinance as yf\n",
        "import pandas as pd"
      ],
      "metadata": {
        "id": "xz9RwYg7Rlmz"
      },
      "execution_count": 25,
      "outputs": []
    },
    {
      "cell_type": "code",
      "source": [
        "ticker=yf.Ticker('SPY')"
      ],
      "metadata": {
        "id": "bMU3osNGRlrE"
      },
      "execution_count": 26,
      "outputs": []
    },
    {
      "cell_type": "code",
      "source": [
        "current_price=ticker.history(period='1d').Close.values[0]"
      ],
      "metadata": {
        "id": "gFnw9ScRaqod"
      },
      "execution_count": 27,
      "outputs": []
    },
    {
      "cell_type": "code",
      "source": [
        "current_date=pd.Timestamp.now()\n",
        "maturity_date=current_date+pd.DateOffset(days=7)\n",
        "maturity_date"
      ],
      "metadata": {
        "colab": {
          "base_uri": "https://localhost:8080/"
        },
        "id": "Vqw-8SrXxQ-o",
        "outputId": "1d58acc0-b1f4-4dbc-90cc-2d8d34618476"
      },
      "execution_count": 28,
      "outputs": [
        {
          "output_type": "execute_result",
          "data": {
            "text/plain": [
              "Timestamp('2025-06-17 14:17:50.094731')"
            ]
          },
          "metadata": {},
          "execution_count": 28
        }
      ]
    },
    {
      "cell_type": "code",
      "source": [
        "opt_chain = ticker.option_chain(maturity_date.strftime(\"%Y-%m-%d\"))\n",
        "calls = opt_chain.calls\n",
        "puts = opt_chain.puts"
      ],
      "metadata": {
        "id": "AHO5kUOLRluK"
      },
      "execution_count": 29,
      "outputs": []
    },
    {
      "cell_type": "code",
      "source": [
        "end_date=pd.Timestamp.now()\n",
        "start_date=end_date-pd.DateOffset(years=2)\n",
        "df=yf.download('SPY',start_date,end_date)"
      ],
      "metadata": {
        "colab": {
          "base_uri": "https://localhost:8080/"
        },
        "id": "wgCi7OF7RlzS",
        "outputId": "a12cff21-050c-47f7-82cc-9aa4a6a8ac4f"
      },
      "execution_count": 30,
      "outputs": [
        {
          "output_type": "stream",
          "name": "stderr",
          "text": [
            "\r[*********************100%***********************]  1 of 1 completed\n"
          ]
        }
      ]
    },
    {
      "cell_type": "code",
      "source": [
        "spy=df['Close']\n",
        "spy.head(2)"
      ],
      "metadata": {
        "colab": {
          "base_uri": "https://localhost:8080/",
          "height": 143
        },
        "id": "Nu4TmXkPRl4t",
        "outputId": "47dcca21-8a5a-48fe-d6c9-939edde0ce5f"
      },
      "execution_count": 31,
      "outputs": [
        {
          "output_type": "execute_result",
          "data": {
            "text/plain": [
              "Ticker             SPY\n",
              "Date                  \n",
              "2023-06-12  422.233765\n",
              "2023-06-13  425.017517"
            ],
            "text/html": [
              "\n",
              "  <div id=\"df-4013ecfb-c86f-4d2c-87f0-6a19dc432096\" class=\"colab-df-container\">\n",
              "    <div>\n",
              "<style scoped>\n",
              "    .dataframe tbody tr th:only-of-type {\n",
              "        vertical-align: middle;\n",
              "    }\n",
              "\n",
              "    .dataframe tbody tr th {\n",
              "        vertical-align: top;\n",
              "    }\n",
              "\n",
              "    .dataframe thead th {\n",
              "        text-align: right;\n",
              "    }\n",
              "</style>\n",
              "<table border=\"1\" class=\"dataframe\">\n",
              "  <thead>\n",
              "    <tr style=\"text-align: right;\">\n",
              "      <th>Ticker</th>\n",
              "      <th>SPY</th>\n",
              "    </tr>\n",
              "    <tr>\n",
              "      <th>Date</th>\n",
              "      <th></th>\n",
              "    </tr>\n",
              "  </thead>\n",
              "  <tbody>\n",
              "    <tr>\n",
              "      <th>2023-06-12</th>\n",
              "      <td>422.233765</td>\n",
              "    </tr>\n",
              "    <tr>\n",
              "      <th>2023-06-13</th>\n",
              "      <td>425.017517</td>\n",
              "    </tr>\n",
              "  </tbody>\n",
              "</table>\n",
              "</div>\n",
              "    <div class=\"colab-df-buttons\">\n",
              "\n",
              "  <div class=\"colab-df-container\">\n",
              "    <button class=\"colab-df-convert\" onclick=\"convertToInteractive('df-4013ecfb-c86f-4d2c-87f0-6a19dc432096')\"\n",
              "            title=\"Convert this dataframe to an interactive table.\"\n",
              "            style=\"display:none;\">\n",
              "\n",
              "  <svg xmlns=\"http://www.w3.org/2000/svg\" height=\"24px\" viewBox=\"0 -960 960 960\">\n",
              "    <path d=\"M120-120v-720h720v720H120Zm60-500h600v-160H180v160Zm220 220h160v-160H400v160Zm0 220h160v-160H400v160ZM180-400h160v-160H180v160Zm440 0h160v-160H620v160ZM180-180h160v-160H180v160Zm440 0h160v-160H620v160Z\"/>\n",
              "  </svg>\n",
              "    </button>\n",
              "\n",
              "  <style>\n",
              "    .colab-df-container {\n",
              "      display:flex;\n",
              "      gap: 12px;\n",
              "    }\n",
              "\n",
              "    .colab-df-convert {\n",
              "      background-color: #E8F0FE;\n",
              "      border: none;\n",
              "      border-radius: 50%;\n",
              "      cursor: pointer;\n",
              "      display: none;\n",
              "      fill: #1967D2;\n",
              "      height: 32px;\n",
              "      padding: 0 0 0 0;\n",
              "      width: 32px;\n",
              "    }\n",
              "\n",
              "    .colab-df-convert:hover {\n",
              "      background-color: #E2EBFA;\n",
              "      box-shadow: 0px 1px 2px rgba(60, 64, 67, 0.3), 0px 1px 3px 1px rgba(60, 64, 67, 0.15);\n",
              "      fill: #174EA6;\n",
              "    }\n",
              "\n",
              "    .colab-df-buttons div {\n",
              "      margin-bottom: 4px;\n",
              "    }\n",
              "\n",
              "    [theme=dark] .colab-df-convert {\n",
              "      background-color: #3B4455;\n",
              "      fill: #D2E3FC;\n",
              "    }\n",
              "\n",
              "    [theme=dark] .colab-df-convert:hover {\n",
              "      background-color: #434B5C;\n",
              "      box-shadow: 0px 1px 3px 1px rgba(0, 0, 0, 0.15);\n",
              "      filter: drop-shadow(0px 1px 2px rgba(0, 0, 0, 0.3));\n",
              "      fill: #FFFFFF;\n",
              "    }\n",
              "  </style>\n",
              "\n",
              "    <script>\n",
              "      const buttonEl =\n",
              "        document.querySelector('#df-4013ecfb-c86f-4d2c-87f0-6a19dc432096 button.colab-df-convert');\n",
              "      buttonEl.style.display =\n",
              "        google.colab.kernel.accessAllowed ? 'block' : 'none';\n",
              "\n",
              "      async function convertToInteractive(key) {\n",
              "        const element = document.querySelector('#df-4013ecfb-c86f-4d2c-87f0-6a19dc432096');\n",
              "        const dataTable =\n",
              "          await google.colab.kernel.invokeFunction('convertToInteractive',\n",
              "                                                    [key], {});\n",
              "        if (!dataTable) return;\n",
              "\n",
              "        const docLinkHtml = 'Like what you see? Visit the ' +\n",
              "          '<a target=\"_blank\" href=https://colab.research.google.com/notebooks/data_table.ipynb>data table notebook</a>'\n",
              "          + ' to learn more about interactive tables.';\n",
              "        element.innerHTML = '';\n",
              "        dataTable['output_type'] = 'display_data';\n",
              "        await google.colab.output.renderOutput(dataTable, element);\n",
              "        const docLink = document.createElement('div');\n",
              "        docLink.innerHTML = docLinkHtml;\n",
              "        element.appendChild(docLink);\n",
              "      }\n",
              "    </script>\n",
              "  </div>\n",
              "\n",
              "\n",
              "    <div id=\"df-fb215033-906b-4a70-ba4d-eb57c5a6e200\">\n",
              "      <button class=\"colab-df-quickchart\" onclick=\"quickchart('df-fb215033-906b-4a70-ba4d-eb57c5a6e200')\"\n",
              "                title=\"Suggest charts\"\n",
              "                style=\"display:none;\">\n",
              "\n",
              "<svg xmlns=\"http://www.w3.org/2000/svg\" height=\"24px\"viewBox=\"0 0 24 24\"\n",
              "     width=\"24px\">\n",
              "    <g>\n",
              "        <path d=\"M19 3H5c-1.1 0-2 .9-2 2v14c0 1.1.9 2 2 2h14c1.1 0 2-.9 2-2V5c0-1.1-.9-2-2-2zM9 17H7v-7h2v7zm4 0h-2V7h2v10zm4 0h-2v-4h2v4z\"/>\n",
              "    </g>\n",
              "</svg>\n",
              "      </button>\n",
              "\n",
              "<style>\n",
              "  .colab-df-quickchart {\n",
              "      --bg-color: #E8F0FE;\n",
              "      --fill-color: #1967D2;\n",
              "      --hover-bg-color: #E2EBFA;\n",
              "      --hover-fill-color: #174EA6;\n",
              "      --disabled-fill-color: #AAA;\n",
              "      --disabled-bg-color: #DDD;\n",
              "  }\n",
              "\n",
              "  [theme=dark] .colab-df-quickchart {\n",
              "      --bg-color: #3B4455;\n",
              "      --fill-color: #D2E3FC;\n",
              "      --hover-bg-color: #434B5C;\n",
              "      --hover-fill-color: #FFFFFF;\n",
              "      --disabled-bg-color: #3B4455;\n",
              "      --disabled-fill-color: #666;\n",
              "  }\n",
              "\n",
              "  .colab-df-quickchart {\n",
              "    background-color: var(--bg-color);\n",
              "    border: none;\n",
              "    border-radius: 50%;\n",
              "    cursor: pointer;\n",
              "    display: none;\n",
              "    fill: var(--fill-color);\n",
              "    height: 32px;\n",
              "    padding: 0;\n",
              "    width: 32px;\n",
              "  }\n",
              "\n",
              "  .colab-df-quickchart:hover {\n",
              "    background-color: var(--hover-bg-color);\n",
              "    box-shadow: 0 1px 2px rgba(60, 64, 67, 0.3), 0 1px 3px 1px rgba(60, 64, 67, 0.15);\n",
              "    fill: var(--button-hover-fill-color);\n",
              "  }\n",
              "\n",
              "  .colab-df-quickchart-complete:disabled,\n",
              "  .colab-df-quickchart-complete:disabled:hover {\n",
              "    background-color: var(--disabled-bg-color);\n",
              "    fill: var(--disabled-fill-color);\n",
              "    box-shadow: none;\n",
              "  }\n",
              "\n",
              "  .colab-df-spinner {\n",
              "    border: 2px solid var(--fill-color);\n",
              "    border-color: transparent;\n",
              "    border-bottom-color: var(--fill-color);\n",
              "    animation:\n",
              "      spin 1s steps(1) infinite;\n",
              "  }\n",
              "\n",
              "  @keyframes spin {\n",
              "    0% {\n",
              "      border-color: transparent;\n",
              "      border-bottom-color: var(--fill-color);\n",
              "      border-left-color: var(--fill-color);\n",
              "    }\n",
              "    20% {\n",
              "      border-color: transparent;\n",
              "      border-left-color: var(--fill-color);\n",
              "      border-top-color: var(--fill-color);\n",
              "    }\n",
              "    30% {\n",
              "      border-color: transparent;\n",
              "      border-left-color: var(--fill-color);\n",
              "      border-top-color: var(--fill-color);\n",
              "      border-right-color: var(--fill-color);\n",
              "    }\n",
              "    40% {\n",
              "      border-color: transparent;\n",
              "      border-right-color: var(--fill-color);\n",
              "      border-top-color: var(--fill-color);\n",
              "    }\n",
              "    60% {\n",
              "      border-color: transparent;\n",
              "      border-right-color: var(--fill-color);\n",
              "    }\n",
              "    80% {\n",
              "      border-color: transparent;\n",
              "      border-right-color: var(--fill-color);\n",
              "      border-bottom-color: var(--fill-color);\n",
              "    }\n",
              "    90% {\n",
              "      border-color: transparent;\n",
              "      border-bottom-color: var(--fill-color);\n",
              "    }\n",
              "  }\n",
              "</style>\n",
              "\n",
              "      <script>\n",
              "        async function quickchart(key) {\n",
              "          const quickchartButtonEl =\n",
              "            document.querySelector('#' + key + ' button');\n",
              "          quickchartButtonEl.disabled = true;  // To prevent multiple clicks.\n",
              "          quickchartButtonEl.classList.add('colab-df-spinner');\n",
              "          try {\n",
              "            const charts = await google.colab.kernel.invokeFunction(\n",
              "                'suggestCharts', [key], {});\n",
              "          } catch (error) {\n",
              "            console.error('Error during call to suggestCharts:', error);\n",
              "          }\n",
              "          quickchartButtonEl.classList.remove('colab-df-spinner');\n",
              "          quickchartButtonEl.classList.add('colab-df-quickchart-complete');\n",
              "        }\n",
              "        (() => {\n",
              "          let quickchartButtonEl =\n",
              "            document.querySelector('#df-fb215033-906b-4a70-ba4d-eb57c5a6e200 button');\n",
              "          quickchartButtonEl.style.display =\n",
              "            google.colab.kernel.accessAllowed ? 'block' : 'none';\n",
              "        })();\n",
              "      </script>\n",
              "    </div>\n",
              "\n",
              "    </div>\n",
              "  </div>\n"
            ],
            "application/vnd.google.colaboratory.intrinsic+json": {
              "type": "dataframe",
              "variable_name": "spy",
              "summary": "{\n  \"name\": \"spy\",\n  \"rows\": 501,\n  \"fields\": [\n    {\n      \"column\": \"Date\",\n      \"properties\": {\n        \"dtype\": \"date\",\n        \"min\": \"2023-06-12 00:00:00\",\n        \"max\": \"2025-06-10 00:00:00\",\n        \"num_unique_values\": 501,\n        \"samples\": [\n          \"2024-11-18 00:00:00\",\n          \"2023-09-26 00:00:00\",\n          \"2024-12-06 00:00:00\"\n        ],\n        \"semantic_type\": \"\",\n        \"description\": \"\"\n      }\n    },\n    {\n      \"column\": \"SPY\",\n      \"properties\": {\n        \"dtype\": \"number\",\n        \"std\": 61.24601311299367,\n        \"min\": 402.6302795410156,\n        \"max\": 611.0916748046875,\n        \"num_unique_values\": 499,\n        \"samples\": [\n          537.6099853515625,\n          420.12060546875,\n          523.1220092773438\n        ],\n        \"semantic_type\": \"\",\n        \"description\": \"\"\n      }\n    }\n  ]\n}"
            }
          },
          "metadata": {},
          "execution_count": 31
        }
      ]
    },
    {
      "cell_type": "code",
      "source": [
        "vol = df['Close'].pct_change().std()\n",
        "vol=vol[-1]"
      ],
      "metadata": {
        "id": "jickL_XoRl7Z",
        "colab": {
          "base_uri": "https://localhost:8080/"
        },
        "outputId": "646c02a6-87df-4582-cff5-e7c01c1880c4"
      },
      "execution_count": 32,
      "outputs": [
        {
          "output_type": "stream",
          "name": "stderr",
          "text": [
            "<ipython-input-32-2e26a25f0062>:2: FutureWarning: Series.__getitem__ treating keys as positions is deprecated. In a future version, integer keys will always be treated as labels (consistent with DataFrame behavior). To access a value by position, use `ser.iloc[pos]`\n",
            "  vol=vol[-1]\n"
          ]
        }
      ]
    },
    {
      "cell_type": "code",
      "source": [
        "import numpy as np\n",
        "import math\n",
        "annual_vol=vol*np.sqrt(252)\n",
        "annual_vol"
      ],
      "metadata": {
        "colab": {
          "base_uri": "https://localhost:8080/"
        },
        "id": "YVD39K_9nZNJ",
        "outputId": "b409da5e-f1e2-481a-9dd4-ab03ad2a0128"
      },
      "execution_count": 33,
      "outputs": [
        {
          "output_type": "execute_result",
          "data": {
            "text/plain": [
              "np.float64(0.16506692070826784)"
            ]
          },
          "metadata": {},
          "execution_count": 33
        }
      ]
    },
    {
      "cell_type": "code",
      "source": [
        "!pip install fredapi"
      ],
      "metadata": {
        "id": "gw-nrh5ERl94",
        "colab": {
          "base_uri": "https://localhost:8080/"
        },
        "outputId": "8ee08fde-9f6a-4fe2-cab9-7980e791f70d"
      },
      "execution_count": 34,
      "outputs": [
        {
          "output_type": "stream",
          "name": "stdout",
          "text": [
            "Requirement already satisfied: fredapi in /usr/local/lib/python3.11/dist-packages (0.5.2)\n",
            "Requirement already satisfied: pandas in /usr/local/lib/python3.11/dist-packages (from fredapi) (2.2.2)\n",
            "Requirement already satisfied: numpy>=1.23.2 in /usr/local/lib/python3.11/dist-packages (from pandas->fredapi) (2.0.2)\n",
            "Requirement already satisfied: python-dateutil>=2.8.2 in /usr/local/lib/python3.11/dist-packages (from pandas->fredapi) (2.9.0.post0)\n",
            "Requirement already satisfied: pytz>=2020.1 in /usr/local/lib/python3.11/dist-packages (from pandas->fredapi) (2025.2)\n",
            "Requirement already satisfied: tzdata>=2022.7 in /usr/local/lib/python3.11/dist-packages (from pandas->fredapi) (2025.2)\n",
            "Requirement already satisfied: six>=1.5 in /usr/local/lib/python3.11/dist-packages (from python-dateutil>=2.8.2->pandas->fredapi) (1.17.0)\n"
          ]
        }
      ]
    },
    {
      "cell_type": "code",
      "source": [
        "from fredapi import Fred\n",
        "fred = Fred(api_key='0f20831928a8c94e2df17df8fdefe2e6')\n",
        "latest_rate=((fred.get_series('TB3MS'))[-1])/100\n",
        "latest_rate"
      ],
      "metadata": {
        "id": "-DaDw2C1RmA7",
        "colab": {
          "base_uri": "https://localhost:8080/"
        },
        "outputId": "6e9ee7a1-5a9a-42fa-c9fc-6ba2f2632112"
      },
      "execution_count": 35,
      "outputs": [
        {
          "output_type": "stream",
          "name": "stderr",
          "text": [
            "<ipython-input-35-f8554fc235bc>:3: FutureWarning: Series.__getitem__ treating keys as positions is deprecated. In a future version, integer keys will always be treated as labels (consistent with DataFrame behavior). To access a value by position, use `ser.iloc[pos]`\n",
            "  latest_rate=((fred.get_series('TB3MS'))[-1])/100\n"
          ]
        },
        {
          "output_type": "execute_result",
          "data": {
            "text/plain": [
              "np.float64(0.0425)"
            ]
          },
          "metadata": {},
          "execution_count": 35
        }
      ]
    },
    {
      "cell_type": "markdown",
      "source": [
        "![image.png](data:image/png;base64,iVBORw0KGgoAAAANSUhEUgAAAyoAAAG2CAYAAACQ8nLWAAAAAXNSR0IArs4c6QAAAARnQU1BAACxjwv8YQUAAAAJcEhZcwAAFxEAABcRAcom8z8AAP+lSURBVHhe7J0FeNXK08bh4u5ygYu7u7u7Q3F3d3d3d3d3dy0Oxd2KFWgLpS11ee8zc5o2J02OtKcG+/u+/V+aE9lsNpuZ3ZFoECjwB+BnZqFjIhJjdVarn9YxavtGRuT1l9dZ2h5V7kOJ2j0pn5GyqO1rrE3U2k9tmxbyfSMLWvWXt5V8X9+AEpmR19Octpa3hVqbhBdq9dAqavXTeqYCgUAg+BuIptwgoI9hSEpEoKyDuUUpJEglKiCvv7zO0vaoch+E2jOR118p0CmLsePV2kS5r1oxhKn7hTdq9ZK3laH9IiPmPBM5yuPMPd5S0DXV+qqyDyv7p9rxar8LBAKB4E9GKCpRGlM/4FqCganHR0a0BBhpe1S6J+XzUNZf+ZspxVibaPWJP5E//f4iM8beU60+q7af2u8CgUAg+JMRikqUxtQPuJpQYExAiOzI70lte1S6J+XzUNbf2PNTK2rHq23TOuZP4k+/v8iMsffUlP5n7HeBQCAQ/KkIRSXKY+rHm/YzVKIiWnVX2xbZULa/sihR/m5KUR6vxND+fxJ/wz1GZrTa39T+Z+x3gUAgEPypCEVFIIgQSPASM8UCgUAgEAgEWghFRSCIEOSKikAgEAgEAoFAiVBUBAKBQCAQCAQCQaRDKCoCgUAQhfD3F6aCAoFAIPg7EIqKQCAQRCGEoiIQCASCvwWhqAgEAkE4IZQMgUAgEAhMRygqAoFAEMkhBUcoOQKBQCD42whzRUVEwBcIoiLKHBfiTQ4pvr6+8PXxUW4WCAQCgUBghDBVVJTijZgRFAiiCvSuKjOHi5wv5uLq6oYTJ07g5MmTePr0CV6/fo3Ll6/g4MGDOHDgAG8/d+4crK2v4tWrV3B3dxPjpEAgEAgEAZitqJjzCdWJOv78fwKBICohFJXQ4OfnD+dfLrh06Qratm2Hvn37Ytu2bdi0aRMaNWqMihUrokmTJmjfvj2srFqhQ4eOmDdvHu7fvw9PT0/l6QQCgUAg+CsxqKiQgqFTNJTbDYsrkoIiEIQdWoJ0VBGo5fWP7HUVaKG2+kGbXJzdsG3bLjRt2hyzZ8/GtWvX8ObNG+zatQtFixbDoEGDcPv2LVy6dAlTpkxD585d0alTZ1ZW7Oy+BDufIPKg9swFAoFAEDYYUVR0CgeJUsrthoZqY78Lwp8/7+P6pygqvlGgrmHPn9Q/aTXl8yc77Ny5F9OmzcSjR4/4/tx+/8b+/ftRvERxrFq1KnD/R48e49Sp09i1azeOHTuGnz9/6p0vqvMnPVviT7sfgUAgiMwYVVQkcUptuxrSb1q/CyKGP+/j+qcoKlGhruHDn9JH/fz88PnzZ7x69RY/fjjBz1c3gn78+BGLFi1C0WJFsXbtWuVhfJy3t/cf0w4S4n4EAoFAEFIMKiqEzsPE+MAsV1DCUlHRiXem1EhgmLB6WurnDL5FHVP306G8B6lYRvhXr4va/RnbFvwsOrS2C8IKQ0/DHHx8fODp5QVvHx+90YiEWA8PD7j9doOnp5fe1a5evQorKysUK1YM27dvD9wefgT1R2M9M+wIXofIjbylqEiTC0HorA7EN0kgEAjCAqOKiqkoh/Ow+gjpPhWW+Sj83TNj0kc3lG2gerj60w++JTim7GMYy9yX+lmkrUqk7fLf1Lb9mdB7FFXeJalnhra2th9scffeXbx++4ZXQSSoHT5+/KBqvrV3715WUpo2bcqRvsKfoD4Z2vsPGfLrRyVFRXqP5SUIoagIBAJB2BHN2MfC0G8S8o+/WlHuFxp0n43I+VHw8/XF9+/f8eDBA1y4cAFnzpzBrVu38O7dO/z+/Vu5O8/Ienl5sclH+OMPP38fuLq5wNHRAfb29nB0dISb22/4+ZtXn98uv/Hhwye8f2+Ln79+wdPbCx6eHvjp9BP2jo6w/+GAXy7O8PYlfwzjuLl74s2bt7h37x63p6+vOTko1Hoe8OvXLzx+/JhDwx47egw7duzEuvXrsGnTRjx79lR2tP5ss/Js3j5eePP2NW7euolnz57Bzc0t4BelAKN2dNSBhG+XX84scOuiUAXcg78/ryZQe9o7OMDdwwO+fkH35+fjCxdnF7i4uAY+b/rVx9cXbu5u+PHzJ/cFL29znqmybUNOSJ6G/CnSasnz58+xa+8erF67Fjv37MGBQ4ewd+8+7Ny5C7t378GJEyfx6dMnvXPQ+7948WLky5cP48aN474TUqj9f/xwxNdvX/n5uLl5wNvbF76+fvD1N6SEBN0J7efq9pufB73zXl4e8PT0gIeHG1xcnPn8zq4unAPGVDw8PGHv4AjHHz/0lDd9gp6Adj2DcHVxhc3de1i/fj0WLlyIpUuXYvny5Vi3bh0ePnyo3F0P6jFa16D6vXv/Hvds7nHI6KBIa8oeQv+W+p+8JwRh6DoCgUAgCB0GFRXpN1NEBLXzyId13XlCr2BY6jyWxsnJCffu3mXb8+HDh6N3797o378/pk+fjg0bNuDIkSOstLx8+QLv37/D06dPceXqVbx9+zaCwpH6w9vXE5/sPuL+AxtcunyJHXlPnz2N23dv4cs3/chDhvjyxQ6XLl7mfBE3b93C7bt3cOHSRZw+ewY3bt3Ek2dP8dnui0n3+fXbN1hbX8fWrdu53Uig0xZ6TIdmuXfu3IEJ4yagedMWyJc3P1KlTIkcObJj8+bNgftJfUvev+T9183THZeuXMbKVSuxceNGXL58GY6O9rI9/wxcXV3x5s1r3Llzh1cO7t9/gAcP7rPySEr42TNncPfePTg4/oSvT9AI4eXuic8fP+PFy1d4+vwF7j9+iFt3buHcxQs4ceokLl+9ipev38L1t7ve9QjtVRk6PwnMpoxEYYNUM3sHe6xftw6DBg9Fv4GDMGDIUHTs0hUtW7XhCF+dOnbG9u07+Z2QIGGf3veBAwfyisqWLVvh4OAQ+LshlG3CTvlubnjy9AkuXr6Ey1eu4Pr1W7h9+x5u3b6Dp8+fcR81BtWJfGauX7+O69escfPmdVy7dhWXLl3AhQvncOvObXz49BHunh7w03wuQXyzt8eduza4cvUanj17id+/JQU+dHy1+4p1a9ajZIlSiBs3LmLEiIE4ceIgd57cHOpZi6BVDvW6//Zww9Ub17Bh4wbs3LkTd+7chqurc8Cv8hFA9+YLdUQgEAgihmiGhl/5EG0IaVhXnke+Xe33kKCrk9bnJ/yhD/7Xr1+xZ88eNGzYkGdMq1evjrFjx/Is4Jo1a1hxqVGjBkqVKoUGDRqgQ4cOaNasGRo1asSJ30iAVwokYQ21oKePTlG5a3MHu3bvxqAhg1GlejWUr1weU6ZNZqHMlFqRw/CTJ885Z8SKlSvRpn1bVK1RHcNGjGDh9OOnj7p7NLBy5OdHgtMnzJs3H/369cfSpctZuKPZXl3TmFITbZydf3GOCpr57tWrD7JmzYoECeOjUqUKOHrsaOB+an1Vvs3H3w+/nH/hxcsX2LFzByuk27dtxY8f9vDzC71CFVmgFQCaaT569Cj6D+yPOvXqoGbtmqheoxpKly6FYcOG4fbt23D86RS0ouLvz0ql008nnD1/DqPGjkHdBvVQtnw5FC1RDA0aNsSq1avw8PET/HbzUF7SAJZTVKifUV+klRFDhVYXaD9avWDTtoDjv379hjlz56F1m3aoXbc+6jVshKnTZmL3nv04cPAwjh45hrdv3wf4p+igVVNK7ti4cWNUrlyZV1rd3Y0rE1pQ/V69fsXv1rLlyzF06DBYWbVGrdp1MHjoULx8/cqockH39PbNW2zZshkDBvRD+/Zt0apVc1hZtcDQYUNw8vQp2H3/Cg8vw2MTrZR9+WaHZSuWY9z4Cdizdz8+ffoCH7NWzLRxc3XD7ds2mDtvAUqUKIlo0aIhXrx4aNeuHaytrZW7B2JMUfHx84OzqzOePnvG+W1GjhyJ48ePwsPDHf68oiwdR/81rqgYaiOBQCAQhJxoaoO5XFBT/haeSIO/rj7STHfY1ke6d1Ov8uLFC8yfPx8VKlRAkiRJOIEbKR8082xra4tXr17iypUrbLZAykq6dOmQIEECpE2bFnXr1sX58+fD1fRL7k/g6+cLVzdX2Dva4/mLF9i9dzeKFC/GwkCJkiWwYdNGfLeXVgu08fb2gdtvd7x//x7jJ0xA5qxZkK9AfjaD+fT5I5v8GOPFi5cYNmw4mjdvgblz5+HJkycKcwwpjK+pT0YfMh+jVYLPX+ywZ+8+1G9YH9lzZsP8BfPw4eOHwP1Mff4+fr54/vIFlq9YgXbt22HSpIn49OkDC+t/AiSgk5L48OED1GtQD7HixEKMmDGQOHFiFrj37N7D5oJkvii/Y3o/SUjeum0bihYvhnjx4yFpsqRo3bo1duzcCZv79+Hg+IMFXNMx5YkYh0wzv3z8jEMHD/FqGK2k0az85k2bsWnjRt5Gf2/ZsoWF14MHD/F7TP1G4pezM/bu24+WVq1RsXIVVhJuXL+BHz+d4OTkDCenX/Dx0b83UvpWrFiBKlWqsH+KjY1NqARbGi+cnZ15AoBWt8iUrGjRoogTNy5Kly2LsxfOsemlMVxdXXDN2hpDhw5BhfLlUKJEMbRr1xZ79+3Dh48f4ebhzoqdIUgpGjtuPNq274BFS5bixcuXbAIW8rvTh0I9u7j8xpfPdjyBQWNTqlSp+DmR+aEWpvYYL29PHmsWLVqIbt27YtmyJXBx0Z3X1HMIBAKBIOxgRUVu7mKqoBYeyD/m4VUvU69DwgJ9KFcsX8FCAikgtEpCid3UIMGCVl3I9IM+thkzZsSSJUt4NSYikd+n3bfvqFuvHtcvadKkaNKsGW7dvi3bwzA/f/5Ax46dkCtXbgwePBiOJpq3kJIyffoMVK1ajYUu8gHQRz6jbuzJaENH/vjpjC1bt6Nq9aooVaYELltf0ssUZOrzJ8jO3/bDB/Tp2weVK1fE6lUr8e3bN+VuURryVaDVFOoTVP7NkA7r1m9ggVwLMgOiVcRkyZIhb9486Nq1q8HZ7/DC19sXb16+waIFizF82HAMHzGCZ9JHjxyFUSNGcJ3p7xH87xGYPm0mjh07jp8/nQLP4ezqyqsG9eo3ROOmTXnFycVZMhlSh/rE5MmTeTVlwIAB7LNmKcivjFZFypYtqxtXsmTCtBnT8eFDkPJtiB+ODli/dh2qVavGStSevXvhIlPMtKBvBinqM2bNRPmKlTB67Dg8eRpyvxtD0AqH069fGDR4CN9j5syZNcfZkECr4uS/1qVzJ1SvXhXbtm5h/zrClHFAIBAIBGFHNF/4BcaAkQtpkW2ADq96mXodmmU9ffo0atWqhdixY7O5F9nzG3I+Jdvyjh07sp11iRIlOBFcZIHu97PdN9SpU5eFgejRoyN7zhw4eOSQyc715EBcsmRJ1KxZk2dqvb2CzF+0IDMW8uMhZW/YsKFs7hW4khaoqFpGUfHy9sbNW3fQokVLxI0bB+UrlmOzNzl0drVVRi1oZeDcubNo27Y1m5EdOXIY7h4hN+uJbNCqSbUa1bhP/PPPPyhWogTOXbik3C2Qb9+/Y8u2rahSrSr7/0yePIkVz9CsIFgMf8DR/gdOnzzNfiK0ckJhgslHgcqOHTu40PY1a9Zh29btuH3zNjt0S3z6ZIfx4yeifPkKGDJkCK8i0kqNFrQyRSaHXbt2Qe3atbF69Wr8+PFDuVuIIWf63bt382rNPzH+QZx41K8rmCzIuzj/woF9+1G7Vi2MHTcWzi6GlS4Jx58/MHX6NBQoXAidu3Vlf6WwesY0Rpw5dwb16tdHzFixULFiRVYsLAmZLO7atRO1a9dA6dIlcfbcOX52AoFAIIhYAky/9AV0aZVFjnzlRQB2gq9bry4SJkqIhAkTolWrVvj06aNyNybQ1MrXl01AypQpw7OX5AMQIajI+x6eXrh77z6qVKkaOHuePGVyrFyzCk6/aHbR8JMnJYxs7/PlzY1OHdvj86ePRs1GyCTm6LFjqFq9BooXL46TJ0/C3YiZmNRHQwKtgC1YuBB58+VFwkQJ0LR5E7x89UK5m9nXcHL6ibVrV7HpDPlhnLtw/o94U2jVkMxiypUrF7jK1qFjRzx+8iRwH7lSSc7XCxYuRqVqVdCyVStWAt68ofC9xhXWQMK42ch34uePn7zKoStfObKcVKTtX+zs8O3rN4585htgykWC6717NujevQevnpKpGJnHGcLFxQVr16xB+fLleZKC2tMUBd5U7Oy+YtmyFahXrwHSpv030DTq0KFDyl1VcXCwZzMq8vkgfzpTlI3fv11ZsStbrhxKly7Nq2WeHsZNzUIKKWPjx49D5qyZkT1XTsyaM5uflWXxZzPVmbNnIEee7GjXsQOsr183uUOa0m4CgUAgMJ9obFMerOgUEwn6V5CiIgZkggQOMt8iwYBMXEgIsbMLivSjBikq9FEfP348xowZwz4sEYLkGyrjm70DNm3eivr1GyJ58pR8X3HixkHvvr1w5+5tthU3BJmazJw5E/ny5cH48WPh6WFY4SDe2b5Hr769kSHjf2jatAlHQzOGpEQYro0+0r52X7+iWfNmiBsvLjJlyYQRo4bji91nxd4h45r1FTRoWA8ZMmTA0BHD8fzlc/iGo+9RWECrKatWrULOnDm5P+TIkQOrVq5UjVh1z+Y+Ro8Zi1p16qF9x47Yt38/mzv+SZAD/Jkzp9GoUUOMHjWKI9IZE1Cprfr164s8uXNzAALOr2LkGHN4/eo1O9B36NQJZQIUypgxY2LQoEE8Rukcw7WhCZeJEyfyeEShu41BQQKuXbuO1q3bsBnrxAkT2NdFh+XuKwh/ntBp0qQJ4idMiKrVq+P8xQvw9DIeQdB8/HHi1HEUL1UcWbJnZRM6u6+Gx3SBQCAQhC0c9UtSTCRFRFJMJISiEhwyZ6EIXyQYUBQaivj16tUr5W560Aw17UOOupQHIML8GVQk/UePn2DQkGEYM2YcrKxaIWnSZIgWPRoKFirAITyNcffuXXTq1AkNGzbA7t07lT8Hg2zr16xbg7z58yFz5kwYO3YM53MxhZD2QHL8JRMzemZly5XFwUMH4RIoZIUOcqSfOXM6MmbKyIEElq1cAW+z8r9EPp4/f4YuXTrzSgq1Ga16UThbuXkjmQpdu34Dw4aPQpVqNdBvwCBcunQVvwPzy0RWqBepRRJTeTkCoNWLlStXoWHDRmweZixstq+PDx7ev4/6DeojW/bs7PtCCr0lTYpsbO5xYIix48dh3PjxyJo1O2LFio2CBQuykql2LfndUbAAWk1ZsGABbG3fy35R54vdF0yeMhXZc+TkyYUrV69wDhYd6u0WGigIBpnUVqhYAfHix4dV69Z49kLpw2Y5njx9jJ59erHPYfkK5bFz1y6jyqhAIBAIwg7OTK81EMtXWCQkpUX9CH3ovBS5iZxNHe0d4Oz0C95ehj/uEY0kphi7P5qJrFevHsf2JyEub968OLB/P5t6aEHtQfk8KN8ImWaQo3JYofVM1aBkcafPnkfTZi1w8tRpHDp8BOXKVwj0SyAnY7IT18TfH6dOnUK9enU5ApopK0U3bt5A8ZLF2a6+StUq2LNntyx5YsghIZrCwVJ9aQac8kBQKFIvXz9cuXYdefLqlEsy1VNbGVBD3ie0+ge1NwlUJCCSgmfVygo/fzmZ9RwiA/La3r9/Dw0a1EP8+PHYZ4n8ICRHcD8/Hzg5/WBb/kaNmqF0mQqYPHUGPn3+Aj9fpfAfPlBbu7v/hpubC4eZNeQvJo1kwZ+kNHWj3E7t8QADBgzCoEFDcPPmTeXPevj7+ePD+/dYuWIFm87RalTv3r04V4mbm7azuqn9hfugvz9H+CpWojjWrl2DR48eY+jQEUiZMjVPNNDKrZtKGGRpEoqUmFOnT6FWnTocXtiUiYLb9+6ies2aSJo8KXr16Y03b99qtLPUvqb3BXpvaQyQK4C07eKlSyhWsjgrzH369MHnz8ZXQY1NrKm9wwQlI91/8ADy5svHY1/btm3h+vu36r4CgUAgCHvMVlRoeNca5OXQR5BC91ICRIqkM2XyFMyYNoOFeXK6Vv+4RTzSvRm7PzLhoISE5BTPqyrx47G99vHjx5W7BkLtTOYwL1++ZGdQY/bt4YWj40/sP3AIPXr25qRxlK164YJF7HtD90aBAigZpFbCRgossHbdOpQsVZITW1LoXkPQeXbv2Y1UaVLx+YcOGcrRz0LbJ+i8Fy5cxOpVazBjxkyOIDZvwQJcv3UbL9++w+Jly5ExYyY2jaFknOQjYwryPmGof5ApEIWpZsU1X16sXb8ODo5hp4yGBdJ9UV+9evUKKlWqyAJbhv/+w+jRowOVu+vXrmHQoIGoV78euvfsg63bduLN23eaY4mpaLWtKTx59Agzpk7DsMFDMHP6dJ4QIMd1dfMnuoqaQqKtqJAiMHv2XBw+fJTN4rSgJqBJmUP7D6Bdm7aoV7cuGjSozyZgO3duh6OjZfwrPn3+jEVLFqFCxfI88eHu7oFt23YgR45crFhSvibb9+/h76t/L5KiQuPQlClTUKd+PezZtwfuRhJFUiSsLdu3Ikv2bEiRKgWmTJsKJ+dfGs9cq32DQ89HF71sC/cxiqRGCXQJWsFZunwZMmXOjOw5smPu3Lk68zkjhFRRodDalKC2UuXK/B6XLF2K/egoLLVAIBAIwh9VRUUa3LUGe2mQl7bq/eoLvH35Ghs3bESf3n3RoGEjdO/RA/MXLEDnzl3Q0qoVpkyejLPnzhpcfYgolPemBZkkUGbnvn37IkHCBPxRo9K8eXNcunRJ1eSCIPMvmvUlhSW0grll8Mer1284ZO/sOfPw7IXOufya9TUULlyYhfr//vsP48aNheMPnZCqbBs7SoI3Zy7KlCkLa2tdtCHlPnJISRs6bCjnk6E2mz1njnIXs/jt6srZtadPm8YRvSpXropy5cqjVKnSKFO2PIYMH4EZc+aidv0GSJwkMQczoOhOWoqXEnmfMNQ/Ptp+wMABA5AiRUokTJwYHTt3jriACSFEui9KeEj5gGhmmZ5RlapVceLkCV5FuXDhPLp374YyZUujd58+OHX6LH7JImOFBq22VYMEXDJXIqd2ihzXr29fVKpQESWLFUexokV5xXPmrFm4e/cez4orjtYQpLUVlW/fvuPGjVuws/sGXwOrRjSeurq44PpVayxbtgybN23Crl27uT3JdC4oA3rouHHzOvr06cmrXhcvXeRtpKhLiRErVKyIUxSgQvXewfmdOnfpjBYtW+DCpQvBxnklFOWQFNP4CRKwY/uqVSvh66c+zmm3bxD0/lFwgiVLlmLEiJFo0aIF6tath969+7ACReaxi5YsRoNGDRE3fjxUrVaVJ4JMSZYpGTFr3ZOhfka5o6gOSRInQfr/0mPg4EF4Z4L/nD6GRgqBQCAQmAorKoSkrPB/df/Pg7yamZd8CJb/Rs7K1pesMWncJBQpWBRFChfnWfqz587jw6dPGD5iJP7LlAkpU6dCm7Zt8PpN5BPilPemvEc5JCjt37+fcxBQyGESDihUMSXEu3r1qpHoPlpnDX8uXbqMmbPmYPeeffgSkNfl5auXGDhwICemjB07Jlq3boW3714H9gZ57W3IkXr0WHTq1IVnnY2xa9cuXn0iJShm7JhYsHCBcheToQAGhw8dRK8ePVCwQH5UqVwZVq1aoVev3ujbrz9atWmPTl27o16jxkiSLAWHbx06bBgntFMq6Fpo9QPl386/KFfOPhQrVpxntGvWro3b9+4E289cqJ6m1tVS0ErE6lWrkS59ekSLHh29+vThbOhXrlxCw4b1UaxYETYtev/uHSvcQeME/a9OQNX9K2zqTWaTtOIzZ/ZMVKpcEQULFWI/McpTMmL4cF4FTJQoEdKkTYuBg4bgzl0bvcSqWs/UEPQM6F5NfRZshujtzaZMNHFBRTc5YdrxhqCx58CBfWjatBGGDBmMx491kdjI56RRo0Zskpo+QwZMGD9eM0LWiRPHYWXVkidbHjx4oPw5GFOnTuXVtRj//IMSJYpj167tyl1Mhsy3aMVryJChKFq0BEqVLoO+fftj0aIlGDp0OMqVLYcCBQqgQMGCvHpD5pQ9evbQhYO2QJAKQ8/e2dUF69ZtQJEixRAnbjxUrVEN9+7fVe5mADozPWc1HyiBQCAQmEOgokIoBSKtj7l8u/Qbmf8sX7ESVatUQ/o06VEoXyHORWBr+xFe3j5w+OGE3n37IVny5CzQZ8maBXfumj7408eJ7JVpFs5ShQQHpdChvDe1+5fj4e7OuRH+/VcXGpRKnDhxWFigqDuW+KiGJSROrl23Hm3atcfps2cDTRx+/XJiEwxyoKZ7Klu2DC5fvhiYI0TeJpRxvHWbdli1eq1BkxgJmkFNly4DYsSOxTOzmzZvVu5iEmQesnLVKpQrWxZlSpfErJkz2CTp44cPbEpGKz1v3tri8pVr6Nt/IGLHiYckSZNxeFMnE/NFEFr9QPk3RUS6desOqlWrzm1WsHAhHD121LB/jwJlf5S2qW0PS96//4DJk6cidZq0SJo0BWbNnsM+OB07dkD69P+ycGyvEIB1NQxakaC/w0JRoXFg3759qF27JnLlzMkCLDk9P37yGF+/fWXzNJqNp75L7+J/mTJj+YpVcJetoGk906iCp4c7lixZiFq1q3PuHhp/ife27zB69Cj8918GVparVq3KJrj6UH/yxaZNG1CnTi32K6N3xhC0ikEmvNSvY8WKhbp16+DkSW0zV0PQSjo579NkBT0jSq559twFfP5iB2dnF/ZxW7d2LWrUrIFEiRIidpzYiJ8oAWbMnGmx8dTQsyfl8tKlK6hduy6iRf8HBQsXxtkLZ+CjuXqkhM4sFBWBQCCwBNF0A3bQkC2JGdIMqbFCfPjwEfPmzkeZ0mWQNk1a1K1VF3t27sb3b0GCDNkg9+jRE8kDFBUS7G/dkhxStT4ZOiiPwbMnLzB+/AR2bmzfvn2oCp2jW7dunDeA8jzIUd6f/D61IJ8b+vBmy5YtUFlJkjQJ51q4eFFnkhFZ8fLx5uzSderVY0FUynlBztKv37zhcL40i5o1a1bMoIzXH3W5YuRtMn/+Ak7wd+zECaNmGZ6e3pgxYxYSJ06KJEmSo2OnLrh565ZyN6OQKcaM6dPYjKtQwUIsnL19+0bV5O7qVWu0atUGsWPFQfoM6bFi1QpWKkzBHAWBnMhfvXqLli1bcx/Ilj0bNm/ZHGhvHx6YU19DXL56hTOvJ0iYGImTJEf5CpVRq1Yd7gctWjTHuXPnlIcEEPTWmPLumMtPRyesWb2W61KmTDmMGjWKkxtS5nI5FNyhTp067GeVJWs2rNuwQS9ctFa9tOqstk2NoONNHT1Cxnf775g2YxqaNm/KEyIS5Pd2/uJ5fi+oD2bPkYMnAn7K+qC/nx9cnJ0wc9Z0VK1SSWdOZSCQBSkHpDz06tWLz0mrNRSM4sqVy8pdjfLq5WuMHTMOhQoV5twy8+bO49UgDw/999H2gy3GThiHf9P/i8RJkqB4qZKcuyU8IB+7hw+f8JgRLVp0tgLYvXc3fit8Cg0/Ydpq2PRNIBAIBMYJpqjohld/6DLW6w/GagPzt+/2WLtmHQrmL4AkiRKjetXqOLj3AEe9kUOznO3btWfTKPrYUVKyW7cooRZheNbJy9sXF89fRqFCRQIVAUuU2nVq48KFC3rXUt6n8n61IPMKMo0gQU5+DVKMjEUIiijIcfTt+3cYNGQwGjdtEhjRSYIcZQcNHoyUKVNyCGYycbtnY8O/sVmgnx8/1+EjhqNGrRq4efuWwdwhJET/+unMIZBjxoyDVKn+xaw58/Dx0yflrgax+/YVy1YsQ85cOZAoUWJ07tyZwyOrQb5EUi4QMjUrVKgQCzymCvSm7ifx+bMdunXriRgxYyFdhvTsf/PZzPuLSHT93R/rN23AfxkzIk6cuChRogxy5y3E/Zn+pmSlyvcmPCDTukP7D6NihSrIli0nmw1pZb3ftm0rmw4lTpwYrdu0hrUJmdrpLEETNEHnNHUM0B0v7Rs05WNp6H5JuR89dhyGjxwRLNeH/Q8HNG/Rgp8XJW3t0q0rnj4PCulLYZO/2X3G6JHDUaVyRaNmX7SCRfmfaOKFzkljQYcOHXHz5g3lrgb59OETZs2YjfTpMiBv3vyYNWsWBwRQw9PHCytWr0K2HDmQ+t+06N23D27fuaPcLUygcfHly1fo3KkrokX7BylTpeTAGGQOKWHOt0EgEAgEIScwM32QiCJfUVFfVZFwdXPH7t37UK1KNcSPFw9lSpXGtk1b4OEWfFadIrWMHD4CxYsVQ548uVG9ejU8fvww4FfDw72vrz8ePXyKXr36cJKx/Pnzo0CBkBc6vkiRIujatSt/gOUo71V5z1qQ0E73SLkS0qRJE6io0IwuCdIkUFnKbMFSePt4cy6RVq1boU+f3sGi6dCqw4aNG1GmrG52NkWKFNh/4AB8AoIAkEkTRQNr3batznH8rf7qlI6g1iP7fHJEphCvdL7UqdNi8ZJl+KZhQ6+G0y9nrFu/AWXKlkWCBAlRoUJ5HDiwXzOnhYe7Gyfao1UhErDad2jPM/Bhxdfv9ujZqw/ixI3LZo60cvfoodTPtfHz9eV7kIqPT9C/5YWERiq08qXbJv1bUby8+JzmQhMUrm6/MWnKZDYdSpgwEaZOm4kZM+eicJESiBkzLptTDRs+nLOaG0sEainonilIRfNmLdhssGWLVpygUJ74jwR46sP3H9xH5y5dEC9eAp6537lrJxxlQqYhWAGXjYnmjAG6/fTHU9OPNh1aNVy1eg369huAHTt3sbmUHMphQ0kc06dPj5hxYqJEyRK4eDlo9YP6x+tXLzB61Ei0aN6CQ60bgkIGk3IvRbSLHz8+j5137txW7qrJr1+/sGrVap5sSps2HaZNm8Y+ihQ6XAm11m93NyxcuhgZs2TmKGNr1q6FgwlmpUrUlFhjUI3evHmLbt16IPo/MZEsRXIsWbYUX2V5r8LmyQoEAoFASYCiQsOtZFMbNPQaGozpA/Dg4SP06t2HhXGauVwwbz7sv6oLnfRxpVCZDx7cx927t/HkySOzwvO6uXvg7dt3ePjwIWxsbHD/fsiL7vj7nHxRmT1bKV5o3b8WtCpBYXElEzcqtHrUr18/k+L/hyceHm5YsGAeJ2mcOnVKoJ27BD1jWjEZNUpnm06rYWSn/jzA5p32p1nR2rXrYOTI0SoJLKnlguaYaXXjzZt36Nq1O58vbdp/sXbtOjj9NM00SiesXkaTJs0RJ048ZMuWFZs3b2R/GjXoqh8/fUSXrl0CnwM58muFJQ6JUCMhHenw0xF9+/dH/AQJEStWHJQsVRrnzmqZSekgBZYEOTKvIWdh+i/l26HkgPJt9F8yVaR+S/8lAfPNm9f8b12hf+v+pv1JsDNXOaYklaRw9u3fj9ssWbJkOHL0GL58/Y758xeycknbixQtgpWrV8Dpl/FQseag9r7RcyE/i/HjxiNDhv+QPXtOLF68RC/vDu1D/inbd+5Arbp1kDxlShQoWARz5y3Apy9fzH62up4rhWcPUj+UqG81HXPrRdB7QIFJOnfpxkECvL31zR1pIoGii9FqbnQKLZ0xA7eLh6fOV4pzk1y8yJG15syeo+lsL0Fj5OLFi3mCR5p8GThwgGyiyTBkEnn27Fk0atQYadKkRf36DXiyQOveaVX2s90XjB4/FqnSpkHhokVx6vRpVt4thVo/kyOZutEqLOWkoaiGZOIrIR0vP0eQkmvozAKBQCAwBxVFJUhZUQ7EcuhjR34ZefLkYWdHCmV74Xz4m4NYGvkHSO1jZApkMz548ODAPCRUaCXo/Pnz7MQfWXBycsTQoYPQpk1rHD16DF4ayTiXL1uGxIkS8apEpUqVsHfvXt5Os9ekgJHgsXbteha29aGWC1JUqM/cvWsDKyudDwf5KVFo2eDHqUPXI3OfVKlSc+boYcOG4M2bl8rdAvnt7o71mzaiVOnSuuulTcsCnCG0hCdjSEc5uThh4JDBbFdP10yT9l92/DYE+fVQvRYuXIh58+bxe7Vo0SIWDpcsWYKlS5di+fLlWLFiBf+XysqVK9mkjf4rFfnv5ExO5lnmOPIT7h4e2Lh5M8pVKMf1T5okCQuZxMNHj1l4o5W1uPHioHb9Wrhw6TwnV7QUau8bKVuUJ4RMD1OlSoNevfpyWFsJ8nu6fPkqRowcgXIVyuO/zBnRsHFjbNy0Fa/fvIWPj/krS7qeG6SoqKFWV3Mxt7/RqiQprJ26dEH3nj1hG+AzJofO+cPREXPmzEHipEk4JPf4SRMDoyySgjdjxgwMHTqUxyQtxV2CFBXaP3v27NwnKJramDGj8Oa19rsnh1behgwZgtSpU7Pp5abNmwzmF3LzcMeOXTtRo1ZNJE6WBOUrVWD/OUtjqOVJUenZsydixNApKtOmzYCtbVDAAbVvg6SoBK3ICQQCgSC0yBQVEih1UUpM+XjSLBzlDJFmqrt06cIJ74wjXcv4NSIC+QdI+TGimT5Hxx8BSeQM1598JmrVqhWYK4Q+0vSxfv7clDYKe6j+Hz+8R/v2bTgRHeWE0YKSOJLZR6xYsVlBIGGa8my8f/+Oo5u1a9eec1Wom18FPWsSmkmgbNSoSaCismnTpmCrWmqQgkchn6UoZOQsbG191aCQTOGyO3bsyEpDrNixULJUKc7hYghjz9UYv1ydMXjoECROmpTrSWYy27ZtU+4WCF2P7p+UmXbt2qFVq9Zo07Yt2lHgh44d2Wywa7dunIuIlITevXuzckhheKlQCGnp37SdQs3SPmTutn37dqNCqJIfTj/Qp19fJE2eDHHixuGEd5KPlbunBzvRk7JKSmuKVMkxaPBAThxoKZTCH+Hi4ox58+ZyPp80adJh+vSZHIb3yZOnbA62e/de9O7dF8VLFEeFShXQux/ldjkDN4+QTwro6mF4dlytrmEN5YOhe27Wojn7j1FyVjVIodmxYzty5crBzu8VKlXCnr17+Dcav9q0bsOCOCk9xvI50UQCrb5kyZKF+zS9TxMnTYCtrfHcIhRI4sjhI/ze/vNPdLRs2RLvbd8bbLcPnz6iY5fOSJIsKZImT4omzZvixQt5H1OOzJaHFJUePXogevR/kCRJUo6ARyv6Emo1ECsqAoFAYHmi6X+Mdf8l4YkFNuVIHADNAFOysLJly/KHi0wCSOA0JTRt0GBuHt4eXrC3c8DnD19g9/Ezvn76Aofv9nC0d4D9d3sOlUpRxr5/+xZQdP8mc6RvX4OKbvt3PoYiBSlzncg/QPLbJ1vqr9/scfjIMZw5c5ZXBwxBs/+7d+9GufK6mWmy9ydlZd8+nbAQVk62pkJKw+3bt9CqlRUmTZpocOadorrRjGKKFKmRNGlSjBkzhhPtUU6N4sWLYuDA/iatFNE1yCeoSZOm3CaUo2XDhg0mraiQOdPw4cM5NwSZY1DkNqVPjRwyNSRlsUrVKoj+T3S2c6dZ5bA2v/vx6ycGDBqIhIkSBSoqpDBoQc+MZritr1pjzuzZmD5zBmbOnsVlxuxZmD13DubOm4t5C+Zj/sIFvNpCKy1UaNWFVlyoSH/T71RotcXcFTx6K9/ZvkOLVi0RI2YMZMmWBfPmz2eTKgl6n0hopeAEdH+ZMmXi1RtDzyI0UPu8fPkC/fr34cSqFC2udeu2bIZGfg4Ufap27dpo0KABxo0fh+s3b+D7d3teGZLGGeW7HJWhZITrN25Ak6ZNMXXKFINR9ij5avPmLdjPKGbMWOjbrx8cHBxx+9YdXgWlFRWK/mWMnwpFJUmSJJg8ZTI+fHyv3DVYO1NepRYtrNgUNmPG/zBp0gS4GEh4+cvFGQcPH0KhwoX5WhkzZ8LY8ePw6Yv03koTalLoX8uPowQpKt27d+dxm+6X7l8ZbEQgEAgEYY8uMz0pDzIhV09RUVn8oFm4SZMmIXOWzPwxoVj9lIHbFHv4kCgqZONs+/YDNq3fjGlTpmLKxEmYOnES5sycjdkzZ/G2SRMmYvzYcRg7ajTGjR7D/x43ZixGjxzFTvxSGRvw29TJk7F169ZgjqRKwUaqp+tvN5w9dw7DR4zAsmXL4aYSMEAOtR8JdZThWFpVIQF727YtAXsYb6uwhMJFkyJFM/Jbt24zOKvq4eGJvXsPIE+efIgZMzbP8l+/fg07tm9F4UIF2IfFFEhoJuXBysoqUFGhENHyaDpa0Kx+lSpV2OykcuXKbH5mqM7U9qQE5cylE6grVauCk6dPBfPDUSOw/4cAe0dHXpGInyA+X5eevSFFhaD7IEGffU7evuWw0C/fvMKLVy/x8vWrwEJ/k3+KVF6+eMH/pXeP/375MrDQuWjV01AbKaHgCnfu3UX5ijqn6cJFCuPw0SPsnC1B7zgJbLRqQ/tQolN6/2nVLSwghfPs2TNo0qQRXyt+/EQsfM+bt4AnR6js2LGDzdOo3SgHhhLluxyVIYV94KCBaNe+Hfcr9VVMHa6uv7Fjx05kzKgbp6tXr4F16zZi9KixqFChIocb9/PVPl7ip9MvTJ46hXNf0XlosmLGzBn4bEc+G/qtqmxn8oVJn/4/Fvhr1KScLwfh66s9yXPX5h46du6EpMl0K5LFSpTAgYMH4PJbem8l5UReLA994ygQBtWb7pd88QytOgsEAoEgbIgmfVWCCWaSoqICOaI3btIYSQLMW+rUrYNfJuaKIEHH09tTTzEyho+3Dx7df4TRI0ejWeOmaFy/PhrUrYu6deqgVo2aqFalCipXrIQK5SugXJkyKFu6DOd0oShkpUqURIniJTjaGJXSpUqibJmyqFa1Gs8oKm2flUqKVEt7BwfMnz+PzXDWb9jAM7bGoFwk06dP4+Rr1E5kgkHmGDrU75+zV6vkAjEH9TPrQ6YU/fr1x+TJU3Dnzj2jSiZFWKpcuQqHp82bNw+bGE2YMI4zY69as4q7izHoOb6isJ9dOnN7pE6Tmv0pjK3EUd+k6GLkD0VBG8j/h4TzYH02gN+uLmwWRjk2pESczVta4dmLF4ERy8IKUg569u6FuPHiIWasWChapBhOnz6t3M0oUt+T+0lw/nd/XVhoLpQRPuDfetsD/jYXWtk5e+4sihQtym1WuUolXLtuzbl2lBw+fJjNrDgZX/z46NOnD5t+hrbvKiHldtPmjahQoRw/+2LFSmLlytWs8JIyRn3H2cVFL8KZ2p3L3+WozL07d9GkcWMMGjgQ169bq+YNkvPo0SNUr16dlbx06dKjTJnyKFCgEOeYocASprQKte/ipUtQoGAB7hdk+jVh4ni8taUof/rHy9uZlCi6Rvz4uoma7j26s58M9WY1aNVkweJFyF+oIGLEjMnHVKlaFU+fPYWfv3SMdAV5sTykqEgrKhRQglYr7ez0w0ALBAKBIOyJBt8g0y9TZ5Jv3brFPgskjEmKirMR8x3dCsN3PHv6jGdkfRQzgcpPj7wWJOA+f/IcC+YtwNCBgzFs8GAMGdgfPXp0Z6GXQmUGls5d0alTJw5D26F9e3To0IGj35D9f9t2bfm/tI3sj+fOnRvMZ0FZB6keZDLUt18fdOrcEQcOHYSnQdMv3VGkqCxatBC5c+fidqKMzoZm18kHhmbDbe7dw+ePn+HhHlwZUtZLiSm/E5RXomz5ipi3cBG+Ozgo9goO1YtWX9IHCP4pUiRHk6aNMXHyBFy7YVq4XxImv9nZccQgOgflZ6FnYNgcyx/u7m68+kU+CmRCQjPBWqsw5OB74vhRLFmymPsDmdvFjhsX3Xv2xpcvyqhkwaGVDcqcbc5KhAT18c+fP/GKEznhJk+RGv37D8RTk3y31PudcntYQqtQpDhS4lLyQWnatAmePnuiZ0Il8d3+G5avXMYJ+ehZ5s2bF7Nnz8bXr0FmYpaATJsoMl2hQgVYsaXVFH1/BW1I8bK3d4CHl2ew+kdFaBw8e+o0ypcthxnTp+OLCdHMKHIcRSGkUMX0nKQJEwpK8fTpU+Xuqri5u2Pv/n2oXKUKH58wYQIMGDQAj55S1C/t69N7TSsRdD06buiwocESc0qQ8//uvXvQqm0b5MyTC/ETJOCgDTQhovauK58nmZV++fwJz589wfv3b/R814y1kRqkBJOiQgoejVO08kur0AKBQCAIX6LBL0g5MVVRuXPnLkfgoY8JfYBq1qzJH01V/HWZ5SkR3tIlyzF16jR2yFX6RNBVJUdE3UcoqB5k+vXD/ifu37uPW9dv4KGNDZ4+foRHjx7g0ZNHePr8GYfMpRCmz58955ldqVD+EqnQ3/Rxpv+S4E3Zj11kpkDSx09ZCNsP79G2fWvUrlsTGzdvhIcJmc39/LyxYMF85MiRgwU/yq+yf/9+5W58DTofrRKQb8H06dOxfcd2TurGtv+yR6JWNznGos7Q9t8e7qxsVa5RExu2buWcBcYggZGceEuWKMHPnEIVFy9eDFu2boa9o+HwpoFQwsdfTiw4US4Omqmk1RGlsiiH+iM5m5MZF5mKkb34hAkTgs1ukhL0/t07DB06mAMEDBkyiP1YSFFJnToNRo8eCwcHdT8KSk7q5emFD7a22LxpMy5cuMjKin/gLK5pkHJDK0bkMExtlClzVqxesxb2DqYLOEErKEFI5pJUwhJK/NewYUN+NmTuQs7Wnz7rQrIq+xut2ty6fRO169ZCvPjxWAmnAAdHyVTMBPM6U6F+N3/+XBQuXAAJEsZH8eIlcfqUto+Yn58vK7YkJJOPzu7dezhBKBG2rRf2uDo7Y+f2HSiYrwA2btxgdBWUoIzz1A6lS+v8CalQ5LS9e/cbXY2R8PL24rGoRYDJZvz48dC1WxfcvqOdyJbeWzLXJPMpMnml43r16c2O8nLo20CrYhT9jyaPGjdrgtp166JgoUJo36EDm/QpvxUS9DxphZRWMcnEbNy4sWjYsD569+rBx5Ejf9A7rOzB2lC7vnz1Cp06dsI//8RAxowZsWfPHr1w2AKBQCAIH9hHRRrE/f11+ejlykKQyBs00L948Qr9+vfHv+nT8QeInOk3bNiEL1/0Z1P9fenj6o6H9x9j6ZIVaNmiNWZMn4m3bynSjP5HVvkZkf6Wiq+3L9x+u3Ehx3ofSmrn4wVvPx/4+vuxKZnc/EX6t1IJ0/udtsmuoTZzLP37+cvnaNC4EfIVzIcZs2aa9NHy8vLAhAkTeUaO8k9QgjaKVCQhndvd0wuXr1hjwICBWLNmLeeKOXXqFEaOGo39Bw6yjbipmKKo3Lp9G2PGj0X7zp1w+tw5k82hSDkgfwR65pQ8kVbVrl69YpJyK0HCEa2iUKQ4Ogclbjx0+JByNxk6Z3NpRYUUpIIFC7Iphtw+3+bOXfTp2Qt1atfEnDkzsWnTBjRoUJ8Vm2zZsnOoVlKSJHMpeZ1dXVxw8dx5DB08GA3r1cO6teQ342i+ouLvxzlIWrdpwyYjtMqwb/9+PR8PYwS9e/JtQdvDEgpnnCuXbvUvb/78bO7zM8CkU/6eSPX47ebKjs+UU4WOobbuRlnQnz7RO6/yOHOgZ3zo0AHUrl0DMWP+gySJk6BF85Yc0ELZ7/x8fPDxwwfs3bOHzTopEhr5Yf10UldQoxrk4L148VLUqlUXx0+cUP6sCY23zZq0RPTosRE3XgJUq1YzmMmrIaidHX84YvCQIQGTFHHQuEkjnDtLJo3qT5WOuXLpMtq0bh2oqDRt2gxXra0Dj/DydOe8WvPmzUfLllb83owcPQqjx41F1x49MGnyFFZAaCUj+Aqn7iyv37zC5ClTOKBC/gL5kSHjf8iUJRMqV67Kkz40Zpmb+JQCpzx99hyt27ZDzFix+bxkvmmqYicQCAQCy8FRv3QEKSqSoKsv9JLQpvsXRWk6dvwEihXT2bInSpQYlStXw4wZs3Bg/yGcOHoCRw4ewe7te7F8ySqMGjEWvXr2w6SJ03H92i2TslmrCUaWRnkNNUVFt58/7j2wQa06tZEiZQo0btoEFy8azhlDycnIr6Nhw8aIFTseSpYui9Nnz7MZhYR0nafPn2Pc2Alo17ZDYNb0Dx8+YfyESejWoxcOHjQkyOujJugq2blrBxo3b4yBQ4fgjs09g/vKoVUG8mtJkSIV5xZo0qSJwdUQLVavXs3JGv+JEQOJEidmcyNDkNBDztpkkhQ9YFa4YsWKOH78OK8C7Nu7F927dkO50mUwbdoUFl4uXDiPMmVKszKUL19eVmxohpV9gHx99YRcpx8/sH3zFlStVBn58ubG/Plz4GhvD38TZqzlkFD94PEjNGzSmBPtlS9XjoV/clKP7JDJFoWdphUoat8GDRvyLLrknK58V6TWI98tEhLpGFo1zJMnFzZsWAcnhXJgrE9qQc/p1auX6NGjKyt/dJ3ECROjZQsrNqOkkNU3btxgQZL61fBhw9C2TRt07tSZo6HRSuqfImDeuHETAwcNQc/efXH7tumKhoPDD/Tp1Q+JEqZApsw5MH3aTL3khaYye84cXm0jxaNs2dLYt2+3cpcg/AHbd+8xeeIkNp+i55Y7Vx70HzCQc6QcPnQQq1ctx9Ahg9GlS1eMGjWGFZZZc2Zj8LCh6Ny1G499NAbSaoZaUsp3795i2/atrJCSQkQ+MAMGD0Kbdu1QqHARXumnhLKGIqPJkfqnu5c3zl+4hFq16yFW7Dgc3fLmjRuKvQUCgUAQHnAeFcmkhFcZZIoKFZ16EvQvCcrPQJF/yGdAEiDSpcuAUiXKoErFqihTsiyKFiqOgvmKoHbNepg7ZyFev7I1S1pRCkWWRil46e4y+Nw1CZrW16xRsXJlxI0fH5kyZUaP7j14VpIEMhKEaHWGZurJJOXHj5+4etUanTt35ezr/6ZLj2HDR+LLV30fCbqKr58vtm3fgZo1a2P16rXsx0N4eXrjytVrqFa9Jrp07caCZPBZxeBotRk9W6rb+w/vMWHSBJQoXQI9evfCuYvn4fzbJdg9q0HRv/bs2YdKlasgbdp07EBNUYjMhRSMunXrsLkQ9RvybTAG5c2gELRJEyXmY1ImT4769etz7pBy5cohX+48HOGNcrsQx44dDYhKFx358uXjZIpkRqdcTSHIPObU8RNo06o1ChcuiLlzZ8Ph+zezFRUKKLFj1w4UKlqY761582YhUuRMRXkf5kLHU98l05qjR4+yYEcrVtS+bdq2w9t37+HhqQt8ofae0EocmVxSFDY6hkrcuHHQtEljbn+a0KBs6OR7FRrTNXf331i5chny580bWL9YMWPxihVFkCOfM3IOp78pbDKZ/NH9WNIELSKgvkrKr6enF4+3FMGrQcPG6D9gECsqpowHxO/fbpg+bTZyZs+HUqXK4dTJM/wumwutTlE+FPI5ofwspJAa4+J53Sqd7rlFR+LEyZA3X34OapI3dy5UKF8OCxcuxtOnL3D//gMOy02JHosUK44SJcugfoNGmDp1Kq8mSejGMg+cPXsaS5cuwYkTx2FjY8Njke2nD7hz9y5mzJzJzv/169eDnZ2GWbIGTs6/MHfefOTImQuJEiZG48aNDeYIUxtvBQKBQGAZopGsQ4IEi+cB5lD6KP/WQfva3LXBkMFDkS1rNsSLExfx48TjDObJkyZDiqQpkOHfjGhUvyk2b9iKjx8+w1uR+Vwp/GgSJB2p72j0BDqU19OdUqeY6G/XF6ooydqxYydQrHgJZM+eEyVKlEKhQkV5Jnn58mXsJ/P2/Tv2e7l16zaWLFmG6tVqIF36DKy8UTK6N5QhWyFYULvTh3XUmNEoVaoU+69QSFHdb77ss0I23iRAUuZxyZlT63bVtkmQ+RStPkyZPAXFihdDpqxZ0ICEgGnTcOPmTYNhTiVIMHr08DG6dO6GYsVKsF25mqOrMUiA3bB+I1IkT8FC54RxE+Dl4WlQ8HZzd8MV66uoXasO4saNz9HHyI8iQ4YMnICQlB0y+6GVLOLggQP4N01axI4VC8WKFcOyZct4RUUNuu6tmzfRq2cvlCxRDPPnzob9969GfQCUz+Htmzdo164t2/Cn+zcdRo4cyc7MkRVK2kkz66Rwk99Q1mxZOYpXzJgxUKtOHezZux+PHj+Ba0Aobvn9Ul/+ZPcV6zdsQpEixThsNQmjdHzKVCnRuk1r7Ny5Czb3H8Dhxw+OHGaKMkwo25VWeim7+fZtW1GudFkkT5IcsWLE5HZOlToVR3YjPzBKPkrP+fGjRyYlEY3c+LNJIgUeefjwEU6cOIWxY8eherVqaFCvPjas34BPnz6apKyQ/9WxIyfRvFkr1KxZD9eu3YCvr2nPQg6NRxSWnian/v03DZYuXQRfI+GNyfRqxYoVKFeuLPs00upywoSJkSFdOtSsXh3Lli7F50+fWRkjM8Ndu3eherXqyJkrN69Cjxk7nn0P5T5JpFx//WrHq2Vv3rxmk05Stmkfbx8fThB6954Nmls1R8XKFXDrzk14eZNiJo3sht9remfr1q3HATGyZc/GoZkNrUDpWx4IBAKBwJJEIyFNKSAq/9bCx9MHD+89xLLFS9Gzew80bdwEdWvXRsvmzTF4wEDMmj4HRw8fx5dP6mEdJYHE6NVoB/q2yBQVvTpKvxtAfi21orafhJ3dV2zdugNNmzbHyJGjsXbtegwdOpxnkhs1bIhevXujV78+HO2pW7funJCuUYMm6NO7LxYsWKRppkHKwYnTp9CsRTM2ZSKnV0nQJmgVhZIrkgkTOZpKOV+U9TMGCdwk8CxduhRWVq1Qtlx5VK9RC9279cS0adNx4cIlk3xuCGcnF2zesBnjx0/EkydPWDAICSQsFShQkM2FWjRrjquXrhhNTkgBBw4dOoJhw0aySR21C0V0o4SDypWdhw8eYMyIUejepRsHJ7h2/brB89OKTb/+/VCubGksWbQAPx3tjb4HyudA7UEzxaR8lS9fnoMPkGN3ZITujaJ8UR137drNCe3IeblN+7bo0Lkjxk+ciM1btuHM2fOwd9RFhZPfq5e3D968/YBt23dh1Kix6NqlOzp27IROXTqjZSsr9O3Xn2fKd+7ag7s2Npw00FSU7Sr99cPRHof2H8TkSZPY/6h4yeKoXbcOr+zNnz8fJ06cwEcDAmVUg4R8GhMoV8yUKVM5miGFYi9dsiSvZpO5mylmTaTMfP5kh/nzFqFHjz54+tS0qGlKaLyi1VAywaRVldGjR8LRyHtCx5CQv3vXLgwfPgKt27Rjf5RRI0dh767deC/L9k7jFIVTJhPEUaPHYMHCJbh+/SYHU5FD+5EiSjmRfH2Djz+kyJAzfMcunVCrTk3YPLwHb87dYlxRochqdE0yHaP3uGq1qpxbiFYWtRCKikAgEIQd0ZSLFNJQbvKg6wf8dPwBm7v3cObUaRw9cgSXLlzE65ev4OToBB+v4B8SCTWlQBPaSfZ9CfZxNHIS+bXUitp+EpTNmfxNtm/fARubB/j1yxmPHz/hSFQkNA0dNgz9Bw1A7969+GO8YMFCHDp4GM+ePoeLi26FRA0vT0+sWr0aFSpWYDMmsrWXz5A6ODhg/PjxKFq0CKysWuLZc50jvrJ+xqBzkukE2fQvXboMK1asxObNW3Hw0CGcp2f16o1BIV4PP+Ddm/e4b3M/VEI4KU7knEuRvCg/yvy5c9gHRgtp3YsEBlqdOnHiJLZs2cKRhWhGVQkFXXj7+jU72b9+9YpNZwxB5iJ9evdGhfJlsWzZEvz8SatXhltZ/hwolDT50eTOnZtXekaMGGGy8hcRkLBHqxS0mnL58mV2Wr5w8QKuWl/F7Tu3WXGj6H73HzyEU0D7ylvDx8cXDo4/8eTpczx88AR3795jHwoK1HD5yhWcv3AB589fwLnzF/D46VOzVzj0W57+0r385N9GEb2OHj+GNevX4sixY3j+4jmf3zfARM2s8SvS4s/jDj0fyiFEwSRoVXXunDmYOGECFi9azOaoQRGxtO+YhkpaHKRndODAQTg6mr8KKkGrxm3atGEfNTJtvHXrpmYENjlkXvnm9VtcuWKNixcu8RjioaJk0RhAuVbImf3zl6/w9DS8YiNH+iZQX9i9Zw/ad+qEocOHwe6rzvRLGkMM9Q5q8w0bNiNHztxInjwlxo4bp5pEVI5QVAQCgSDsiKYUeqUPvdKeXNpPazAme36ayaIZNKWzclSHwtfSfXl5eQYqEiQwkXDv5vabZ/boA0smB/RvmuWktjDWBHQ8mSwVLVoUTZo0ZqFEbm7k6OjAAi8J8s2bN8Xjx4/0jjcHOi/ZpZNgQ9clcxC6J/avCbgnU58ZmwiaYHJiCPL7uXbjOqrWqIrUaVKhV68ebG6ljq5XBmqqAb4VJCBROFoteLWQ29P4fd2+fZtXrcqVK40lSxZx25vaHgSFJR46ZAibojVt3hxnz503ajoWXqitmhJUP8pnRKt4UpABfnf9fPn5UvJGXT8OfixB7wDtQzPeumh6uohqPn6+uufjTcUb3r7a5wgp1H8olxGt6KmNVX8C1Ga6fu7J7yy9uzS2UEAO+i+9v7p2ld4Nw/1N8nkJDTS+kYkqrRgWLVYES5cu5m0mQeOGjx9HcDTUH3h8MSHgihLpnJ8+fUaPnr3QtXtPHD9xEu4q+ai0ePL0Kfr07Y+sWbPByqoNLl+5qtxFIBAIBOEIKyryD730t9rHXyqmIx1h+AMqYejj9SdCwsakyZPYCZgiaFG2bXkL04rKkCFDkDV7NjRoUA82Nvq/R3W+fbXD5CkTkTVrFlSoUB73be5pZDaXC2Nhc/+UxLRb924oWbI4Fi6cb7aicv7seVSpUgW5cuXGqtVrOZu3OcdHFcy5J9P3DD3y8Sk8rxvxyN8NrXHW9DHYGKTsUM6s6dOnIl++3GjYoD7svqqb9kYUjx8/Q42atdm/5buDI/sCGkenzB86cgTFSpRChQqVsGXLdri4mKiECQQCgSBMUFlRCVrGNlaMI/+ImnaE8QsY3SHKQDOkEydOClgxaYb79230fienc/IdKFioAOrWrY1799R9XaIq3t5erHy1b9cOeXLnwcwZ0/Hpo35COAljJhuhhVazyHSvXJlSWLJ4IftD6CeL08If375+w9zZ81C4cFEMGzYCr169Vu4U4ZijYFiKsHxLjY0CWtujJvK7NVbUMPSb+ZCycs/mLtq1b4P8+fNh0eJF+KJIwGpJjNVe/vsH209YuWoN+xKS2aFyP923LfhYQu/6q9evWLnJnScfZs6cjU+fJJMx6fymtLVAIBAILImKoiIN5voqhloxjvwspsxqmbI7/UDmPtomP1EFUlSmTp+GAoUKsGnXgwf6igr5VSxYsAAlSpRAvXp18FDx+58ACdDHjhxFs8ZNUKl8RWzbtk3VV8X0Phcybt+6hZ49eqB8mdKsqDg6fONoU6ZcecfOXRxooXPnLhxZLSKUAmNExjqFBvPGoT8F5XhqxgSQhfH08cCxE0dh1cYKZcqVxdp16zgse1hg7DlLv337/h0HDhzifF63bt2Fh4e+74yu9dTd6d3c3LFq9Ro0btwUfXr344hiEkHXl7e/oRoJBAKBwFIEKCr6g67cOdBQMY58YFd+GjQw+g34cxQVsjtfsXoVylUox/H+79y+pXfzZPs9ZdJk9mFp3boVngc40/9pkCP6of0HUKVSZbRq1QqnTp1iR3TJx0PqRQa7RSihRJsd2rdHieLFMH/+XHz7Zgc/PzJD0+7t5FBub/8DPXv2Rt269Tl6WpBzs8ASaClY5o1DfwrK8TSs3wpD+MPLxxOnz51G9ZrV0cKqJTv905im9cxCg9YZdS3iz75KFy5cxLp1GzgIBCkeaij7jM53zwNPnz7n97hjx8549OgJvL2Dvi9Bx8jbX6tGAoFAILAkwRQVaVA2RVExPlSbvrfacrxue9D/SlvU58SiHuS4/PTZUw6LW7JkSf7QyyPo/Pr5CwP69UfVypU5YSGFkw0pYSE8WBKnH044dvQoOnbsiBYtWmDNmtV6OVqUvcMydxN0lvsPH2DosKGoVKkCFi9eCHv77wZNv0iQIVv4hYuWcAjqixcvB6wEBd/3T0T3RiufiuUx1G9VRxXVjaFFOqkpJaxRXi88rqmNs4szh4Xu07cvRo0ahStXrpjoXG9e/YPvFTT55eHtiafPn+GejQ3ev7fVDNmsvBr1Lfvv9jh1+gwmT5mGFStW4cGDh/DSyPdlbp0FAoFAEHqiKTcQys+gKcVU1I6hfyvnqaR9lHNXQfuac9XIC30sKcxuhQoVMGrU6MB8IKSwXDh/EVUrV0PLFi1x//599un4k6F73rdvHydKnDVrFocedgrIJq9ErR8ZQ39fncIrbX385AnGjBuDqlWrYPnypawkqQnJFA3L6cdPvHj2EieOn8KyZStgY3NfuZte/UJS17CG7k3t/kxFegelCQ0tQnONEBEkv1oQ6aSmlChOCB4XjUukrFBix0OHDnGCRuOhuelCQe+f+eiO8/H2wntbW5w6cxpv3urnUiJIaSIlxv6HI3zZlFMHjTVfvnzmsOQHDx3BqjXr8OzZC71jBQKBQBDxRApFRb5dbZvW9j+FR48eY9CgIahZszb27t2P798dcOXKVQwcOAglSpTmpIwUpvRvgO6TEt2RknLu3Dl8/KiefVurbxhCf98gRcUPfpwDpHfvPihTpiymTp3KWbjV8kP4eHnjw/sPuG59nXNCfLD9CE+FLTwhr19I6hoVEIqKsoTzvRohRMqombvr0IVvp/w2FBDk4cOHHAjEMHSh0LUZZbOnJKurVq3GxCmTsW37Nty8cQPXr18PLIcPH8baDevx/OVz+AaEMqc2cfv9G8+ePcPNGzfx6tVbODm7wEdlQkQgEAgEEUswZ3o5SiFLrVgKtfNpXUdtmyqRU34IBsX5P3f+EnoHZLLfvHkLBgwYhIYNG2HqlOlsMy2h1SaRGXPrzIKEmxsnblNTFiwD1UbXQTw83DiBJOVNKFmyNJufHThwQD1Job/Ot8jFmfLmuMLXxzThxpz7j1CiyDsTvigVEq0SuRrNkKKitT1k6M5FEwqUBJaSO8rDjKu9/2rbzIUSSM6YORN58uZFmrRpkTVrVo6gSElX8+TOjVy5cqJmrZpYuXpVsKhklF+JTMRcXV04H485WLbtBAKBQGCIUCkqlkTtnFrXUtumSuSUH1RxdnbBnbs2uHz5Ko4ePY6NGzdj9+59ePHiFc8cSmi1SWQmctaZaqPrHK4uLjhx7Dh6dOuJpk2ao3v3npwJ3NGRstNbhsh3/xpEoXcm/FAqJFol6jSaZYVt6f7VUXv/1baZy9HDx1Cjek1EixZNtSRNmggdOrbH/Qf3zVZGDGHZthMIBAKBIVRNv6ICJn0qQvsljABcXd04fv/nz3Zwd/dU/hxpMfTx1v7FPAxdI2TozkdRx54+foLdu/Zg06bN2LVrN27evAUXtRWVP50o+M6EPUqFRFn+9kaLmPu3vmKNsaPHon379mjevHlgadmyBdq1a4sxo0fh+HH9ACWWwNxxyNz9BQKBQBBElFVU/lToo0bO41SiygfOkImJJQmza/j7s9kKzbqSWRcJNuQrE2bXE0QxlIqJsoh+EhHQO6oz33INVn67urL5KL3Lln6PzT2fufsLBAKBIAihqBghvIRwgeBP5M94d5SKibL8CfcoEAgEAkHkQygqAoEgzBCKikAgEAgEgpAiFBVBhEHinVSU2wR/F5FboVEqJsoSmesuEAgEAkHURSgqgghDKCoCOZFXWaF6KZUToagIBAKBQBDWCEVFEGHIFRVliQoo62yoCKI6yif6dz9dZQsoi0AgEAgElkAoKoIIQyncRDVBR1lnQ0Ug+JNQ9m9lEQgEAoHAEghFRRBhKIWbqCboKOusVSIeqRby2mj921KExTnlhPb8am0iMAdlP488/d0cjNXY2O9hTVi/pxJheW6BQCAIOUJREUQYSgEn6go7kR1qUaUvhbRNuT20mHrO0Pp4yOuvtk1e1FBrE0HoCKs+FZZo9ZnIdB/hVRdj74xAIBCEP0JREUQY9NnVKgJLoiaUh5VQaeo56XdfE/dVQ15/tW3yonZ+tTYRhI6w6lNhiVafoUL9M2T3YdnAEOHVpvJ7FwgEgsiBUFQEEQZ9drWKIKQoW1KryIUSZYur/a3cJt+udl6tYyTot9AqKmrXUNZH+buE1u/KYw3tF1rC6rwRBdVdq09FRpTPV/5OmH4fakqJ2jYdymsqUf5uXl1Ch/xaAoFAEDkQiopA8McgCTakAEhKgFzAUQo+yt8llNvUBBitc6kV5fkltLbroy30hQXKuktFObtu6L5MQd5+ym1RFfk9haZtwgO1eppff/P6ptY7Y+x38+oUctTqJBAIBBGLUFQEgj8KEjKUioryd2WRBCAtQc3YvsZKVEJZdyo+Koqf9N+QIm8/tW2hOXdEEZXqr1ZP+tv4Kp95yokcrXfG2O9qdQ0L5PcvEAgEkYM/VFGhAT2sB3Vzkeokr5faNkHkI7I+J3m91IQcZZ1N2Tck27SK2r7y+kRGlPdARa6kyO/LVOTtrtUmatsiC/J6G8PU/SIatXaWtoUVymesvJ7W7/JizrMwFzp/SBQVeZ2URSAQCELHH6ioyAf7yDRQKusUWespCI70rCLTc5L3H61iCFOOD01R9nNplSeyo7wPrWJOX1Aea0ox5/xhTWSsU2iJiHvSeueM/a5WwgI6r7mKiqE6h2fbCgSCPxWhqIQbyjpF1noKgiM9q8j0nAwJCKbU1djxoS3y62ttDy1q56JtymIOyvvQKuacV3msKcWc84c1kbFOoSV09xQy8y+td87Y72olLKDzWlJRoRKSdhIIBIIg/kBFJaqhHMjlA7/yN0HEID2TP+l5qPUzY0KHVpGj/I2KtJpiyfajcyn9CaRtyqJ2Xa1nqqx7RBVlvQSmo+zHakRkO5tSPzWUx1m6/nQ+oagIBILIhVBUIh1yYUsa5KPOwB+ymcbIjpZQG5WRCxjSfRkTOrSKHOVv8mLJ9tN6T5RKipaiIu2r/E1Z54gqynoJTEfZj9WI6HY2Vj81lPdl6fpbqk5hVT+BQPA3IhSVSAcN7spZLWmbmmAVuQhfRYWuFR7Xkz7G4XEtcwlpneQChnQOqT2VwoaxIq+D8jdlCWl9ldB51N4JukZwRYX6pX7f1KqPsr4RVZT1EpiOsg+rEdHtbKx+aijvy7L1170e5taJUNYpbOonEAj+ToSiEilRG9wlIVIQhC/8/ZVKXVgRGds+JEKFMaR+Ji9K4cPSRVGDYEqFFmrvhLLuWudSO5aQ6qR2/8q/5UX5m7Ieym1qxyqPF4QMZfuqEdHtbKx+WhjvJ+r93RzMPV7ef5VFC+keDO0jEAgEQlERRGnUZtT/Fuiew+v+5UJVaItcyAqv+puDvJ6GtsnvQ9quto1Q2ybfV21bZGqTqIa8HeXtKyei29lY/YwR0fUPLVG9/gKBILz4yxUVGiSlIogcBH8mNEPo4+0ND3d3uLu7w9XFFb9/u8LXxxM+Ph5wcXGGg4Mjfv78CRfX33D38IKvLwnAMv7Ib2LwtlLHmFBk7Hf5deT7Givy49SKtBpmrP7hiVqbKv82tF1rmynQfvK2i0wo70veTmolojFWl4huZ/l7EhIM3VtUIKLbXyAQRBWEoiIGy0iG9AELUDT8AeefTnj57DluXb+BJ48f48WLF3j8+BFs7t7GzRvWuHPnNh49eoQHDx7g8pWruH3nPr59dwg6pfSYQyoTRHmk9tRqAOl3hXKnilzAMlSMvVPG6vQ3Iu+oxtovPFEbJ5XPW1kiU/3ViOh6ytsq7Am9OZiliej2FwgEUQWhqIjBMpJBzyNIaKYP7LMnT7Bi2XIMHjQIW7ZswZ07d7Bnz2506NAWLZo3wepVK/DkyWNcvXoVw4aPxNhxE2B97Tr8/AKEgL9aUZFu3pBSoN/mhpELWIaKsXfqr34oGkRWRUWtTsrnrSyRqf5qRHQ95W1leZSKifLvsIeuZ+iaEd3+AoEgqqCpqIT/wBYSpA+7vK6R9WMvMITOgdoPfn4+8PPz5iJtf/3qFdavW4fRo0bi4sULbOJ18MB+lCxRDHVq18Ce3bvg/MsZtrYfMHvOXIwbPxFnz50PMv/6K2Vi6aYlHxBDgoOx39WQN2pIGlZZv8hH+I+ByjYN7zFM7fohLeFZb0uhu38ah8K+/vK2Dlsiph9LEx9a9xeV+4lAIAhPNBWVqIH8wygh/wCIQTCqEPQxJUHBN0BhIcXFDz8c7XHv3h2cO3cG9vbfea/Tp06idKniGDyoPx48uM/bfHx8cev2PZw8dRZPnj77y1dU5MJCWLwHoW3UyP+eRoyAJx/TQtO+IUHr+iEp4d12lkD3zugiCYZ1/UP7/phO+PdjuiehqAgEAssgFBVBhEEfUE9PD3h5eelto0JKho+PD7y9vODu/huurs78X9rXw8MTu3btRPlyZbBk8UJ8+fw58HgPD2/8cv6N324egdsCu8Rf1R10QlfUUlTCop5RCXmbqI1tYY3W9UNSouKzlO4/rN4ZOWqDUlhfM7yQ2lAoKgKBIPRoKCrBBxHDszL0m1TCE61rKrdr1U++Xe13gTZSe4X8Y+Pi6oybt27g2fOnHNHLze03vts74us3ezi7uMLP1w/eXp7w8NApM2TK5e7mgTt37mHMmDGoUaMq9uwhs69feuf18wekxRTLEBX7hyXrrHxHlCW0BJwnYCUt/HLjqBF87NOG9rFkPaXzSdc3pQ6WRH59c4qyP4R3vS2F/P6lPkhFsZfBb6ESZZvKtyvbSm2b+fBEDxXoF82zhv6SKhi7F3nfEQgEAm1UFBVpkNYXFgwPzvLB2NB+EYVW/eTbw3L2OXww/IwsjVabms7Hzx+weNli7DuwD69evcL5Cxdw+MhxbNu+E2fPXoCnpyf8/fxYSaHwxP5+/hyaeMuWbWjSpCmaNm2MixfPszITtkj3GrL7DE+kFSnLIhe0pHaw9DVoNcwNb16/wq9fPwKUlYhAGgtMuT/ax9R9TSH071TokF/fnPLn4O3tBW8vjwAfOXWF2bz3i44P/j1VxzLjjOMPR9h+/ADn3y5GFRVatfZw84C3R1iPoUqkvqNWK4FAIAjCZEXFMBH9gTWGJFgp6yZtk390lfuEHloJcHBwwOOA0LofP37E58+f8eXLF3z5Ysf//f79O68cyD+C9O9fv37h2bNnuHDhAk6cOIHjx4/h6NGjOH78OG7cuMHnIvOp8Ef5zA0Vdd5/eIcZs2Zgz949ePDwIRYsWogJEyeha/cemDFzFlxdXXk/+pj6+pHvij8cHRwxc8ZMVKxQEd26dcWD+zYan2BLorsPcrL18vRkperK5Ss4f/4CP5c7d+/g85fPXEdj0D38cHTEi5cvce/ePdy6dRs3btyEtfU1XL58Bbdv38a3b9+C/Gt0R2m2pZenF96+ecN9y87OjtvKsiifZfA6mAu1we/fv7kdT548iSNHjuDIkUPYu3cP9u3bi0+fPoTqOtR21BZPnz6Fra0tfHx0gRlMw9z7NP7M1VG7Dv3b9HHIL2BcefrkKa5dv4FLly7h4sWL3Cdv37qN16/f4MePH/Dy0t0/tQO9U15enhrCtvz65hTlOdTOrYP6p6OjI49pFBjjyOEjOEbj2bFjHF6c6qd9tA6qO52HxtLz587h8qVLuHz5Mq5cuYqbN2/i4cNHePv2LZydnZWHquLp6cV9kd5BqoOLsxP8fOk9Urs/czHnmar1CXWoDTw9PPDD8QePJWfPnuXvwq6dO7Fx40ae9LF31IVop/FRa4z09fGBs9MvvH/7Frdu3cLDhw+5z4Qt5rSJQCD42/lLFJWIhZITXrtmjQkTxmH8+LFYsGABli1bhtWrV2P9+o3YsWMnCxekrMgFVBIw7t2zwejRo5EvX16kSpUMSZMmRpIkiZEx439o164d9u/fz4Jt+CP/qMqL1Afk/1bH7vs3rN+0EZeuXsHT588wYfJE9O7bFy1at8LkqVPg4uLC+5GiR+3i7e2N92/fYfjgoShftjwmjJ+Ad+/eKU9rcaQ7oHrY29tj0cJFqFq5KvLmyY/cefKhYaNG2Lh5E1zdfiuODA7dAwkE8xcsRPeevWHVqg0aNGiIKlWqo1KlKujSpSvOnz+v57ejLxQGtaebqxseP3iEhfPnY9KkSTh9+jQru5bF1DHAdGjWmhSIhQsX4b///kPixIm5FC1aFMuXL4ed3RflIWZBbXfmzBlMmTIFy5evgO37dwrFL+IIUhDk46y0zfRxlAT19+/fY/fuPejTtz8aNGqKWrXrokaNGqhevTq6dO6KObPm4sCBQ7h//xG+2H3D46dPcOXKFXz+/ElDoZX3M3OKhPH60ztNysScObO5nqlTpULiRImQJEkSdO/eHY8eP4aPn241TRpFlNCzdHV1weLFC1GmTCmULF4chQsXRvkKFWFl1RojR43GunXrWFFVV8iC8PX1w9OnLzBjxkz06NETa9as4YkEY8dFNGQi+e2rHbflvHnzkS9ffm5DasuCBQvi4MGDPBlgCrQfKbiDBw/GwIEDcfToMZ4gC1sM9xOBQCCQEIpKOEC+F8+fP8G2bVvQvHkT5M6dE3ny5EHBgoXQrFkLLFq0GDY2NvzxlX8gKcP6lSvW6NSpExImTIDYsWNwyZjpP1hZtcTOnTt45tDywqkp6HwKAvsL/1te5IJM8D7h6+fLysmYcWNZQZk9by5atLLCkGFDsXHLRtjcv8dCPZl78X/9yV/FA3dv3UC71m1QvXo17Nu3j0MVhzWBYiSbnrngyOHDaNumLdKkToeYMeMgUeIk6NilE168esmz3IYgZYdW006dPoPZc+eja/eeqFylKsqXr4iOHTpj06YtLIDqC9bBhUI6x9at29C2bTtMnTKVZ9M/ffoUFJI51EhioqljgOmQkPzjhxN27tyNIkWK4J9//kG0aNFQpkxZntHWV9LMh8wFqX327t2L4cOHY+jQIbh8+aJqP4w45ONsYA8z+M5I0DM+fPgwOnfpglKly6BYiVLo028AVq5chc2bN2PL1q3YsmkLRo8cg2rVaqBqlWpo2qwFatWpi/bt2/NKLL1TwZFf35yidrx6/UlJ/fLlM6+mkFLQplUrxAh4/uXKl8fOXTvh6u7G+0o9UAmNkXSeW7dvYeTIEciZPQfixImD8uUrYOq0GThw8BDu3rvLq03GoJXI0aPHYsyYcdizew9ev34d6v5nWaRW0G8Nf38f/PrlxBM1u3fvRYUKlRA9ekxuR/q2kAJjKtSfaJKMlNgJEyagQ4f2WLlyJY9DYYfhfiIQCAQSQlEJB3QmFy54/foVGjVqyB8TKgkSJEbPnn1w6dIVNodQzvp6eHrj+vVbaN++I2LEjIm0/6ZBS6uWWLRoIX/o6ZiIgmbh3r55jZcvnuPVyxd4/eoFXr9+gTdvXuHt21d49+413r1/A1vbd/jwwRafPn3Ej58/4BMgSJOJx/ETx9GydSt069kDi5cu5XL8xAl8/PgBvr7kVK2L/kWzh9Sv3FydsXPrZlSpVB4tWzZncw31meGwQCcoUL1oRprM8AYPGYr8BQoiZqyYyJItK2bPmY1v342vbukEA3tctb6G+QsWoWPHzhg+fCQrL2SyRNfQIb1X0r91/Pz5Axs2bkDjZk3QqXNnnDx1Eh5u7oG/ywn5zHBw4Si0kJ28dD5fX388fvwUw4ePQMaMmRA7dmxWyN3cdEKqJaC2JMG9atUq6NunF27fugm/gNn6iEdrzDTc7mTORH2vRYsWSJchPYqVKIFx48fj8uWr+Pr1K8+E06rF1y9fcfrUaV6hS5QoEY83SZMmR0srK9g8uK+h0MrrJNVLXuS/yYv8eMP1J0iZd3Z24fHr5ImTaFCvPq8GZMqUCeMmjofdt6+8n+Gz6FbOyASzc+cuqFu3HubOnYdHjx7xqieb0fKzVj8DjStXrlzm1WpaSdm3bz9+hpnJk7E7MUbwNqWJG18fb7h7eMLG5iG6du2BpMlSIknSFOjarRubBKsfr10X6hO02jty5EjUqV0bK1csx/evumcRhPqxgWifXoFa3xcIBILghEpRISFIJwfR/4TvwBNyASzioNn/li1bstAQK1ZsFCteCkeOHmfzA7X7cXZxw8FDR9CkWQv8lykLrFq3wrnz53mFhgQutWPCCxIyaBafhKZTp07i9GldOXv2NOc7OX/+DC5cPMsz2RcvXcTVa9Z49fpV4OrPx08fMX3mDFSqWhkTJ03C27dvWJmjjyWtXBBSHhXJsdrR8TtGjxyGIoXyYvDgAWxSFz7o929dYko/PHj4CG3atUXSZMn4mZYuXZr9TkzBw9MT9x8+wNTp0zFq9FicPn1Gd++Bz1T9naIAA+Sf1LhJU1SuVhUXL1+Ch0eAkhJx3cEgkuzip7ifzx8+YdaMWciVKzcKFCiApUuX8P1Zkq9f7TB27GhUrVIJAwb04xl09dWEqAHVv03bNkidJjUKFCqARYsXw8Hent+ZwL4TMC5T5KeHDx+gefPmiBs3Ls+0L16yFN8d7APOJvUxw30uCPnv8hJyPth+wLx585A1W1bEihMLTZo3wxXrq3B3V1e8lZBPxcSJk7Bq1Rq8ePGS301dO8jrqg9NbtBxnTt3YvOzHTt2sHITdhhq09Dz5OkLdO7aHUmSJEP5ChVw4ODBQLPZoHZQrnRrQ32mSeOGaNa0MXZu3yZT4JT9RYF2k6sQtm0iEAj+HISiEk6QEPr8+QvUq1efhdoUKVOhR88+ePzkqXJXxtvHB0+ePke//oNRqUo1DB46HHfu2cArkghZtCJCDrF3797FnTu3cPv2Tdy8eR03blzTK7TN+tpVXLtxHa/evA5UVB4+eogmzZohd948WLV6pV42aF2/klZTpBUVsJN182aNUbxoQSxZsoCdgsMH9Q/0o8dP0bylFRInTsLPNEeOHDh27JhJwraziwv27t+PCpUqYey4CXj/nhzI5QR/p6hN3r57h86dOqFwkcKYNHUKHH7IVtUi6StB1dIV+t+gWe4Hd++jYb0GSJUqNTp27IB79+4GW1UMLfTevXv3Bn379kbBgvkwZsxoxWxz1EFSUvPnz4+48eOjY6eOePHqlXI3Peh9I98l8lsoWKgwtu/YiR+/JHNJZb8O3uf0kf8uLyGHfJWmTp2KjJky6t6hXDkxZdo0Nt0zBQrGUKVKNfZtohUlHcp66kPnHjp0KE8s0OpB2K5MG2vT0OHr5w/r6zdRvWZtxI0XD23bt8Or169VVppN+6YTNGG0b98e1KxZnSMrHjt2XDamGbgP+a0aJezaRCAQ/FmoKCrKQd7UkUcSR0zH+BHSHsoSJMwGx5wBMOhe1c9lOWg1ZcuWLewwTB/k7NlzYNPmLfj500m5KxwdHXD02FGMGDkKXbv3xsJFS9nJlKLTRDy6Z0BmB5SEkcyQfvxw5Egx9MGnupNtuFTo7+/232HvYA8XWjEJEEQpulWNWjVRvFRJ7Ny9M+Dc9Bwk5SSo0PU8Pd15daZChXJo2qQRLl08D18fNfMVyyHrbXp/Eb9+OeP48bNo1aYDUqX6l59pylQp0b9/fzx7pq58yqEACGvWrmG7/FWr13ASS32CX/ObvT2vPmXJkoVNfx4/eaxhwhNZkbWonz9OnzyNIoUKI2Wy5Bg5fAQ+f/zAqwHmoh3TSAf1IYosV6NmdZQrVxa79uzBj3DwbbI0ZPa1bds2pE+fnn0y+vbriy9fjQceIL8LWjmoWrUqR4P6HRj0Qd7HlOO9Wouq7WfKtyEI/R4NWFtbs29J0qRJESNGDMSOExtlypbFPRvTViZ3796NEiVKYO3aNfj5kxQOZR3174NM42gFhZSUVq1asRO55Lwfdijv2nK4ubmz83up0qXZfG7wkMEcnjj4GyF/1oahMZj83YYMGYJChQqia9cueP78qcIkNbSoPx+BQCBQoqKoyKGBRJqJsTzGhyjlRydoYDOsqJg2c6Q7l25f9XNZjpcvX6J3715IkyZNoJkQCevK616/Zo1pUyejQ4d26N6jFzayc3VkmgGWPxPp3+a1HZneXLx0CS1bWaFlm9Y4efpkwC9k+qR7FjqTr6BnTA648+bNReXKlTBt2hS2nSan6bDE0Kf02fMXmDd/CYaPHIcKFaohXrzEiBUrDooWLYYTp04odw8GrUZNmzaNV0co4psh6PqeXl44f/ECipcozoLqnDlzQiTURxZ+Ojhg7arVyJwxI9Kn/RezZ86CUwiVB2OKCmH76SPGjhuLtOn+RaOmTXDV2lq5S6SHJgLIAT1FihQcgKB7t6748PG90XsnpZiEcisrKzZNDO4sLh/nDfV6tfHYvHeQziCd2cHeAUsWL0GWrNlYOcmdOzePjcmTJcPBgweMmujZ2r7nsaBSpYo4dOgAvLzIXEw5Pulz//59tG7Tmv1hJk+azBMovv6+AfUKvn9kh0LbL1myBHny5OZIkDNmzLBIcBXqI1u3bkXJkiWQPXs2zJ07Cx8+KFd9Q4P2MxIIBAI5Jigq5n+M9OAILd48eGrN/vr5kWCqNWBJnzZTBzZpX2P7Eebsq4ZUN+PHk5MihQ4lp2Fybu3UuVNgVBUSyl2cnTnyV7u2bZArZ3a0bdsaJ0+exo+fTibl57A8/vD28grMCC/frv88zO8fnz99ws5duzB4+DBMnzUzYPaUFBOasdMJTJSijJyvfXx8uQ4080rhmJs0aYQtWzbB0cGetysVPUtiKFEa5VDp3rMPNmzcjtmzF6JC+SocASxt2n+xYdMGjkpkqG5kjkO+BnPnzcXrN4bNd4gnz55h9NgxrKTUr1+fw+9a2kwqLCDFk/L8kM9BkDmKPx7ev49BAwYgWdIkKFywELZu3mKSyVxI8fP3w579+5AhY0bEihMbs+fMhbu7h8bTDQ9MHzskaOVy3br1SJs2NQv01atXwclTJ+DprVQ89CF/hQEDB6BPnz7s4xJcUZG/z4bqJK9zyN596czUL86eO4suXbuiXoOGWLZ8Obr36I6YMWMiYcKEHH2KgmUY4uzZM2jd2gp169bG9RvXFPXSh95FRwcHrFq1CpkzZ2bhe926tfCk5I6B77nWfUcGKDy7bjyWjyt37txGmzatkSpVKg7VvHXrFouMCz5+fhw5jcaouHHjoHDhQpzDy3LBKOT9TSAQCLQJrqhoj/UhggSUd+/f4/7D+3D8qb8kTf+m6FHkyOjo+AM+3kq7WjnmfBjDa/AzbbCl78rNm7c4VOg/MWKgcNEi2Lpta2BCMudfTji4bz/q162HQgULYsSIEXj+/DkLUuGPP/x8vfDr5w+8fvWKhQXKa8GJ2AwI3uZAs7oLFi7AjFkzcfTEcXzlPDAU7linqPjDl9UUbz8fODj+ZN+e9evXo2HDhmjaojk74V++chlOTk4W+SiHhIMHj6Bp8xY4fuI0Xjx/jRnTZ7H5CimikyZN5MhgUrQyNTZsWI8iRQtj6/at+OVMKwnaAiIJDdt37kDBIoWRKmVKTJwwgZW9yI6vjxccHOzZFI5msskfQepDFF63erVqSJw4EVq3bgXrq1fN618BzaW9shoc62vXUL1GTcSMGQstrVrh+o2b8DQyax92mD/QUtCEw4cPIleunKyoxIsXF02aNMF7IzPdv91cMWXaZEybPo39c7QmjMzD9PFY6tnyp+Tl44ntu7ZzMIoxY8fi8ZMnHMmOTGLJ8b9SpUqcI8oQp8+eQrsObdGydUs8eHg/YKvUrvpQHyH/HlLyKWdP+fJlceLEMeVukRIfHy84Ozvi/fu3HDnS3v47J2okKEFq+vTpuM26detmVlhiJcrnRN/uiZMmIlp06mvxONeMnR35AZn2vhnGtG+nQCAQhKmi8vnzF5w8eQpTp03DsBHDcfHKJXh46qK50EB75swpzJo5A0MGD8bIEaPYVv/lS61ZNKlikWlgM22wpdUkio5VpIjOP6Va9eq8QkAzyJRd+MC+fWjWuCmaNWmKBfMXcKIyCeUHPqw5feYUJk4Yh6FDBnESQUqaR2Xp0qU4d+6cRRKB0UoSKRq379zBpy+fdTPpfJPUljJFxdcHDj+c8OrVa85ATUnctmzbilNnTnPELHKKDT47HPbQzPaSpcvQoFEjXLG2hre3L+fsyJQpI9vZN2jQgLOtk4ChhHwzfjn9wowZ01GseFGcOn0CPt60kqAuYBE/nX5h2oxpSJgkETJkyMCzwqQ4RmYePryPWbNmYPDgQew/QElOJ06ciLNnz3FoZkp4SskekyZNhukzpuPjZzMVL73hQP8N0XpfSOkeNWo0UqZIjWzZc2LG7Nn44RT6/hwyQjLQ+uPWrZuoXKUi+6jQWEKmpKPHjMbrt6+VOwdCQScuXbmIq9ZX2E/MVMXOMKFTVFzdXLB0xRK0bteGTYzIrI2EbErYGD9+Qha+qc9oRf/ygw82btmApi2aYtKUyfjwQcr5oT4ek3JG4xhF6EuWLCm6de8CG5u7yt0iHS9fvsDMmdMwaHB/zJw1DZMmjcfQoYNx4MB+fo8odw6ZAdIECZmAhXR8lj8jeetRQuJMmbLinxixUL9+Q14J1gU+CS2mfTsFAoFAXVFRjlZmQrkQSNjeuXM7Bg4cgIqVKqNajRpYt3Ej544gsxVyaBw4oD+qVq2ILJkzI2WKVChUqCimTp3GM7BewcwZpA+7esWCZlZNuwH9/YP/ZtpMvWmDLc0kkz+C5J/StGlTDo9JtuOnz5zBsGHD0KF9B+zZuYuzIkuo187yUJ4X2/fvOZsxmRGULVOKTSrI/IKUlaZNm3CUqXbt2uLUqVNwdnYKlbBDigkJIHpn4D90z1hSVHz8/eDm4QmnX85wIKf879/xw+knXN1/w8n5F/8dluZCalAN79nYcGLKps2bw+aBDW+nFYFq1aohfvz4bIYxYcJ4blclZP5EK0oDBvRH9RpVcfPWdYNCHyn09x88QKcunfFPzBgcWYwcqsksLzJCAicljuvfvx+KFCmEFi2aY9u2rVi7di26de2KTp06Y/78+bBqZcVmPmnSpsGu3bs5yp1ZaLzmKpsCoYAPlFAzc+as7E/UoVNn2EbYypSur6s9c0PQ6ubMmTOQI0c2HkuiR4+O9BnSY+q0qXjz7q1yd4YESzd3V7h5/OaQxZZBu88qUXtU3+2/YdrMaejarQvu3LnD7/GnT3Rvs5E6dRqewadknTRGKsca+vu3uysmTZmAmrVr4vCRwxypSof6eEzBEzp36hyo3M2dOxtfvkQm378g6P6+ff2Ka9bWnOelRPGiaNS4PqbNmIpJkyaw+SsF05g5cw46duzEikrGjBl5Miw0qD2n06fPon6DRogVOy6/NzRhZZmgLqZ9OwUCgSC4omIBKGLIxo0b0L9/H9SsWQPly1VEi5ZtMHHyNPTq3R9ly5VHhUoVMGjwQEyYMJYF4Lx58yNBwiTIlDkL+vbvhwePH7Hwohw41aCBnQRfMiGzs/ssK3YcspIK/ZscD+m/0r/JQZv2+/bNjj+I377p9iWzHXIc/PHjF7wNmqOZxtmzZ9nhM1asWAGJ7Trj+vUb2LNnLyc7nDR5Es/2urlSfhTjH35LQjPz9+7exaQJk5And26UKlUK8+fPw/v379i0igqteiVOnABJkiRGp04dcOHCOXh7h9wsTctcR3Kglz6XJFRRIWdXisxDhfx1dD5Nfoq8I+EDXZ/yFHTo2IFt/l+/0c1kk0nN9OnTkS5dOhaGSJCgvqSsHwlku3btQvPmzdCyZTM8efJI7/cgdMd5ePxmIb9wQAb3fPnyYd++fWEeSMBc6L5opYwi21WtVpX9ACjk8OPHj9i8kyYvKGhAhXLlWZFLkCABR3gqUaYELl25rDxdiDE0XtAYQcJcvvx5ESPGP2jcrClsHj6Ar8Xs7sMe6vcUTa9v3z5swkR9jVbxaKVt5KhR3A+VfY7QeudCjqmKSnDxl+7hwYP7mDBxHCZOnBCYQZ76yM6dO5EzZ05WwCjnFAUcUa6a0ntPY3ffvv1Qt25d9rsxNG56eHrh+o1bqFe/AbcXtdWWLZvh4hKy1YewhPw5KfAKhVuuUaM68ubNy+PMwwf34ez8i1dMLl26jKpVqyF5ilRImDARkiRNihYtW3Co+NAQ/ElR3p4nGDp8JBIkSsIJQ8ePnwgHB0uEcxaKikAgMI0wUFT8OSEhmX5QRJY6dWqhZMlSKFeuMgoVLo6SpcuhS7fu2Lx1Kx49fsSRW+7evYMFCxYiV+68iPbPP8ieMzsmT53CZkGmQLPUtGpBNs1r1qzG2rWrsHr1So6QQ0IeFfJxINMhKhs2bAgo67Fx4zpWqjZt2oSNGzdiw4aNbFqzevVqnDt3Ad++hT4R2Pbt2zlSD30k06ZOg47tO2DWzFnsXN+tR3eO5mToQxtW0DXJNK99+w7IlycfypUti5WrVgbzf9i4YQMyZEjP9c+TJxeWL18Ct9/kX6P8rIUOLUFKcnPVZTaPWDy8PDF3/jyOHEWmFrSqQ5DwRAkwSZGgdqJcF9TXaBZfDimGtLpGQsjIkcNlJitKdPfq4uKEPn16s4JLAmnx4sVx9OhRxV4RD82K08oghYrNmjUrh2l+8OCBnj+Eo4MjFi1YyL9TG6XPkA4jRo8IVPYsgaEe6ePtjatXr7IyzpH3ypfFkWNHwzFxqOUgobRr166BJmBUsmfPzpMekuAftpiqqASHTGFprCWzwM2bNwaad9H7T6vtxYoV475O79LixYsDffkkSCmm++/QoQNHMqNVJkM4ODpi/oJFPBlG7ZQpY0b+VoRmsiWsePToEQYNGsTjB71LtKJCQVbk34cfP35i4eKlyBLwHmXKkgXzFi5g5S00qCkqn758wcJFS5AiRWr8808M9OzZE2/evNUcq01HKCoCgcA0ogUfmiyDu7sbjh47gp69eqBw4cJIkzY9kqdIg05duuLa9etsKy1Bg97de/dQt359xI4bFzFjxUTFShXx4L7kIGkY+vCROQ3NaNPsE5nVkOnJgAEDMHDgQB74hwwZynHhKdEXCVS6Qv/W/U1mBvTfoUOHcAZr+i8pL2/fvlNezixoNnDZsuVsykAflXRp06J8uXKoULYckiZLijp16+LY8ePhrqjQSsmBAwfRsmVrZM+eC7Vr18GOnTt4ZUnJ6jWrA0KiRkfZsmWwbdsWeHq4qXzWwgZJSdFlNg8v5J9t6R792T+l/4D+aNCoASsm8lCg7969YxO+RAkTIlmyZPxRf/tW3xznq90XdO/eDfXr12U781+/gufRCcIfb968RpMmjbnvxIodm/OunD51SrZHxEL9m1ZK6F5JAaEM4/QuUXZrJb4+fnj0+Amat2jBgmj+AvmxY+d2NuuzJFptQuMMjRPVq1Xn1ams2bNh9tw5+PY1eJ+P7JDpH/l0dO/enc0NeWXlnxjInSc3xo4dg7fv3igPUenPoSHk56JVgREjhqNv375sJkgKpMSL5895nE6bNi0rYeQgrlT2SXHZtGkjOnfphClTp/BYZogPnz6hZ+8+SJlSFy2N+ujpM6dDpGSFJRcuXkC3bl2RK3dOFChQgL9nFFRFGfyAJuYePHyMFi1bI37CRChWojgOHTkkU7jNfyYSyifqRLl7tu/Cf5mycNtZWbXgSYnQf6+EoiIQCEwjmi4wY2gHnSCkYYcyqF+5chV9B/TjkKCxY8dBuXIVsP/AAcUROt59eM8RYBIl0ZkzkNBz/TrZ7xuHZuRo1olmuMmvgjIdS4Vmr2nAnz59JmbMmMWRS2bNmoXZs2cHFvpbKjNnTseUKZP4v3v27OGVmtBAEasGDx7CM+I8054vP8qVKYt/0/7L28gMZsyYMSFyggypqEAfGYpCVq9+faRMmQoVKlTC1m3b4a0SDejzly8YOGgQ150Eh+HDh+Hp0yfw95f2Ne9jY9wERX2m1vhxloauRXWg+9Rdl3xOXrx4xh/rFi2a4YsiezYJVBvWr0f+fPlYEK5Zsybu3rkTWG8y13r14jkaNKjL57D9YMuZpbUgJYh8gipXrhzY/pS478L588pdIwQSoCgfTOfOXdiUiwTmXr164cWLF8pdGTLje/HqDbp064YkSZOgYsWKuHL5ctCMeqBCatlAsfJ3hAThho0b8sRBosSJeMx5aSQMbmSGoqnVqlUrcCKESpIkibBg8ULYOyoT/wXv0+ENCdnPnz3jUOM0MUTmgvL3mvo8Be2gFQW6F+r7pFzKM62TSSVNRvXp1xunzpyCu4e6w70E9bmWrdqwkz69l8VKlghVdCxLQ+PK27ev0blzR8SOExOZMmfEuHHj8OaNmrJJkwM+uGfzAB07d0H6/zKidu3auHHjhizKoHljshrSO+Pu6YVDR44iR85c/Dzq1qvDYaHV/O/MQygqAoHANKL5BTguWwpp2Pnt5oYVq1ajVJkyiB4jBpKlTIE58+fhk0Z0n/cfbNG6bWskTKT7mJQrV44/wqZAHzEHe3s8efKEP2pkchJU7uP+/Qe4f/9hQNFtJ2d2qdDfdC1Sdu7fv4c7d27xh4yc+g3PeBuGFIKNGzehVKnSbHNNs8h9evfGwvkLUKd2HSRKkIAH/9q1arNJikc4OYZTNDYytfs3XTq2gV60eBGbE0hQbyBFkwQCUvTy5s/PgmiJEsUCPlLSB9EyH0V9JEHKcn3SdJT3of8xpZlcCg/btGlj9O/fN5hJipenJ/cbMumj50q29tu2bcevgBlfmgW/e+c2ateuyTOnWhGNJGimeOXKlShUqBCfj54BhaOliHGGIJ8LMjEjszRaIaP/hqbQOUiRlguLBPUP8mfKnVsnxFSpUoXfIeV+EuTQvHnLNpQuWw4JEyViPx6yx5fPzup6VNBzsIRyquupuvO8e/eWfR8olxHVuUjxYrhnZJwhhYzu31JtSf+l3CZa7WQOzi4urMzWqElhl2MGrKz8g0KFC2PR0qVwcpaPX9L7GnGKCt07hWanZ09JS9VWQ8jPhhRyuhdKzDhu3FiO8Mf4+7Ny3KBBfQwbPgTvbN/KMqYHh+7ywcNHaNikGTuEJ0iYCFat2+Dxk6DIimpQvyPfKjKjUz7DkBY6F51T2ac/frTF+AljkSNndqRIkYwVFvK70eofdnbfMGPmbOTNVxCp0/yLDh06yqJlBp/kCSlUSw9vTxw+egTZc+bg51G1alVeCaZIcqFDKCoCgcA0ouns/y0/WNAHqG3bdohDplwxYqBI0aK4eOmC3iCtS+mn+5tMZKxat+JZWXJIHjlyJD5+NJwfQILOSU6IJPhJjrtBRfc3/UZ5SXT/DV6k/clkjY4h0zQ3N1f4+pIjp+kDv7w9aeZr4sTJnASQBnlaQVm5YgU7/W/evAmZM2Xk7ZRRePyE8fisaWMsCRim18MQp06eRr269ZA6dSoMHDQQj58+1vvd2cUVV65cw9DBw5A/fwH8lzEjrFq15OzPwRU3S/Yd+X1a5l7NRyfW6hcdFICBfKd69e6F7du3wcMzuI273Vc7TlzHiT0TJkSrVla8qkK4uDizfwmZ6yxatAh+vobv8efPn2yjL/m9kPN0x44d2fTCEN8d7LFpy2ZYtWqFxo0bsXJjemkWUJoGbqNwy3PnzuUZXkl4otWhGzeuc7K9+PHjonr1ajh06JDBrNg0IUCCTqJEiZEseXI2F3Ow1/n4KAl5rwr+3OS8ffeOFZXEiXQrtzly5eQw2VqQEkVCMq22Ug6O4O1lXmncuDFfn3zgONO3SYqYYaGOFOYt27ahUuXKPCFC90WTPY0aN+bcMfqR8dTPYRjD1w9Cen+12/+97TvMmTcbVq2t2J/QnU1Iae+gY0jJnjNnLnLlysMrRbQySRNIBIVzv3LlMqpVq4rJkydwBEJDbUg5iG7euo06detxQtaUKdOwGZixVTTq5wcOHOB3VfkMQ1q6dOnC0S7pGyVB362LF89zXpf4CeLxJMa5c2cMRvV7+uQJqteowfmAMmfOgvHjJ+DLF7uAX7XbIiRQQJvjJ0/we0L9qly5shxO2tB7bhqm9imBQPC3EwbO9DpI8ShbtiwPbqR49OvXl5e35ZCiwsFo/f14RaNGTRp8Y6Jo0aIc2YhmHU1BOUNlWcwTmuWf6J9OLhgwYBDix9etnPz3XwZOdEfYfniPfv36IFWqlByBqHzFcti7f6/GPUsCgOn10MLbwwtLFi9B5syZkDdvbuzeswuePl5w/e3KK1IU+nbc2HGwatkKZUqVRcP6jTBm9FheSfEO9SyaKUS0oqL9AaU+3bZDO3ZYfv7sueqM5293N0ybPh0ZM2UKmBH+jzM6EyTwUi6H8ePH4/Lly0b7LYX6JQE5Vy7digUllCTTKmMrjS9fvUTPXr34GEsVUlZotYQEK4ISz02dOpnvL3HihGwu6e4efLZYwtnZlVcXkyRJwufLkoUErHFwdTXf5FEb+XuiXg9Stpq3aM7Zz6ketBpkSPGj1RTyEyDzKmWbhKZQWFlqT616qqO+L2398vUr1qxdy4ECaOWWrkF5asgZm2bzQ4fhNg3CePtTlDtaCenWrQsO7N8LHx/dmKIzP9YdQ35PZJrarl17duCmlcnjx4/yyglNFqxauQrVq1fFsqWL4RMsjL0+1F/JD6ZGdUq2Gwtp0qXHgIGD8fq14QAOpNxRaHYpspolCvU5SuYrN/N99fIlRo8eidSpU3IZM2YUfv7UjqpFz3LFihVIn14X3KRM6dLYv29fsNVdS0ERF0+dPY0ceXRjUKnSpdl3UygqAoEgvJApKmoDhto245BT38mTJwNNViiKy8GDB4IJJXR2Kr+cf3HCPBbIokdjm9s7d+8GcyJUR7eCQTOfJDiS7Sx9nHT/9uFz+Pj4BvxXt00qtB99FKnQv6Wi+9sLPr7e8Ods6aYLzdI9UShd2w+f0L59R0SLFoNnkZs1a4pbt27xft7enpy8jaKi0Sxo0mSJ0bZDW9y+c1vFUVEuAIQcOu/rF6/Y/Izs80uUKIojRw7hm8M3XLp8iYXoqpWrIHOmzCherDj69emPk8dOcrSm8COiP2DS9aVQyTp8ff342VStXg3z5s/j1RE1oZxmIA8fPYy69epy36eVFQqm4OLiigcPH6BRo0aYPn1akCmLAWjljXyupChZ5KBPz+7B/eCO6nJICKPkinny5NE5uJtYKEcLmQLmyJFLbzspFRSQgs4r9c09e3ajSNFCSBA/LnLnzoFNmzYoq6HH3Tt30bt3n0BfigoVygVEfAqaXQ49xgXltwGKimT6ZUxRoWdMKx8UpEPZXiEt9FzIL41MS7XqSdCYRSu8tGrg5UWCofa+BPmTzZ03F+kzZEC0gJWVEiVLsHlr6JL0GW7TIAy3P7Xl1auX0aZNK/Z1u3btKvwCfN3kigqFH7e3d8S4cRMRN24CJEuWArPnzOZ35t49G/To0ZODUezdu1txheDQWH7p0kVUqVoF0f+JiX/T/4dBg4fhtYb/hwQdRwpBmTJlAp8bRVWTCilP9L2id0b6m94d8q2h7x5F7CpYsCD/Jh1P5yI/SrnJJ61C5s+vWzGlEPa7du0waFZFATzo+yi9RxSYgiZQ/MIoxDYl1jx19hSy59WtqJQsVYojZgpFRSAQhBfRdII1/a9ktywfOGggoe3mDYKUE2TkyFFIl04361OvXj22DdcStMkel6K70OxV4qSJ0b1XT7w3yYld58vg5+vDs1QkSFEmX4qUROXt2zc8g0qzv2/evMLr1y/Z0ZdmSKlQjgcKo/zo0QNeTaAklRQekkxUnjx5zGYKv12lMLw6dJ9ibWM5abu7hydu37mHunXrcxvQ0vmmzZv0Qoc6cYbyGfwxix49Gie/IyH23ft3Mr8h5WAuFwbMgz6QZEqUN09eFqBz586J2bNnYtXqVejSpSvq1WuA4cOGc+jOJ4+f4OOHj3BxdjFqovQ38NnODkuWLUXJUiWxfPlSTWGChDEyXaE8CJQ3J1q06KhatTrWrt+I3Xv2sDCycOF8uHK/MgytqFCwh9y5c3MfSpI4MTp37IS7t7UFa4KECJp5pveK+rOphfan94ByJzx6FHQsvQ/kNyCZEJEAPXPWTMSJG4cFppYtW+DChYvKagTi5eGFbVu2chAJabaffHRIUDdtMsIwht5HJTSutGrVKnCm3JiiQpDQSsoKCfzKNgtJoTamXE2UI8fQe2xv74DLl6/wDDYFcdChLeBRW964eQP1GzZEgkS6FSNSinbv3hWUM0QRvEFN2dbGnH2D4+HhzuajpGTMnz+Xw1JL/kjKM3t5+WLFitVs2pQgQSJUq14D+w7sZ3+JWvVqc66tm7eMO8TTxNX1a9aoWasmYsaOjdRp0qFX734ynw51qF1o9YK+E9Jzo/dDKrr3JOhvaRt9Q8iHhgr9W/4O0rnonJKyT6vnNB5LSvPkyZPh4GCvqVR6enpwnqLcufMgRoxYbFY9eMhQ/P6tM58LC2iy7tjJY8iWU5dglCYdyWzRmH+dQCAQWIoARYWQlJLQKyrXrt1A7Vp1kSB+AqRL9y/PCqubNOkgZ9B8+QrwQFi2XFls2roZv1yMC3JSfb29PPD61UsexBcvXoSVK5dh1aoVWL1alw9Fl1tlNdatk/6ty62i+123H+VcoUI5VEjIpP2OHTuGT5/ITyaoTSShSPlhlZC22zs4YO3a9ShcqAii/xMdlatVxe27d/SSy9HHkBQnmq0mB1i6/1KlSmDjxvXwYpMISSlRXk233VA91CDzgK7durKwGCdObBQqVADLli3lhJQ7duzCzp27OD8BCdoCfa7fvIF2HdqjUuVK2Ldvr9GWJxM/8gGiZ5oiZWrUqF2bjy9arBj7JwVFTdOGfFSWLVvGM7N0noQJEqBpk6a4ftWwM31Y4uXlzQErKEkr1Sl58uQ8S0yrP2qQUPb40WP069sXKZLrcglRIbOv0M/K6pDeA8NPRAebfjUPWlHJlSunUUUlbFEXSonXr95iyZLlaN++Pc6dPROwVWtM0PH123fMW7AAOXLqZsDJGX3GDFrBC8jCrn5YuEDjz/btW9hsa9v2rTy5ZKg6R44cYyU/Xrz4SJEqDYYMH4bJ06agaIni2LBpI34G85cLDq003LtzCw3qN+DQ93ETJET9Bo3x4MFD5a7hDgVQad2mDWLEjMn9kb5fWtB7RBMGAwcO4pXVmDFjo2ixEli3br1lV1MUD8TbxwtHTxxFtpy6VV0y57aMj4pAIBCYRrSgcKBqH0Dt2TtDnD59DsWLl0LcuPE4TwgpIh4azoEfP37ClMlTkSRJCsSKFYdniGhFwcekmVbdR97L04Oje02bPo2T4w0c2J+TiVEuFClHCsXtHzlyBEaNGsV222R6MXbsaIwbN4ajyowdqyujR4/hY2g/GpB1K0FBmCoUkWlBm7ZtkSxZcsSJExfNWjTHy9cvlbsxp06dQOmSxREvbizEihUTVlYtcfvubXh5S7P2yqsF1UD5iyEowAFF26EPToIE8VCxYnm2/aYgA2QeZwxaRbDEDHjEoPbU5E9T+VsQ9MvhI0c4slLnLl141toYZOLXrGkzFkBixIiJ5CmSI0euHCwkk/mLKZDTLZlEli5dmp9ZvLhxUbN6Dc5bElG4urpg/fp1KFtGV6d//02LEyeOK3djaGaYonqtWbuGx4HESZIgZiydA/C6tevke6q2P/U1Cg9+8eJFLspQthLqR6vD4Ykb6sITU/1LFCtm1OcnZBjrV8Z+Bx7cf4wxo8ejarXqOHJU59tm7DgK8ED9s0LFinx/6dKn57wqtrYB45jKYWSqS/mBSJEIbnZqOej5LVy4AA0bNsC5c2dVn6UcWiEfM2YsEiUmv6boKF+xIodUL1a8OKyvX1PurgmFU6dVP1qZoTYpXLgIbtwwvhoTltC90yQErZaSWXDFipU4LLMWlNSSkhZTYIG4ceMiQYKE6NK1G6ytrwV7ZnRumhikVUAyC6NJBMm3zFxoRer4yeOBzvTVqlfD4UOHeZVRIBAIwgNWVChAMX0yghSWkENhbfcfOIQChYsgafIUGDRkEGw/fFD9KJEgsnf3XpQtVR6JEiZD0aKlsGf3PuVuRqFBmAQiynZMpjLz58/HwoULudDSOkVY0v17Ef+9dOlS/kgsW7YEy5YtZlMeWkUhX4IlS5Zi9uw5WLBgAX84tGaKjXH79m22W6bBnZygO3XqiI8BWciVosanTx8xe9ZMZMmsiwL2X8b/MHLUKE4gSB+h0D4TCVJUmjdvppudT5gANWpUhbX1FeVuwa7m6ekOe/uv+P79K5sfRD10vVt/9lq+TfmbPp5eXqy01qxVCwsWL4KtCdHonH79wrZtO5Arl85si0qGDBmwauVKNu8wBfKjotl+skmn48lcr0KFCrwCFlH8cvqJWTOmI09ASGJaMT19+qRyN55xff78Gb9XQ4cNQ9PmLZAnb36kTP0v2rXvyKuuQUjPIqjnUQQ+MrWid5nCPdesUZPfSXrPtczuTOHxk0eoU6cOm+UlTJiI83kYc6wOGWp9zjxu3LiDPv0G8WrskWNyRUUbUg7fvXsT6PxPSiG1G4WSVkL9i0xRSVGztr4K62vWePDwIewdHUyauDAXCiBBk0CUiJdMokzhyJEjSJ9BZ0JM42iu3LnQtGlTNqMyFVKQKFoeHU/nyZYtGy5fvqTcLVyh94MsDWgi699/M2DMmHF48SL4RBZ92969e43du3dybpXqNaqzU36KFCkxbdp0VuSV31Z6rvTt2LVrF3/nyDJAbnJsDnR9Op58cajtyIz7/PnzIVZ8BAKBwFyikZKiy6QiX1kJOWTyRMrAv+nTI0v2bFi0ZDFHQlJC4RefPX6GAX0HInnSlMiRPQ+WLVuJL1+Cf1CNQcI8zSCRHT05y9IqCA3UNJtEhcw93rwmvxXyVwnwX3nzBm/Zl+Ul+6/wvm/e4uXL13jyRGdj/O0rCebmC0VkOrV71+7AyCzZs2XDjBlT4eigy4CtVFTIcZ8Uhjq1ayFunDgc+YwcMsk8LfQRe4IgRaVlSyuuEyUP1OVFoQzNhK5GOtFK1w/oA0gfPXJGJfM4yjZOduZRDzWh0XRFhUyw5s6dg3Lly+HkmVOsuBjDl8Oi3kHVqjUC/TJo9pTMPZQzoIagvButWrXm4ykcadmyZXiFMqKgthg9ahQy/qdTqnWKin59aALi5IkT6NK5M5o3b4FZc+Zi+oxZqFuvAQoULIb5Cxbj82cpnCohtb/ujSAhiKL+USjfHDmys4BJCSLJTIvMoGi1ypw2lKB60bFVOIFmdOTLVxAbNmzEz5/GTYjMx3i/MsaZs+fRoFFTns1ev3EdPL2NO9Q7O//C4cOHULx4cX4+RYoU5RU4NcGSfCjWrVvHwiwp4mPGjkX9hg0wacpkPNdI2hlS/Pz92EerT7++WLthHb7YyZ+/NvS+lK9YATFj6XLEFC5cmM1zldnqDfGJMtP37IkUKXSmh5mzZOZVQC1fkPCAVktpBT9x4iT477+MmD17brDkwqR/UM6krl07o2HDepgzZzZbB6RJnRpp06RhZ38a05WKCv1N3z/KU0NhkSkQBCn9IVkNp9W23buDvmUd2nfgc4Xk/RMIBIKQEE0XItjXAiqKDkp417FTRyRImAC58+bB+g0bgp3Z39cfr56/xIihI5A1c3b8lyETRo4YHZiJVy7EmwINzMrBWg7/7ufHgysN1lTIrldXfPi//n7+8AuIDObtRcWbncilcxs6vx7+wMvnLzFu9FgkT5aMB/daNWrg2jVrjvSlBeUn2b5zBwoXKcLHxIsXF00aN+JcFRIm1kATmqWeMGEy0qf/j8N+kg/F8OFDcO/eXT2FzMvHiyMInT17jleXaOZv566dvPLjqxKSV1/1Cm0twwpl3ejf+gKyFpQktFv37ihdpgz7Z5jK2zfv0KkzBYlIyuYalIeDAk2YAz0ziuCVOnVqVniKFSsaEOJaWWfl/clRPh+t/YxDASCmTZmKnDl0q4Vp/03Ls94kCLs4O/M7TEJvp44d0bBBQ+4/x46fwJw582Bl1RpDh43AxUtX8P27PZsa6ZL16epEfjs/fjhgz5496NGjB0dIowhPZKbZuUtn5CuQn9uha7duuH7jWrBxxRg+3t64etUaZcqW47pXrFCJndWD5xkJXRsFoWxz+TmV25W/A0eOHkW58hU4OaZVKytcvHTRqIBIqwdDhgxF6tRpEDdeQrRr1wHv3r7T24fGPzs7O1ZQKIjG3r37eFVl//4D6N23L2rUqo0FixbB1la3AmwJ6FzzFy5A7359sf/gAZNn+GkFbeiI4UiZOjVP4JDZHgnv5pge0bVopV0K801hm3fu3MF5ssKD4E9WZ0Y7depUpEnzL5t+0QoYrTgRHp5esLX9gO3bd3Ayx1q1amLy5Ek4dfIkJk2chFQpUiFr5iysQND4QO8RvX/ybxRZApAVQaVKlXjcoRDNIZl0ownAHTt2sqJCOc6GDBnCip9AIBCEF9F06yhKJ/qQQ+ZXFGmGcoNQWNNly5frCbdent54dP8hpk2ejlQp0iBp0hQctpQ+lNKsn9rAbikMKR1q281VVPx8/HHmxDnUrlkHsQIyRXds35E/KMagkJz1GzTgY1gITJsKY8eMwssX+mYO5gpoEr4+vrhwnsKDdkTChLqoR1myZEbv3j2xa9dunDt3HidOnOCkZDOmz+DVl2rVamDmzFkcRUr7qdB2KeiC1j6RDaqnmqISvP7rNq5H8VIlUbtuHbx4afpMs/03B8yfuxBZsmRD5syZMX36DBYQzYEEMlJMSJAhRYXMCcnpVt+Zle7BUNvL71Xtnk3Hw90dp06cYvMp6j8JEyVk066dO3eyYy/NElNWcUoYuW79Bha47ty5h969+6JcuQoYPXos1q3bgH37DvCkBvm8SJDSYmv7jk2VKNcMJdyzff8Bbh7uPMM/dcZ05C9UEBkyZsDCRQvNfg/c3Nxx4sQpFCyomwwgM5bgM82hax916FxSkW8z/EwOHToYuDJCDtT9+vVTNQ+SoNl1ylVTtGgxpEieBjVr1MP27bv18nYQ1He2bNnKodOHDRseGCqbxjh6Vk2bNueZeGp/U8c9Q1AC3SOHD2Pw0CEYOGQw9u7fBwdH0xSVn04/sWffXhQoXJCVr759+/JqtzGFTQ5FqKKVmVq1dCaUadKk5ch7dnbGQ4RbAuWTl6D2rVateuB4P2jQYJw9ex679uzD5CnTULlyVZQvX4EtFGj8ffroMQb0G4AkiZJy5C9SVEhpIGWOlBX5s6LvDQWHIbNRUvjJxyskq+GfP3/BokVLWKFKlSo1K1dhlbNFIBAI1LCookIfDxrIaOaLBl6yyafwu9+/feOBkz6YFFp1/NjxyJsnP4cI7dSpM+7cuRuQJ4BqoRM/Ql+b8IU+EiTwOHz/gWVLVvJKUfRo0TlDdOfOXfjeKceG2geWjvXw9IbN/ceoUaMOHxM9+j+s7KVPn5YTDJLPA82IUX6WoNDF5uP00wWbNm5D+fKVkCBBAhZ+yfwgW7YcKF68JAoULMgKJs06Fi1aHMuXr+SAB2r1DoKe1p+iqNAqmm4ljXKneHh6ot/AAUieMgVH7XrxQpfo0RSzEU93L1y+aI2yZSuiQoWKbIJjisIqh1YCyYxj6NCh7ACeNm1aFlz0TV/U7kOOUiA2tK8R/Mls0xszZs7i95d8PSjyV5YslCtClzOCFIDt23fi9293uLl54PTpM2jUqAmSJk2O7DlyoUKFyujeoycrN/L7IEXF2fknPn20ZbNLDoEaIHzR/95/+ICF3QKFC2P+gvlm34Kd3VeOopU+fUZ2RiZzIJ0CLieU7WMy8v6nck1/fw6kUKRoER5P//knOgoWLMTmPB8/fGDzUupL7m5ucHVxZZO8ffv2o2LFykiZIjVq1ayLrVuofV2CJW6n2XYK6kCh0+nZUK4WCVJaKLhIxYoV2dTI1DC0yskcaTwkRZTCwFPi0vYdOmDAoIHYvHULPn76aGRM0UHvms0DGzRo3JBX1CgQCq0amft8SDnr168/j63JkiXlBMSPHxnOR2QpqKZqtaVntmjRQjblonqlS5cBhYsUQ4GCRZAlSw42G126dBn7tFFbXbtqjS6duiBl8lScr2XlypXsw2Zjc49X5OXtT6Zl5B9Ws2YN9um5cuUqvEKwonLp0mVeCaVABLQiRSbAaoluBQKBIKxg0y+1QTQkULjIYcOHs5JCAy8JZzSLfPDgIV5pGTBgIOrWrYdqVatxZubNm7fg6dNnwT6GlqqPPlqfC8tAggOZvezYvgtt23RC5szZkTZNeuTKkRd9+w7gAf+ejQ0cfuhmEuWmdi6/3XDt+h1MnjIDNWvXR67c+ZAhQ0akS5cO/6b/FxUqVcD4ieNw+uwpfP76BR4+nmbPJkuQidu3r9859GeXLt04LHTKlKl5xixTpswsaJKQQjPjp06dZuGOjjGM1LZh28aWheqpIiDyqp8nJyG1/fQR5y9cQMvWrfBf5oxo3KwpNm3ZzPk/tBI+6uFPmaTteSac8gSRTwCZH5kLCaMkdJDySHb206ZN4yhAQSjbX16k+zNWzOPd+/dYtnwlKlSsjPTpM3DOpJIlS3LUPHL2pxwgBM2mk8Bt1dIK+fLmR8VKldken0ywyKeMfNUkSPnz9fMKSLIanBcvX2H8xImwat0GO3ftNvsdIP8UWukhhY/CrNLKlOtvZcJJ9T5heZTPSP+a1C4bN21CwSKF2UeFhPRChYuwItKxY2dMnTod69dtwMb1GzF9ynS0ad0GhQoV5uANbdq0xeHDR3iFVnkbNKt+/vw5FC5aBNVq1MBVa2tesZL4av+Vc5wUL14MQ4YMwle7L2wSay60Ok6z/bRCO336dFYK27Zth3bt26Nvv75sLkj+V6b4TXz7/g3jJ4xHvfr1MGXqFD4uJKxZsxZ58+ZjZ/QaNarh/Dkp5HPYo9WbyFeSAkbQu/Mvjffp0qN0qbIYO3YCK5FfvuhWYElRIdO/Ht17IHu27Nx/6b2iXEu0kkbRueSQokKh+evVqwsrqxYcLCEkpl+kDNEKFPnHUeCJ69evGR/3BAKBwILI8qgEnxUzBwonTEIdmQyQokIheceOHY9Tp87g6NHj7LRJEV969erFHy6KqKXm4Bk2qAsDloI+IjQ7ZmNjg1279mDO7AWYMH4qpk2dhUULlmHbtl04dfocLl25jK/fdcECdCtZOpx+ueLK1ZtYuGgFFi1ZgSVLV2H6jNmYOn06O7aOGTcGU2dM4cg/r9++hqv771DfCc0w0izb0qUrMH78RIwfP4Ez09PMJ5l+kTnBn412n3D7/ZujJD1+9gQHDx/CvIULMGHyRLaxp7ahWUxHxx8mzQjTKgEJFCQUk4AVEqGPIOG/foP6rKiQ0nP/vk2weuvfk7yooX3/pvLj5y9s37ETM2fO5ESlFD716VNacQq6R09PL84mvm3rVixdshSbt2zFmzf6PhNBSKORfFQK4sbNW+jQsQsmTprK5zQXEppJEafxqX///nhPUfWCPY/QtUnICH5NCud++sxZjBozBvMWzMPKNasxf+FCjBw5Gj179sGI4SMxcdxEDB08DF07dUPD+o04xw5Fhjp9+rRm3qrv379h6bIlyJw1M2rXq4vrt27ATRbJ75v9NyxYMBd58uRCp07t8erFM/h4m+4PIkHKPgUuOXr0KEdZpELO30sWL2bfCXoWFD7XlG8AjVX0vVi1chUrOCHJ80Sftfv3H2LgwMFsRpcnT27s2bNLuVuEQKtYNJE3ccIEfn4UROXli1fw8w3qDzTWUHvS+EM+a2QeSSZwWtBqGwUdqFevDtq0scK1a2auqPj746vdVzZHo/clevTorFCRUiQQCAThCYcnlmYmaTAPoZ7C9t9Tp05D1qzZdFGrChfCxYuX4OHhxbNCtFxPkbXIRp8+NDrzmRBezCByAUy+TV34sQRknuPq4sJRW8hMyt7+B37+dIW7mxd+u3ri2zdHvH7zDm/fv4PLb12me+n/CDL7svvqgNevP8DB8RfcPX3w280Lrm7ucHZ1wXdHe3z4aIt3tu/w9fs3jqJm7mxycHSmGfRBc3JyZrtj+jf5RNCzMUUIj1oohWB5P9FvS1rhIxv6D58+4tnz5xyO2OGnI75++8YzoBRUgJ63Kf2XVgkoCzkJZSGZ0ZQgYYaEPTLLo+zQO7ZvV+6ick/K90COcl/z4KP9/eHl4wM3dzfuOyR0Ur9RNgtto35FAqe0jzradaLjyam3fPmK2LJ1Gzv1ByE9T23omZLNPq0eZsyYiR3+g1WUUb++ZZHqq1Z0+Pj64et3B7x9Z4vf1LY+3uxkTaskFJXwxrUbOLT/INavWY9tW7fjwtnzePbkGZsJURRBrb755csnzJw1HZmyZETzFs3x6PEjeMoUEbtvXzFz5nTkzJkNLZo3xa2bN+BpZnI/ujY9Z0cHB7x/b4sPPC5+5D5MpnZU6N9OP3+atKJC/YUCNZCiTxNC2v3HMJ6e3jh06DCKFCmCjBn/w9Kli3mFSautLIv2NaT2IvNgMuGivs73qDiEttG3kyJBOjn9NKjk0ftICg/lrGnbtjWuX7c2S1Ghb8Dp02dRp049xIoVl9vszJnwW4ESCAQCCT1FJTSQoNu7d292rs2ePTtmzpqJL190zoo0w0rFlI9S6KGPmOQvEbIPWkige6NILmr2u3Tb9PHRSphIHyofHz/N3AX0dOg4EkDIdMjXhKzmAjnUgpIAqlb0+z8/D18feHl7wUP2zHQChReb5ag9Ry2kSHOhhRy/yYmdfEKGDxvG5h36SPeh/K8xTN0vCH2x2lKon5HanfJukDmiFMFIH/XnKIdWwbp27cq+WKNHjzOwYmj8XKFH2f/UIcGU/KSUeHv7cFADEmzJ9OeX0y82D1SPyKePg/13nmnPmy8v2rRtjRcvnukJvF/sPmPSpEnInz8vmjRuiJMnjnOIWnOQVuapPnRu+q/0DtA9UaFx0hLvhLnQZNmIESM47HW/fn3w/PnTcKiHJfpU0LGmKFY0KUDO9u3atUWHDmSyZW3WRImrqxsWLVyMXLnyIG/e/KzYU1/ToX19U+omEAgE5iDLTB8K/P1h++49mjVrhhixYqBi5Uo4f/ECzwSGP/RBCH9FRRCZod6tFA7lJVS9P9wgc55t27ZxLoniJYqzGYh+9K/wg0YMi4wdJkDmJkuWLGGTtwP798sEJglJbdKuCa2m0GpMq1ZtYW19HR4eWkJbWPcJtb4Yfjg6OrCJXv78+Xim/dWrF/qKyhdSVCYiX7687Ntw+fLFYD6ExojMwioJ69euXYOVlRUKFCiACRPGc3CIsEP6Hqn3KV1vkLbL99Xfw9xAJbSisnnzZrRs2QIdO0qKimljBfkkvnr1Dh3ad0bBAoXZ74wjwwU+V+0+G5mfvUAgiJpEC/xUhmJ8cfn1CyePnUCZ0qURO04cWLVpjRevXsLXL6xnqtSQBnXlgP+3IRfe1B6ufJva71Ed+T0pBUO1oiRytglFbJo7dy5KlS6Fxo0b8UqBOTOllkSrZ4Wc4H2WZt+vX7/OdvmLFi1m/yH9fQ1DM/dky9+3b3/Url0XO3bswq9f6v4bOrT6gyWg+ir7XVhdSx0ynSJ/KVJEmjdvgkePHvAqoQSZV82dNw8FCuZHu3ZtcO9exPWvsIIUL4o4R+ZMpUuX4iz1Hh5hNalGz1z6HqkT1IulfZX9Wuo3pkOrraScN2nSmH2NyEfF08TwxOR/t2njdjRs0BS9evXDzZu3ZCt7pr13AoFAYCmiKTeEBMr6PnLYCPyX4T+kSp0aQ4cPg12A03j4QwNqZFFUInJAl38g1eohF5rUfo/qaAmFppbI2SYkuFNIXwrPS9HZKBki5SAKqd1+5EJ6Zjqhjvx7KHLUwoWLOT/Ip0+fFTO2hp8R7Wtr+xEzZ85GmzbtOOkkrcb8SZO+5s5g00w7+RqQn1OtWjWCrZiQP9yipUtQtFgRdO3aCU+fPoFXmK44RAT+7ONBCn+1alXRs2c3WFtfNnnFISpAz5kC2JCiYs6KCik4Fy5cRK+e/TB0yEhcuHAZnmYk1xQIBAJLYxFF5crlKyhetARix46DnLlyYfqsmfjm8N3sj6hlkASdyKCoRKTQKxSV4MqHOSVytwk5Jy9fvowzT1PWbRLoo76yEtRnaeygABwUUnbChIk4depsoA+X5ANh6BnR7xQamrKut2zZCtOnz+RoYxEzJkUe6P4pGASZ6VatWhW7d+/SS+D3ztYWQ4YNRbHixTFx4gT8cHTgYCF/IqT4rlu3Fi1aNMXw4UNw9+6dKNU/DNVVCk9MzvS0MmaKjwqNH9bW1zgK5PDho3D2zHnOhSQQCAQRSTTdx14S6gx//JX4+fnD0f4Hli1dgYQJknAYw6zZcnBIzbs29+D0yynAUdG884YO6VrK66ltCwlyYdYYWnUJD+TXVrs+bTPnXqIK8ntWKh/KIimzUjHWZpELshvftGkTZ3EnvwNyFDYkvISG8GmRoCvQvcyZPQe1a9XBrl27A6N8ebh5wumnE5vAOTv/0lTOPnz4iP37D2D+/IXYtIly3zwLRduEz90bIvjV5f1bjtSPtSEhlhLxUih5Ci0t9/m5dv0m6tZvgKbNm+PIkcMcXtvY+VSJIq/RVzs7HDiwF9OnT2WlhVYnKTBByPtK+GGojpLpF5mHdujQlvOfGIr6RUk/aSWFVh3nzVuAK1esFZH1TEGrTwoEAkHIiRYkrEn/1R789PAHHL//wPEjp9C5YzekTZsB6f5Nj3LlK2HEyNE4eOgQx32nhG/+ER6lSj6Amnh/mkhtpbVSEVWgukeWlSdLIn/WhgrdNwlh8m1Rk8OHD3O2+kuXLrFZmFrkudAgd5wPa3Qz/p+wbNlylC5dFhkzZubEsBTx7OzZc9i3Zz/WrVmHgwcO8viijNhEf5OJy4MHD7F9+y7s338Qrq7K6GjmYqmxI2QEBTOXX1/qw/J+K73ThutKEQgpctrw4cPRt28/VuJoVcXm3n3MnD0XTZu1wLLly/k5hJgo9Fr5+njhxo1r2L5jO+crondI3q8MKQSRFTL9osmLpk2boE2bljh9+hRcXdV9s+heKb8OTQisWrWGE6NqTQAYRq1PCgQCQeiIpv9FMfyBk0OD98tnr7BowRK0b9sJXTt3x5AhIzB37gLOc3D8xHE8efKEbYGFoqIjcn3w5IpKZKpXaDFXUZGUlagLRf4iof3GjRscdlcr2V9ICU9FhfJEkG199eo1kDFTFhQpUowjNFm1bImqVaqiVIkyKFa4OEaNHM3ji1ygoveLzFvs7b/j44ePsLP7jt+/Qzs7bsmxw5JIfVjed02rK7UHKW979uzDsGHDsWvXLhw+fBSjx4xDy1ZtsHLVGja7UyqBZmG8GpEEMiOkPD8e+PrVDh8/fuCwz6aEeo7MyFdUGjVqiNWrV8LW9n0wBYT+JqVGd++f2JGeFNmQvTNqfVIgEAhCR4DpF0H/lYoxdDbizk7OePHsJW7fuoNHDx/jxYtXsH3/gU1SKLM3Dfg06BkjZIOiOZj2ATcNaTCOWgK+ehtLbfInIT1reX9WFukZ/hmKCkHvGc0EU2I8Q4ngIhbD76GPjzfevHnD+VKqVKmKOnXqo2fP3ujVqxeaN2+GsmXLo2zZChg8cAjOnjnL44s+/vDz8+EITpTIz08lB4lxpPqFtoQSeVOpnk7ez9VQ265/zPfvDjhz5iz7AHXo0AkTJ03B2XMXeCXFWyOn058MCe2U64reH/XxUoeh3yILDvb2vMraqpUV2rRpzeahFy5cYDM/pQJKK7D0vvh4h1Y5k/qXQCAQWI4QONPrvpw0C2Upwn7gNywgmQed409RVP5EjAlwhLSP9ByN7S+wDNTG2u8O+UNQeNxTp05h+/btOHL4KC5fvoLz58/j0KFD2LJlK2enJ7MuWnkJjiXec7l2EJoS0usHoDwdlVAjbx8dpOydOHES69etx40bNxEii5+/jMg+llL9HBwccPLkSU7UeOjgQZw+fTrQxE+5qiIQCASRmWg05Jo37EqChvqMm3nnCi8sIcBI0Dm0hS1BRCM9a2PPRt4nTNnfENJbFJpz/A1Q+xh+d0InBMqfaUiR94nQFO37kN+j5v3KuxQXf0OnlGGoH8rbR2sfQVSH+hSZc+kCTgRFdBMIBIKoSCgUlcj6sQvrj7FcehBEXeT9xDQBUxs6Tlt5F8iJ7O+Osj+EtJh+j5rKCiP1U2nMNYR8X0Pn1Eb3dAzX33B9owrmP6eoBD0jMvGy/LOS+phAIBCED0JREfylyPuJspjbbyThUCgqYYc0Upk/YpmHsi+EtFiqjnQe+ZhriNCNfbq4YrqwCSE5PmphfjtZXuiPikh9TCAQCMKHaEFhL6VB29hgbOq+hn4LS0L3sRb8TUh9WN5nTOnbSuTHhgZD75batqiCWvvI294U5OeQt5Gp5zFlH0J5zpAWS0HnUhvPpH8rt2nta0qd1MIg/6lo9SNtIreiYqhuavemvG/l74Ywd19zzy8QCARBBORRseQqCR1P54mo2WXp+pa4l8hN5P5wRjXk/UZZwgutvhsRdbEk0nggHxO07lUN5bNR22aofYz9HhVR3reyyNtUaitj7fw3oWyvqNo+8vdADa3flfeu/N1SaF1fIBAITEOmqAQN1uy3qSUE02aNn4KgHYLspDXPFSbIB8bwvK7gz0D58Q7vD6xa343KH3t53eX1N+c9lfbVahNj5zH2e1RE7f612kJt29+OWvtFxfYxNjZovWf0d/Bvv+UxVj+BQCAwTEAeFWUxggm7mHyuMEF5bTPu7Y9H/mEWBEf5LoS230jHK9tcbZv8N+Xfoa2HKcjrKr+WXJDR2i4hr6vy3rXu39h9qdVJebypRX68cltYo6yLoesr91HuS/+Wt6uyyPdV2xZeyOupVn9j2wjpeLVt0v7KYgzl/qYcE1LkdSW02kT6TdkmakWO2jYJrWvR33IlRfm7HEPblXVVO49yP4FAIDCdEORRiYpoDdZ/I9IHKqJM8/5G1No8MvZJrTqpCTP0X+me5Nvk+6oVCa1rqaEmAMmPV9umdk05aucMa0JSP3nRun+1It9XbVt4QddU9hNpu7JOas+UoL+VxyvvV+veIwPylQvCnDYhlPenbB9DyNvUWPspr0tIx6tBv5lSf4FAIAg5QlH565A+klofH4HlUet/atsiGq06qQkzpuyrViS0jldDTQCSH6+2Te2actTOGdaEpH7yonX/akXtmYTnvUoo66ncrnVPatvU7kmtRMR9amFK/ZX7KuuvvD/5McYw5fpqv0tIx6tBv6k9P7XzCAQCQcgIQXhiQfgjPSVLPSlLnSe0GPpACgQSxgSgkAhwAoFAIBAIIjtCUYkSSILanyaICUVFYApCUREIBAKB4G9EKCpRAqGoCP5mhKIiEAgEAsHfSKh8VCQlR0t8kGPqfgKBQGAeQlERCAQCgeBPRCgqAoEgiiMUFYFAIBAI/kSMKipCuRAIBGFN6MYZc6ZMBKYgWvTvxp//T78fKItAIBCEBwYVFTEoCQSCsEaMM5ELIZAK/FQUFdom3y4QCAThgVBUBAJBhCLGmciHeCZ/L3KlRE1hkfqE6BsCgSA8MKioEGIwEggEYY0YZyIXSqFU8HcgPXOdghKkpCgVFlPQHafzG/MPOMjfX3dW4U0mEAhMxaiiIhAIBAKB4M9EroAEL+qrKoaQVBzdioyfTjmRFUMrNaacXyAQ/F0IRUUgEAgEgr8UpZIgVxTo32pKhSb+QcfIFRXa6u8ftI6idk6Tzi8QCP46hKIiEAgEAsFfjJaioFM1WN3QVCCUxxCBR/n7cgGoKPdi9UXjDKairLko+kUgiPoIRUUgEAgEgr8YNfFW508SuC6iLvbyPvrH+Pn5wdfXl0uQoqLllSLPgaR6BSPQcdL5RQleQtKmAkHkQigqAoFAIBD85ZBIK/cfkbbq/k+fIH+TIJFYwtfPn4uPry/85D+oortqyIVq+fHSOZTCelgWabUosilL8jrJVUmBIOohFBWBQCAQCP5ygtZP9IuamCspKrrjAB9ff7i7e8DB4Qc+f/mKz1++4cPHL/j0+SscfzjBzcNdRd2RjpaEa7XfQ0J4KiukDPgEFOVvEVXkdZIrUAJB1EQoKgKBQCAQ/OVIColUDCkq/CuZdPn7w9PLC+/e2WLLlm0YOnQ4unTphk6du6Jdh07o3LU7Ro8dhx27duHbt2/KkyiUCkshFBWhqAj+JISiIhAIBFEEdaExCGO/CwRaKBUVyehLvU9ReC9/eLi7487duxg3djwqlq+I1KlTI378BIgfPxHixo2PhAkTIcN//6FmrVrYs2cPnJycFOeRC9iWIjSKitqxUgsot1OJjKZfyjrJ6x/8SQoEkR2hqAgEAkEUQCdq6Ga51ZCb7qib2QgE2hjrX0rIaf7p0ycYPXo0UqdKjX/+iYEECRIgbdo0+PffdEiUKDH++ecfRIsWDfHjx0ezZs2wZcsWvH37Fj4+NNtPyBUA065rHC2lwliRrq9VJ+X+UaGo1d9S7SwQhA9CUREIBIIogDFBUigqgtBAPUYqpuDq6orly5cje/bs+Oef6EieIjmqVqmMXj27oUuXTqhatTLSp0/Hv0WPHh1x48ZFrly5MGHCBDg4OAScRUspCA1CUQkqyjY15wkLBJEDoagIBAKBIJwwVxwWhBfqT0Z9K4UevnbtGrp374bixYuiW7fOWLtmNS5dvID7Nvdw784dXLhwAUuXLEGjhvWRMnkyXlmhUr16dVy6dAmenp6Ka1gKOpeppljq92d4m7woz2eoKI+1RFFeQ1loH7V7EAiiDkJREQgEAkE4IBeshLAU2ZCLv/pb9Z8ZRftydnbm1ZQe3bth9qwZuH3zOjw83PWOJH44OGDHtm2oVb06EiVMyIpK1mxZMWfOHHz79l25u4WgepqjqIQGU5QFS1xHC2PXD6vrCgThh1BUBAKBQBAOBBd6BRGL/CkEKSrKrZS0UYpqBXh7e+H9+3dYvGQx1q9di08fbeHtLa2OAP5+/vD384Ofjy/8ffzw4d17LJg/H1mzZmVFhfxZevbsgbdv38iuY0lMUVSkuw0txhQFS15LjaCnFvy60rUFgqiNUFQEAoHgD0DfR0VGpJFZ5MJUhFdGEICaGB3Ug+hZSRGkdNtcXV3w4IENbt68jnfv3sDbyyPwN0qtostG76NTVnx98dvVhU29ihcrzopK2rRp0b9/P7x//1Z2xbBCTYBX3m1oUDt/WF3LGMprh/f1BYKwQSgqAoFA8Aeg6UwfaWQWoahERsxVVNzd3fHhw3s4OtrDw8MNPj5eer8HHfM/e9cBH0XRxaWDqCiggHRQqiBSBARUED5QutJBpAgI0nvvIL2DSu9I7yDSe++C9BICoaT35C75f7/35uZ2b28vuQQCAeaf38vdzc5O29mZeTOvRLNlsMjISFy4cBFffPEFMyrZsmVD79494eFx255fwsGMkTDW9mlgln5C5RUbjHk/7/wVFBIGilFRUFBQeAUg2BP553DB1WrUOSxBoV/UPdeMFWKAvhs4dxX65sio0ClJWGgQn6RYrRGIipJiYfJO+q7Ft1qjcP78v3ZGJV++fJgyZRIePzZzAPmsoe9zCdH3zNJPqLxigzHv552/gkLCQDEqCgqvDfSTqprAXj04LypdQt8VnhvUAioxQ57GMZEMlw2kPK9/XvQ7KirSxqRE2nRYRIdikS/yWK/rWBER4Th8+AhKlSrFjErp0qWxZ89uREY6K98nLGSnd9X3zJgOV3ElzO6Jy/0JAVdlUlB4OaEYFQWF1wb6CexFTKAKCQt6pomZUVH9LzHDVL/JxpgIRsQeoutnkjGRz1aE6+8hC2EbN25EkSJFmFGpWLEirl+/ZrvHmFtCQpbRVZ76/uluPzW7Jy73JwRclUlB4eWEYlQUFF4bGBeKZvSqwFivmCixwLiwiOtCh+K6eV8slxMGcSifQoLC2Pv1+k1GSKbDkVmhZyiZFXmCIkjEJc/1Ir6npyfGj5+AbNmy4p133kGXLl3w+HFCmSaOCcZaG6G/HlM8PfR92vjeupvGs0ZiLJOCQvyhGBUFhdcGriYwPb0qcKeuRIlj0haLOyqP88IvMcB5oRof6J/J06al8DTQL1kdRL5MTlQknPuA/nmKUxVh9UuQlYIAnD59Bk2aNEWePLnx/fffY9u2bayQ/2rA1TjzIuGqTOrdU3g5oRgVBYXXBrFNYC96gn2WcKeuRIlp0taWjs/6mTw9k/EsQGWQTFhiKM/rCdnLRE+LhtV2jqJnVuIOzYSDOE0Rn4GBwVi8eClKliyFn5o3x99//42goCDjzS8xzN7XZ/POxh+Uv3GzQ0/xeb4KCi8OilFRUHhtICdVIVvuPIG96Ak2cUIu6swgGQC9eEzcmQJ9DnG992UC1S1hGZX4tX/8YOwX8rc8ldBTjCcVBjKDq2v69DVyfI9la4syiHKYnaI4MirxW9SK+zWcPH4Sbdq0QdmyZbFq1SqEhZHPFT30eSk8G7jqUfF7pgoKLxqKUVFQeG0gFwUx7bYldhgn34SH2ZTP4SaLYovFwr4j3Edsi0KZc1zSTKyIra5PDyPDaHw+9mdj9kDjCGMS2pN6toxKzNccGQ4jo0DQv9368sTMqEgRRLNczSHLIu948uQJe6SvXLES+vXti1u3zfymiJxfjf6d2JGw756CQkJBMSoKCq8QxEJZMiJ66BcEMdGzh9VqhdVK1oHinj4tNCMjI5gSqnyxwXGRqH2jRS+1tcViRWhoGEJCQhAZEWlrf3dBi2mbJ29eGLoGXSfneqId9YsNUgrQ/XRANLc/9QsLfVqt7IDPuICPCXGJGzP0ffBZpekIjUEhpW4rP4vISAs/H9rNp34oIj59EYxJyN9GRkXPDJhBH9eYZmzQmANnxkOLo7W4c5m0slIcIQam/ZKl4TaNpWwyXQLpoGzZsgUtW7REi+bNcfToEYSHhxtviWetXSM6KorfQz8/P0RE0JjxfED9jfoXvVuJFwn77ikoJBQUo6KgkFgRy/xNC2VaEAQEBeKJrzdu3bmFs2fPwNPTA5GR+kWB41LEcXGgv2bOCMR3KWGJjISPjw9u376Fhw8fICIizK1FL9WLJn2yDHT58iWcOnUCJ08ex5Url+Hj+wghIYHsw0EiLCIMwWHBiLQk9CJB34bCuhEthu7f98KxYydw6d9LYsc+To0VDYs1AoGBvvDxfYLAQD8EBwciODgIwcHBCAmhzwAEBPjA6+F9PPDyRHh4iI7pi4IlMhz+Pr4I8PVHeFg4wohpCg5CgL83nng/hLf3E/j4+sAvMAD+gUHw9qW0HsLPzxdWa0K3mR76fuZ2A8UBlKaN6Ysmht2CwKAAXLt+HecunMfjx48NcUUZXPVJ81BH6N8NUTv9qQSF6RkH8xRd3W8eW8DKbKtzHOP9+uvyuz4/vsdmpUsroyh1FOegjQkxPTl9G4aEBOPMqVPo2rkLevboiSNHjiAoKFAorTjBLCz+ePzoEfbvP4DVq9fg7t17xsuxIjIi3PbuBSEoKICJvoeFhbroJyIsPCwMV69cxX///cf9LG6nqjbYxhNqP3rv+d0PIgrmsSA4KJDbMSg4kK+FBgchhMNFvKDAIAQHUhiRiGNxGBPlE5RP0dhDFBQSJxSjoqCQWOGad2Dcu+eBuXPnYtjw4ejTry9+6dAeLVv+hM2bN/Ji13FpEuMywzEzw/wVnymNJtzz58/h999nYPXqlbhx4xozT+aTvSPuP3iARYsWok2bVmjSpCF69+6Jzp078vd27Vpj+szJ+O/KvxyXTgo2bt6Af3bvgLevt1vpxx+UthSJEacf5CNi69Zt+PPP2Tiw/4B9gRKXchCjcufOLezatQNz5vyBESOGYsSIkRg7dizGjh2N4SMGYcjQ/li8ZAFu3LzGDJ9EdFQ0/H38sGfnbqz+aw02rd+MebPnY/TIEejfrxemTZuIixfPM3MSEByE0PBwZmoXL1mCBQvm48qV/2C12E4ZEhyx9cOnBZ1wCUeE9D0sLBjnzp/D8r9W4OjxY/AL8LfHFKdYRILhNCIufV7e78Ak6E4PzZgGPfR5iRbSTjtcgU4+iEReNorhVEVChsVcJrpfMCn6VFzHd8Slf//FiKHD0L1rN6xduxaBgbSxIJ1CJhwo/X379mHw4CEYOnQ4rly5aowSI8gxJTminDBhLEaNGoFhw4Zg2NDBGDVqOBYvXgR/f63/aBCtQgzOjRvXMXv2bCxatAhBgTT+ug8qu7+fH/7ZsQNTp07FuHFjMHbsbxgxfDiGDxmG4UOHYWC/fujfry+GDhuMceNGY+rkSRg9aiQGDxyEgf0HoG+vPhg0YCDGjB6FCePGYPKkCfj34gVdLnpGJSHfQwWFZwvFqCgoJFbEMo9cvHABDRs2RN68efH+Bx8g3bvpkCNHdsyfNwehIcG6mMalkBH6icsZMd1pBl9fXxb7GDCgP/oP6IctWzbj0SMvm2M41/Dz88c//+zEyJGjUKlSRXz22ado27YNJk2aiFGjRuKXX9qgfoPv8dVX5dCxYwcsWrQYs2bNQoOG9TFt+jT4+vkak3zGoBbQMypRuHv3Dn77bTTGjh2DkydP6MSy3G0tIMpqhZfXfezdtwdjx/yG//2vMgoUyM/P9eN8H+GTIgXRqnVzrFu3mttRv1tL2fl5B2LpouVo16YDataog1IlPscnBQuhxnfVMHPmNNy8eQOhYaGIsERyqYJDQ7BixQp0794Nw0cMx6lTp0yUnBMKce1N7oP6l9USyeJxAQF+LG60dNkybNy8Cbfv3kGkTexLLOwtdBblpHguYXxjzErs+NuRUdAzKkaWw5ieMQ9BxtxkTNG/xHkH/Re/qU56JsUVoyJhLJMRGqtkLK1rUL8kR44zZ85EuzZtsXz5Mnh43OUTAupf8TpliAPodGHGjOlo2LABpkyZCg8PD2MUU5C41r1797B06VI0aNAAefPmQdasWfBBpg+QJUsm5MyZAxUqlMP48eNx+vRpPt3QYHta0VYEBPhj3bp1GDp0KG8g3bx5kzdS3AHp88ybN4/NNxcoUAC5c+dCoUIF8UnhwihcsDCKflIEnxYpymXLkSMr8ubJjaJFiuDTokVQrEhRfF6yFMqVKYsihQrjo7x58dHHefHpp0Wwbt1aXS5GJiWWCUZBIZFAMSoKCi8pbl2/iV9//RUffvghe3xOmjQJPv4oD1b9tRzRUhbfAdpCxxHawvtpERIUwruC9evXR8VKlbBt+1b4BwaY5OkIWsgQk/L119/gvfcyIl++AsywkNiF1LGgOOfOnUG1alXx5ptvImnSpEiRIgVy5cqFP/748zns2NLuO7WraKuIiFCcOHEUnTt1wKyZ03Hv3l1d+8atLFR2qt+xY8fRunUrZMmSmZ9p6tSpUa7cF9i+fZvLXemQgEgsnLsM5cp+jTfeSIZkyVKgZPES+OP3WQgPIzExx3uioqMQGByIyVOnoPQXZTFgwACcv3De7UVVYkV0lBVR1kgEBvrj8OFDfCI16/ff4R8Y6LAwZ90iZlI0HQxXEG+M88I/5rtEHsZ210PPAsQE+2mJTe9G/57GkDxD3ucOXMdzzNO4n6G/78njx7zYbtu2LaZNm4ob168hMiIMIWFBCIsM5X6XUCDdFE/Pe+jRoxt++OF7HDp0yG1fLeSQctbMmciTJw+/c8mSJcPbb7/NRN8pTIY3b/4TTp486VIPjZ77smXLUL58eUyaNIE3MtzBhQsXUKJECc4nVapUyJkzJ8qUKYOqVavh22+/Q61aNZkBK1SoEJcjZcqUKFiwEKpVrYqmjZqgU4df+TSlwQ/1kPXDrJxO2rRpsXDhQl0uRibFbC5QUEh8UIyKgsJLivDQMJw6eQq1atXiiSl5smQomD8f1q1eyRM3w2EeEssuTU/FGP50CwnamTx+9DiaNmnCjArtZj989CiGRZAATe7bt2/H99//gHffTY/8+Qvht9FjcPeu845oeHgYDh48hB9++IHrnCRJEnxd8Wts3LjRGPWZw5FRoV3Qh1i9agV+afczVixfiqAAP0TxTr2xfd0DLeQuXryIdu3aIUuWLFy/HNlzsCgI7fiaITLCiquXb+HnVh2Q7p2MSJX6TRQt+il+nzULD+4/MEZ3wOkzp9G9V09UrFSRmZWzZ8/G+qwSN6IRFOiP/fv2oUePHpg4cRIuXboMq1X0a16W2Rf94kSFWJCYIN4MZ1Esp1bSBYj09ReN0J96xBjRAPnuutG/OGo0iwY+3TOle215kqd5w36GYJ6FThmdJvz22xgsWbqEdcsCA/xY3DPCShRhUtenLZsGGntI1LR165b46acf4eXlZYxiCjKysHz5ChQsVAgpU6bijYEvvvgC/fv34xNhMqtMGyKSWcmQIQO6dOmCBw9cv1t0gkmiY199VQHTp09jPb3YDImcOXMGRYsW5bxq166NzZs380nn+fPnmYmh63/99RcqVKjA5fjkk0+wZPFivn758n+4cf067t65y3py3bt1xxtJkjCjQmJoGuQYr9+Yejbtr6CQkFCMioLCS4yIsHAMHTIUmTJlQvLkyZE/38dYs+ov3l12Bi0VxBLJeYIy/o477nrcQ5/efVC+XAWMGTNGTNDGSCYgpfkBA/sjfYZ38c476dCtWw9cuvyfMZodxNisWrkSn3/+OdK/9x769u2Dy5cvG6M9e9CiipXlxaLj+vWrmD59Cnp064pd//wDa0QEK3BTC5uDwvWkQTyVKFy4eBEtW7RgUb4kyZLhy6+/wrlz53lBqE9Ffrly6Sp69xyAjz4qjIIFi6Jz565YuHARi9zEhpDQEOzYsQN1atVG2dJlMGrkKNy6dcvkZIVyNOszzxvmbSdB4o779u1Bp86d0bJlS2zZvIXrIhfDYqEsF2uu3gNnuM7RNfQnIcZw/rSVh8tEYlt0ymPTM3Fa0NurrfU/ufAVNdLus99NyVpjPtVxhq1dHPR25MLW1u8p3HZJLr0DAwNw8OBBTJ48mU8T7nl6cl1iAp2Uenk9cKH34Qr65yfTF58kdkV6bc1bNMfo30a5dZpCbb5hwwZU+d//kOXDLOjw66+YMmUKVq9ezeMJ6W+tXbsGrVq1Qo4cOewMS/78+TFt2jS2LGYGsixHxj8aN26AGjW+Y3E0GuNcITgkBGvXr0OZsmXQtGlT7N69G5EGi2W+Pj4YMGAgsmXLxsxUjRo1WCfGDNu3bsNXX3+FIkWKYPXqVboreiZFdioFhcQPxagoKLzEIMtaixcv5kV7ihTJke/jvFgdL0bl6eDt44v5CxajZMnP0bJFaxw9eswYxRRklYZ0CX6oVxdJkr6Bjz76COvXr0cEmdA1Rtbh7p1b6Ne3Dz7++GOuf0BQUIzxnwl4oSjIGmnBkaNHMGjQQIwd/RvOnzkrrsVYCrOFlvZUrNFROHHyFKpXr4G0b72FrDmyomefXszwGWGJsODyhUsYNXwUin1aEhUrVsGESVNw5dp1RDgxGq7x8OFDTJs6DcWLfYYK5Svgzz//hLe3tyGWbrH6QqFvP2eQ/kDHjh1RunQZTJk0Gfc8jKdQdP/zqYcZo2L8rQeFW4lsCvIOkFXmx0CnGlo62hutiafJu83yMwvjcFtKrERvMzIgoH/2jm1Hqfj4+GLrtq0sgkonDfPnz8fJEyeY4T5/8QJbWzt55hROnz2DJ97e8PS8j507dzIzTQzB1avuKrzLZ6dfaBNEeR488ESXbl3Rrn17/P3PDkSwOfOYQacubdu1Rd6P8/J7dtvm58WxjaL5lLNnz57IlOkDcXKdPDm++eYbXLp0ySE9PYhx2rJlEypU+IIZhpUr/7IZOHGGx717mDN3Dp8CksiahP450alJsWKfcf7pM2bEjz82w61bN+3X9aDw+fPnon//vjhyREvP7BkqKLwMUIyKgsJLDNppJ8X1qlWrstwyMSpr9aJfOoiliDQ56rxYiS+oDBs2bsI3lauiYMHC+OOPP1zuNhpBZj9XrVqJL78shxQpkuGzYp/xQkYuuFyVkkxw/j5zBkqWLMFiX5G0c26M9KzBjArtVEezyVBiqEgef8G8+fC84+G6sHZQBLni1CKLBWIUwsLDsWPHThQtWowXJCSStWnLZoQbdleJOb1+5SpGDB2O0qXKoFGjJtj+9z8IDg7ldWxcQM/uwvkL+PHHH5E9e3beqaUFv6Pis3OZ4wpadBHzGRZOvkzMdW1ih779HEEnJ5MmT+bd7u+++w4nTBll54Waq4W7a+hPPFzfJ9PVL3iNeVE7kMgS9V0ST7NGW2GJNjAq8iWQ1bYxKtplRwZFkv26rhxEJF5oVGq3p8HXRW/Ul9uRQRD3UjwfX3+sXbuexTBJT450LGrWrIkmTZrwe9Gu/S9o3bYNmjRryidcq1atwfTpM1GmTFnWK+vevTuLG7oHYzl0bRAdjf/+u4TGTRuj38D+uHX7FqymGzUayCrh33//jcZNGuPXzp3w6InedLUzrl65gmrVqrFOHL2bxYsXx6GDB9kQhjNE2ciMOBkASZkyOeuYEGNj1tfu3L2Lbdu34d9//zU9CaJ7zp47j08+KcJ5Z8+RA926dWOrj2agMZX05c6cOcnGNzQ4PkMFhZcFilFRUHiJQYsOWtjXrF0bqVKlQN6PcmMVnai4tLDlPFFqqyC5GDWLI+G4HKIFIvkO+LVjR3zwQSZUq/Yt9u/fH6tMtgSZBCVF8WrVqiBp0jeQJ08ulsUODQkxRnVARFgo5s2ZjXLlymLP3j0cFlOpnwl4kUFiOhbc8/TAn3/+wYrvu3ftFOU1WYQ4w6x9RZiX1yPM/nMucuXMzbo3jRs3Zhl0qWNBCPD1w8F9+9G/T180bdwUI4ePxtGjRxEQR3OoepBYyaTJk1CkaBHkyp0LEydNhOd9T10Mx2ceH4QEh2L/3n0ssnfj2jVExMvKmHk5wsIjcOLUaTRp2oxl90mJ+aGpjoK+f7srFqW9F/LEwUr6LeyrJfZFn2AQ5CmFlh/xCnfuePDJ46lTp/HkiS874xSlEzlp5ZWJcYLG6juwTkbwSZ0oNf8Jlthw8mJoGecWFuUXi1zAGhWNx96+mDZ9Br78+mtkSJ+B+yvpRLz37nvIkD49jwWZMgvKmDEDn0Z89tlnbNGKlMVJhIlOQsWGhr4EMcG8dL6+Pli+fDnqN6iH6TOmscU3UV7nuBIkcjZp0iTu63RiEhvI0hfpe5CCOzELdIJN/mGMTJ8RdA9tphQuXIi/m52O+vr54fr16+wLhcCP2EYEumfJ0qXIk1co+5NOHm1OkcidGVhnKDSE/bmQxTXdlRjbREEhsUIxKgoKLzFootx/cD/qNaiPlKlTIE/eXFi5ckWsE6gGbdIiZ4Mk479s2RL888+OGBRStbTJRwKZIy1cuDAyZEiPfv364tZNc5EEM9CuMjmHa9KoIZK88Qbeeist2rVrg9OnTxmjOiDKEsn+Yn7+uTVbrCIk/PQrFo/kp+P48aPs76R7967495JY6PASgBcY8SvJ+fMX0K1rd6RPn4GtmnXu3NlBaffm1WuY/cefaPtzG7Rq0RLTJk/Flf9c6/K4i/DwCOzeswe16tZGipQp8E3lyth/8KAx2lPhwf2H+G3UaPz0YzP8s30rAhxO3J5i8RQNeHh4Ytio0fi0eAlUrfY/HDywHxGhYfZk5TOJ63Nx9Q7x4t9C+kiRDhsC+pMLfWyQ0j4bYRDp0eXISCsOHjyCGTNmYf78hbhy5TrCw+TJGSuY2He/9ekxU+KiHva+x6os1E+tsEQRe2Ien8Cls0Yj3GJFZFQUIqOjYCEzzzaHkg5xrcLyHpkRv3TpKtq2a88MSdIkb/C7KxXOY6P33nsPLVq04A0OrRSOpyRxAZkBHjhwIJo2bYK1a1fbnJiaMHo6BAUF8YkoKay7A6Gsfx6NGjXiOpQqVQqHDx922Uck6MSoffv2fFrZvHlz0/xos4cYCldpkSI9nVClz5Ce8yY9FtJ5iWkziNIKDw830TdTUHj54IJRicvEIeOa0YtGfMpirMPLRu7WJSbEdl0hsUAwKgeYUUmVKiXy5s3NOipS4ZtAlm2u37jBHpv37duPAwcOsCz0f/9d4UUqWdK6dfs2lq9Yhvr166FIkcIswkHWpmgydvQb4AiPu3fZlwuZzCxYsADWr1+HIBc7fa5w7+5ddO3aBWnTvskTcbasH2LosCEuRRskrl+7ypaGHj0UiqoJ1WvF4pO/8e+wsBBmBskUKplhvW87faBnoe3kxh3btm7H119X4h3n3HlyY+LEidz2JOp1+uRJjBo+ghXfmzRqjL+WLcfDBw8clOzjCzqxue/1AN26dxcLyfTpMWPmTPg8Q780V69eQ7u2bVG2TCksWbTAoFzszphkjuCgUGzbvgNff1MF2XPmRLtf2uLWrRu07W9fpwrlcLlwFYH0TKltyX/Fo4cP2UQtLXhv3LiJ+/fvI8R2okftGxAUCK+HD3Hj5i3cuuMBXz9/hEeEwRolF8QCkonQzixEqDiR0Cn1R1MfCsfmTVvQv98AjBkzDufOnkMYMVd2aOV1YFQMTIrxF+dPjEaUlU9oSFfDL9Aft27fxNlz53D02FHsO7Afu/bsxo6dO7Ft+9/YtHkL1m/YhE2btmDzFqLN2LxtK7Zu34pde3fj5KkTuHbtCu/sk2f0R48esc7E77//jp9//hl169RBjerfofp31VCjxreoVas6U82a1fHtt9VQrWoV9g301Vdf4ssvK/Cim4w4ELMgoH82rpkLVyD/Ra1atWDHsKTELhBzWvSu0qmKfM6xgRiVK1eu4KeffmKlemJU6CTT+DyMoM2ecePGIXPmzPj444/Yt4wYJ4z3GX9r2Lp1K+dHSvSku9avXz+DaK/Z+2MWpqDwcsKEUaHOLV/y2KCPa0Yv+kWhMsR+PO+I2Or0qpCrZyPr7+q6QmICTXq7du1ik5Yk+vXRR86Myt27nhg1eiwKFiyC7NlzIleu3Pj889IYPnwU7nl6sYWtQUOGIF+BAkiTJg1PxPRJlsQqVqzIyu7OEysQbolgJolMeEpxiGvXrhmjxQpaLNCih8R25K5r0U+LYNKUiQgMDjDNm0CLB1rsPIvFekxw3CWPxuPHD9lzdJcunVjOXVou0sRj3Hl/HBcS4eGRmDlzFt5//32uP+mKUNrk+f7C+fNo1bIlSpUoiX59+vLJCy2yXQv8xB2U0rjx4/nZp0yVGj82/wmHDx8xRos3SLyGTMeWLl0Cc+fOxqNHD41RXMKxpRxBjEWffgPxYdZc7HuHHIP6+AhjAGSaV9wpnwmRON2IjIzgMq1Zs5YVwKdMnorBg4aif/+B7JPn7l1hNY0YGVrYz1uwCP0HDcXI38Zi55698AtwZsYpdbtwlWG3W784pc+wkFBsWr8BvXv2wpjRv+Hyv5ecLD3JuMb+L0ZoTTdFCxUMEZ30RJA/mZAg3PX04NOyQUMHo2ad2vj0s2KsH5IzJ1FOphw5cvK4kDNHTuTKkYOdxubImR05c+dEvgL5UPGbiujbvx8uXLzAZeH3LjAQ3k+8mamjtrpz546dyHcIkRZ2mxXViREkIrPZpIvhWC/5nCS5euIauB3DQrB+/VrUrVsLixcvhJ8Dcx17Gu5CMip0EvTWW2+xvoo7Yx29v2SggnR40qZNw6ew1PddnZ7oIZ89OWclHy+pU6fB15W+wZq16/SxdH3bLOzZtYGCwotCLIxKbJ1cH9eMYrs/oSGmDseXODbEVqdXhVw9G1l/V9cVEhNowiNzlnXq1LEzKmSeGDpl0kePfDB//hKUKSts8BO9/fY7qFevAdasXY/xEyejzg/1UKBQYaR7910HMY13330Xw0eMYLO1Rtzx8MDAIUOQLXt2jksMiyt/HzGB6nDjxg0MGDjQ7mCNdg9LfV4K4yeOw4MH9423PFfoF4ukhEviG92790Dfvn1tp1Lhtnj03ri70KLrIg4lfffuPfTp0w/Jk6dkef8hQ4bg2rUb7ASzcaNGaFi/ASZPmoSLFy7YFuBaKs8Kf634CwULFEaaNGlRuPAnmDdvvjFKvEGKxL/80hbly5fFwoXzeVc+LnBVz337DqBEyTJInjwVW/sij+AkjkgQi0G6U78AFvoWoaEhzAiSlbAKX36Fz0uVxrdVv0PlylVRs2ZtNihATPC69evxU8tWqFn3B5T/+ht8XaUq+gwYiDsmPn7EyCkV0ylv3TU9wxENFk3bvGEjunXpiiGDBuPf8xdNGRWCkVkROimSUZHhsp6kmB+J+w/uY+GihWjTtg0qffMN8uTNi7fefsfh3XaXMryfET+3a4tz54WIJXVYM2MdTwfjc3L1xPWIZiePM2ZMQ506NXnDxh0GID6gjQESFatcuTIzen369GGLebGBxgbyeE+MRvLkydCy5U8sNuqOSBY9c2J0yOwzMUd00tqhY0ecO39BH0s3p5uFudOOCgqJGyaMCkF28Ng6uXHxK+9LLC8JlSGujApB1t1Yt1eNzCCvvehnp+AOaGLet28fW96hiUxa/dIzKuHhFly/fgvTZ8xC6TJf4M030yJ58hQoVepzDB48BJMmT8WUqdMxfsJEnoBJNEN6SSYrN9WqVsOG9RtgsWhpEk6dOodatX/Am2nfRvIUKVGrVm3eYY0vjh45gm+rVWOP0JQ3mQEtUpQWzHNZMVSDO33TnThxRDQpnvti08aN6NylC4tm0e69ZvlHv9iKLX/telRUNI4fP4nmzVsiadJkzKiQPPuEiZPRrt0vqFSxImbNmMGev/V3x5ZDXHFg/wE0qN8I77ydDmnSvIlBgwYjJMSm6/GUIGXhTp064uuvK2DJkoWG5xl/bNy0CRkyCLOxFSp8iSVLlmiiiswsGMdywaiQZSRiOEm8kRj2bNlyour/qqFR46ao9t132LtvH3bt3oNeffugTr16KPfV1/i4YGEU+ORTtPi5Da7fEHpYgiGReTgqqUsYGQ2KYYm0YOuWbcyo9O/bDxfPEaNComTiuoiv3eOchsNVex2pbuSfZNasWfjqyy+RNk0abpukSZLgnbfeQfZs2ZAv38cshkSnKaTo/vbbbyFDhvfY4eCX5cuhXJkyKPP55yhVsiSH/a9qVUyZOhW3bwsv66LKeo1vURJ7GWXBbCKT7CfSUHYNMlw/79AzMkQzRTR2796Fzp074ddf27NjRFtwLHAdwdUV6q+dOnVCxowZUa5cOWzbts3UQpcRND6TVULpzJGU6klclMRtbTF0z88RdFJMJ1E0JtMzfPe9dzF+wngDky/6tPN8bp6mgsLLCBeMioRxYesOJaaX42leVrrPWLfXieLbbgrPEzQR7tmzB3Xr1kXqVKlQIN/HWLdmlYPoFy8W+NTiJoYNH4ncefLyxEeiVqNH/4br10iRN5x3mWmRR6JY8+bNYydnxKh8nPdjTJk0DUHBIdqywhqNA/uP4JtKVZEiRWpkzZYDvfv0Y3GQ+CLAzx///L0DNapXt+urpEyZAl9++SUWLFhgF+kRMOuf+nfW7PrTgRiSOzdvsUJ7//79sWrVKoOMO+XpLqOiISLSitWrN+Kbb/6HJEmEUzli0lKlTs0iOiSTTh6n45BkvHD+3Hl07dId771LSrtJWAn4/v0HiNJZHXMX4klo+/0kAtStezdUrPjVM2NUwiMjsGz5cmS0icuVL1+BLStpjArtWuufBdVDiEaR3g/58KHFJululSv3JVq1ao0ZM2dg4JDBzKQMGT4CP7VqjVmzZ6N7716oVrMG6tavj8lTp+KBl83IgT0PRyZeDyODQaCN/50796B3zz4Y2G8QLl/8D9ZIjeEVyvdCAV/qvpgxK8Y+T6dJmzZtYgtb1IdSpkiBrFmy4OsvK6BZ48bo3bMnxo39Db/9NpINX7Ro0RxfflkeRYt+wkYs5s2djdWrVmLlir+wbOlSzJ+/gPs5MQFBQaJd2eck69xI0o018h+ZUNbxMk7FtkNffi3MuZ7OoDhkre7b6t/hz9mztZNXh1v16cc+NtAV41XKhxTayR8K9bN27dqxSKC7+Oeff1C6dGk+LaZNiEaNGurGMiqPGaMhTm/37t1r1wH8+ON8bN2MwjWYtZ+CwqsFl4yKGCjkAGx80WMi42v+skLW31i/14Velef4aoMYEFJMJZ0GOlHJn+8jmx8V54UTKQRPnDQF+fLn5929mjVq4vSJk7AaTkoIJKrTseOvbIEq/XsZMGzoCPj7B9p7RUSEFf/8vQclipfGG28kR4mSpfHHH7Ph7+8sux8XBPkHYs2q1aj8TWW7J2iygEUiF2SNLCyMFktmywmCftI2ux4/yEVTRHgEzp0+g8EDB2HkiJFskICUonUx48Wo+PuHYvjwcciWLTfXmRgU8okj6169enXsP3DAeNszx/Ur1zF08DC8n1Es/Mm3Csnlk3z+04JEB7t364ZKlb5mXYKYPHW7i7v3PDBy9Ci7uOL//vc/Nq5g3+nWMSpika/pcJCJaYnjJ06iwpcV0alzF6xcvQpTpk3FgUOHMWbcBHTv0wf/7NmN7Tv+xtLly7Bx8yZcu3YVISFBOstc2jxJ+bgrfrRnzz706d0XA/oNxH//XkGURdwnlP8FEyDKKnyfGPVc7ODXQfw+e/Ycfu3QgS1rUZvkzp0LHTu0x46tW3D18mXcvXMbDx94soNED4/brHw+ZsxoFC5cEBXKl8XM6dNw49p1+Hh7w9fXD97ePmy+mqx9iXKJE0CtbI5jhzhREf6G3HsN9e+sa5gxLlSm/gP6o+q31dhAiH3TwCGq2RzunJaE2cji4eGBCRMmIEuWLKyH99dfKwzMQswg0VwSiyXGUfTTKrh8+SK3X0z1p/qMHDmSLYYRo/J56c/ZlLsjXN+voPCqIBZGRZLxRY+JjK/5ywp9/d1pA+OkZTZAvkz0qjzHlxdmk6YRjjoqJPrlmlG5e9cDw0eMZHlp2mn9sWkTPHChU3Lz5i0MHjwUmT7IxPosAwcOhq+Pn708wcFhWLdmI/LnEwrwlatUxfqNG00shBnfo9jx+NFjLF2yDFUqV+G0id555x1Ur/4dVq9eBX9/qTBrlqZZ2LMByYv/vW0rOvzSDr/PmskWz6xWvaw5vTdxZFSigYdevujUsSdSpnwL6TNkRJt2bTFwwAD875vKSJUyJTK+nxEDBw/E9RvX3U42PiDLV1OnTEXmTJm5zRs0aMC6GlIH52ngec8TvXp0x5dflcOcuX/gyRN3GRXXFT558iTatmvH/juovN//8AP27t3HjjMJmp8TIYIkGQBaIJIeh9USyf11565dKFuuHAYOGoQDhw6y+Bgp2p85dw7HTpzAAy8vPgEiRt/Xz4d1Seh0jdPnNOnTyot2EteRjArpcZAuQoQlAiFhoezskk5xaG4lS2vr129AmzZt0a1rN5w6cYoZYQKbFbZEso8hEhEikTCrhcqtZ1QMpxS27xs2bODFdJrUqfHO22+hzc+tcebMaYSQ3o5TU5JiPJnaPo6GDRsgT+5cqP7dtyBfN5S3ISqTyJfaU9RbE30zicwk5xMjjNfN0nENKve5c2fR7pd2+LF5M1y/fs0Fg2jMI275UF03b96ESpUqsjjs+PHj2cqfUQcpJhw8eBDVvq3G4zP1Uzoh3rt3t27TxbxcxHCTVTW6h3T2aPw7eFC/YaFvZ/fr9LRtoqDwvOGSUXGEWcd2Ra9ih4+t/jQhyqN6SYpRUXg6OFv2cQZNzuRgsV69evYTFRL90vt3kCB554EDB7BIFy1kWv7UDPfvCblzI65cuYrevfohY4ZMSJv2bfTvPwBPvL25PARvb38sXLAUOXMIMbIatWth5+5dLuS29f3KPdCO7sJ5C1DysxI8SVMepLtC1s3I0Rot5OKa5tPivqcnZv/xO9q1/Rkb1q9FRDjVVe/Ijz5dMypmy4lIixUXL15FkyYt8UaSFCj0SRH8/c8/8LjrgelTpiJP7txc989KfIY/58xmZimhQOIspIxOFooozzp1avMiy/yZClD/I6VzsuZE4kHkXZtO48hHBokU3rp5C7dv3sK+XXvw44/N8OmnRTB4cH+cPnWCdSlIJIwMKVy/foNNaF+7foPNAJMTPO0Zm4OUp0k3S/YP8oB+/MQJhNl2u8XOv17fg9KyiX5ZImCxhOPGzesYO24s8uXPh5atW2H12jV8KuPhIax+mUGmKYnyYc/yNiaFGDti+mjxfOXqFVy6chkX/r2Ii/9e5HahtqJ3cfr06dyff/qpOdauW8ttd/XqVfz332WOR6dZ9Jv0e8hyFol1GZkVfZmIKZLPjxjcMqU/x4rly20RAGtEJKIiLYi2RCHaGmUX6aM+RaKeJUuWxLvvvseORulZ0qmBvZ5WUqB3rLfWtmYnHvLdlPOgEfoxQWMo3QWVmRjKpk0bo2/fXmyJzxxmc7f7+Vy9eoV9JeXP/7HNeEbc/RYRI1i/fn07Q03tTBsugQHSl5DjOEZtKfVTqH/QPRkyZGBdFTrNs8WKc100yDbXU3zSUVB4PnjGjMqr2Nn1k5wrUozKywP5PBM/JKMSE2jhQnLM33//PdKkSYWC+T/G+rWrbc/QEWRGdOjQoWy1Ju2badCmdUt4eek9kGsgvxd9+vZHxoyZkPbNtzFgwEB4+3jbS/PwoTd+nzUPWbPm5Im0dt262Lt/H4tjOEP//thCaFEXg1lhqpfX/ftYsXQZypQmq07CGhhN2IMHD7ZN2DG3zbMG6XAM7D8A/fv1xYkTxzh/6XVcA9XR9cRvDA0OJvOqW/HlV1WQNFlqfFmpCk6cOsvO/04cPYb2v/zC4l/JkidDnbp1WNwskhfwzxKiVN7eT9hUr2RUvv32WxYrdD4l00DPm5zajRgxgn1M/Nz6Z/aXQmKDPXr2xID+/TGwf3+0aP4TCn/yCbJm/ZB9bQwdMghTp0zCyBHDeQHYs2cv9OzRm3Vk+vbtz/lSeZxbTAN55yYzsVJMrkmzZjh+8gTCbYyKtpCWz4QYCRJXsjEq0RHYum0LipcUzHDOXDnRpk0bFq8hpo0Wi3QyabYw5/R1uiMUV5rJJm/rq1evxowZM9jk9IxZMzF95gxmTKZNm8aK7qRL07VrV95dr1q1Klt5mzJlCosYEcl4s2fPZuaDFuXEAJIYniYKpjErxCiRvyTKg5Su33rzTXRo3551K/i6xQornQRFWASTQgyP7QSCvpOp3Q4sMvYu60WR7hoxVCJtYu5spydUX5uIm55JcWRU5Bjrak4xXov7YvnBAy8MGzaMmbw5c2YjOFhYenOGMS99OWIGPUfygVK6dEk0a9aYT9niYwqdTiVJjPKdd4SREHKOO2vWTDyxM1fOZSLmf+XKlXw6RvfQmL150yZE2E8341YXR9A9ilFReHnwhniNY+ukxpfdGK4fgF4lGOvtivSMysvKoBjr/HyeJeWikbnVHHuRYgFNlqI24tNhUeGwaHl+9Uto0CKDlDXJQSOZJ873UR6sYatfzg1Gu9fMqOTOZTtR+Qn3XYl+3brFi6cPPviALUARcxAYFGBvNW8fX8yduwCZMmflibRBg4Y4dvy422JCPj5PeEfdUXTKGeSMb9KkSawcTPkQ5c2bF3PnzDUsjhIOlA+dKmzftp3l/8nny93bt+XVp+pL3t7eGDd2IgoW/BTJU6RFtep1cOm/63wtPDQMO7b/jUIFCnO9s2TOjO7du8PD0/Vu/9OAFue0s541q3imJEu/ZcvmGBkVWlCR6GGr1q1QvHhxFCtWDCVKfIZSpUqgTJnSKFu2DEoUL4F8+fLjgw/ex4cfZsHnpUui4lcVUPmbivim0lcoX64sW5gqXqw4CuYvyN9pwU39NSaQmBP5+SGDD1Teho0a4fCRIzaLSkLMy7ggozAS+yJxLB9/H0yfNZN1XEjJOUuWTPj11w64ceO6XURL6rVoYmQCYiQR4wz/1jEypNNAFuGIEenRowd69OyOLl26sCnkDh1+RefOXdlAAp2CkjUocuZHVt4obvcePfBr507o2r0bunTvxk44ybFo3769sWvXTgQFBXD5hQibdppnsUQhMDAYkydPRbp06dis+IgRI+HhId5vKzE2pIvGjjA1XR3JZNMzXrRoIUqX/lz4Can6HXbu2gML3cdiXqItSMSNai38xdjGaydGxQzuXHdv0UwnR+fOnUHLls3Ru3cv9hjvWo8qLmO+9i4HBwex/xLSe6KxldreXIk9tjTBJ2TUF8jCGvXTPHnzYPToUawn5ArEiJG59uw5hOn3ggUL2r3aa8apXc3hcYG7baOg8OLwhqMtdlfQv+z6F+JV7+TGgcAVKUYlPpDTgiT7xGcW0Y0iOTIqWmQO5x1IORG6kdhLAtrhI1OZ3333HVIlT4GP8uTCqlUrTEW/aOE3aNAgNkuaJlVqNG/2IzxsJkeNILED2rEkRiV16lQYNGgAgkO0XUtvHx/MnjsPH2TKxBNps6ZNce7cObeVTGniX7Z8CUJ0aboC7fZ27NiJdWUks/JL23a4feOmg0+RhAL1HVIGJ8dtv/zSAVu2boO/n3Dy+LS4fv0mmjVtjvfe+wDp3n0fTZu1wu072gLmkddDjBk9FoXyF+R6Fy/xGZYsW4wnfNrwbEFME5+oxIFRIcaURJTIVwTtPo8bPxbjbTRh4jiMmzAWI0eN4kV6mTJlUahQITRv3gwjhg3B5InjMXH8GIwdOxqjR47AiGHDMLBffwwdMhS7du60nai4hmRU5IkKideQiWXBqNDi2ZxRIUX60IgwPn35pUN7pEgpGJ0KFcpj4cIFbP2OIBfnViuJQFFa2jgpxxg5znDcKCH+RQ79yJs4tcmKFctZ+ZqILJQtXboMy5YtZ+tNnTt3Rvny5VGtWlV+15YsXYq/Vq3EwiWLsXjpEixetpSZhwUL5mHFiqX49+J5hIYGiVOhaKHIrjEqVvj7B2HixMl4++10SJ/+fUycMJF9ffCYaCuf3QAAMV/EqNiMCtCGwalTJ/Bz61Z8/0cf5cfCRUsQFBJqH1PFmKIxKuKb80lT/ED365+V6/SoP27duhk1a36HiRMnmDiP1ENOHu6M+eI6tcWJE8dRq1YtJrbu5/AOxCVNOp2+ykwomTZmRiVPboz5bRS8vMxNudMsePHSv6jXsL7d8e6vv/7qwLgrRkXhdcIbgk2JrZPqBxH9C2H8/apAtodxIHBFLwOjop8EzH5LyPix9YmnB+VgJDn5u5e7vEuDZLxFqLjuyKiIXIz3vazQGJVvWUH+o7y5BaNiokxPzMeAAUJHhURdfmre3IFR0bcILcz5RCXT+0iTOiUGDeiH4CCNqfDx9cG8+fOQOYtQvG7UsCErN7tzohIQ4M8L2R49usLPzz1zxmQmtXAhMg+ahPOrVaMmdu34Bxa774mEAy0CSS+GxJt69uyNkydPI5Jk/fUNFmN3svVDk9Bjx06gRAkS70iKvB8VwKDBI/DoiY89Du0ee9z2QJuf2/Ki5d1330HdH+pg3/59LpSH4w/SC1owfz6yxYFRoXeLmFN/f38mEsEh5pOY2pCwIISGh7IXc2o/UgwuX74cJk+eiFs3ryMyPBSB/n7w9/OBv683/Hx84PP4CbwfPWaLR7HVz86g25SUSV+FxCDNGBVpRYu/Iwqh4SFYtGQJvihfDkmTJUX69OlZBO3qlSuwRgnFeDlm8AmGfewQkKOMfaSxjTH0PpI4HLUl+bsgJXwyRUttE0Bt5OcHX19fvkZMYZMmTdgMNDn29LzviSe+T/Dg4QM2f/zw0UM2uUtODcn4QFhoMKLs1sDEiYoEPYMA24nKO++kQ4YM72Ps2HHs18hKJyK2EyZuAweypREdjQf3PDBoYH+kT/8eMmX6ENNnzISPn59ttKQ/OW8IJkUyKrL+8YHG5MhxWc5HrtO773kP48aNRa1a1bFs2TLjZRvk/TLdmNOUoPf63LnzPPZVqFCB/eyEhhl1tOKWJonskQ8WElulfvrxRx8xg/XokZcxKoP63+GjR1D+S+GglxhoEnMMCNDGX8WoKLxOcFNHhSAHE2PYqwaqU2JlNlyR/jkYrxlJP4CbPVNjvKeHPidXpD9NMcvZOVwsRBwt++hj0HfJiGnhWl5mubx8oMURnU7UqVMLqVKlZIePa9asNLVKc/cuiX4NZnnnN9OkQasWP8HTw9HDtlx4kILzwIGDWFwndeqUGDywP0J0jArtMK5Zs4YtiIlF7bfYvHkL61zEBBLROHb8KHr27I4BA/oiIEBa8HINOjU5sO8QGjdqhmTJhInPGt9Vx9/btrtkVEJCguHt/RhBQYHxkivXgxa+5LSNfKeQSA+1Dcvqy/6me2WMCzbxW9sQ0PfjkCDST9mEXLlEG375VUWsXbcBQQ6+WcDOAWlnvUyZMmy+mBz00Q48iRg9m24s+or340eYP3cecuXMweX59tuq2LZta4yMCkHbCNB0F5hs6dJOPonnkN5K5coV8cefv9vFXuiaZAjsuhekQ+HGwpdM0tJCn3R4qLxk+Y7ehbAwaj85PkgzupIs/O4TIzT6t9+QLVs2vJsuHTM5e3bv5v5piY7ixSKDykEME53cxVAk+dxlWxCDyWlZSNSMyFY/2yf9/vvvv9GT9HgGDMTZs3RaEs75Sn0Xi5XSiGAmROimSH0ZOT5reVIcMiLw++w/8f4HHyD9e++xeBmddok8paiXYNYc2oPKHh2NRw+9MHDQALz1dlpkypQZ06ZNh7evj31JTE4b7c/YYVR17vfxR+zpnDxxgk862rT5GUeOHrWHy36njf1xm8eofUk3j55HqVKlMev3P+Hh6QkLi7u5Al0xzrGOYy8ZJvilXTu7yWg6VZw5a5ZLXyxkHe6fnTtZJJDHuho1WNdIcxJJkPlQPeUmqW4gchvxuUdB4fniDe3lTtx4fmV0NfAkZtK3jfGakWJrR3fjuQ85dcRE+pMUY876J6Jdo29yp1SzhKNBXDeeGLnK42UFLRz27NmN778n88Sp8fHHebFq1V8OfiIkyJLRiBHDkDt3bhbn+ql5M9y9fcshjmwX0lEhr/Xvf/A+UiRPij69esCPnZSJGLQwol0+8rRMk2mpUmUwe/bcWP2o0KJ39ZrVLP7Tr19vBNgt37gGPdrrV2+hb5+B7FyS8mtYvwGOHDps6gOGQIvYyZMn4a+/ljNj4WRuNQ7w8fFhxWjSMyAFVxKnIdjHTtlBXXYqc0bl0sXL6N27P957T4iE1K37A06fOYtIi/Ozu3fvHgYPHoS33hKWg0p9Xor1SRxFUuIL8X7cv+eBGVOnIUd2IRf/ww91cfDg/hitfrkLYlTIM33V/1XB3Lmz8fCh+W5yXEAy+7/88gvrVFB5yXwriQSFhgqzr0ZGRXwXTICPtw/rg5A4zuclS2Le3Ln8XOlxWqOEJS+5gBeDj8uHy3Aef2IGvZ90IkQ6R3TKefr0OYSHmzPdEjFlQQwRjWzLVizjzYO33nqbzUuT53Y5Tgq/HbZ+aHfWKN4fGkPv3bvL+jQpUiRnT/UTJoyD1yMvuz4K6bmwgQGTgpiFJQQoH2q3r776ymYq2Ex8Sr6QMb6UDqB06flTmpWr/A/tfumAC/9esqUUUxp0TT/PSNJw9OgRZqwkQy3ME+91YXhEmAknwwqki0e+V+gkkt5/xxNGfV6SWTHPP2bEOngpKLxwuKmj8uKhHwjpO3kWjk00wH3oB7ZnQcZBi4jycDcfGdfsHmPaMo6EMS0jxfas3Y3nPoy1MZLGpJgzEfrSa6BYwuKSRvpy23wm0GSsWyDq83kVIBmVunVtflTy5WPTl0ZHbIR79zwwevRo5M2bB2nSpMZPP/2I27eFZR8J2S53PURc2ll9M3UqDOjXB36+3vbVEu3SkhK12PVLgsyZs6Jbtx4udwklAoODMX/BQrYo1b79L/D318ScXCIaePTgCcaOmcDOEGmy7/hrR3iSIQDHTgEfb19s27KVF/Hz58/DH3/8zoqrW7dugZ9v7Kc3RtDCjBidPn16sUfqo0eP2k8YHBgVlx1K9DpJWj8kq1V/o1LFqkiZgqwBpUCbNr/Ay+uhy6Q2bdqAkqWK442kbyBlqpTskXvL1i2IiHRPL8g1RI53bt/GpAmTkCtnLiRLmhStW7fEf/+Rpam4MHnOjUF9lHaEO3XsiO++q4b58+bgkVdcGBXnNAkknkgnS6Q4Tn3i66+/wooVy4QzRn4+YiGuMSriNIP8oDzwvM+K7aSDVbNGDRw6eJCZWTrFYEZF+imRD8s5ewfEtlA3zl/h4aHsQb5LF6FYf+LESbbaJa/TSRPrX+lOqGKCnAv37t3DDBuZ8s6dKxfGjx+H4OAAe1tIInE2bhPbhgad2h09ehhNmjRCkiRvIGPG9Jg2bSqe+DzhkxQ+H2MGztHiF8H4O/6IvbFv3ryBcWPHokb16tiwYb3hlEFCphNzWnqQ8QQ64SJzwHXq1sWhQ0cQEYt1vUAW5/NDRESYThBO5qn12X379uHrr7+2G32gExJzBkvgwIH97OCWniGJJBIjS0YrHKGfFc0YJUmuoC+jVlYFhcQI1lGJeccg8YFsqJNJTLJPfvnyZZYDfjrxDqp/TC97XEjubhjT0udlvMcsnh76e4xpG5+dMT0jGeMb4W682GEcBo0p6k9RzCAnQD0Zr2spG9uPxEgiYSXiPcFXiT3RQAsH2mH89tvvWIfhk08+YTElM9CunGBU8iJt2jfx88+t4OnpKPolQbt6Y8aMQebMmfHee+kwasRwhLAJUK0N6f2rVOkb2ylHElSr9m2MEzAhICgIf8yei1Kfl8X339fFPQ9zZX5jf7l6+Tp6dO+NlClTIX2GDCw7buwPAQFB2LVzN3768ScsXLSI9WVIb6ZpU9IDaIsdO7bDz8/HVCzOFUKDQ7Bv3x60btUC3bp1YXEruSg05i/hKlwP8mg/d+5C5MtbGG+leR+FCpXA9Km/IyKGXXXys9GrTy9kzZENSZImxVvvvIVGTRrj30uXeEc9Nrh6DyVI7GX48JHszZz6ElmbIt0IIS4U050S+vdQi0vtdeLECfzaoT1qVBeMysM4MSrOaRJIfIv0PKTsf/HixTBz5nQEBgpDB+I58VmAjVkRjEpYSBgunr+AH5s2Q+YPMrMS/smTJ/g6taNYjDtk5QSzZ2xcvOu/64nSDw8Lw9Zt21j0a+DAgWzC1mGHnZiUWMTN9JB9kjYexo39DblyZOM2qVmzOg4dOmA7ZRLxhGiZcHoZRYvxaCAsNBTz5s1hi23JkydlT/VkYpmYN62/a6RnWMzG5riD7pdzMJFzepTHxo3r0KRxI7Ru3ZrfbXOY90NXoPXE4cOH2LhBxYpfY8iQwWyRkNYVtBlyz8OD/RqRrhCNl3du38KZU6exZtUqHD96VPi3YT0g/Vsi52hg7549fIpCjApRy5YtYxSnJFPU0kBE/vz5MXnyZPszcISsoxnp1zNGxK19FBReNPhEhfYCXqbuSjKfdBxKFl9ImZKOSWnSejoYX/S4kp55MGN6JPSDhBmZwdU9ZjDGMVJsT5rimE8UcYV+4NYGcA22JYQpo8xsRQyToJgwhRMysQCxCC/QkZGsEEk7ZOQrgRZZIg9bK5qk9TKDFuN0ekAnG+RQjMzDkkiWGcjsKlmfIfOzJIbQqlVL3PM0N09MCqAklkImNd9+5222FkYnEvpFPsVp1Kgx3nlH7GiTBSNihmKCf0AAJkycgrwf5WMTtuQvI4C8ZseAoMBQzJz+J/J9XAhp06ZDu/btceq0MNWpx9mzZ1ghukunzrw4INAihBiNTp3asznTXbv+QWhozPnp8fjxI8yaOQOtWv6I6dMm2xcYchEcH5AOxp07Hhg8eCgyZ8qO3DkLYlD/Ubh6+WaMSZIOw559B1GvYSNkkBaE8uZlM7TkMDE2uHoPJQ4dOoxmzZrj/fczIuP76TFq1AiEh9O4qh8/YoJ+nNJyoYUxieK1+OlHfFPxS8wmHRWvBw53xgznNCXoVIKYaWqLfPk+4jL70skf50uLabGglkwKwdfHBwvmzUfpUqWQJdMHaNemLS5f/JfHEumnxJ1hwjg26X8bxyxjPPKFs/Off9iJH+2YkxibA6NiyJ/vj7VQdFoUimNHDqNWzep8apolSya0b9+OLec5i8hGI8oSxSaLfbyfoGtXsqyXlsW+WrVqxcwTxzKOwbEVI16gRGNmVEhf588/Z6F27ZoYO24cGwcxh3k/NIJOiGh8IHFOGrvo9PibbyqxoY9ly5awQn2nXzvil5/bom2r1ujSpRM6d/4VzZs1Q6WvK+KjvHl57SFFIyknSXomYdu27Wy6O1ny5LyRRKa3jWJfoo2FMv+MGTNZ5EucEn7NZpLNN2L19TQjfTs6Pnd32kdBIbHgDVrCyV3tWMfBRILDhw+jbNmyvOtHyqWkUElWVdyDfEmNn+6Sfjgyhhvj6skI43VX8STM0jeDMY6RYnvIFMd8onAH+taJjeSJCvdA48TuUEv5SwslFicsMowt5dCOMonkbNi4CbN+/wPzFizAyVOnbLb1dTuZ8a5V4gRNdnSq0aJFC1bUpHfh/fff58XPhYsXEG6J5JYKD49gkai1a9ejbNkvWEQsabJk+LpSJfz9zw72Ah5uiUBIWCgCgoLh5fUIs37/HZ9++inv7CVLlgxVq/6Pd1j9/TWdkkdejzB50mR89NFHQm+iZElc+veSQxmN7f3A6xE6du6Kd99Nz16wSS9j0eLluH33PizGyMRoBIZg9uwF+KLs13j3vYz48suK2Lp1m9PGBE3ka9euZb8Hw4cNw+VLohz03Ek8g0RgqlatwsYEbt687tTfzED98uq1/9iHRY8enbFjxzb7yYU01Sp7aEzQ50VMyu1bdzBu3AQU/6wEUqVKi/fezYS6dRph3brN7AvDbNvIEmmFr08Qdu06jGbN2yBzFqFHQiJgn35aDKNHj+ENHNEuzvcT9O+eGRYvXoxcuXKz35ySJUtgyZKFpO1uuxrTnXo4x6OFP4m/NGrUAJ99VgQjRgzB7TuOulExwzlNCer/dJKXKlUadlTZp09P3g0nWK22e5hRsYh3IdKCkydPoVHDRnj3nbeRO2d29OvVCzevXidtcRaBcqdvCEkE86fvtLA3gMS6QkNCsHHDBjbbTKcqx44d1fq08V7Dg5Mztv3PvqEjSuTn64O1a1ajfv16yJYtKz7++CMMGTIM585R/wi1MXBioU4OBO97emLlyhUoX/4L1oEiB5Tbt2+3z6mmdTEJenpQorbx3dgE0VFs9plEMEm0jdYA2mJfP7dpaWhh5qDTUfKJRPouNMbR+0TGFb78sgIqVCjHYrRkAS9L5izI/EEm5MieDdmzZUX6d9/lTSHSBZo3f769fbQeoT0sKjeJqBUqVBApUiZDq9Yt+SRIG0ei2FIe6cfc93yIXTv34scfW/BYTmUiHy5r166Dv18AM2qOlivdIX3949Y+CgqJBW/ohW/c2rRJBDh06CBKly5t33UgeXfyIusejC9qXMn44uvDYkrbDMY4ruJJGNM3gzE9I8X2gCnO82FURG2kbSDb/fZBX69cL8uk1SMaFgSGBuLkmdNYtHgxBg8ajMZNmqHYZyVRq04drF6zRjcZuD6ZeZlBkxuJZ5EoF70Hksg54pSpU3Hz9i0EBAfiibcPjh49gS5dutnlpIk+zJ4dw0aOwNkL59gs6iPvJ/DwfIB9+w+iUaMmDmm+lz49fm7bFhcvXrDrLFgiLDh6+Ijde3KhgoWwYf16dkonYWzxq9du4tvqNR3S/rx0eXTv2R9/zFmIDRs2YdeuPdizZy82bdqM8eMnoWjREkifPjOqfVsDc+fOx6NHjw2pAr6+fpgwYSI++aQwy9Y/eKDt2FM/oF3T2rVrsdGB3bt32n1lxARffx+s27AWLVv9hAkTx+L69Sv2nU2xKJTMinuwRkbh9o07GDtmPD7+OL9DG7z1dnq0aNUWx46fZIbRAdGAv08gjh46g2FDJqDYp+WRLJlQzJVEDhXbtm2LlSv/YqVoOlE0Qv/eOYRHR/NJETn1pLSIkSW/DefPC6/mTwtiVMg8ccNG9ZEzV1a0a98a//33rzFavEDPecqUqcidOy/efTcd2rRpxYyoUIYXcXiTwqaz5RcQwP5MPra9MyWKFcW82X/ikacnYLEiKtLVuOoIOT6ZngbHMtYQo0JGEEhEs1u3bqyjQgyXZFSc7tUN3VwXG6vC46PeEpfO+hqJIxGz0alTZ5T6vDQ+KfIp60AtXrwUe/fux759h7B79x6sW7cWY8b8hlq1a7LY1/ff/8AMK91vWhYJs470DGHMl3RRTpw4xqdDZO2LDFzYYprMcbHPd3Q/iY+SI0X9e+QukUESsopI4pga9PkKULmJ4c+dOwfeeSctJk+ewM4k7fNctBX373tgz+49WLJ4OZo2aYFMH3xoz6d48RLMZP7zzy72U0UnvCQpYJwPXZO+/sZrxusKCokTDoxKfBDboJwQOHToEC+O5C5I3BgV44saVzLW1Thiy4HTOJCYQb8rK+8xpm9EbGkay2skd9J3pxzmkK3hDtknW1te+klX9krtumNbEaMSHBaEcxfOs5w6Wf/5/PMyyJDxA/xQ7wfs3rPHvqiUab5qID0SEhuhd4GcOEoicYERI0fh2InjePj4EbwePsLOnbvQoUNHXtDKeKXLlMWwESNw5NhReJJMtrc3Myp//70TP//chs0Yy7jFihdHxy6deSeTdgBl//PyfIDGjRqzX5bMmTNh8KABuHVLE0PStzo9gqtXb6BJs+bIniMHp5sjRy7kzVsAhQoVw2fFS6NC+YqoUb02atWog7JlyyF79lzIkSMPvv++AVb+tRaBAUalUoGbN26hR4+evAu6aNECpxPWf/75Bw0a1Ee5cmX5Ok34seHm7RuYMGk8fmnfFqvXrIK/v69OXl++J+68UwLhIeE4fOAI6v/QAHnz5OX6izbOg08/LYHWP7fD2vUb4E0idoZ7H3k9wdbNO9Hp1z749JOyyJkzL98rnxEtnEjsjxT+iSkwY8T0754edPJ48cIltGrZmsdT2lUmR4WRkWaKynEHvXv//fcf+vfvi28qf4V+/Xvh+vWrxmjxAr3jp06fZqtKJLJUq1YNnD51ghXmJfRzFJ0e/rXqLxbxIaMS7du1wYUzpxEaGIDoSFIu18ZVcY+xtQT0bWkcW4y/zUAiqiTuRWKbCxYsYNEs6SzV1f36UDl2ytNoSayDYmNWKL3/rlzFjBmz8FVFqu/HqFSpMtq1a482bdqhVavW+P7779lPx1dffclMExnIICaFrOnpHUpy/sa53nXzPHMEBgZg1aqVGDx4IDvlJPPjAlQAObcZ51zX7+bNmzf5JJreG/IrpX+X6HeOHDmRQzemSqKwIkWKsiGGf/+9rJ3aOZRD60NkwGTkyOE8Nn72GYnlbrJfE4iGh8cdNvU+aOBQfPXlN8iRI7f9nf7889Jo/XMbTJs2A+vXr+d+EsYbGcZ6uiLHXuNM5u2joJCYwH5UzAZbd+E0eD1jmCVN8s4lS5Z8xoyK2SAnoR+ETArkAHfjERJipDfWwUix5Udxng2jooVpu4/6UhjjaXHFPqXjNRlCdwuHZ2ShJyg4mJUeN2/ejFq1arPy4ZChg9lPg7BoI3N8XjBrZ1luY/jTgfRTyPKRNCxBRErLZAqWvBj7B/izRaiIiEj4+PjyJEdiLzLu2bPncOfOXdYbCY8IZ7O44RER9riUlox75sxZtn5FDIBeXpp2gTds2IiKFSsxs0LiJlTYDFQAAP/0SURBVGfPCtl2M5DoyZmz53Hw4CF7eY8eP45jx45j0aLlzJCUKlkGRQoVRYUvKuCXtu2xccNGVvT289UzH449hOryc5u2KFSoMHsBp11LPQ4ePIiffmqOkiWLYdLEcWzhKjZ4PXyALVs3Yf26Nbh29T/bTqaEnnHWENN4SGJffn7+LKIl6y7oJLcv1fHR48e8iDUiMiIS3k98cP3qDZw8eQbHj8t7BVH7SeMiNBaSeI+7oH60b88B1KnzA9KmfQuNGzfGmTNSB8i8Lo6IvW+THP+dO7dw8eI5Vvg2Y6TiiydPHrMp6hLFi6FcuTLYunmTk5Uk+VxIHJKY93MXz7MIzs0bNxAaHAxrRASirJrYl4hP32TdnOvHjIGL01oZJsc+e7gcB1nkJ5gdPxKRGJM8DTFCjB7a5o1MQ6/fx2WxeYwXfj9EODGhND6S1TViiEjMrHnz5vjxx+askE66Z3SCQsrkt27ftrebtDgmi26vj4u+ndCgPk3lpBNDGtu0MYjay7hhIFrM7Jnx1eho7o+kY3fs2DGH94jHPKaTNnIMP3b8OE6fOcPjrmQsdSnr8hXYunUr69ESE0Q6L7duOVpZJNCpCz2jmzfFWC7fZcrz9OkzzOSTmBr1Eyq3OB00W6+4S85toqCQmPHUflSe5t74Yv/+/S+AUZGDUGyQ8bTF3POFfrA0o9ielxwEY4tnDtlSZqRNtBoZoWdozK5T2aKjhaMyCTrGp1OVokU/RcGCBdgkLe0GC0Yl/nWJH8zaOS7t/3KB3n9vHx8MHTqUdw3LlPkcf/+9lZ3cxRV+fgHYsnkL5vw5FzOnzcSyJctx8vhJNkXuDMcetHPXLtSoVRsFChTEqlWrnKzqEKPSvPlPKP7Zpxg9ajhuXLvmcN0MQSGBuH33Frzu30NYCJ0iGd/pV+OZBgcF488/5qBs2fIoVqw4W0zz9o7ZzLQjXmw7kOw+MVbNmjZGoYL5MHbMaHiZWBWTIlNmoIW5dD6pLcrpCtVLGxNjWrCbhWnjmUbETJi1lct0belIxkT+5u92hkiLY7dxaEjLz8+XF78bNmzg3XkyukGnOt7ewviAHnyvjlGRYcY0nxeIkSPRJzoJcWTmRM0d+59Z2POAfpwXGDlyFDJnzoIvvvgCe/bs4b769NDXLz70PNtEQeHpwYwK7woZryQEbP5PaJdHDHjyhXMNErEgeWv9Lu6B/ftZcdeBUXEQ9YhmpV/aAaadCDrKdlzsGF9copgYFRIxiEBISCACAvx5V5l2bF0POjSgmy+QtXprCA0JZVlXOnannRTpUC42kJwzlcXXx5cX68ILt75MZgOac5kEZNyEYVTsE6shXIMom1ZSs0mRFhHSeZnoDyTmsGnzZlSrVo37wyeFC2H5siV2vwmOu23G9BICsh31eZmFvVqgU86mvFDMjxHDh+Hu3bvGKO4jjo+Koq5euw5ly1VA/nz5sWrlSqcTFSrfjz82w6dFi2DYkMG4cuU/h+vOiIYlKhLhEbTTrTnKc4bxuRp/JzRkY8U/3xs3b7LJVPLG3bdvf1y/HpOxAbPwuOQfl7jugnbIgzFr1gxUKFcW9X6oi507dzoZXKDRxxpt5RMH9rJu8+Woh/1Uw15/bUTiFHTiqUa4Wsg7nihrmzAyvszT7H7t6WqeOuRvTkd3j5ZPzK1L8YV5Yml22hmcpiRdmL58smzPB6LWWq560p6PY1x9uJ5ihogl2tI5XJ+CMT2ZH60XLHwSUrt2HWTKlIlPrmIz3e4IY5mNpK9fXCn2NlBQSExg88RmVpdiAg2qtMNBMttkCpJ2aujIOCZb/pYoK+4/fMBiKXTkGkS2x+073uLl1oMYlNDQIDapeu7cedy//8BmxQnYv3cfSpYo7sCo+Pr6sggDleXGjavYsGEdDw4TJ07k41cytUhy6TINWy7ai+ui+nTU+uDBfZw7d4ZNm27ZspnFjEjm/cSJ47wgIxOHlHdMoLahnStaBNDRNU2ilDYxUeRhu0OHDihatChq1KjOO8KudpGJaSNlZRKj2L1zFzauW4/Vq1bhr7/+wvbt23DmzGl4eXmyDK/mAJE+zdtZgOLIRf2zY1T0Q6Pc6dNP2DKePn/75G0ogQwXJjat7JSNEBoejgEDB7K5XbKU8t231fDPju0OaTmWRCEhQP17965dqPjl12y6k/qjs2hEwoCe8Jp161Hhy6/Zus7a1eaMSrNmTVHkk0IYMXworl+Lm46Ee+OjfM+sYoFn7MS6dyOxgE6ily5bivJflkOLVi1519r1WCbfJbMamIU9X1y5coUtvlWoUAE9evZk0S6jWVdegJJvJSuJjlqdzJXbx4yYquoAOXa5FZnBfcDAALgDfSx373ENOR66nvtigujH4u/5QOSoPRgz0sc1XtPTsyizzMOYlvhN6wLSHySzxCRqR33TTKzPHLGVP76koPByQvNMb18IGl88ZwjfBPswdNgQtsLRp09vzJw5M8ZdVLI+NH3WDNSoXZMVn2kSiYggpTD5UjoiKCgYW7dsRuvWrVCnTh3Mmzef5TgJhw8cROnPSyJZcsGokCIlXdu1axd69+6FGjW+Q5EiRdhcpVQyJYdLZF3l338v6nLR5e2i2mQ5pV27tqhU6WsUL/4ZihYtwmlTmmXKlOGyjSCF5CNHTAci2Z7COs0UNGrUCF26dMH6teuwZdNmTBg3HrVr1mSzslQXMrncvn17Fl0g799GEOM2e/bvaNSwPvsBKPLJJ2xtiayXkDnZSpW+QseOHZhR05gy/WBlVlEKSxhGxcZ+6JgUumbcYdTF1PdDW0L0nZVE2VGZFRYryWGL9B88fIw2bdpy26VOlQpdu3TGhfNnOS2KKx6Jln5866UQO4jpXrxoMUqWKIH69eqx0QvHjYGEaX5Kcufu3ayjVKBgAaxZvRKhdmVbAXKKSbLinxUrioUL5rFeQ1xgOiw6jZe69ygRMSoxjekXL15E7bq10LR5Y2zbvi0GJoWgf6udxzrXiGnseXYgxvjM6dPo3bs3Kn/zDW9SOZxO2w0gkC6KPDnRp6BDnIocN0aFEYf51iXi3Zlk5SwAnTqTQngc0xE9XYznzwey75mRcWyPKW4cn5NLyDyc06JN3I0bN/DG488/t+ZNUqdxMEbEVv74koLCy4k33B/rtJikEEvWf6r8rwreeustfPRRHraoc+4cLRCdQTtX//53GTVr1+YF5QcffIBu3bqyGU2C2YBNE0yHDr+wXfePP86HZStWwN9mMvHAvr3sLE6eqHxSpAiGDhmCevXq4cMsmZEiRVL2vP3OO+8gSRJHk4LEJFDZxYvrerDx8/XDokWL2I45mb2UaZB511SpUvDuvQwj87DEfJGJQbrPDKSc3LRpU/Z3QQ73vqv+HTMoRQoX5jYku+xkbSR58hT45JOiWLhwkc4EI03C4Th+4hiGDh2CsmVLI0UKYZqZ2oDuTZ06lb2u77+fATVr1cD8efPYMpRATE9aPzAaB/24QeZiHGr14ca44kRPkBxQpZiGlRYUutMXfbqR1micPXcRDRo25Hq/kzYtZs6cgcePH+rEKWROiW2wNmuRFwd9aWIuUcyxSOGTzH6St2+yIkQ79NrJivk9sSPmPAm379xh/zEff/wx5s2dA19f7d0hkA+YypW/QeXKlbB7106TBXlM6VO446mzYLbNIOIa5fs1PM9daNcID4/kk23aYPqp5U9YsXIF/HQ+clzDVr9Y6yDb0zgKJCzolJp0GMk/CZlYXrRoMa5cuSqU1XUCVGYjk/5P6w7G6861cLjvBUIracwQ/dhWfxpzdc1gNhc71k+2hf7b84CuzIbnps1Z8o10FfdZ90PndEKDQ3DgwEH07t0HDRs2wpYtW41RDNDXw1jOpyF9m0hSUHg54Saj4vySkw5I3bp1eYH49jtv4X//q4xTp04Yb2R4+/hixcq/UKBQIfvinhbldKpCMA6OZB3n+LHjfGxKcStXroxbd+7Yr+/ZvRMlin9mZ1SSJEliZxzeefsd9rFCJzFt27ZBzZrfscdi6XOFFvU//9wK9+6R5RDa5dDqJOH3xAfLly7jRQ/dQ4wElaVOnVpo1qwJWvzUDN//UAcf58vHDvEoTvr06dG4USPs37efT0KMgz0d/TZo0ADvpksnypssKZImScL3kgxrw4YNeaH11VcV8UnRYujVp6+dySAxliOHDqJ9h1+QNavwwpwuXTr2l0ELQtq1+emnH1G7dg0UKlwIad5Mze1BplpnzJjBi0f3IQe52HuFGRyHW/2EZrvuYgdR9gE72c9fgNDIcDx68gS379zFnbseePzEmx23hYZHYv2GTfi6YkVuk6wffoht24Uit8WFHHnigfM79aKgf0b6Z2WOWMrM8u9WLF68BE2b/ohp06bh1ImTCCBjF6wzFB/o28oc9KyJGfm89Ofo0aMHW9aSoPLQe0CnqrShwKeqTn1D5mGEDKd3WutTItT1Ms04ptlC47f7/gxBbUGWx/777yrmzJnPp8xbt23DExOTyE8H+bz09GxzcAUypECLRXKC2bNnLyxZshR37t5BpJUcoEpGxbiQk+e+8rosq9b39Et1PczCXgRkOWIri70PG/qofvy1h9lqTiTbiUOc+vbzgL4vSVA5YmJU9OWU4c++7PRekVU+Mv4xZdJU9OzZB/v27UdAoM2KmvEGO/RlfVZEbUFi9XrReiIFhZcTNtGv2CAHA63Dh4UFs5hVpkwfIO2bqfHll+Vx7NgR442My//9hy7duuD9D4R4E1HmzJlZblxCP/B5enjit9GjkSWLcHxEitIPdU7eDhzYi9KlSyFFCsGoSCI9he/r1GX5eFKkv3v3Ns6fP8umKz/9tChS2JiKokU/YcXLR4+kZRhb3tHRCAwIxKL5C/BJoUJIkjQpn1zUqlWT9T8uXjzP9v8pXdJZmTRlMsp+UdbOrBATQk7Tbt++7SQbfeWqYFSIwdCXme794YcfcPbMGRad++uvVZg+Yxb27NnHojTULixf37QpsmbLiiRvvIEsWbLwKQLZXicG6M6d2+y74vTpk5g6fRrKVyiPJEkFM0RianPnzGETte5BDnSx9woz0F2SjLooMaVI9ZSnINYoKyItkYi0RLDI4PmLF7FsxV8YOeo3jP5tDBYvWYbzF//Ffa9HLHZHHoKJmaz2bTWcsZ3qWaKcPUwbf79Y6CeoF1su/fOJ7Tm5W2bSGdux4x92ijZ29G84fuQwIiPi65dD31ZmEGUh5qR79+68sbFgwUI+yaEddjrNJP8iX5T9gv1WPPYxE/uSeRghw+Wkrw/V+rd7ePHPnMYU0hNct249jzVkJtrb18e05u7AuLDVIMcRWd/nW+eQ4FBcv3adnYbOnTuPrVsJR6TiVMWMUZHMyqvNqGjPy/jszBgVghmj8mKg70t6mDEqMkxfF1mHmFsoPiDLefv27Mefs/7EovmLcO7cBQSHhLjxTGSZniWZMSoKCi8v2I9K7JAvvnwRSKk7nK1UkVULEoUiHQmSyxReqx1fjt17dqPYZ8UcvGJnzJgRs2bNxKNHJEPsaF2EbL6TjDudflDcb775xuFU4MD+vayjIhkV8qRcrOinGNCvPw7s3wc/P0exD9pN+/PPP1HYdqJDeiDk4OrC+fO2GCJvUlSfN3cuihX5lOOlTpkKLX9qgSOHDiHc4C2aPco+8MTO3f+gRYuf+JSE7iGnTnPm/IGwMGlxRixurl69jPoN6tkZFYqfPUc29OjZDSdPHLcrz3t7++LBAy/2D0JyrSQCN3r0aD6xoVMSWpT36tULp06dRGCAo6gGmde87/UAs37/HZ+X+ZxPkeiepk2a4OTJEzFYKdNDDnSuh9aYoB+Y5QSnZ1ZigtDxEf0mLDyU6zhy5Eg2K9uwURP8UL8hvqtZG5Wr/I+d+61dtxZ169ZiMT8yTTxj+gy7WVLrUzAqZpO1+9BPPBKyTfVh+njxzevZQP/M3HlOAuax9PfTzjb5CNmxYwfOnz2LwAB/m3hfXGGelwZxPSg4iJl6OjUhBmnNmnWYO3cuenTvzpsB/fv3x7XrV9n/jjNc5SGfk+M7IUJtCzi3G04+7xf3zMkR4pMnT+wWEYPJ6IbtWnxK5Po9EQ2iGfSQYQkMXRa0WfTkiQ8zqjSOku8WGuM1PxSOcxqX14nx1B5sQjEqxjdCn5YxXS6piVShdgbtmnkWvTjKbuXTyKSIezVRWw63kRYmPh3yearx0j2I9PXkcNUuOuwczxhXxNfXTCOzOO6BNgLv3rmLixcu4vat2w6GhZyfhj5fYxliI4IxLCYy5q2g8PLB7keFBz9HfkEHCtQP6kRWeHk9YMXFVKlSszL4woULERDgh6goWhDLlwpYu2YNL7T1JwnEhDRoUA979uxyzCYabG+8dJkyvMjO9uGH6NmzB+/QShzYt0cwKjbRLxLRmjxxMm5dv2FTmCRo+RPIQVPt2rWRIkUqvidz5g9x9OhRhziPvB7ix2Y/8nUSyypSqDDWrlrjEEcbWLSGIkXdUqVKsSgalbllyxZ86iLM44pyXLlyGfXrf4933nmb0ydxr+7du+HGDeHPwWygJzl6snlftWpV++kLLcJI7l+DcQEM3PHwwG9jxrA+DN1XsFABjBkzGr4+7vhGEM/2WQxwciLTT6BG6Hfx5ELA88E9rN+4nnfHa9eqxc7JBg8ZhslTpmHU6N/QtWs3vtand08ULJAfKVOmYA/LZ86eY1l0rb8+PfTle5Vge9XslJAgi4DkayU4KEg4knvG0NeB8iLGiHQT5s6djwkTJqJvnz6YNnUqM+tC3DMukO+74zsfv7aT79artYBIVO+GrWmN7yxtgtBmkCUi0iaaq2dUXlz5JYNhfB9dkexBZpAjrCQj5BhMZ0ZmMLvXmL9jWVwzRYkfRkZV3w9E7RK2b+jzdZfMyhcbJVT5FRSeHxwcPrrPqIihipyCjRo1Ghkzvs9iV8OHD2fPq8KXB8UjXRZ/zJr1O957TzAqtNgm78d0qpE/fz7Mnz/XIZvI8AisXbuW9SsofoP69XHo4H4H5deDB/ahTJlSSJlSMCq0kKcTF203RZZTA+20kyfedOne5XuyZcvBXmklIiMtrF9S/dtv+TrpunT+tRMuntdk3V2BzBeTRa8smTLxvd9+V43F4Cx8uiQaVGNU3uI4ZEGMnJTFtMNMYhokQ05icnQCQ3o9xLi4g3Pnz7MOCzFOpGhfr973uHvnljGaCag8CceoGFPlBYSF/KKIz1t3bmP6zOmo8r/KrBdE3nxpV97b2w9BQSEICAhEkH8A9u7Zw5bPMmbIwEwvifaQ5TfHPuCI+CyoWBTNYmUxIsrb6/59Fu2jHWkiMjd948ZN3LpJdAM3b9Lv6+zxmsJu3ryB2zev4/atGyyed/PGNdy6eY29c9/3vMfvR0xmvRMKspXi3iLxQAIze/q6UB7CFLgPrly5jgvn/8WtG7fg7+dvE8eUfSMuZXGe9ONytwb5brl+v8xDEzcS6rnGC7bHJPsbnZ4Q8RhjsSA60oLoKOGLiYhvcCi+/odZvczCYoO8x+xT26Bxh2Lqufp4jqHiU0vDPAXz+53LoJEsuT7mywAqp2JUFBReFsRB9Mu589Pibfbs2cifvwAviMl078KFC2wO0gSOHj2G5s1bIE2atBynTJkvUL16DfZinS/fx5g7d7bD0Ed+UObMmcOmhSl+z5494XnPw8FUr9BRKYnkNvPEZHaUFvUaZHoaNEZFiF4ZGRVahE6aOBFFCn9iu54NmzdtYqeKVE+yumVOEYgIj8ChAwdRtsznSJo0CSpVqojdu3cinHf3BYyMCp3AkEMoJ8imZjGwJ+jUqSPeTvcO0qR5E9Vr1mSLZVaLxVamMBvZymEjmpTJVwtZVsuWLStSJEuKWrVq4FYMpzeOiO26a2hPUiONUTHGpEWExW52+M7t2+jZqxfyfpQXH3/8Ebp27cwOMMnnjMWi94sC7N+3D5WrVGKrcGTdjdqJDDxocMyN4Fxv2ZeN4bLcUcLymDUa/n4BbG6XnAU2b96MjRj88EM91KlTl7+TIYWGDeqhYYMfUL/e92hQ/wc0btgADerXQ5OGDdCsSWM0aVQfDX6og8YNf0DLlj+iX/9+7Kzy0WOb+GMimFjMWyN+eHZpab3JLE3tqi4sSpxIhoaEMaPpCGMKseFZTfqURuyMivkVNyGLagqzlnp+cH7/EgKODSD9LklHsdEsEmozy+u0UNU/ZyLjb2OYK+jj6+/T36NPKyHhnI8ohVk9jOU1q792hxZidr/z1cQFV/WXn66uP029jG3jDhk3iI1p6Z+T2TNTUHj58VSMCs07y5cvR4kSJXjxTaJPw4YNtTlyFFixYiU++6wEUqdOi7JlymHSpCmYPHkKChUujAwZMrC5XT/fJ7aJI4r9G0yfPp1NGJM4GX03mhLdu2+Pg3li9kxPVoViAPkxIe/LtKiVjIieUSG57V/atsP7GYXCP5WNrHD9/vvvfFpCCvlEkyZNZPv8kydP5noQzZwxE4MGDkShQoJhK1y4EKZPn+pQJsGo/GDPv2TJkuyN3gmyqaPBSvI/tWiOVGlSIWWqlChRqhTrp5AYC5VlyuSJmD5tCqZNnYJJk6hsk7hsZB72t99Go3HjhvjwwyxImuQNVKlUERfOnUGU1Vl341nCOMyK6pidpogrwjsy8PjRIy67tLRWtmxZHDp0wCbKRact5KRN7IzS57p16/DRR3mZWc2TJxfrsoSGCsZQenk2wjGMvusXK44QV4WTysioaNy//xBLly5B5UpfI2+enMiZKyeyZSPKgRw5ciJXrpzIkT0rPsySCVkyv4+sWTIh+4dZ+DNHlszI8WEWfJjlA2T+4D18mCkj8ubKgYqVKmHylCm4dfum07v1oiCf2bPAs0tL9BX6NEtThhnDny1c5WAW5gqyHuZ9jhCX1EyhNZUJ5EVD3qZxX1aY1M/e5lLBWJKIK7ZQjIyLvlfJMON1V9Df60jaGCTDngdc5eUqzFjv2Oqrhz4vd+9JbNDXXV8Hd5+/GSi+7GNE7kB/j6s89c9IkoLCq4V4MCr6lyUax48fQ6tWrexMw8CBA2wK9QKkzJorV25kyJgRg4YMxeX/ruLvv/9mCzwkzvTTTz/hv/8u2Res5O29Tds2rF9RoEABrFixQpefwN49u1DC4Jk+dkblPlq2bKVjVLI7MCq0UCbLWu+8LXRIKG1iZvLnz88iarSAJiKfKUTid3728ULXc+XOxbv7dO/bb7/FXrDv3btnT58YFRK/kjoqLhkVAo9P0bh65Qrq16/H1rveSPIG0ryZBjmy52CxOFqk5/v4IxQsWAAFCtDvj+xlo+90WpUzZ3akSZNanOCUKI5DB/Y5GQV41tBPc45kNsiKHU/yF0N6TOXLlePnTo4rx48bi+AgcUpGu6GS+aCTFTKvSoYY3nrrTa5b1arVsHHjRrviLjHK8vTFyLA4LhSkxLYI4/g6gQa+SnmyUu4Tdig6oH8/dOr4K7p07YLOnbuiS5du6NKlKzp37oxOHTvgl3Zt0a5dG3Ro147pl1/aoX27tvilbRu0a9sabdq0Qts2LdGhfTu2ELdh4yY8fEgGAIzvmHl7yXYwqxcRX5ek1/+JhezpmORuzMtd2NPS5xWX8hmehuxF8SuNgDEPd0DMscVCJ5VExCxHGsIihf6DPTwS1kgLm1mPihLiRyxuRP2SNnGYHP1XOFGcYdOw1q9X3E3H4WHrPql9iHRpso4REz1Dx+fJ9bWTVRCJXlmM4SSGFWULp9/imkPfsKfvSPZycNlsfkDYeaN4LtopM32PRHh4BFNYWCgbONFTeDhRKMLDwnlcjAgP1d0fhkj6HS6+h4cTadfJKEFkOOWhnWSTsZKIyHCER4h4nLb9HlEOIo4faRHE5RRh4RF0r3Y6TulpfYzCRJ3EqXkkXyeDK9T3SHRZ9j19P9RInLQ7htv6LvdpfXi47Rp9yu/yfhFXlEOmpyd9XiI9LuMLEG99deDOi+xOHAWFlxMOjIrryVs/AzrOajQArV27hnVUaNHYoUN73LvnwVdp0TRr1izkyJkTOXPnwrK/ViAsIhwHDx5kS17JkiZlk7L/7PzHfmoyecokZHw/A1KnSY3PP/+cd86N2LdvN0qWjCuj4omWLX/SMSqOol+k39CiRQsH545PQ8WLl2BrMxIaoyJEv2JkVGxtR6aHyYml3rlkfKlggQLYseNvtsSUkIhxreWwkBIx6HRk8+Yt7FiTTrGonHP+/APBgQGIttAix8qiO8IiGPW3KFy69B969eyJ5MmSMbNL4oEeHpIplDunciHsenEqimP7Tf4/aLGlWwzL+KynYhV6KqSsTWKGkui3CHMMd6KAAAQG+iEw0B8B/BnA91G/F3WTcH3KQxM+MUzEVBNzRwYm6NPH25uJrpGuFvVlIvqtJ29bHDOSafj4EPnwJ8WnMG/bvfY4urjkWJHv8abyCLKXSV6X6VD+VC4bxVQeJu8neOL7BE84fZHeE19vePv5wMfPh8VE6b03Eun96H9TOzmUS0e+XFdRbrP06BqJjZJPI0/P+3jw4CHu338ArwcP+JSWNkC8vCjck79T2P3791mX6dEDLzx++AhPHnvB+9FDO/k8fgSfx0/g89gbvk+IfHTky+TnTeQHfx8/23dX5AM/H2/4+TyBv7c3/G3hdF+Ar7+dAv0CWLeLKJj0vAICEBTgJ8jPF4H+vgj0o+8BCPB1zNOxfD62sj+B9yOix0xPqJ42euz1EI8fUt0f4LEX0UNuCyNxPC9qE5GGM4k8fHSfIm96jkTUb4ke4+FDandPNvFO5OFB3z1x5849/iQLZ3fverBILJH8fvf2XXjevY97d+7C08MDnvfu4R59Et25i3t3KUzcTxtP3A/uecKL+sI9T9y/d4+fN1+7fx8eD+7htgelf9eWzx2+l8vhQfEeMN1/8BCeRJ73cc/zHt9/774n7j24h3uenvaw+/cFeXp6wNPTlr+d6JqnrS96cTmIKM379+m36J9E3CcfPLT3Txkm4lCf1sIobfmd+7f9Hor7iE+XPT3pnXjAn5SX+KRwikvvh8hL5k/f6b2k+Sc4MAjBNHYG0NhJY2ggAmh85H4ZhKBALTyIwwIdw4jot+5+QWIsdgzTiMZhzofHbRkWwGFExvgJR85llGUQ5A9/fx/4+/vydwqjttPHMbuX5iCeiyiM6mbIJzg40EFvVkHhZcEbctOMYFzIaXDNqBBoAfzuu0JJ/bNixfDHH38gJDSEJ/qhQ4cifYb0KFC4ILZs38bxDx0+jMqVq7D53OzZs3McehEJAwcO5HTSvpUWTZs1Zb0AI4w6Ks+KUWnevLldh4WYA1oEE6VKlYpPQlKlSoOkScXi2IzoHnn6UbwEMSpX7em7LfplA+000nWyVCaZDWN+sRL5UrHVo2jRovjnn53PkVEx9CMHJkX8tlqjmMEgU8Nvv/02t32bNj/j7JlT4hZrNKIiLbw7Lf3SREZasXLlanz11Vdcr4wZ02PGjGnMRLAfFpY/FzLoRgbF2LcdGBXmnQSjYhdVc3FfwsKcUaH606Jn2bJlfEq5ZMkSpsWLF/Pn0qVL7Z96kvH08d2hRYsW2Yms+REtWLDA/l3/2xgu76N0qAzLiJYtY3JVPmP+Cxcv0kiWY9FCzF+4AAsWLcQCQ176PPXpGetvJGM5jLR8xXI2YLF582ZmqMnT9ObNRPRd0OYtm7F1q+375s3YtGkT1q1Zg+VLlmLJwkVYtnQxli9bYqelSxZj2ZIlWLZ4CZYuWsxE8TjuYhEuia4tozi26xx3wUL+zeGLFmHJYmqH+ViycIEWj9p+McVfxOVYsXQZ/lq2nEl8X4a/li7BiqWL+XP5Yoq3GCuWLMXyxUv4k+JJojRkOlQue/jSpZym/jp/X0a0GMuXLrHnq89/5fIVWLXiL9NPWVaZlsxT5sHfly3FihXLsHw59a0l/Llm7RpueyI6Yd2wgWgT1q8X38l3DBlqWbd2HdauXc+/N6zfiC0bt2Drpq3YunUbtm/fzif+O7b/jX+2/40df+9gf0A7duzEP//Q5w6+/vf2v8WnjbZt34Zt27fbaBu2bqX0ttrDt2zdZus3RNuwadMWbGQS/YX6DfenbVuxZetWbLb1pc2bN2HLFkm2OEz0XYTJvKhPyn4qSAsTfVMfR4bJcGOY+O1IW7DJVgcqP9dho/jU6qb/vpXTo3eD/NmQmDiNFfPnzcPc2XMw98/Z7DaA1gskYk2fc/6YzfTnn3/wtdl/zuZ4FJ90V+fMmY05s//E3NlzOXzO7NmsJ0vXaFwkP0n0aSQZLuNKojwkzZ6tJ5GuPozzNpCII9ISaYv0HfOR37Xrc+cKonj6Mgj6A3/8MctG9J3a5w/8wW0i2kXkIfOV3+dhzpy5+HP2bPwx+0/8wfFm2/KiOWMR+4Kj00EFhZcJ8WBUJLMiCazwXKVKZbbklfH9jOwIknYniTkgkRiyylSmbBkcsZkDPnz4CKpUqYqUKVMhaRLy89EU3o+9ERlmQZfOXXhRTo4k6cUkBsKIPbt3oUTxYjGcqGhlk6CytGr1E9KlMxf9op3oH39shnds18mccrtf2mHEyBHsVHDs2LEYOXI0hg4dxiI7MREpSZMvE7ZCZSsH+VEhc8xxZVTq1KnD8em0gRitwYMHOeQ1yCR/7ZqIS+Uhz9xkpYp25d2HczvGBrn4d9ZJ0cF2ISQkDNu372CmlepIeh606KJTB45GpxlsrUcwHQTaORo1ahQ7vSS/PGS4gJxxEoRSfqRNcVavRGvOcMiy2n9THHvZHRkVqR9DIg/E7Pnbd9xp91+cYDx+/Ih30B8+8GIiH0Hkv4HDbdefPBEnA3Q/pSMZLA3690sDnTDQIorMgXfq1InNM3ft2hXdunXjE6W+ffsaqB/69O2L3n16o1fv3hynR68e6NGzJ7r36MG+RSgNph7d0a27IPpNaRJ17dYNXbp1ZTG3Tl06o1PnTujUpRPn35GoY0emX4k6CaJweuc7d+mCLpROjx6cNxGVncpCn5JI50oSeZQn0spEZejK9ezSpQvnT+l3oLx+/dUl6cvUsXMnLgulwelQet2pfrr6U1tyWDctHufXGd179uCNFOpzGo3GyJGjWC9KkrzGv0eNxNAhQ9CvT1/06tkL/fr2caA+fXqhb5/erAPXu1dv9Kb69+jJRN8l0e+ePXqIz+7d+ZnRb/7sroX37GG71r27LayHCOvRDT26d0NPSpufAYX3EPE4LpEtbneKS5+29CnfnnRfL/FpS4PL1bMXevfugz5Mvdn8M30yUb0orG8fJq5zv/5M/SX17cc+r+iTqV8/9OtL1Bf9uE16irR79RZ5yfbhsvTistEcQ3nRJ/Ut+j5o0CAeq8n65LBhw5iGDBnK4YMGDcbgQYMxaOAgDBwwEP37DUC/fgP4c0D/AXyd4tF4SfcNHzYcI0eMwIjhIj163iNGjGQiv1akAzhmzBiMGfMbRvHv3/g3zRNjx41j8/Bjx4zB+AkTMHHSJA6j/jGC0xqJYcOojCMwjH6PoLDhGDVyhD0tTmfMWFu6Mq8x/FsQhRHJ379h9Gii0Rg9epTtU/ymfMWnIC1MCxfxzUm7n/r3b7r+PxojRtCneCfs7wddG2H7tN1Lbdi+fXv26dW4cWM0btQYDRs0ZCfIZIyEJAfos0F9MkAiwuhaw4YN0ahhQzZW0shGjfl3YzRpLIjSa9KkCZo2bcri2/RpJAqnOEbiNCkP+cmkfW/YsJG9DI0aUb6CZFnoWsOGDdCoka2sunARt5Hh0/bdVm55v0hD5km/69mIfou85XXSPeXyNzbWpxmvpZo0aYxGjakMDex5UVuSOPq8eXN4w4tEKzW4nKkVFBIF4qGjYmRYwEfUEyZMYN2I9Onf44mYfHb8++8FXvwTo1KlShVcvHiR41/69xLat/+V49IC9X9VquLYoWPYv/sA6tb6nsNy587FFq7MsGvnDhT/rCiS0emFE6OiL6v2ApJ4Bvk30RgVR2V6WlQ2b97Ufj137tzseJIgrVK5QyRrzYtaqxWRUVZWxiZccWJUSsXIqNDi+OrVqzzAUHxyqMmWxMLD7HlRHpKM5eDrNsVzLpdNJyBucG7H2OBwImG65NZAi+8xY8bho4/yIVXqVKhTpxbOnhWnKQQ+4WA5f9GG9Hn+/Dk2ipA6dWo+gaETOClixycqbI5UfDqYIDWBLGdsoHYjBo+YpFu37nI/Pnv2LPuzIRPTp0+fwqlTp3Hq5EmcPnEKp44dx4ljx5iBpz524sQJO5GH7DOnz7AXdXq+JBIhDAbY5O5dgMRHSAyS3jO5aJGL5HHjxmH8+PEOn7RQ+m3sGIz6TVts0AJ6xKiRGDZyBIbTIsy2qBs+YjiG2YjDOWwEho0YgaHDhwkaMRxD5PfhwzHUthAkxp3C6BoRp0c0ciSGU36jxeKFFz1Ult9Gc5n05XJY5I+kxaAom718uoXn0GFDMWToUGYeiMh8NZEoy1At3ohhXE8iWizZ8/htNNMo2yKN2oSuUzlH6BgPahOqF7WJwyKUSXzXFo30POQ1QfIZ8X1j6LcgsfgcgzFjx/Jzst8jF6K6+xyIysAkFqv8fYzjJ6VBZZMLaMfFLbX3SIweRQttolEiXLfQ1dNoXviOxm9y8fubWEBLckxbT9oC2tgmVPdxOhr72xiMNdw7+jdRPsrXoTz6hTCXncpDn9oimojiaotw6lMjbM9ULJxHEbNBzIetvwwZPISZkyFDxScxK7If6ZkerS+O4PSpfmPHivYTv8dg/LjxGD9hPL+Dsn3o+8RJEzFhwjhR1lEjMIbLLOi30aP4t6iLYEjGjx+HyZMmYfKESZgwXqTnTPSuj7V9ijDqT+PGjbERfZdhZkT9j+KJfugcboxvTvLZ0n36Zz1u7FiMp+ds6+f0XMjhKm0C0EYGb37ITQ3S77NtfNCn/E6bBZLkBoKe5IYKkX3ToZtguPWbEEQUpo9v34yRaTmkTfl1tpFuk6NLJ3TtSiTCRdk6oUuXjujc2VhefVwzknl15vtFOjIvka64X5RNlLcLunXtwtY8ZZ2ovrL+tMlDmxI95CaPrpxiA6cD5sz5kyU9SHdOIO5zvILC80YcGBW9xQs9CX8fdCROpwSkvE0vyKNHXli16i+UL18Ob731FmrUqGFfmIcEh/JOOinL0yK8cIEi6NOjL35u3gb58girTyQ6dfr0aUM5BMjh4+efl3Ah+mXOqDz0uo/WrVvqzBM7Miok9y9OVISye+48uXkx+TTQL4SN5oljY1QIN2/e5J0SEnEij/QrV/7FsqbPD87tGBtE68fMqIhTCuDmrdto0aI1Uqd+k40D0G4PMS8EZlKY4dCYjAB/f8yfPx+lS5fmNiRrW2RsgeRyJSMm7yGFejKTTaQ/VdHDoawumAR5HzEqd27fwZo1azF//gIWY1q1aiXWr1/LokEbN23E5k2bsXXTZmwj0YzNmzmcmAsSNyFas2aNnUivi67v3r2bmZXYQKKR5LOF+gz1S2KUiBE6cuQIMz/0uW/fPnZiSjpgu/fsxq49u7Fz927s3bePr+3du9cWvgu7du/mvMlAAH2nuES79+zheHv37cUeG+3dvw/7DuzH/oMHcODQQRw8cgiHDh/ijYSjR47g6LFjOHbiOBMxY1Su47bfR44d5Xgkwnnw0CHsP3SQ09q3f7+9TETk5FVPVDYKpzj79+9nj/NUL0qH8z16lN9fyuvkyZPcBjRe0OYCM5EXzuP8xfP8ee78OWYqKfz02TNMp06f5vu4DY8dFeU8eoTbkejo8WM4RteOHsGBgwfsZdATlUfQYRw8eMT2KcNsRO2l+22Whj4tez25rgftbedMB2ykxTl8mL5LOmyrC30eYr9OR4+K7/QpicKPHRNtKT5FPGpfM7K3D//W2kvmpeUvntNh2/OizyOHDuHoocOOZC+nzFeSLJMgeg5UR63t9uPgQSJqA5GHbL9DBw/h8BFBlJbcIDh5/ARvIJw6fhynTpyw9xtJJ46LvqvvT0Tyu71v83tH6R/EkcOyXkf4XZDPgvqt1r/34MCBfTh4YD8OH9yPw4eoP+3l8nNbUT0O7LM/S2qLY0eOcvscPiDqpH8PiPbTO7lvD6dD4eLaPib6Tu0i+pLoTyJM3xe19jOGiXTM+rmhjzr1SUFHDh3GscNHuPz0nZ/9kSP8bp4/f57fQ34Xbe37rInycScsZqJnftJFmNY3tDBjXBlmRq7TpHKeOaO/X5b9DE6fOWXbGBP36uskxz2xgUafIo1TtnS5/588zn6+goODbLOKfh1nPv8pKCQGODh8jBn6Zacjo0LiNrTLTP5M6MSAOPfbt2+gbds2zKSQmE7nzr+y8zsJWnSRQz8W+cmRC/V/aIivy1dEhvcyoECB/GzViU45zLBvr5kyvfRcb/7yOYt+OTIqpFRLIgY5smfn61k+zIK/VixHYEDMui8StCtOypPXblyH1+OHCI8Mt4kSCTgzKjGLfhFIUfLnn1vjzTdTs1hd1WpVeSKQcMUI8LWoKBYtIqVOamsSQaKTlbjBuR1jg37x78ywaGHWKCv3mTq167AOUMWKX+PEyROIiIxgS1uRVgusUZGwWiJYjOvBw4fYum0bxo+fiHLlv0Sq1G/is89KYufO3azrojEokmGxwEJWc9hyDpk2FiTrom83rqHtPdCXlyBPo0JCgrm/DBgwgHenSGxp0KCBvMs6atRI3l2lHc6xtNM65jeMGyt2K2nndcQIOnUYiuEk3kG7v6NHY+y4sRg/cQJmzpqFy1dM/OkYQL5zwkLJclEoQkND+NkK5VB/ZtSk4jcxNKQ8/oQU1W1EXuHpmrdNQZ7DDKQPE8r0NmIFeV/4+vnC198Pfv5+8CdlT5uSpzASEIAAMhgQTAqcmgGBAA4XiqAsKufvJ9IhIwDSEACVy6Q88ppQhBdK7kKh1JavwaABtQf527ETtVNYKELCwhASGmoPDw4JRnBICIKCg+2GEbiMOkVW/gwUedCnLLORuEx2EnU0EsUx3hcbOabrinx1ZBLm72erC33K70aS4Y6KvCJcH2Z2XU9aeqwE7EdkUiY/XwT4+enIFwH2csaUrsib0tPaSRg/sOdj62N0jZ6FXwCRHwICxfvBz5r6DSl065SpadFm7zNBIRyPPs0oOFC8c9Tf/X1FHQL9hKGCAH9BVAb5LkqjFCQaKokMOFC57eWn94k+fW1tRn2c0vITafn7aO+J9k7YDFjYDV9o4eaktZkzGfufq3BHcu6PjhTg58/tY+8D/n4ICSEraOE2C2phtrFMkZ6kdTljeGwkrNpRmwqiNMiynRaHvoewpTgh9mWkuK4NFBSeH+LAqEgYGRVxL1n2aNasGTJkSI/q1ath5szpKFJEOE8sVKgQ/37Mju0EaBe5fPnyfJ0U8YsW/RQ5c+TiBfm331bDpUv/8iLRuWzR2LFjO4oW/YRPGjRGxcd23blsBC9mVFq49KNCA+iWzVtQ8auv+XratG+iRYsfcfy40KuJCQ+9vFh5kxaxPXr2wOJlS3Df64HDaYCZ1a+LsTAqJD7XqVMH+ynQm2nTsmgI6dNIuGJUaEKlMpEYA+kskMIwObWMG5zbMTaYMSpy8W9nUhCFCEskTp06iapVha5SjRo1cfXaNXayaIkmcTYS2yJRugicOXsGU2dMZ32Hrt16oHTpsngvfUbUqFEbJ09qp26yLxv7DJm+jggnp5GC6dHH13+na7KsMkya3SRGhXYDSfmR/NWQzs/MmTNZ0XH2nD8xf/5cLFgwjz/JiSl9Llw4nz/nzP0Tf87+HX/M+QNz5s1lhfDFpMD81wqs37ABdz3u2suhoPByQI48xrHB3TAZboQ+XVf3xY6nu/tVgVntX0SrvIg8FVyDnoV+nST9CqlnpJA48ZSMiua8iBbBJAuZJUtmZMnyAYoW+YQtOdEC+4svymLXrn8QGqpZnCIRn186tEfGTBmZ4SALYPRJZo5JQe7GjesuyhWNv//ehiJFCrvBqGgg0a+ff25lNz9sZFQItLgnxUw6BaI4WbNm4R1xLy/Xojm0uN35z04+TXr7rbeYmfipZQveJdefYMTnRCUkJIgZvM8+K8b3UBt9U7kyli1bDn//AJfDCuVLR7116tRmJXxynvnzzz/Dy8v8hErCub3jzqjoTySMjIo+PDwyAseOH0PlKlWQNGlylCxZmn2pkNlZZlaiLAgJDeZ+MHL0aNT5oR5+btMO1WvWQubMWfDBB5nQunUbXL58WeRrO02ROjm0Q0pmZek06eLFC7h757bNv49zXfQMjvFERaZpsQglejqZIvOdpDNy69Yt3Ll9mx1z3r1zCx53b8PDg8yRakT5ety7i7v37uDWnZu4eecW7t7zYFOkDx56wdffF5GWuBg4UHg1oO9l7oQnNog32bGsMsxx7NXmCn24WZj+fpm2SN84NtnMXdi3FRzeYTJ+QWTbFKExmk5wSZyUTlFIRp/8dZHoHImokUjXyZMncPKE0DE7c/I0zp46g7On6PM0zpLoDImD0XXbtfNnzuDcaRnnFH8/Z9NbI6Ix58KF8zhju5c2OUiUl05b3NEZjPu8bITZPGj2zBIarvqEwouFfCZyDaf83CgkXth1VNwfFI2TiRiA6LiRdpo/+aQwkiZNYhfLYkai2rdsj95uXozih4fh0JHD+KF+PXs8okwZP0DXzp3Zz4IrHDq0H6VLl3JDR0WDUUeFzCIbGRWaQFavXoWvvqrAcZIkeYMdS5J5v4gIc0eJZPWJFAbJUSHdkzp1GrRr145FrvTQzBPH5vBRTt5ih5/qRcqisn1Iify76jWwceNmBAY5mxqm50iLe1JozZQpk2jTTJmYiSSRGsfIxp/GPiDb0RjuGkbmxAxURnKYRguEatWqcV+hepHJYRJto3qHhoVw+5CyNjEoEyZPw/IVa1D2i/Jscjlz5sxo27YdLwDoxIOPvOkIPDyUxb0uX/6XRbHIcgqJz61fv96utG4G2f/l0sdYdtl19SJmjvowkqQyvyTtNy2WBGkMVXSMO1kvYmGh8HSg99fYg8zC5CJBH06fxsV7XCDvN6YZ9/c4/tDyEO+Uvk5m9TfWVV9uV6B3lFgQIucFP9fYxrAQc2KJikSENZzvOnv2DG/aFC5cmOeAnDlzshEYMp6SK1cuuzPfAvnJke9HyJ//YxQsmA/58pET3XzIny8/8hfIj08KFUThggVQqGB+drgrHe3SvRTv00+LotinRVAgXz5Ol8KbN2/GpohJvEzPrBjL7wjZhvpnSjB7pvowfTvq+4QkYzx5v7H/xAX6dOUCWJLxOTtDXzqFhIaxj8T+fBQUXhSYUYl5oDRCdmo9Ce/NpJir9/shqW7tuvB+LJSkJWjB9ujJI/Ts3YsXqTJu1iwfsllKP1+pc+KMAwf34/PPS7owT6wvnwYjo2J2okLtQE60hg8favcynybNm6hQoTxGDB/KtvrJQACJ+MycMQ1Tp0xCt26duSzydCdPntzMWDiaSybzxP+5aZ5YThZa+cmcc+06dfi0hu5Nnz4j/le1KlujWbJkMdatXYtVf63E77N+Z8s/5IukWLFP7WUiE8fEAJApXAcYHrsza6Gf+NyDxqTEfA9N0pcv/8dmKaWzUBIBJIeh27ZtYZPDZCWmVatW+OOPOfj30jXs2XsApUoJRfoPP8yMVq1a8o4oyXXTaRjJ4kZGhLEC/ZHDB9GkSSNkz5EVJUuWYMejFMcVeMHALa9jtHSmu2OGeZ+LHbRQcWWVTJQmru2v8CKh7wf6Z6YPk+FmfcbV/e7C7H6zsOcJff5mddW3ibvQMyr0xjrfr52uRMEabYElOpJ9e5EhC7KgKOcbOj0nJiVf/nzMaJDREqJcuXIgR46sPH7kzJkN2bN/iKxZibIiazb6nVVH2TicGJ9s2bPzZ948efBR7lx4P2N6JE+eFKlTp0L16t9h9erVPF5JRiW2kxXXzy+mMHeevz5Mhps9p7jA+KyNFDNkSWJqDYWEgmp1hcSLODAqcggxDj7aAEQiUmRWUM+kkCI9mXwkBUeH1KKj+VSFdC5IPEnG/7JCBXb6FRIc4hBfD7J4QotPuRCvUuV/LhgVbdjzenCfdVSkOBrtyJNlGTOQXgrtfpEYmyxX5kzvo3y5L1C50tf4vGRx3nHLmyc367LQdWKaaHL6pV1b7NmzyyZmpOG///7D99/XZR0cil+sWDG7uWZHyPJrz4QU/WknjpjAd99N79C2Zcp8jqpV/4dKFSvik0KFkfXDD5EyZXK+TgzAF198gRUrlhvSd/4qfhqnCvcmGD1iO03Rg4wlkOnKTz4Rukz0PImBrFu3DvuwIZ2nKVOm4Oq164i0RuPU6TP4umJFjkt+dlq3bs3PUCjFBiPSEoEo1m2JwqV/L2Lw4AEo/XlJfPNNJcybM4eVVCWMfd6RUbE9Ab2PIRcMmEhH+mzR+p19ocQLERGu14+R9wp/L1qa8pvIJ+b2N9ZB4UXD1TOT4frn5SqujBffZ6v1QQ1m+T8vuKrn05RJvI3OTIqWl55RkQyN10MvTJ0ylU9RSG+SNknIrCuZBJ46dSpLBNB4RL/JQAYZwRg+nEwT06dmEnvYUPLPQiaxh2CY7TeZPNab1x5Jv4cPZ3857du3w6+/tmedNrLOpD9RMTIq5u+0u89UHybDXbV/TGka47oL/f1mFDNkqc1aQEFB4fXFG+4tKimG8RhXTyIFUlqeOHEiL6DTvZuORY7omJ3MPUZazGUgScmbvNnTqQqdNhDjEhYSGuNodfz4MXYwmSHD+0iX7l00a/aj3bO942Apy0tMlBfatm3Lug10SlK0aDHW4zADnQ5duXIFHTp0QKGCBZHunXRIliQpUiRPjlQpkiN5Ms07PS2a0775JkoWL84T1tkzpxFBnl+jRb4S5OuDFt6020bOJEmJnPKIGaIetJj19/fFzp072IdI/vz5OQ3SWSEGKWXKlEiRMgWLRNFvYlBy5MiBWrVqsWdg0tfQ2iO2CUPGi+EBxAC96FdsiIwMw7VrV9C/f18Wl6Ay0+4miWU0aFifT7BI0Zz0WSi9+15e6NylKzMzRYoU4cUCyX0TxAQvFv4Esnhy5vRJdO3cEe3btsXGdesREkhmGW3MhqF4josFG+nqo/Uq3b26NOTCyLydtXfHfCGiQebhqv0kqyRJhGllVVB4HaC9l+J9FO+f5jtJz6iIcSGaN4b69euHUqVKsd8RGn9pg0takdNbN6P5xM9GbFHM8F0SmUwXlrsM18jqla8//Hw1C2CUBxltoflFli+28UBBQUHhdYeNURGDpX4H2RnGRZietJsunD/Pk0Cbtm14d4nsrYuFsjkuXbrEno1LlCjBi3BXTh71IAVqcnLUoEFDdO/eE1u3buMJQECWU5ZVMAze3k94YfvVVxXx7bfV2auuh8c9h3T1oAnk1s2b2Lp5C1q3aIW0acTJiZHIO/p3336LdavXsB4O6UcIODIEZOVs+vTpvINHHqmXLFnKk1fM0LdvNEJChCLoli1b2ZJXjhzClLKeSFemVs2avHsnThuMNtNdPmAbZLvFFs8cclFvX0S76FBikrYgPDyExeLIzwg5CiOzv2PHjsP2v7fj4cMHsFjCWUyQLIEFhYZw/yAHa/QsSdSQzJc6pinyI2bx3JlT6Nq5E9q3a8eMSjBZPTMvDkO/eOBFjp1B0ZgvvVy5vm7i3RF1EqRnSswZFac0DHmZQbat/qr87eoeBYVXDbK/O26z6cd8x3eLxF5p06Z58+aoW7eug5n35w3jOKMvp4KCgoKCI5hRcX+B47hw1n5rYWTP+/btW+wM7Pr1a7qFsjlIZIdOXMiBHk0eTgrfJqA4xADt3LmTd8l8ff14ASlgLJcIJxvi5HRq1arVzNhcunSZdRo06JeAkoDwsDAcPniYPQSLY35NBICIPO7SBEh242MCMWvEYNEpDummEONiiYzN2pNzPQjElFG9yTSu9MgtvSlPnjwZ27dvZ8tUVrs1KVfPzAwUHn9GReQi7pW5GSEmZykuJUSmyJ/BjRs3cObsWdy4edPm2FLskJKSujU6CpHWSPbTQTuh5PSQ/BJI3yjGSZ/SO3r4EDMqnX7tiC0bNzGjEs0e64WAlzBGLNkRW9kcWkjHoNjJ8U/rKRLO7SvKJMNct6u+5zmn6whjvNjiKyi8KBj7qCuKCVo8+Sd+OzL2trfWsPinuYFO1Om0v3r16ujVqxfPTTJluUFnZB5EuobwKBtFU7riu74S+nhRlihBOhEvfbkSH9x9Gq8qXvf6KygkTrxhs5tiDHcT2uTgSO697AkzaFOa2q6aPTTGvFzVIyERU3kkqAzGE6y4QH+/MUycNDlDXnenfDFDzwLI9jcuBmKGLKf5KYYsq9Tz0F8n526H9h9Az27d0b1rN2zfshVBZNI5Spx4RBHZNVK0NGWZRY8wMinOJOPGBFf1dOfemPC09ysoPA/IfhobuYIxnv69k79FmEjFOE5ERISzyeBffmmPb775BnPnzsWjR9LkvHj/jcyEcbyS14mEfy/Nop/+Hj3p7zHqoiROxHeeeVUgelPMvVFBQeF5I44nKkbQfZpYizbIySnk2SDmAd6Yl75M7kIOUEZKKBjL7ArG8sR1ENXqpTUh/dYzcsb05HVjeNxhljqHmzIdjhCLDilz7mo3UpZVe1YyDsmJ7921G906d0Xnjp2wYd06+Pn4Amxli3wqWGCFZFa0dEWLOTIhRjK7HlfQ3TKN+CK+eccVruppFqagYITx/XFFZnA8QRGx6L+0zkffzTYM9GMFnabv2bObRb6q/K8q9u7dg+AgMqxhu5uZDmdGxch0OH53FPEUFPP4rI1htnqYjmkvEs9j7kvMEP0hpmeYWJC4+o2CQsLiDftAH+9+LwdePRkX1vFOPBbo8zHm5ypPY/niSvp0jdeI3IW+HK7KakzbSO7A2Bb69tEzLBKUrjHs+UIuBrRyanV2nNy1usl7pAQgKcTu37ePHXh26dwZ69augz9ZhrMvJhzse2mZxwHGndxnAf3TiQ3uxIk7nq5NFBTig5h6m3zPuFdyRPqumSbm90U3gRkXcaTE/vfff7MZ+2rVvsWFc+cQERbKJo459SiLMH7CBlB0Y6tI2PRERGyeCNIgxhXX749M21lXTeHlgrtjdEJA5m3M31W4gsLLDo1RMV6JN0SKzpQQEIO+Yz6x1cRYrriSPn3jNcfd/ZihbyezMhvTNqOnAeWpPwmTkPUwK9NzAjEjJPutBTg8Z1cTu2BWxHfScSHFe5JH79q1KzZu3MgWfhwXFjG1f+zQn6w8K8iJ5lmm6T5i65MKCs8f9IYJEWX57soQEcohMZxOPHz4EAsXLmQT7g1+qIcbV6/BGhlh82FEDAoxKoLspyTWKERbrLBaLLBYIlmf0MyjvMxXiIERRdpIb35YxpZjq6O4qsLLhxc3RguY5f9i5w4FhYQDMyrPtmNTanrmwbgQjhlxG7z1C213F1h0XR8/rqRP33gtLnXVl8OxzFobGNM30tNAPicjUyLrEVs7JhDs1dbnLwNFWEzdQ14jZXoyntCjZ0+2EEd+aHx9fZ8po0J3SXpWSIg044anaxMFBQHbu2oMjgcoDUddSnNGxQzEKFy58h8GDOiPil99hW5dusLL877dqIYDo2Lv96wpzz6ZyCAJMyr8XVAU66g4ioXxNStds9j04LRrpHRPkAZEKB/9/QovH17sGG2e/4ufOxQUEgbs8PHZwviqGH8/S8i05eI6rgts/aJfX079K6/Pw7iAc3X/swalq2fK9OV6GpilI9vyadN+ljC2uyP0k738StbBDh4+hD79+6FHr546RkWfjvzuOu3XD8b+oPC6QDz5ZyHKSPeLd1Y7DREhDrGcFun023Gzh+4X92qlYgbAbnXPmIYjyNrioUMH0KLFj6hf7wfMnzffZlFQjBVsUdAawacg9En+l9iBbFAgggLJJ4ovfH194B8g/KiQ813vJ0/w+PFjPHnyhMcU9rHi52f/HhwUxPmGh0fAYrXCGi3aQDAmxhI6Qr596i1UUFBQEEgARuX5wHmSi88CW95jnEKNkBOoPq5Z2NPDuV4EobwZ9/rFB/Fpx+cL8zYSkNcCg4Jw+OgRDBsxHAMHDWSTzSSrLq/HlIaCwusGwRAIMvp75+uG9yW2EwFpdpwg03MVVwNddxx/RIijwRdWfnchdmksV2BgADZuXI9q1aqgdeuW2Lt3L/tUEXGFk2IycR4REYYrVy5j/fr1mD17NhYvXoTVq/7C8hXLsWDhAixbsRyr16xhf0+rVq1iR8VEK1eu5LA1a9Zw+OrVq7Fu3Tps3ryZTejfuXMHliirTSPOeZ4wNolk6Li9HC8pKCgovJZ4aRkVZ+iHeHch73GeQJxhTF9OqnHNM2aYT+aayMCzzMscz75OCQXjZE5tR/5WaPni4+uLvfv3MZPSoUMHXnzcunULkTbfNebtrKDwesKRURHMQUwwMgTO0MYQ8UZqHuRdQz+myhCtXMZYIlU5CohQY7nI0e/8+XPx9ddfomPHX9lnV6TNKS+PF3TiYY2Ej88TdpJLCvdffPEF6tatjU6dOqJfv77o3qM7Wrduhfr166FmzZqoVasWGjZsiC5dumDokCEYNHAgevXqjc6dO6N9h/b4pX17dOjQHqNGjcSBAwfYE70esibGUVarl/PYpqCgoPC64hViVBSeDRIno2KcuOUCRh9G8uDkwT4y2gLP+/dZ3KtHjx74/vvv2frXvn372MGogoKCI+QimUicEwsNEOOZhRlzYhbmCnpGwvke+u18Qm1kVBwhSy5Ptx3vv+fhgTFjxuCbbyqhf/++uHjxPCyWcL4mdEus7Pj39OnTqFOnDlKkSIEcObIxw9KnTx9mXqZNm4JGjRogW7YsSJIkCccpXrw4X5/9x5+YNGEihg4dxoxKi5Yt0KBRQ1St9j+0a9cG27ZttTNGesg6yRYWtXD87arGCgoKCq8TFKOiYEDiY1TMJm79TqsM5x3SqCg+Nbnr4YGtW7di2rRpGDF8OObPn49Lly4hLCxMl4qCggJBLvc1ct4I4HhOzMXTMSpRDvfpS6HBjFHR8iSSzIlkVLQTjKtXr7Dlv8qVK+OPP35HYKA/66XwCEJp2LzWz5gxHeXLl0O5cl9g1KgR2P7337jy3xU8ePAA165fwdixo1G4UEG88cYbSJUyFZo0aYK//96Oex73cOv6Ddy4fo2tDJI42IhRI9Hh1/YYM2Y0jh8/xor2jtDGLsWoKCgoKMQMxag8c8jJ9mWdZhIfo6KHFPdwnNy1JRUzK1Yr+1G5dfMmLl64gLNnz+L69eus6GoUw1BQeB0h3iFNJd1I+vdLfJdvnbhbz1RIJsXVSYmdKXEw7atnh2Q+ktnQMyraW67PU1Oll2WxldLmMZ7yoXf96NGjaNWqFTt73LxlkyyQPR2LNRLXrl/HkKFD0advH6xZsxo3blxHaEiIvQTE3EyfMRWfFi3CjEq6dOkwZuwYeNzz0KUXDT8/X+zbtweTp07G1KlTsGPH3/DyesDMkBFm7UwkvTvJcAUFBYXXHYpReeYwm2xfJiR2RkUuavQTvONiyVh0/cLJuIhSUHgdIVmSmBgVs+8atHFOz6BoZMuH9VLEe+fMqEhtGMlwyDBNmV7PnOivC7bGsUx6hojI29ubFdzr16vH+iQnT5ywx5XphIWH4tJ/lzFvwXwcOnyIxbQ4nahoRFvILFg0HnjeQ7++vZEzZ3ZmVD788EOs37gBoeGhsEaTn5UIpuDgAJw9exorV67Ajh07nHTi9GOPWdtSrRSjoqCgoOCIRM+oGAf4xA/FqCQk5ASun+TtSxrqJ7TAsEbZdjkVFBTMoGdLjAtm43ciR4eLunScGBSNUZFECYhXM4pFvewMhVOarqwb6hkVMb5KRkV7+53LcuPGDUycOBE1alTHlKlTcPeu7QSE7mLjJNEIDgnC1evXcObcWTzwesA+UugkxhpphSXciqhIC25cu4rGjRsgbdo3WT+lXPnyOHv+HKcUbglHeHgoLJHhiIgIhX+AL+7f94SHx134+frx6a6xbLYS6J6AYlQUFBQUXMENRkVMW+ak4IyXfYqRzztx1UG2qiTRA7VJ3jGyXCHZamFjYIzRFBReX4g3Sfszf5/omzz3YMbAxQaAq3AJ7Z3V/za+u5Q+MSuO3t+1F1dYPxRMjsZI2WPZHCoS0UnGvxf/xYiRI/BdzeqYv3AeHj16aE9HMkOhYSGsh+Lj44Pw8HBmUuheUrIn3ZLIiHD8e+EcqlevhmTJkqJo0U8xfcZMPHz8iFOKtAiP9eQQkpgVYlpCQ4PZF0toSKhLUVPR+mZjmhqmFBQUFPRwg1GRg7oZPbshNbaJTuF5QU6Zifh52HgO/WJFkkM0uYtJTIqDp3sFBQUJbaGsOWfUQwvX3iEaroVpX3Fi4AqUVqQlChEWKyKjtNMCMzADQieiZqfodvExeRoj3319mYhJIc/wVoSFhmLP3j3o2KkjatWtjTXrVsPXTzh8FWmLOYxEvYKDg+wMBVsC03meDwkJxv79e1G+/BdImjQp6tWrj4sXL7MvFrou62+NssISGcnMComBEbNDROmZQT9mybYXn/TbVQspKCgovH5wg1GRw6cZKbx60E+fiRd60Ym4lFgubdyJq6DwKsNssez4TmlviQgX4z4x/lYrURSfKJAj1du3b7PRiiNHj2Lv3n3YuXM3tv+9A5u3bMX6DZuwbv1GbNy4GVu3bsO27duxY+cO7Ny1E/sP7se5c2dZ6TwsLNSux6JnVvidZSePtnLbHT7KWcgWz3aiEmWNRIC/PxYuWoh69evj5zZtcODgAYSEyvRJh8XC3ug5PoukyXCr0HGx+WN66OWFJUsWoVChQkiVOhU6dPgVPj6S4dE2QwTTRmmKdOm3o06OhtjbXUFBQUFBwg1GRUEh8UE/0bsL/aJA7VoqvM5wtVh2Xjjr3xNayEeKEwNLJCuTk17H/v37MXToUNSoVQOfFi+GHDlzIGvWrA6UhT4/zIpsH2ZDNltYjlw5UKRoYdT9vg4WLVrAeh1Cd0R4tbczATafLvqtMSdmRvebTjvI5PC4sWNRu04tjJ8wATdv3rQzDuxviUW26FTEortXYzQirZEIjQjD2fNnMWjQAPatkj5DegwYMAAhOotgZvnryy6vG2HW9opRUVBQUHCGYlQUXkroJ3p3YFwUKEZF4XWG/v0xkitGRZ5WkNK418MHWL12Ddp36IDKVf6Hjz76CG+//TY7RCTLWO5SkqRvIOP7GdCsWRPs2bPLrkwvTzas0VYmcuRqdWAGHJkAySAQiFEhc+Tk7PW76t9h2fLlePLkiT2esAomGC7ySq+lR3lGIio6kp3G+gcGYN36tahSpTLefTcdn6pMnz7dLiamL4P4bmRYYmdU9G2tGBUFBQUFZyhGReGlhbuTun4RRjAuwBQUXjfo3wkj0fuhj8Mh0aS7QYrmEXjy5BEWL1mM7777Du+8/bad6Xj7rbeQJXMW5M2Thyl7tmx4/4P3mYFJmzYt8uTJgzJlyqBkiRL4rGhRFC1SBEWLFkG5cmXRtWsXHDiw3848kCK78IciLINZWSxLkPPiXyrgC30Rcup64vhxtGvbDjWq18DaNWvg4+2txbYxKlFRETbxL8lUyBMVK5+oPPZ+gukzpiNTpsxIliw5KlSogGXLltoZIo0RkUySY7mMjIqxXV0xKcbaKSgoKLzOUIyKgoKCwmsK/eLYfKEsThqIiHkgR6p79uzG//73PzbVmyxpMmR6PxPKlfkCjRo2RKdOHTFi2FAMGzIEvXr2RKvWrVClShUUKFAANWvWxIRx4zF/zlzM/v0PTJ00GVOnTMVfy5bj9KlTePT4MUJDQxERHs4nNywCFmVhp4x0ikGK9FwihxMLYhBsSvQ2RiUoOAjbtm5Di+Y/oUG9eti0cT18njy2MTM2HRedjopMixgUNk1ssSA8LJxPZQb0H4DkyZMzI1a7di3s2LHdpogvQWnSCQuRud6mPX0T5sTIoDi3v4KCgsLrDcWoKCgoKLzmiGmhrD85ICeGPXv2YqeHtHjP9MEH+KVtW2xavwH/Xb6Eu3dvw+vBfXjdv4/7Hvdw8dx5zJ8/H19+WQHFihXDyBEjcev6Dfg88cGTR0+YAvwCEBEagYjwCGZUyEywsL5lga+vD+fp4eGBoKAg+wmFkVGRRpQJpEi/csUK1Pv+e/z0Y1OcO3sKYSFBiLJIfRQ9o6KdjpACvDBNbGHP9OS0sV69H7ieyVMkR89ePXD79k3dCQ6VRWOUzBgV44mKGRnb3tj+CgoKCq8zFKOioKCg8JojpoWyxqgAJ0+cwjffVMGbb76JDz74AD/++CMOHTyIwIAAw10CUZYotgjWpUtn5MmTFzVr1MS+PXsQ6O8YP9oazeZ9IyLIcWIEh924eQOzfp+F5s2bo3Hjxpg0YSIuXfyXfZzwPXadEGJAxIkKMTged+9i8sRJqFWjBnr26IaHD+8DNoteegZHI3miQkr24kTF39cXf/7+B0oUL46kSZKgUMH8WLxoIftJoRbSGBD61NK118fwW0IIiCkmRUFBQcFdKEZF4aWAcRJXE7uCwlMgDi8OnzZEAZERUdj1z2588kkRFof66quvsHTZMoSGhtniWQHpWZ4W6RaRCTEIK1euRPlyFZA9ew78+uuvOHHiBC/6yfIWO1mMkOJdZP7YitCwMGzdto2dNUodmMKFCmPM6N9w6cJFWCKlI0XBqFA6dAITGhrCaXfp3BmNGtTH7zNnsC8UWY+oGBgKrieZGY60wtPDAwP69ceHmbMg3dtvoW2bVjh18qT9Pj1kchoTJJgeM0bFnpdiUhQUFBTcgmJUFF4KmE3kZmEKCgrPHuTXMCQoFJs2bEb+j/MjVcpUaNm6Jc6cPYOQEPJPQot8KU5l4RMMZlRsC/Nr166hR4+eyJjxA2TOnBlTp07Fgwf3hc8RUl6nkwwS94qKgp+fLw4ePIBhw4fhq4pf44NMmZA8RQqkfjMNPiv2GYYMHIw7d+7YSkaMgTQ1HIXAwABs374N9ep9j/a/tMGe3TsRHi4ZKXL+GqVxFjIFmx8VpqgoFkH79+JF/NyyJd5MlQo5smfDokXz4e39xJT5ILgKdwUjgxK3uxUUFBReHyhGRUFBQeE1R2x28GgdHugfiDUrVyPfRx/jzTfTonv37rh79y6LapHzRzo5EUrltpOVKCGSRSBP8UsWL8ZnnxVHsmTJ8P33dfHPP/8gIjKCRaAsbGnLAm8fb+zc+Q9atGiO0mVKoc73dfFr5674rOTnSJ36Tba+9emnn2LdurXsaJJAVsLIWhiirQgJDsT2bVtQtco36NSpPc6ePsWK8fZKaF4i7UFCZMwCK53MRFsQHBqEEyeOo0njRkidKiUK5M+PrVu3ssUzM5gxKWZhCgoKCgpxh2JUFBQUFF5TyN18oS8R8+I60N8fq1b8hTy58+DNNG+id+/e7FGeFNCFyJNUardRdCSio8h6l8DxY8fRqkVLpEmdGh/l/YhPVXwD/NiZI/lJiYyywNffF6dOncC0aZMx+rcRWLNmDQ4dO4Hxk6eheMnSLAJGpo7btm2L48ePM6chGZVoayQeed3HvLmz8UWZz9G3T0/cvnnDrvPizKhQfYUifBQxKbCA3EsGhgRgw8Z1qFK5ElKnTolSpUph3759psyHXnTMGK6goKCg8PRQjIqCgoLCawiNSYmdUSGRqODAIKxfuxZ5cuXBm6nToFevXvD09GRGQPoxkQ4b9YwK+y2JjsZ9T09MGDcO6d99D++9+x4GDhwIr0desFgtNoeOVjZFHBoejKAQP4SFB3NYSIQFt+56okv3HnjzrbQsBlawUCEsmL/ApvweicjIcESEhuDs6ZOsQF/+izKYNm0KggP9WSSNa8oGukj0y14re1lZz4UZlSh4PX6AwYMHIlfO7HjrrbSo9m01Np8sYdczsTMp5syKgoKCgsLTQzEqCgoKCq8ZJJNiW2Y7hRshFN4jWFyLPLTTqUanTp1w9eo1RESQDoiBSeHfxKSQojuZ/bWwjsecObORNeuHyJAhAwYMGAgvLy9hKthmuYtExqzsNT4cFkskLNYoRJJFMKsVq9euQYWvv0KqN9/E2+new9DhI/DoyRM2ZxwWHgbvJ4+xft0a1K/3PRo3bIgd27fb9FGkCWGhgyIYC+H/RBIxM5YoC0LCQ3H02FFU+LICkiVNiiyZMqNdm7a4fvUat4PzCQp9l6aRzVpOQUFBQeFpoBgVBQUFhdcMjoyKc7gRbMUK0Thy5AhKliqFlClTok6dOqxPEhZGVrWE9S39CYU0GUwLe9JhuXv3DsaMGY106d7hk4quXbvixo0bzKhwXFLEtynjk+Uv6YneYhFpXLt2FYMGD8L777+PN95Igu9q1MSmTZtZV4Wu37/viT/+nIVvvqmIzh074fRJeQoiT06kw0fBXBAjxWJfpB9D/lOiouDp+QCzZ89F3rx5bZbGCmHalKl4+MBLawcnRkXKk5m1nIKCgoLC00AxKgoKCgqvGRwZFW2BbcaosFCYbXF+6dK/7GGe/KjkzJkTffr0xKNHD20xSdzLCpC/EmY+6ERF01Ehr+7fffctkiRJinTp3kbv3j1x585tW1wjEZNi8xYfSaJdEWzRa/Wa1Sj6aVHhbDJTZjZ1TMwO4f6D+5gxazqqflsVPbp3x5nTp205S0aF6mHGqETxaVGUNRrXrlzD8KHDkSNHds6jWrVqOHrkCMJCQkRKilFRUFBQeK5QjIqCgoLCawY9o2K2yJYiTmIZLpwTEh48IP2NwcidOzcv5D/5pBB7cA8NI0eIFDka0ZYotmdMyu1RVsGokHjWmDFj8M477/B9+fLlxdSpkxEQ4G/Xb9GLjcnTFGJUoqwRiIwMYzpx4hh+/LEpn8hQOuTtftmyZfD29saNmzcxZdpU1PmhLoYMHYx/L5y31UamK05UBMMiRb9EXpaISESGh+P0iVPo2rkLPsySBalSpsSvv3ZAUKC/bBUXol+KUVFQUFBIKChGRUFBQeE1g55RiUmJnqBnVIjhIPGvunXrIlXqVHj33XfZazyFkS4KMSr25Kzie5Q1ClevXEHbdm2ZuUiRIjnq1q2Fbdu2sH6LYEjkgl/qumiOE9nXSmQ40+OHD7BsySIULFCA0yKlfDrhIetgm7dsQfdePdmk8erVK+Hn621LR4qkaScqgtkQ+ZF+SkhwMO7evo2F8+aj0tcVke7tt5Hlww8xePAghAQHiXv4pIjucU5DMSoKCgoKCQPFqCgoKCi8ZpBMimRC9EyL43JbXJdxCAEBAdi8eTN+/PFH5MqVBzly5ET7Dh1w8MBBhAYLESmJyAgLbt64ifHjx6FI0SJIkyYNypQti8WLF+HhQy9mbsSiXy7+5emEgDjViWJFd1Kut1oicOP6VfTp3Rt58+ZBkjfeQIYM6fHNN99weRo0bICf2/yMM6dPCaeTXGp5oiJqQBbI2MmkNRKR1gj4+/ux+eEB/QagQrnyeD9DRiRPmhRvpkmDH77/Hrt27WTnlEGBgQgLDoE1gnRoZGtIZkUxKQoKCgoJAcWoKCgoKLxmMGNU5Hd5eiJFmrRw7SQhJCQYBw4cRL/+A1GlSlUU+eRTNGjQEH/++Sf27tmLAwcOYefO3Vi5chWGDx+O//2vMop/9hmfvsydO5dFyLgcOjEqZ7EqWzgfzkSxqWJCeHgozpw5hZ9/boW0ad/kkxWi7NmzoUqVShg6dBDu2j3XEwyMSlQ0IqyRCA4PgX9gAK5eu4opU6agRImS9rSIiAkqW6Y0ps+YjosXL8Dn8RME+fkjMpyU/p3LqaCgoKDw7KEYFQUFBYXXDJJR0ZOeURHLcHGaQb/JKaPVLoqlWePy9PTCqtVrUbfuD8idOy9KliyBli1boE3bdmjcqCmqV6+BSpUq4fvva2PUqFHspDE0NNTOlOjJXjbdb2O5tNJHYdmyJShduhT7VSHG4p1076BixS8xY8Z0nYI/QVohEylYo6IRbolAcFgIHvs8wfkL55nBatasGTt3zF8gPwoXLIDy5cqiY8cOrMB/49o1BPj58YlKVCQZDdAlr6CgoKCQYFCMioKCgsJrDI1RkaQJgBHDEMWK58JpI+loSF8kBDI77Ovnh0uXL+Ovv/7CgAH90KLFT2jWtClat2yNQQMHYtWqVThx4jju3fNkJsWer2RGXJ2kcN620x6bCJg+3o0b1zB40EC8my4dMyqkYF+5yjdYuXIl/Pz8ZCqaIr3uZMhC1sTYv0skgoOC+ITn6tWrOHvuLE6eOolTp07hwvnzuHnzBvtnCQ0NhDUyQtTdpKwKCgoKCgkDxagoKCgovMZwZlTMDwwcTz+EErlY9gsEhwTjwvlz2LJlE9atWYPtW7bizKlTOqbBHMaTFTOmheB43YqIiFCsXbMaefMInydvp30L9evXx8mTJxERESHvciirOB2ypeEiH3MQgyLqqjfXrKCgoKCQsFCMioKCgsJrDMmoEFwxKRLyxMX5/MV2CsMOHi2wRESw0jl0VrL4ssO5hoCRSXHFBGjXhWlhSu3MmdNo/uOPyJc3LyqUL4/JkybhyZMnthvkPyOjYvCFYmsACqMYXCM7IyOYIntdYymjgoKCgsKzhWJUFBQUFBQYeqbFGKYnx6t6Hyi6MxlDQoINYG0Xp1Rigl5HRWMSxP2+vj74++9tGNC/L+bPnwcPj7vCTDLfKJkNKfqlGQZwBY0RkWaS41ZWBQUFBYVnC8WoKCgoKCgwnBkRZybFyKgI7+7Cy7tUXHe4lxf+xDdYYYWFGRWpA+MONEbFWZ/FarEgIMCXTRZ7PXjAOifiNIQj209g9CcqMeVtZFSEI0oFBQUFhRcFxagoKCgoKDCcGZHYQLH1pw+CKRCOUQSzIOPJExUby2FIR8SQbIT8r4WKlB3ixiR+Zbikz1NL2SmaDjJHeZ9jTK2MCgoKCgoJCcWoKCgoKCi4sXh3BRtzor+TmAjyTO/gb0T7rtf1kAyH1F4RvySTINgTI1MidEnIEhlZIRNOI2OCsV7G30Zo12XdHJkr+habGJmCgoKCwtNDMSoKCgoKCk/JqAgyMiCuyAz6/MUJiDODoMV1LQ5mhFm9jL+N0K7Tf2dGTGOqYkpFQUFBQeFpoRgVBQUFBQVGbAt4M8jTDV6625kRm/SXzZoWQS75xRmJMxwZCvFNzwiI+yWDoicR7goynpGpMN6h/20shzG24+mPgoKCgkJCQTEqCgoKCgrxhvlSXmM1HH87U2ygOBqz4Xy/vG7GNhjjxQazeDGFxSVtBQUFBYW4QzEqCgoKCgrxhqvFugjTh5ozGrGB4sTEpOivG+8zUmwwxnN1rzFd43UFBQUFhWcDxagoKCgoKCQItAU8fdP0TeK6wHeOJ4XItPT0EOcrRiExLVZcTmDM9F+McRQUFBQUEgaKUVFQUFBQSCDI5bwzY/F0C31Ngd8ZZkyKM6NCZIRiVBQUFBQSFxSjoqCgoKCQgJAMyrNc1sv0zBgVgpHl0PJ/mZkMY20EyT/9b2Mcd9JxjmsWpqCgoPA8oRgVBQUFBQWFRA4jM0FkPC/SfzdSbGnFFldBQUHhRUAxKgoKCgoKCokYklnQC9AZyci0GMP1zIYxjpH0iOmagoKCQkJDMSoKCgoKCgqJFBrD8ewYFVfiYZL0iOmaI2KPoaCgoBBXKEZFQUFBQUEhEcLIbGjMiiNDomdSrDb3mzLcPSbjWcDRYIKCgoLCs4BiVBQUFBQUFBIhjKcZrkhjSJz1VYynKQkHYlKsilFRUFB4plCMioKCgoKCQiKE45JfsB+CtBBJ+t8SemYl4SHLpy+VK1JQUFBwD4pRUVBQUFBQSPSQJxZEAnpdE1fQn7I8H0iGJSZSUFBQcA+KUVFQUFBQUEj0MGdU5GlJTIyIprXyPPCyMioJ2T4JmbaCwqsNxagoKCgoKCgkQhgFpsQJil6JHoiONlkE22+I5utR0VH2eKbxEwzuMC1m9CIQW1nN4sXWlvanZLxgAnfTVFB4vaAYFQUFBQUFhUQIjUGRS15N50SQC9AFazQzKoTny5zoEdvi3xW9CMRWVrN4sbWrYlQUFJ4WilFRUFBQUFBIhHDFqOhPVrS4QhCMF7scWTIqjgvu58u0GGvgXB5zknETCsYyGcsmRezMyqSPZ7zfWOa4xNXHU1BQkFCMioKCgoKCQiKEtizWFrZRJowGMShR7EHFgqhoKzMjLPIVZUVUlEW36KZrmo7Li4ORMXFFznV9euiZBzOi9qE207dbXMndvPT1MwtTUFBQjIqCgoKCgkIihJ5Rca0ML2NYYYUFluhIWK1WWCwWREZGwGIJT4SLX+OC3RUlRLljYx6eBbmbl2JUFBRig2JUFBQUFBQUEiEkoyJZEWd/KPKqFdGwwBptgSUqkpmUKKs4TQkKCcC169dw9uw5HD12HCdPnoKXlxdff3HQ18yMjIt5Y73NYEzDSPp4xrTjSmb3m5XZLMxIxvIrKCjooRgVBQUFBQWFRAjjktaZWZGLYRLpsjDRb2JUPD09cfLUCaxdvxaDhw5Bx06d8fPP7fBL+46YOWMm9u3di8ePH+nSSkzQL/AlxQZjfCPJdtMzEPFhDFzdb8zPLG8FBYW4QjEqCgoKCgoKiRCuGBVt2StDLYCdSYnEzZs3MWvWLNRvWB+flSyG3HlyI3OWD5E+/ftIly4DcuXKjSpVqmDOnDnw9vZmxiZxwbjQJ4oNxvhGepGMioKCQnyhGBUFBQUFBYVECCOj4gwKlacpQpTLw8MDXbp0Qf78+ZE+fXrkzpMT39X4Fl9V/AqZMmfGG2+8wZQ6dWrky5eP4969e9eYcCKBnimIDWbMQ2LGy1RWBYUXB8WoKCgoKCgoJEK4y6hIb/W+vj5YsWIFPv74Y2ZGChQqgF59emD12lVY9tdSDBoyGN9+9x3efvttO8PywQcfYPDgwbh544Yx8USAV5FRkXWiZ5bYy6qg8OKhGBUFBYVnBDXpKig8S8SVUTl58iR++eUXPikpUqQIhgwdgstXLiEgKABBoUF44PUA27ZvQ+3atfHuu+/amZVMmTJh4cKFiIiIMGbwgvGqMirymSX2sioovHgoRkVBIVYYlwtm9DpCv4jQ7xAa6fWGmXO+2GHmvyFuKbwYmDx31Q2eCnonjxJak5K/FKFEHxUdhU2bN6Nh40bo0rUzNm/ehAcP7iMiIpzNFUdERiAkLAS+vr44cvgwGjZqiLRp09rFwDp06IBz587pck4M0I8xseFlfE8UFBRig2JUFBRihXHBaLY4f10hFxLSSZqxfV6WhUPCQLSOWGg6m5aNCXLHVdLL0I76RaWurCZBZpBOChX00PqOnlHRwkTjkhliHz8fbNqyGWPHj8ORIwcRGhqkxY+KhtVigSUiEtHWKAQHBWHRokUoU6YMMyrJkydHuXLlsHLlSvs9iQOvKqOioKDgLhSjoqDgFuQEqCezidEszNVkaxb3ZQTVQb+g1tfrZa/b00M8/bi2g2zDV4hRiTdiSkDmaXw3X1441sSZUdFaWKurNcqCW7dv4fDRIzh95hSCggJFDPZSb6OoKERZLLBGRiI8PBxXr1xB+/btmVFJkiQJChYqyFbAEhf0fSo2mPS9BIOxvxnJGE+W7XmVT0Hh1YFiVBQUnin0C0tjmP70ha4bw15W6CdhNRk/S0RHv0xtql+QPauy6t8T/TslQfmYMcjPH2bLVH14bNDfrzdDLH/zLxenTiTadevWTdy+fRPh4aHskd5qjbKdUgnRMOpLUVHCx4rVKrzWjxgx0q6nUqxYMT5lMUv/xUHfp2LD83r++jK5In1c/fgvSUFBwV0oRkVB4ZnCbLI0m6AojmJUYkNiEwd6/uXRL4qeZ77xQUKUVb/Q0y8A9dcTpu/FFZSrnozhMcF4r5EE46KLb+iD9DskJBhhYcF8ekKMCDElxJzoGRWKR0xNlFWkNnbsWGZSkiVLhv/973/YtGmTG6V9nhC1N3/2Rrgb72mhL5Mr0sc1MimKUVFQiAsUo6KgEC9oSwhtYtdPYPrJXj+B6cNlGokLxkWQezBO3vFJ48XD3bq7G+/Z4GVpU1f9/2kh3xNXaeqvu4rzfCBaQDsJMScpxCW+6a9p+kz63/JPq5ueYdb6omx7bfNDiH0R0xJpZ1Sioqyw8kkdMH7CBLsyfd++fdlRZOKDVu/nBv1DcQnHp+r6BuN1V/E0PN/xRUEhcUMxKgoK8QJNJI6LAsdwfdjLtYCP3yQpJ9+Xp54vD16WNlXPn2BkPlyRs3iXDNNaUOioWAWbonsv9UyK+E6k37GXcfUnKlY+ZbFGRSHCEgn/oAAMHDSIGZW8efNi9erV8Xz3X0G84C6snoOCggbFqCgoxAL97qUuVCeOYrwmlxrG32ZxXzW8LvV8npDL2MTeprKcL0NZExaSdYiJ9KcnjsyJRuK/s6iQ85gk4wlyPGUhBiWST1Kio8R9waHBOHH6JBo3aYI0adKgSZMm7IPlxUNfp1cLzs9MQUHBHShGRUEhVojJ3pH5EEsN9xdl2tLj1UZc2iSxQf9M9ctGszrpw58OYtdc7sOLNLUwfd9L7G3qqq1eH8ge44o05sSRSdE/ef1Ji5aqIX2nExV5XQiJiTOYKETxdWJcpGK96GePfR9j2sxpKPRJYfZiT6cp/v7+/2/vLMCtKNo4/hkgjaCIImHQHaJ0qYjSHdIh0q10N9Ld3QbS3d3d3XGD233/3/OfPXPPnj174gZwkfn5jOeyO1uzM7PzzrwRdR6X6JtJnDQD7T7drzv6UnW27WXyqq+vUPw3UYKKQuES/WBRwo/Rf29QFvsZvzgbubwC+Ox69Rn5zo3qNDJv7J9TO4sjQYX7Na9N9tePj/w324S76IepZskopDjaLuuCXlQxPb8wlrcIH0IAsZ6LgopIwibFVpgJjwjH+csX0KhZI2TOmhm//PIL7ty5Y3Mtl+ibuZNmYBSk9NsNWyyCirGfdYRZPTPbZo799W0xK3/XuH99I67uR6F4k1GCikLhEn58zD6g//WPixwSRYeYf6xfPdpQz5r0M7zGstDnjR3WYan1OvyPA07t32aCUnzFWE5xgVn5x0/0d6rVEKMAYr7PtgbYP6fxvCLphBSJ8XpyVUWsrFjycOVkydKlKFa8GCpXrYJt27YhMDAw6hxuoW8mMWgG5gNzfVszw64EDHnNtulxtd+KfCfRw9X9KxSKmKAEFYXCJfpB65sCP7YxGIG8JIwDtLgnhiOwF4J8Fy/yeeMzr5OgpmEvMNgnbdXD1XDYVpiJ2mpS/6Vwq9+qqYGFI8zi5Ss0NBQnTpxEq1atUbjw1xg9eoyIpxJ/cFQaeiHDUR5XSMcCrEuucfVmzInJMQqFwhlKUFEoXKIEFXf4b32io/f8xkFj3MHz6ld23jTk8//3BBWjUGFOTAQVa15prxJmGZwfOnQIPXv2Qvt2nTB54hRcuHDR5hzxF9cl5RoKKvG7H9feaVw8q0Lx30EJKgqFS/SDReN2w0clMhLe3l64efMmjhw+giVLlmDGjBki/fnXajx79sQ2v0OcfaxMrhtNwkJD8fjRI1y+fBne3t7G3Zbzmw/UAwIC8PjRY1y7dh0nT54WM7TXrt/Acx9fY1YEB4dGBZd72QQFBeHWrVvYv38frl69gpCQYCdDQykIyF8tRUaEwz/AH57ennju+1zMPmvR4rU6wXN6eXvB28fHZmaa1wkKDsZzn+cICAmMiltBQkJC4OPzHI8eP8aTJ08QFBKEgMAA3Lt3F+fPn8ft27d0qjh63X1H9/56oL/7wKBA3Lt3T0RTZ/mFhtEOxxGv3/NrNclcKLHd5uqZtDyu8mp5rP+Jq9AVMaPRIxJhEWG4e/8exo4bh9q1a2PpkuV4cP+RWfOOIyztJzICXl6eOHPmDHbs2ImLFy6KVZ3owvri4eGJRw8f4dGjxxbDf8floREJf39/PHzwCPfu3UdosGyfro5zDj2nBQcHiySexWSSIjg4CAEBfvD397ME4gwS7Z7uoZ2hnUrfBykUCiWoKBRuYfxoaEMR40x3ZEQY7ty5hb1792DSpEkoUKAAkiRNIlLhwoVx4sRx3fFm6M9rRO4zE5rchx/Ps2fP4p9//sHqP//EnVu3ovY5+jwGU7B58kQMOP7880/MnTsPM2bMxrhxEzB69B+YMWMW/vnnXxw+fBjXrl3DlStXcfTocRw+fBSenl7G070U7t69g0WLFqFTp45YvXol/P18+IKM2XTlbT+sDAsLxYOH93Hm3GkcOXZEPN/hw4dw+PBB7Nu3G9u3b8WevXtw5dpV+Pr7RZ2RM9hePt64fvMGLly+iNNnT+P4ieM4cOAANm/ejB07d+Lg4UM4d/4cfPx84PncE8eOH8OqVauEcLtv3z6LUCvfhtlbeT3Q16mwiAg88/TAwSOH8dc/f2PLtq24eeeWEObMn9C8nUUP6/u1TzE9p2O0O9ZqEVW7LFFQjNniHKvNirZyEBERFnVllvnSpcvRqVNnDB06FA8ePNQGxS/ktnhSTbjkgP3EiRPimm3atMPy5Svh7x9gPMAhXt7eOH3uLDZs2oh58xdg8uRpmDZtOlasWBHV1zx79sx4mIDP5+HhgSNHjuHvv9dg7649ePZYmygyW5EyIyKS9dVTTCCcOnUKB/cfxNbNW7F+wwZs2LABmzZtwvZt23Do4EHRNzJxYmTjxvUibdrEfOtF2rZtOw4cOCgmd65f52REsPFyFqzl94JekELxWqEEFYUiRjgaQIXDz/c5nj59gj179uCnn35CwoQJRVC1bNmy4ejRI5Z8ZgNmIj9SZvtj/gGTH2XOAO7evRv9+/dHnz59sP/AAfj5WQfYZmMXHnv1+jVMmjIZFStWFM/x7bffoWfP3kJAmTJlGjp16oIffvgR5cqVQ9OmTdGwYSOUL/8jWrdujdOnTxvOGLeYDTjCw8PFQKZHjx5o1aoFNmxYi7AwM118/Xu0F1RCw0Nx/+E9HDtxFPPmz0WLFi3www8VULp0KRT++iuULlMKEydNxPmL5+EXYC3H0IgwBAQHikH4vAXz0bJ1K3xfoTyKFi2KQgULomevnth/8ACePHuKkLAQkd/H3w+nTp/CsKFD0fqXVli4cL6YlTVi9rzxGa1Oaff86PETrFi5Gj1+/x0TJ08S5RYQZLviZIujdhYdjMLJixNUtLvVntYqrMS9oGJWB/SDb/3f/kEB2L13Dzp07IQ+ffri5IkT1lUN7eXEMSxXrZ/i5AAH9OwTevfugwMHDiMszNG7toUrFitXrUK1GjWQv0AhZPrsC3z6aQaRMmfOjDJlS6NJkyaYO3cufH3tV3MJ+4Fr125i8qQpqFqpCubOniO2EbMyNBIcGoKt27ejWcvmqFS5EooXK4a8efKiYMFC+Oabb5A/f37kyJEDefPmRenSpVGsWDEUyJ8PhQsXQsWKP6JGjaqo8MP3KFKkCL75pii+/fZ71KxZC4MGD8GNG9YJIlt4XzHr5xWK/yJKUFEoYoSjARTdgWofmOvXr6NZs2ZIlSqVEFRy5cqFY8eO6o43Q36gzD7msfuA8WO+ceNGtGjRHO3bt8fOnTvh5eVl88E2jls4WNi7dy+69+iBfAXyiwjWPHbp0mVi1v/Spcu4dPESdu3aLQYMHdp3QMECBZAyZUqkSpUa1apVeyWB5PhcnHXlAGnkyBE4d+6sIYf+3VmT7X9AeCRVv/zwzOMZNm3eiFp16uDjjz/GO++8g/TpP0WLls2xa/cueHp5IjQ8LKrsZJk+evQIXbp1wRdffo4kSZIge/bs6Nevnyj7R48fITSMA0ZriVNo5KpL9+5dUb9eHUyfPlWor7yu6Ev34aPHmDVnDipXrYZxEybg9NkzQjiLKjPDsVaMtTK6GIWTFyOo6GuQXtzVrmK5jpNH0dc718j7t/7TbJUgMCAQhw4fRv8B/TF8xAjs379fqG4a87kkmtnlU3t6PMPSpUvR8OeG+Pvvf+Dt/dzluehO+datO/jjj7EoWrQ4kidPgRTvp8IHH6ZBsmQpRF/K9G6CBPgwTRp8/fXXGDhwoFC3NcPfPxBHjxxFt67dUKtGTUydMsVmcsYZ3s+fY/rMGciSLSs+/fRTNGrYEJMnT8b0adMwc+ZM8du+XRtkzvwl3nvvPXFfXEUfN24sli1biuXLl2HxokUYN248mjZtjrx5CyBfvvxCYLx9+7bxchZkrYnb+qlQvK4oQUWhiBGuPyb8EHEGPnXq1OIDljNXLqEypGF+jHY+Z4KK82s6wtfHRwgpnIGsVKkS5s2bZ8wiMI6jaL/y22+/4cMPP0SyZMnQsGFDXLlyRZdDRyRw+NBhVKlcGQnefRfvv58Sbdq2wcWLL99gl0LiqFGj8fPPDcWMro+PjyEHg+DRLsKsnDXkYFNy4uRJ1KhdC8lTJhfvs2TpUti0ZbOI8k3k25FHhIWF4ciRw/j222+RKlVK5M+fTwgptEtxxZbNm1C3dk2UL/8d1q9fL2xdXmc8vb2wdNkK1KpTD1WqVsfxEyeNWV4gss2Ypei1I2dIAUWrBw7OKy9psptHcvXFPVFFN6EhHsVeSKE9BNWuhg0bJlYWucIbtZrg+DbsS8VRRje4evUqxo8fj44dOwr1KXd4+vQZJk+eKlZQ0nz0Mb77rjyaNGmGLl26oXXrNvjxxx+RKVNGvPWWJrAwpU+fHtOmTXOiBhaJo0eOoOHPP+O7777DsmXLxGqmQyzPe/7iBfzW83fkzpcHdevWFavRRjZv2YhvvimM//3vLXz8yScYPHiwsEfRQ5uzf/9dh0qVKqNs2XJYtGgxPD09bfKYCZoKhUIJKgpFLHD2uYcw5NYLKjly5hT6yxrGY/TnkoKKfhsTt+n3uQc/ktSl/rlhQ5QpU0YIKfygm30UbWZ0IyOEUFLu23JRM4Vbt261+wjr8fTwxJQpk5EzR3akz/CpsNN5+PCBMdsLh6s9nTt3Rps2vwqHAfa4HqhqpW7dv2PHDuTOkwfvJHgHiRInQvOWLXDn3l2Lcb3+TUXCz98PBw8exO+/90SBggVQ7tuymDlrhlhhkYNF61Xs8fP1wYoVS1GjRjVUrFQJq//6CwHRjXURTwgMDhQ6/XXq1UfV6jWwZet2+PhqM9rmTx/XGIWTFyWoWJNxu/k/bNHuyFY4dnyA5f7Zhi1ZZE5u4koo6/3IkSPRuHFjYRclDNAZJNLEoDssnCuHAXju5wP/QK646PKYPZSbsL/o1q2bEFasQSUdn4zX3blzl1hJ+fiTdOjatTtOnDiNmzfvCGP6x48fi7bdq1dPsUIt1Wq5msEJAfZzjggKCMKWzVvEZEv+AvmxfMUK+PgaJzCshASHYMmSxajboD46dukkbMxYrnroYGPazOn4NEM6/O+t/4kVXK4gc5JCD/vgffsOoFGjxiJRgKQjDoVC4RolqCgUMcLxx1ZCQaVly5ZRggo/rDTEtofnMg6gXCXX1ydiJvHoURF9msb8I0aMwI0bN4zZTPH28MTSxUuQLWtWbQWhZEmxUuGM8PBQnD9/FnXr1kaOnNmxbv1a+Pub64+/SKhu8vPP9TFs2BA8fvzIuDva5UjWrPkX77+vqfFlz5EdY/4YIxwTSOSZ6MFr7dq1qFevrtBh7/H7b9i6bSue2szg6t+5+VjQy9sTCxYvxGeff4YGjRri4KGDBiEn/kOh9uy5c2Ilr0SJEhg9erRQk3u5GNtO9NuRO8h3aFxN0b9bZ2qW4o50gRk1NON4sVcKJfoM0oDecjwd7AUGheDChfPo27cvatWqJdSirly5jODAQPh4e8PrmQcCAwNEWw2PCEVgSAAePn4o7NW2bNuG8xcuIiQOYqvQ09WCBQvQqlUr4YCD3r80HJf5k8ePMXbsWOTIkQt9+vQTqqXh4bb5NSHsEsaNGydWKeWqStasWYUjCmcEBQYJFdVMmTKheo0a2LFzhzGLgJ69njx8hN69eqFBgwbYsWunnZBC6Elt8LAhSJ3mAyRJmhhDhw6BByeBDMJgQEAg9u8/iLZt26Nv337wMqymKBQKxyhBRaF4QVBQ4Uf6gw8+iBJUOJNmjxxmiKGGyWBKqnno9zn+2BsZNmwo8uTJjXr16gnDdnfdg16/eg2dO3RCmg/TiPunsejdO3eN2QxEIjDAD716/45SpUvg8LHDFjuMlwMHCFSpoI54y5bNsGbNPw4Mbd0vRw4EuRIyYsRIJEjAGdy3UKNGLWzatNmuLH18/LBw4UJUrVpFqJjQacHxEyeEq2Jb9O/cfvwpocewH3/6Ebnz5kHffn2EJ7PXCbog7tuvL7Jlz45GjRoJr0iuXLTGPcb2pE9mpR4ztDdquyIi32uUWphFsNCubvmNiBApnCmc3rrotctyVKSmohgZGaoNfs2EFR1BIaE4eeoUunXripw5cwqDb/49beoUzJk1C9MmT8HEceMxZswojB07BuPHj8XI0cPRtXs31KhTC7369MGxY5ztj52gwudgX0MhiWpfXF0MCrK63HYE47xQ1bRd+w7C7bkjKLxxwoUTQW+9/Zbonz755BNhPxIcFGTMbgOFOK605smTB23atMHJk/bXoaDi8eQpVq9ajeXLl9upaUm27dqFmnXrIPn7KZAxU3rMmzfbNIAmy/Pq1ev4889/sH37ToQ7dcetUCj0KEFFoYgxjj+4hDYq9Hr1wYeaoJI7d27DR9HseONAKuaDKX4cL1y4IDxxcVZ+woQJNisArjh7+gxq1qgpjMB5/0WLFRUuOsOFswDnjB49CtWqV8XlK5fd1LmPG/jMx48fR58+vdGzZw9cuHDOoIahFxDcK9vw8DBs374NderUw1tvvY133nkXvXv3FYNwCQeWDx48wqpVf6J69RooVbo0/vjjD03FzuZsEv192I895d9Pnj7F2AnjkTNXThQp8g1Wr14lZsPjCs56046AHtIoWMclVHdZs2aNuPf0GTKImfJXsyIkS1em6L1/d9HbqJhv1wsqWrQT43t3jDu5InH52lUMGjwYadOmxbvvvovMWTKjVKkSKFr0axQskB/58+ZDrpw58cknafHRRx/i44/T4oMPUou8/3vnLbRo1RLXb9wUqmCxge+eA3z2fwMGDBBuhN1599u2bRO2ZbQFccfgnZMCVEnl/fM5xowZA1+hzuW4vDhxsWHDOhQqVEh4D2M7NbYpvqOQoBD4eD936sxiwqRJSJcpIxImToRceXLir79XG7MIKHwGBgbh+XNf+PsHmYVeUSgUDlCCikIRI4wDHuugU2IUVDSvX3oPWNaBEgfT9FR16+5NPPF4jNAwOQMfKT6i3t6eePbsKR49eoinT5/afVjN4OCAXrjoraZsubLYuGmDqfqCI65cvoxff/0VqT/QVNe++PJLjJ84Hg+fPDRmtYOGrXx2erZyBzN7mZjAQQgNZdu1a4uRI4fj3r07unPz19WqlP2+0NBgzJ8/x2Iw+z8kTZoUs2fPFgMvntvvuS8unruI8WMn4McfK6LVL79iw4ZN4n3GdvWAHproBYwOEFiP6LHtzh1z70YxgcLJ77//Ltyr0ug6rmC5UPjhjHfy5MlRqnQp/P333zF+zxw4MyiksTz5Dvz8fOHr+9yg82//Hm2RK5SO9kcfKXQYVb8Yi8MMrqBw9t/X3x/PfXyE4wrO3DPxbybGEfF6riUGHfX0egYvLw9hb8KBfDBdO4eHIiw0WPQRs+fMRr78+ZEyVWqkS/8psuXIJlSi6K0vY8aMSJ8hPT75+GNRhxMmfE/YdiRKlBgpU6REvrz5MHXqVCG8xhaqNnF1g++fdmq0LXEH2sQx1gif3fiujbAu3b17V6iz0svgx5+kFV7yXK0GcRX01KmTwnU8PTI2aUIHIZfsV0IiNQHDUZ1ln921Wze8/c7beC9RIhQpWgTr1q01ZotCCKhi9cz8fIr/MvrxQmwxG3todcpRXXWN2Tntz+8ers4VfZSgolDEGGMDtG2EFFQ40KcLTbmiYq76ZfWO07rtr5gzbw7u3ddUrDgQY1DBkSOG4bce3YVr4J49ewoPXgym5gh+EDkr+c3X3yBFyuRo0rQRLlw673DQZAYHQwxAyPvm/SdImABFSxTH1u1bERbuXHWBg1TOpgdEI7hbXMAB0fDhw8UAac6c2WLwZkXfgTrqeO33+/n5YNCg/vgkXVokSJAABQoWFOWv7fPFsqVLUb9OPVStXAWDBg/Fnj374GcxFo8tEeHhePTwoahHyZInF3Ye+/btQUg0BE5n0KVrx44dkCZNGmH0HFdQIJ4zZ46oOxwMd+nSRXh/i8mHlAP6azeui1g+Ps+f25zj/v17WLx4EWbOnI6zZ/Xxeuzfoy1xJ6jI+5ErJ0ZBReZhW9avKrCuUghdvnIlJk+ZgtFjxoi6S4GRtjxcHRgzegzGjhsrZv1HjR6JESOHY9SoERj7xx+ifHfv3iWEcQaZ3bVrB3r37ilsyWhYXrN2LTRu2gTNmzcXKqh07EFj75q1aqHwN0WQN39+FChQECVLlkbLFi0xe9Zsxx79ogGfkX3fwAEDhG0cJw7M1S/t4eoFPfS5W0/YR7EcWH/TffoJZsyYbqeOacbDBw+E3RQ9GX71VSERs8iRxzAzeA06K6A6LfvGVKlTo23btqZqZArFyxJUYo7+nGbq59E5f1yeS0MJKooXCqukrJbRr57xHWPjs33C27dvofWvv9ioflF1KupoRul+5omDBw8Jt7W5cuVGuvTp0aFjB8xbsECoag0ZMgQNGtTHV4UKCBecKVKkwCfp0glPUHPmzoWHA91pDgxoUJ4hQwYkT5kMXbp2wsNH0fe+xRl3ftA5K85noLerOnXrYPuO7casNnCwwQ+/O+oecQWvxcFwu3bthO45PQBZ9eKN78lRbZSdrPVfj588FoMQCinvv/8+2rVrj6tXtYjYc+fOQdWqVVHxx5/wxx9jcPnyVYSGOhfioktQYKAwjKaLaM6OT5kyBQ8e3LfsdfQc7sGBPt2p5suXV9TBuLInYkTwQYMGiXvmrDVn6q3G1I5hmwgNCUNQcAiu37iFf9euw6jRY4Sb6xUrV4jZfubx8vQSNkIUgEqWLIHChb/CrFkzxX7rGNfZe475R1MPB9T6QbVU8bJFm5UPD6cdCoSKINvm7z17on6DBihTrpzwDEf35XRckT1rFuTKlVOswDLRliJP7tzImSsHcuTIjly5cohthQt/LQSBNf/+hUuXz+PkiWNYt+5fYVD+55+rsY7R0LdvF26JGT+Fae+evcID2JIlSzFv3nzMn78AK1euwqGDh4Qhu6tVDHfgisa5c+fQsUMHMaly9uxZOy9YrnH27jRYplS/pFBHO8DPP/8MCxbMd+sZuELVoVNHfPDhh6JNV69eTTgccBcfH18sX7ESJUqVEv0iVRtXrlypeVZTRAvXb/q/gKvvTnSQ3yjj+CO26L+PZud35/71+YzniPl9KkFF4RJ91TNLzvJG6WZH/W2fx3iO1wfnje/WrRto3boVPvxQ8xRltFHhgPby5WuYNm2GiFhMFYwkyVOgUuWqqFGzFj777DNkyZIFZcuWwY8//iB0qtOlSycGzEKVLG8ebNm2VXiZMsIVmt69ewsVj1Sp3kffvr3h6en+jKGEuuYrVq1A+Qrl8V4iLaAZ088//yxmFKM/AHlx0P6GLoRr166NPn36iNlhzWiV70fO7LiHrJdhEWGiLOvXry+eO2vW7FiyZBnu378vArpR/5+z19THj479T3Th7HqGjBmEB7k6dergyBHpPc687rkLVQlpUM3nGDR4IPwC/GN5Rm0AyZgZVP2jgEthmQNz1iVXBAUF4/79Rzhz9hImT5mJkqXK4q233hFl371Hd+GiOSAoCDt27kTFipWi6iNTp06d8ODBA51wHNsncY4UUsxm/63bZN2LZKgTPH3mhcVLliFHrlw29x7T9PXXhTB33kzcf8Dgga+gLfLxZDdogYN12ppwFYcqoDGbrJDt1b5s9dBIv2mzpkLYKFu2LLZs2WLMYoqPr6+w5fkiy5eiHCnobN++3e17ffT4MXr27oXPv/hcHJ8vXz5cuhTzeFFmdeh1w+xbLrfpt+u3yWQcGyicoW90zscgcYf+mi8fJagonGLsUMySs/wMYCabkbEzcnSO1wfnncTt2zfRtu2vSJPmQ/Ex06+o8LsUGhouVlSuX7+F6dNn4uvCRZA4STIRibl48RLCY9Q///yDU6dO4OzZM2IQzgjHBQt9Jc6XKnUqtPillQhEaOTff/9F0aJF8fbbb+PTTz/B8OFDY+QmmLOTDDa4aMliFC9ZAkmSJNaunSqViEdAL05hYe593F80D+7fE+peVatWxsyZM3T2OHxH0RVUtHcaGByEPXv3CQ9e//vf2/j22/IiNgSjUpcpWwYlShTDX3/9JQZnL3KwMX36NOG57Z133hGrFKtWrbTsid01qX40efJElC5dAoMHD0RAsGthwhW0FaHKYLmyZYXaF4Vt2qe4o5LDlcDDh49h3PhJ+L58RSRPodlHMVWtVhUHDx/Cw0ePMHz4SOTIkVN4YJP7qR5HofJlCM/6d+36vWv7nz/3wbLlK1GqVGlh08B7ZvtM+N57SJI0KVKnTInU77+PZEmT4r2ECfHO22/j3XfeQeLEicWEA7czJU+WTAisWbNmQc/ev+HGLa7iBYpwkbarOYaBxYvocHkuw2VoG0e7EaoSrlu3zo3yMaI/qeNj2Tdx1ZkCPO3wRo0aJSYQ3CEwKAhLly1F8RLFxXtIkTy5UK+7d8+9469cu4qq1ashcZIkYpWbfaE1TsyLwnFZxAfMqpacpNTv++9OXL4s9O1Dn+IO0WblJEwkV4Sl90Em/tssyYkb6zbNxstR0k30yOQAJagobDB2GLJDMUv6/fI//X7tfNZPp/G8rz/OP6ZcUfm1TWsxsJSCinVFhY1YE1bIP/+sQcGChZDAEsCM8Q8uXboEfz+rcMGB3rVrN9CxY2d88GEavPX228LA/e9//onKI6GudurU2kpO5sxfYMKEsQgJcWzT4goOaBl/gPrvHHzyvDRgbdKEAc6O28U6iFu0WqavkWZlfvLkCXTt2hnNmzfBpk2aDYmG+zXOWD+pwrZ06TIUKqQZ0mfK9BmqVasu7FQyZsoojNtdxZaJPZFYvnwZSpUqKe7hrbfewrx5c6P2xQa6XZ4wYZxYUaEwGx4Ze6GTDgDGjB6NrFmyiNU/usnVBqyuP6YUMm7evIXpM2ahStUayJjpc6RMmQrvvpsA339XHv+sWQMPTy/s38eYFB3w5ZdZhO0O6yLVJKNj3xBT9B9YeS3tV98f2H94//13DSpWrIhkyZKK9/h+ypT46quCaNasKYYPH4EZ06cLJw1/jBmDFs1b4OuvCqN40WLCve+4sWMxYfx4TJwwATOmTxN2GStXrhBG4cHBXFHVBhERFoGcAwvr/fDvcDHgcNB0YodN84oUqxy0EaPgwImMmL0PY0u0ha6aWXdbtfoFiRMnFRHf9+7d65baFwmLCMWhw4dQrXp18S7YpzVp0hgHD+53eM0oIoETJ0+hRElN7YuxkhhEl3Uvdjh/Ztv97uZztd14Pn1yryytyGP05ze0Cd31tf87/4Zaked2J+9/HX1ZGJN9OUeX0JBg+Pv5iaDDHH/w1+e5l7D3ZKIKLx1+UL3X09ND/Gp/e4ugrPLf1vQs6m86AqLK9JMnz/Do0RM8fPgIT58+wbOnT+HrpO9WgorCBmM115qENlfH5EhQMUtmxK4JxTecd5xC9cvGRiWXGExr2H4EVv+5GtmyZ8M7774j3IR2/62HzX4JVWMmTpiE7Nk5m/w/JE6USLjo1PP8uRcGDRpoVRHLlQPTp08R3qtiA4WVqVOnIH+BAmJmn+emMWrr1m1E7IUXh7Ezti/zkJBQrF+/Dg0b1seYMSNjrIZhrJu3bt1G7z59kCFDJrz7bkKkT59RDI4TJ04iVpUY9ZsG6S+WCKxbt0ao/7311v9E2Y8cOQKenk/dGvw7g4M9rqiUK1dGxNaIC/ghok0PZ5oZOZxRwLds3mzM5hDNK9MZzF+wCH379ke7dh3QquUvaN68JcaOm4A79+4LGeDo0WMYNmy4UDHjYJ7OI14V2vdVXz/D6e5L7NMmGK4JNdAUyZIi4btcFUuFenVrY+6cmTh86AA8n3kgNDhEDMCplnTk8BEMGThYCCzjxo/H5UuX4evrJ1YJbQfjEQgPC0FEhJzttM56yv1x6TjAFXz3tJGhaih/nzx54nDwERsoDHMls0iRYvj888yYMWOWuJa78At1/dZ1NGnaJGplq3TpUvj3X076OL9fqjBu3rINefLkFdHoK1epIpyk0OlD7DDv26xoX1tn/aB9PrnfbJtxuzFFt87IesZjJcZzGq8vj3F1Le5zJ9+bgLN35qicXcN+hcLEpo0bMHv2TMybP1c4mWBaYPldtGghlixZjMWLmZYIRxlaWoHly1dixQqmFVGJK+u03ZJJ275S5F26dLk4D49nQFg64HG06q4EFYUNrNoySWHEKKjo85glvSBjRJ/v9cd5h0DVrzZtWtuofjkSVKjilTtPHjGzlyZtWowcrR80WmduOVCZMmUqcuXKI86ZKFEiMZtnJULEDmnd+hcR74N5ChTIjzlzZtq734wBjx49wIAB/YRRN2f2tXtIig4dOuH69Ztu63jbIsvPvBztO2D7MqfKB/XhmzZtJGIkaLEUoo++boaFReDwkWOoWLmS8Hj2afoMaNaiJXr83lN4S+KzZ8mSVejju3KJGjsisGnTBlSuXFkMqFjuv7RqgWPHjwjXtM5xVKYanOGaNm0KypYtJbxJWdEtx+tO4WrQyf30+MR7lfWTKoi7du0yZnVKYGAIbt++h9Onz+L8+Uu4evUGJk2egt979cbpM2ej6hnVqXg9CtHuuN6ma1gKtfwgcvWGSXrj0pIWdDEsTMsjUliY9W8eJ38tx9q6sNV6QG0FQ9tGV7ucTGAcHJZJyhTJUPGnH7B1yyZEUsCICNNCyuvKNiIsHEcOHUaP7j1Qo0YNzJ0zD7du3xY2U0aEioUQTKiewfvRCyryfuzbzIuAA3aqrNLTGFVVnbULV3XJESxvrjZz1SZz5qxo0qSZWIWL3uki8ejpQ7T+tZV4J1o/mQ/Lly91WU5U8Roz9g+kSfsREryXQNxH3MQgcvWe9O/SWV7jOzcepz/GuE+foisUGAUJ/krBRX9O/T0oQSX6OHtn+mQsJ1kXZLKFHvfoeKNmzerIli0LihUrglKliqN0aXoRLIsffvgelSr9KIIZV69eHTVr1hT2kvXq1UX9+g3QoEFDNGzYWAT2ZaITnmbNmom+gL8yNW3Kf7cQiRN9zNuhQwendoxKUFHYoFffktVZVnntb/2qie2/mUP/bymqWJuGcb9Zc3mdcNQhaNBlaPv2bfHRR5p7YnrwOXr0sGWv7TEUVCh8JEmSFF99XVjYhOiRH3V6NZo2bbqIeyEHgpz90FQ9SLhQX6CnMA5qmeerr77C/PlzoyeomD+SCH54795dDBkyGJ9+mi5KWPnwwzTC9enDh65jrNij/4CZoe98JdYb5MBl37596N69u5i1ZhlzsGaO83emv05gSBC2bN2KggU1oeTrr78WnpTOX7yItm3bIFGihEhML2h1auPgwQPGE8Uhkdi1a6e4jnyntWvVwPZtWxDm5J2yrnCGm0vvXKL3esbkCW9PTzz39hb7uRo0aNAAZM36JXr2/E2cz9/XB54eT+Hx9IlInk+fiWM9+Ovl5TKqNgdyjFHB+0ySJJH40B04sM+YzSEUFh48eIh169YLz3abt27B1u3bsPrPv7Bt2w4RW0Q/DUJhwd2VJXprOnv2PM6ePSecLVBtj4NMlgNXz27fvisE7suXLuHiufO4eOEiLl2+LAKn0kEA/3354iVcvnQBV69exp3bt8VMvuZtzNLfiV/r/VG1YfjwYciRPbsok88yZcL8+XSH+1Tsj2B8mFAKLLbPEODvL/qFH374AQXyFxCui69euyo8s4l4HOFa2Ej2pvJXuwVObOjP9HIGeHwPFNq5ukXHBnoPh3EJVwHpyp3ORWiwzwj2zoVU8zbv4cmVvzZRgkrevLmxbBn7XX0+/m3b92zbvk3Y672b4F2xWs44RGwXLx79veifydk2WRflv2VdMB5jlqJbZ2zrvfa3/nrsN5i0f2vfLHfrpjy38RqvAvs68XIxe+f6e5H/NpaTMb9tnhs3bmPYsBFCVTdnzuxo0KCuRQiph0aNGorve6tWLUWb4yp2mza/iolYxiyjoME236VLV3Tu3AWdO3cWqWvXruK7zESbtW7dtL9/++03dO/eQxzDkAu0aeOKuKOJDSWoKGywNgFbYULbbt2mzxOVT0Rctu9KjF2MWXo9sW/seqQxPSNAS0Hl+PGjlr22x3BQ9tVXXyN5ihQo9/23WLP2X5v9Ehoq02C8YCFt8KwJKrMsnT3fAaOobxXuNuWgtnjxYli6dDHCwsw7geih3TdXbbp16xy1WsRE7060Y4lOPAINlqEzQUXWOPNyFp7JVqxA8+ZN0adPL9y4ftWYxYI8j+Nz6WvkzTu3McgikPH5OGC89+C+qO9UEfnhBxrY/w8fpkmNfv374Pr1a8aTxRGR2L9/L37+uX7UKtkPP5THP//85VD45ECWwUXpupVuggcOHIRBAwZiyMBBGDZ4KEYMH45x48YJA/oKFcrjww9T4/vvvxX2KuPHjsHoUcMxYvgQDBsyGMMG83coBg0YgFmzZonVK0ez4fzQHD16FGXKlBH3mTRpEpQrVxqHDlH33z2o1sMBOmfkaBNVs3ZNtO3YHn/9/Te8vLyN2aPFnTt3MXfufGGEzUCEdJs8ffp0sRpHhxZUIZo2bSamT5mGaVOmYub0GeKZ6TxhxowZmDF9htg2e9ZMzJ07S7inptoChTMKcCwWowYQXejyo/7JJx9rA+I8uXH6tBbzJSw0DGHBoYgMC0dkeIQQVvRlS5e5HPhzQMwI7HRNTcFICGcRVhFF63kd4arOxw0MQMl2yIHMyJEjX4hKJFey6NmrQoUKqFGzBjZs2ODiuRy3earIdmjfLqr/oors4sULDEKv/ngNqrDI2FgMpMlndRa9Pu7Q30tMEvtYq6DgOrkjQLhCfz5bQUX7W78/ttd6Wejv+VVgVg/0ZSf3m20zJg1qD+zdewDVq9fEl19+Iew8N25cj82bN2Hjxk3CFTzbHT3jcTKCaccO/s1tW8XfO3fuFIkrqdY8O8RqOrfzWCb+mys3/OU5GZOMal+cgHBkY6YEFYUN1upsLqjoZzLlXJ5+m8zHpEd/HmN6fTHrJKzcunUTv/zSCh98oBm1U1CxupW1bZDr1m3AV4UZnDElKvz0I9Zv5AfYnuCgYDFIKliwgCaovJdIGM5LFSAKKhs3rkOlSj/h7be11Y6y5cpg9eqVQp3FGRz4UK2FyVGHIZ+VH3Ma8nKmha5BtUFpUlSpUgX7D+x3OJA1h9cyfjyNtcS43XKkMKp9iHHj/kDjxo3EypFjN8zG8zhn7/69+K78d0hi8ezD+DbSFbSnxzNMmjherJYxMnX+QgWE/Q4H2XEPDZQPiLJ+911NUClbpjRWrlyOEAd2R1RL4mCfEe2LFCmCr7/5Bt8U/hrffFUYxb4pguLFiqF48eIoVKgAMmXKgI8//gi5c+dAuTKl8F25sihXtjRKlyqB4kWLoug336DoN0VQskRJMUvGVQhH79fH5znWrv1XrD5JQaVs2dIWI2X38Pb2QqdOHZA2bVpxjpSp3kfT5s2w/0DsV60Y/4azhvQQxhgk8pczhEy//toGbdu0Q4f27dGlkzYj2K0bZwW7oXfvXujTuzd69eyFfn37CqH4t9964I/RY3Dp4kWEhYSJaiWbjiwjxlOqX7+uMPinJ6/vvy8ntpGgwCCEhYQiMjxSCClidYVqbZbi9fTwwKJFi4T7W9qDMcAgBVC5gqDVaDNBxVHbeXFwoDFx4kRRnuvXrxcqb3HNoUOHxIwtnRLQBsZxbB5j/6HvN7Rffz8fUc+koMJZ5EWLFhj6ZttjKYhTaGV/wGPoDZC2MlxRiz36ezRD/y6jszJiPMbd42IrqOjv19X1Y3stPcb3Hdfo7/tVoH8+s2c122bcbrvf3z8Qq1b9JTyKlipVCkuWLIoaL7AbY19mnjRVU6kCy8S/o9RkLeq1TKEhIaL9yLz8ZT/GtuPINkWiBJU3GGOVZdILKDKP/I3aF+XtRnY41gqv5dF+xXFilcWa3MV4X/EPrUSMz6+HM4rUz+QAhR+17DlyiEjSZsf8ufpvZM+RC0mTJ0PlalWEypEZDGA4adIE5MyZQxNUEiXCxIkTEBCgxfCgoLJ27RpUqEDDa01QYZwPzvq6ctsaEhwibBY4OAqmrqj9bdrAzmXPnr0oUaJk1LX4jMtXLod/YPRnGK11yuxDZkzajbHjO3bsiBhwtGzZAkeOHHa4fOzOO5P1LSIyEmv+XSNscSgcfF+hPP78+y+E6DrUQ4cOCj3dFCm1QQuFAg4i42bQYgsHaNTnlYLKt+XKYvWqFWKFzQy+a85S0RMWhQvOynds3wHt27QTvx3adxADSuoaU1jJmTMbqlSuiN96dEW3rl3QqWNHMVhn/ja//Io2rX9F3z59hZthZ1HGfX2fY926tfjmG80eg4IKVb8OHnRf9Yvqg+XLa6tV9GyXJ19erFm3DoFO1Xvcg+emEShVDRgBnrPhVKmSidu5jR6r6K527FimMSKYJycEqLI1b+5ckbjSQi9d69aswaP7DxARFgFQ4BD2JpoQTW7duY36Derj/ZTvI9X7KdG8WRNh60XYnjkxoK2mUP0rVLNZoSF+WCRCAoPFzGP58uWF4Pb99+WFLrfrwILGNqS5Lo5Jf+pIKNXDZ2VgRwYmpXDnrptgd+HECD0E/f57L5QuXQZz5szFw4eOAti6buckMNAPXTp3jBJUcufJKQZozo6h+2uqrtBlNI+Rz+p4Yic6uLpn+Vx8t3J1wtgvxmWKqfAgjzWez1mK6bXMcO/9xxz98/03ePLkKSZMmIRs2XKgQ4eOOHfurDHLK0UJKm8w8qOlT1ZBxdrAbfdJ1QTZWG07GKtQYjlWCCp0mmkrALnCeF/xD1kGjjvDGzduiMGljOrOyNP08KNh28n9/fca5MqdB8lSJBP++RlR2oygoADhpYlqClJQ4Ux+qMX1MAUVqgSVL/99lPBQrlw5twQVzoAeP35cRJWmsOLk0aLg4KF9+w7CRoXXypAxI2bOnC7sIqKDVqeYoieoUN2E0ajr1qkjdMU5q+v4pl2/M3kHfn7+wgUsXUu/9fZbaNexPc5fuIAQquhY8tIL06ZNm4QNEJ/9o7QfiVl5eniKa44cOSI8FElBpeJPPwlPYI5Uv1iedJdK+wvaYjA45+UrV3Dl0iXt78uXcfHiRbEU36NHN2E02b9/X1y7dgXXZP5LTJfEagET6zO9wjhzmBASEihWDcuUKS3uk6tRdH3srqASERGO06dPoXBhzR102k8+QZt2bXHl2g1j1hgRHByC+/cf4irL4soVMfAUiX9bErfr97FMrl6lQb9m03Lzxg0tCbuWW3h0/6EQKKzVVqshcvB6484t1K9XT7gjZpyUFs2b4rEQVCIRHKwJKsIg3yKoIJyCCisihZ5IoUpXrVo1ESskT968YlWHgS0dYd8/aymmgoo7cNKC3nuob06Vupg6s3AEbawGDRqMWrXqClfOdKDAumKOvp1r78AMxpXq1MkqqOTLlwfLly1xUkKRQu2rRIkSUX0rhVpX/ar7OO+brM+lF1Tc6StjmmIqPMhj3e3LZYrJtcyQ14/Lc+rRn/+/Ae28aAhPr5acBOAESnxCCSpvOPLDJZPdiorF7kRLxrUWYyejqSDI/6zX0EQVTVzRX80e53vjE/rnN79bDmLatGkTFUclR84cFqNi+ydcs2aN8PrFmBA0RKbephmMmUAvTXnzal6/3nsvEaZOmYyQqEB94di6dQuqVq0aZaPCDysjp7v6oHIQumvXbhw4eEgIIFQF09+m2VNSN5uR2rmqwmtlzJgR06ZNFQbEMUOWjX3dMis3GrFSQOFAjnYGrlWvjOeyfyqupjDwG2fXqW6TKHEiDBs+VKw2hRkGR7x+z16/I53FjuWzzz4Tdg9Pnjy2yRdbOFilMaNwXy2M6WsK/eDY2h3xnXNFjvYpEyeON+6ONuwvqPLIFT0pSNNGat++vcaspgQGBoiAmtJZxFeFvxLBS/39Xb1Xx1hXgGMHB8ZsQ5ohu87bl2wnmo6EXZW6c+8uWrVsiY8++ki4DOckwqVLF4TaBN+fVW2C59ZWVIRhveWcx44fQ7Xq1YSNC73xUA2Ndi/E8VNZ25CcOorOirYRV+VHoZjevrhKR+E9ONjxqqKrcxnhBAoFhCpVqqJXr964dOmyGysYjtu35Lmvt1g1lIIKvX6tWLHMmC0KvqexY8cKgZFut3Pmzincr8Ydxn7JmGR/GB8FFbP7NCazPPLfjtAf4y7y/NE5JjpXidn5Xx7RLzOqCX/5ZWakTPk+1q5da9z9ylGCyhuOvkprzY9uiDUxQ37g9ckWfYemOTCWAokWeEzm1/Jwtt+247In+k3sVSE7K8cd1t27d4Xazccfa0a02bNnx549VP2y/wBQzzlHjhzCzoN6zxycmcEVlSlTJiFPnlxRgsrkSRMRpFO1outO6t5LQYVGuFwdcKUH+ujxY6xbvwHbd+zG3bv3NUHFgqN3Qj3W8+cviMCPvBYN8ebNm+1Ed1wby1GIo5rUjRvXHXjscV2+hDPcdG9It4c02HOs9mVEnt/+3KzntAlp0aKFeB9p06bBrFnTxeDL2AZ4vX0H9qJqjSpCiOBAtFSZUvjzz9VxamDLYHa0T5DvtBXdEx9zxz2xc6gKRfue774rK9Sc4gIKb/Xr17fUz/fw9deFxbtxB66I0WidRso8np7OYuZJzop53xU7bPpEy6kdXefpE3r9Go5s2bKJZ/riy8+xatUKeHlx1VHzfqQXVJjoXY/nonBEFUPG0EmZMoWwIxo6dIhoq8Qd4UOr6ZqoElPMnkvC9svAjnTTS1Uo9j+OBAlHZeQI1iX2hWyLnTt3xb590bV/c0QkHj15iF9a/yLeCVdI6I7177//dNgn+Pr4ol+/fqJPSJU6tYh1de78OWPWOEDf95ml+CioEOPxxiTRP58r9CszLxbeVXSeNv4iy9f9p5k+bbpoBwxGS/uy+IYSVBQC2Uit82+OhRTtb31nZhVUwhGmJQYdi2oo/Bhrgchsj7NvSK9PZ6EvA/M75mCcH28GBmQnINwTRxnT2x5D1SwOZKgqU7p0afFvMwID/TF+/Fhkz55VnJMBH2fNmIEIqotYoI0EVRJkBPkvvvhCeHhyNYi/cvUqho8aiSlTp+PM2fNSg0Xg6L1whpkqRFJQyZ0rB/5cvUrMjBvh4IUeuigEjRs3Xgxm6ZWKakb2qz2uy5cudtmp1q5dW3i2ouclRwOk6MCZU3qC4vviikCunNnxzz/m74N4+3hh1JiRyJI1s9bZJ08mBkBcBYkrGNmdK20cUFFYYUDPx48f6NxSx4zHjx9i4sRxcSqoUB2Ps+uceabglidPHmzaxBVC8/eohy5tqS5Juy4eP3DgQDfsMV4dxr7RDAqs9G5Dr3F8dx988AHatmuLkyePif2alyltIoeqX1xl4QQAV/YYpHXnzu0oWbK4cI6RK1d2sfIlPeu5U9u1luS+2q27yOemGhpXMylI064numqfjmCfQCGFK4l0csDV3kCq2BnQBDrNOJd9n95VtCMiIsNx4eI5NPi5gWizrKfVqlXB9u1bTOsp74VqgfREx/yffJoOCxYthIenhzFrtLGvQ/q+zywpQeVF4Ogb9/ohy9f107BX8Pb2weDBQ8V4gWOQ6Ma8ehkoQUUR1UC1pP0nbVFkB2rfmRo7M5m04GPys6h9QDhTaMxnri+tzxG/0Z7VWYfAgTMN09Km1VZUtICPJ43ZBDRS5sCYKgVp0qQRM7BmhAQHYdGi+ShaVDNWpqCyYP58y17rfTDiq5yVTp8+HUaOHO4wmJKEdhDfff898ubNh0mTphh3m0LD6pGjRiJz5szC+xWjO9NhgFlcC86Mjx07TkQYHzBgoDBMZjwEegqyH9Tb1hUzqGI0fvw41KxJta+pQv0kLuDV6POdgxcKHVS72e8kTgrrO+03evXuJcqbKUcODignmpZDTNi2bTtq1KgZdf5Zs2ZaVlNid36qqE2dOgnffcfI9KONu2NESHCwcFNLlcN33nkH2bNnw5o1/7hc/WFZbd26GcWLFxUfTXp2og2N+YpbXMG3rR/smdU3s20a9v2iZbslQK74DQ8XggXVhuicgZMR3373LTZv3mipH5a+hIJKeAjCw4IRTlsVRMLX7zn++nsVChXOL947g0b++eeqaNiAyB7dtj3FpdjCGDNcOaagwsCWcfG+WGYHDhzAr7/+guo1qmHDhvXw99cchpjB1U7aFXE1jqvHrvq6sPBQ7D+4H1WrVRPlylWSnj174uLFC6bv2t/PD3+uXi0mkZg/T9482Ltvj1N7rZhjqQ8Ok37wbtwXl0meX38t23pknvTncLTPGfry1x/74nk5V3nRuF9mFMB37dqLmjXr4osvvsTgwYOFJkh8QwkqbzDWrsO6ihK1jx/gCFeCiuOZjoAAf9y9c1dEjOZHw/gx119X/9F0r3nFF7SncHTH9+8/wG+/9US6dJ9qH7c8eYSKhBnUEeV+aSxNo1RjmREaT//112oRKVYIKokTCy9ARvbv348G9RvgvfcSijguAwf2g7e3Y3UsQvUi2ljwvBV+rIijR04iLMz8/RIKoRS8OOjiMfRKNGLEcNy7d0fs1989B2ocvNJrUc2atYQeO4Uc+lPv0aOHsOuIrvccxqSht68mTRqKFSgOkGNLeGQEbt+5g5q1a4tnol1Bn359ce2ma2Nu2hnRGJGDcwo5XOk5ceK4y5Usd1izZi2+//4HUT94T5qKCrGvI9GBtkSzZs4QLnNHjx5p3B0jwiPChVOGhg0bCsE7U6aMWLaMUYftV9n0cLVwxYqlwk0sbYO6dOkiZuvN2kF0cX4Os4GfzC/buJacTd7Ivkv2a5oKrXU/nVRQdYiqmBTshw0bLtwUM4CjRjgiwkOASE1IITdvXkOf/j2R6fMM+PDDVPildUucO3sWIcGhbnaWelcmtikuYHtlsFXWdcZP2bx5c7TasBkUSDiryyBy+fPnxXfflcPSpUvEubmySK9y2u86YcvHWCrsA+lxrFixYkIN1NUqXAAnfJYuRrHiRUU7p4v1JUuWiu+WGbRPa9u2rejjuKpZskQxXLz4ItS+CF/qixZCopOMbcNR0t+/cRuR57KvtOwbzp49hYcP78Xa7k7hPnQuMnXSdBTIX1jYmUZPffrloQSVNxj9R1X+bSM0GD/EpoIKfyMRFBQsZswZ9O7M2TNYt+5foQ5At6rW2T/ZgckzvO6CCtGe34yrV66idetfkTp1avEx5OBk85Yt2oyjriwjIiKFx5wsWbNEeZOpVbu2UIkKsXjzklCNZPbsOSj0VSGRj6okY8aMEbrc+gECg8JR75SD2vdTpkCPHl3x8KFjl6F0u8tVnfQZNKHqgw/T4OdGzbBrzz48fvIU/gGBwuOVWC2LjBTC5/lz54X7W67cMK4AVbnu3LllqSfWt8pZR86IMs5JzZo1xCw5Z3KYz9PTUxitUzDj9V3Z0UjYmTLoYo0a1dCnT28cP37MxWDUObwfvpc79+5h+owZyJdfm8GmfdHY8eNw6+4d7Z71+nAWWO6MIr5q1WoULVoCCRNqKnd0LNC+XXsxaKdQxvOHh9sf7wphxPvHOHz++ZfC2JGOEmhDoxH98+lhdHQGEC1XriyGjzBfxYsJtDXhChNVuFj/GaiQnpucQZUherD7/PPPROIKRMzsfOzLxHXdcGfQFT1BxZJLrJowH98jZ/1Z36li8e133wmVzIOH6LziAfz9fIWqV3BIELy8PXHv3l0sXDQPRYt/jU/SfSKCuLKNsK5p3S8N+aMub4p0bGIrpLgqC/dhvaahe+kypUVfwD7LdVk7hmpbnLxo0KABMmXKhA8+TC3s3kqULI5ixYuL+Dwy0dHCN0W+EYnRtOm0hOqCtJOh+qEznvs+R68+vZA+Ywa89b+3hH0gXZtr8J1psSDYZtnXHTx4UFyD7ZqpcOGC2L17p1hp4QSJYw9kMYHl545gEJ+S/p3r24zcrmsd4RHw8fbGxQsXcObMabEiRxXenj1/x44d2+Kdx6n/MoGBQRjQfxCyZc2JKpWr4PCRw0IDxgi/fRT+79y9i2tXrwqPkLRF07wiXhPaIyK0gaencNDy6NFj4ZCGnhGlF0Xm4y+Po20p87k7qaEElTcY2XXYdjHaXJv2a517s+mSouxWNB1ZGoFeuXJVfHQbNKiHUiWLI0+uXMK7DSObcqbUftZS/4GP+YctfqDvmLWGFxAQiO3bd6JixUpiEM+Z8HSffoqevXvjwvnzUSoD4eERePLkGcaNHYeMmT5DwkSJxGw81cAGDx4UtTpBKNDcvXdf6JNmz54DCRMmECsmjNLMFQW9xyt+ZDkDSe9JqT94H+3a/YqbYlXAvKwvX72C/gP6I3PWL/F+qpRigPnxx+lRvkIlTJoyE/sOHMWlqzdw89Yd3Lx5S+jcd+vWXawC0SUx43ScP38W4ZwRFlivQ5UsPkvRokUwYsQw4VpUwoEOB25ly5VFr169HAwwZPlaz3n//j1h31KqVEnMmzdPdJKxgYNouuL986+/UK16DRF5mu+MA5+evXthx66duHP3DgKDAix2Idq98P9+AYG4cPESxo4dj8Jff4NkybT3TfUlCqe//fa7iO579ep1+Pj4ut05S1h+HHxxlSFLlixCvYVBLuMCPjfLj0G+ONCMKzjg5EQF75dqNfTM5moQy4/dwIED8Omn6YS9AGfLrao1xsGQK5hf9jfuHCd7QrvezpgxCms/aK0LMulyaYMzSx56C6OrZ87+FylaFDly5ESNmrUxeswfOLD/IO4/eIiLly9i9Z+r8VvP31GqTGlkzZYVdevVwcaNG0RdCGNUenldB7dnuWrURJD8tb+/2MEBB+PRFC1aVKwK29uaRQ862KAa2eeffy7qzfvvp0SaNB8gbdqPhAt0CiO08WGiACwT+1i2D7piZ4BMV7GMGLCVDil4DAUi1k/WPw3NbTRj3dDZBwWnPn37ir6A7Zr9buasmdGnfz/s2Lld9NHBHFw7qdsxR57TrG5GN70IuxZXyHzWmhcSFIS9u3ehTu2a+OqrgsK9e8GCBVG9elXs37/XaR8R17i6knmbjgn69xd/4PeXAWyzZcuOevXqim+42dNS8GAIhW5du6NunbqoWaMG6tevJ1QzO3ZsjwED+gutiLlz52HGjJmYOHGSiEVFdUp6AqStbutfW6NR40ZCpZe2Xpycde2lU0MJKm8wZo3QuMLiSFChoWeEMJjnLHskTp8+Kwwe06XT7DESvPu2iJ+wb99uRETQBScHsLKTjM4A4nXA+BHRXGpu3bpNBChr0qwZWrZqiY6dOwp7DgbiY5yO4KBQeHn64OTJM5g0cQp+bthI5G3ToT16/NZDuCG+ffsGwi1L4SEhobh46SpmzJqDbt17iMErXZXSnoJqVc+f20aC5kw+PYil+uB91K9fB6dOnTCdLeHbvnTlMhYvXYzJ0yZhwuTxGDJ8KLp07Y5f27RH1+590LVHb7Rq0w516zVAxYqVUaxYCeTNkx/fffsdBg8eolNp03+YRGURQgUDX3JGcuXKZTYz6xx4MS5C3nx5haqQuaqPLF9tO/dTUKpTp44QcHbv3hsrXXGWCQckdIs7feZM/Cqes76Y1W3foT0mTp6EFatW4sChA/Dyemp5H5Z7Ecb0fjhw8AimTp0hPBM1aNAQdevWF+owtWrXQo8ev2HcuAn466+/heMBV4MoPXwuzqw3bPgz3nsvgVCdO3HiRFTU4NhCwZDPzQ8JBaC4gsLYjh07REBMOiT48ccKQt3P/t1aOX/+nFD3oXDHj9zt2xw4yh5KV6dcwnwx6WeM7dj5Nd0TVHgO23vgJAKFNtqR0YatUuVqqFSlGlr/2g69+/ZH1+49UK/Bz/ixYiXU//lnjB4zBnv37oaPj6bOpK3QUFhx/Gzak1gFE/3f5kfEDE6G0CMXByOnT5827o4WXL2gkEGhOX36T4UwwtUUrl7QI1fJkiWFIMLgl3RMwEC2ZcuWxffffy8Cl7Zr1064YaeOvbPJAJbfjRtXUatWDSF08Dy7d+/Wrd5FIjDADzduXsfJUyexYeMGjB03TqioMhBqly6dxWrM5GlTsWHjely5cllTGXNSt+MGY92MbmJ9eVWCijUvhcAzp06gR/euUR4x2UfUqVMLJ08etzn6RePqjcVdm9FaoXtl9rKIxMMH9/HLL63w2eeZ0Lx5U9y8cd2YSXD48BE0a9YCGTJkQuL3EiF/vnxo3foXDB48AOPH/yFicTHgMQP95stXQMQ74riA2h6ciBwyeDB69uqFmrVridhYX3z+OQYPGuy2XakSVBQ26BulbFZmTYyfPfr4kh/A23fuY8wfY5ExQ3pNdeiD99GwYYMoCZ16p/S0IkxMxYeWR9pez/jv+ISzAZZWMvrOnwNAXzEYoTvNfQcO4PjJkzh1+jQOHzokVjb4UQwKDIGnpzcuXryCXbv2YOPGzThw8CDOnT+PCxcv4PLli/DyfCY+4Lw+Bzh37t7HyZOnceLkSbGUSiNuCj6MCi2MTXX3yUE/Vx2yZcssgpnNmzvbVAeb6lzPPD1EvAc/f18EBgeIf1+7dgMHDx3DkmWrMHjYCPzSug2qVauBcuW+Q4UKP+GXVq2xaP5C3LurVymTtUW7Dw6oubxfpUoVoe6yfv1a+PlZ9cc5ozNq1Ehky5YVlStXFjO09oMM23NyP3XYqe9P72b0IhYbKKgwLsWRo0exfccObNy0GVu2bBUzqTTyP3rsKPbt34/TZ07Dx4cqdrZCQkBAEC5dviLiz+zbd0CotlHXlwN1TYd+E/7++x9s2rRVLH07iiZvBgena9f+K2KRUMWO75PL63EFZ8Dv3LktVIqophmXPH70CBMmTBCz4Jy15gqLM1iXZ86cKQaErNOaGqBZ7+MOUkhx9zjZ88hr6Xs/1xiFFd0eh/egecy7hPkLFqJv/wHo3uM39Pjtd/T4rSe69/gdo0aNwYYNG01WC2V/I70ouiZuFb6s0K6NDjGoumN/n+7D8gsOChL2Jr/99ptYVWEMKq6y0n32lCmThQMJOuCggEeblAULFojVQP6bsR8YtI79iSs4UXDw4H6ULVtKOC6hLRTVUPQwgO6TJ49EX33+wnnR3164eNESFPQqLl+5jPMXL+DSpYt4+OBBLPX67WuNLfq6qRfAZf00q7P6v/X/1h/rTpLHGs+p/9se6xPpz6VBpxqB/n44fOigED45XkiX7hMMGzZUqA7HNWZ36KrEJTKfO3ldY1sOjpFXi+lV3Ts+MiIc169dFS7gM2f5En369HK4Uk/1zhw5cuPTTzOiTJmyGDpkiPjGcXKJ74yOWNKl02KJvfNOAjRu3BQ7d+4Wdnn85nGCjt/SBQsX4PsfyiNf/nwYNEQJKoo4wPngXEOqilGF6dTps/jKElE6Q4YM6Nu7D+7d0TxIcGZYeMHRzUKadQLGf79K9M+vnzm1h9ttO3gKYhyI8APGxEGXTCwL7XyaOhcN1mnURoFE5A0LEwa2PJ6GydaBu6bnLs/D/fIa0uZDD4/joLZx44ZImjQxateuZaN2pUe695TPyX/zvriKExAYBF8/P3g/fy5sYXhOL09PobNK/W1nqxlBgUFi9YPecqjOxhlYvfce2i+NHj0KmT7LhG/LfYtr167bPYcZfGYOSrgi4Oz67sL6K3XS9Um+O/lr9dJkhferf9fGczBxcMRfTTXG9fNJqOPbuEkTfJr+UzRp2lS4vI4rT2ISlh/vL3aDLXtYLvQk9/333wkX3VwB9Pb2MmaLgmVDVQB+vGgzFZ1yih2y/cbuemb9mRmyjcm2HBAYIOoyn9uXyddXxOxg3abtn7ngHl1B7MXAOiMmXYKCTO4zerBM2EZYDkzsX1gW7C94DdYNJvY5Msl/8/pa+3RV+pr9Hu2y8uWjof53wgmGvcqaFsOGkxjcp+9vjYnqfO5c1xzx9bQkI7Jeyv3uXkP/PZI1Uv990p/HuM+YZF7jOR3jbju4c+uOWB3jeCFPntzCAUzsJifsMbsXs22OiE7euEM+f0yv6t7xnES8cO4cqlauIlQ3lyxZYqeVwWrNb+P48RPwxRdZ0Lp1Gxw9ekzYZsnvGb9HdKJDe1na2GbO/CVmzJgeNS6Rie/2mcczTJoyGc1atsDkqVPEhK47KEFFEWfcvH1H6F2z48mdMzcWLVgIb09tYEK96tdNUIkesnNwrzN/maxevRKlS5dEoUKFhIoYhY2XBQcSDGZJ41e6Z+YsjN51KAcinDGl8XSpUqVxXme/o9BcRlNljjNQs2fPjnNh4kVDNb9Fixbi66+/QokSxcVMOD9w8Qd9u41dmzXrz8zQ94HRwfaYuLnnNxF6KaO6GPtD2lXKmDSvBr5DR4KKROZx910zn37FRWJWZ+S59d8us++Y++3ErXYQCVw4e16o7nG8UKRIEd0kmv5ascPsXsy2OSM6eeMG+fwxvap7x3MyYO2af/FVoULCsQfdgRtX+ylcHDt6HP36DcSvbdth/4EDFmHSSmBAAPr06aup/CdIgPI/fI+NG82DRnIClvae4ydOEOrUykZF8VIJDArGtu07xGCUFbZokaI4dOAgQoM5y2X5yDoQVCTav+NSgNGfKWZncB/jdV7ktaIHjUKnTZuMb78tJ/RIqdL0suBMKPXGCxYoIAzv9+7dZzNQ5YoKY6EwKCXjbpw+fcpkdvPNhKspNHCny2jaIdHDSmxnrV82vN8HD+4LtY5ChQqibt26QiXSzFbq1RB3bTa6Z7HpC4UAEp0zRCfvy+RV3o+xDO0Ha15enhjzxx/4KO0n6NSps/A4FRPi7indeY/657F/JnuM5WC23WybPpldy3isOWZXMeL51APTpkxF9mzZhPpdp06ddCqt+uvHHrP7cHV/eqKTN25wpwSd4d7x165dxa+tWwvX3LT3pOdB4zE+vn5YuGgxJk6cjEOHDtvZV/Jbfe7ceWGDynEfnVoMHjIId+9aHVPo7yUsNES0OapqUn3beD5HKEFF4RB3Z/zCIyNx7foNDBs2QsQM4fJftWrVcOuWNkPianDFq1gN9/UG/MZt0dGz1s6qncVeTUIKRPo7c/d5X0doPDp48EDkzZtHuPOl/cvLgP7xqVrBGTN6INuzZz+CgqyrArRXmTRpglguLlmyhIjLYpyxeROhzjx18mk0TCcDnAV+bYmMFM4W6BmOKoCjRo3WeVhSWJGDM+f9ZfxF9qivqh/Vlx+T7SoEVekY6b5Royb49vsfsH3HLuEIJia4Hga+COQzvej6oS/D6D+l7dDUnPPnLqB2rTpInjy5UL/je7HOrlu/3c7PoogNR48eQe7cuYSAQWcqxu8uS97D0xv/rFmLPXv3aXpgBvjOFi9eihIWWyM6wKD3Pyu2bZL2nY8fP8TZM2eE7Yq7k5JKUFGYI1dBTCqntGegDQP1c/0Dg7F33wE0bdYCKVKkxCeffII+ffpELakzjxF5Xv5qVVgKDvbCidxnfyeu0Dr2SNA7mTQ8tVxXd63on/d1g/rwYUI4GTRoAMqUKYX+/ftpKmAm7zcuEUvHx47hp59+EipMmzdvhb+/dbnX398XM2dOQ44c2VC6dAkxoHW38/ovwvbApfTVq1eL1Qd6+zpz+nQ8U5eKDlr9osoavdDRcLlAgYLCAxrtsmLSql8ML/c+zPpV7R5exkD0RaH1qi+7LK3I69sOtCMjIoROPW0gfvnlV9Sr1wBr124Qg7CYErPvUWzRvmcvvn7oyzH6T2k8wmwccfDAQRQvUVIEhKWrWqr8Mpix5Qjd9V8xxocRmG587eDkF73qUcCgxzyjWnF4RASe+/rjybNn8NXZlerfDW0Oe/ToibQffyLOw9V/OsSwz2tNVC+Tdm3GeuEIJagobLH0EbTXtaolWHZFRsLXzxf3HtzHpcuXcfrMOVy+fBVPn3rgxIlTaP1rW3z44UfCfe327TsQRFsECjzh1jgCejSVMMM2St00NBVeweR/MekaeIRcSdEn65m0mM0RCJeuPk3cfZrdt3Pk3Ub3uBcPva3Q+wY9R3Xr1hULFy4UnpaMMylxCcuPy8BNmzYRXqtmzZqFx48fR+2noEI3zLlz50ClSj9Zlp/fNLS6QoGeZcOYK/R8RB/09Bz2egtu1rbADxO9eQ0aNBi//dYTq1f/+YrtA4ilw4vhoCxu0d/L60p8KEPbRE9GVDXp3r0HOnXqgpUrV8PLyzsGfbuVmB8ZG8wElejXX/ee29puo4s8ko5iPDy8hZtxvoMwi7onv+i0dShTpgzSfvyRmDTjgNdW88L19d17DhfI4nOJo3KW9+nkXqJ28Q/t/dFRA/v1cDrNCQ1BmMVZg1YG9ueLk2fV4e8XgKWLl+Ozz75A0WLFREwTu+8MPY3ynmyubX0GQs+idE2eOHESoULWtm1bIXTa5nejjFygBBWFLaIeRiKSSVdB2bHv3LkL8xbMx5JlS7Fm7VqsWLka23fsxqVLl4U7V85UpU+fSQxCnj31EOdARISY0TJraCabooQjV+pi7iEbvexgrOfUtgpnyZq4EhEqAlcaMbtvx+ivFZ3jXi63b90S7minT58uYlvQNe+LFFYCAvwwduxoFCpUQASV4gqLhOoYw4cPR4UK5TF06BAbQ/s3B62+0D0rl8OXLFmGadOmixmv19+xgGwTWnvgKuzNW7cxfcYM/PHHH8KVM4Uzu4/kS8P2w/tq0fcfiriA7Yee8igUT5gwCZs2bYGnxcHLiyZ63w53YL0w1lW5zX6SzRFxf1/23Lh1BwsXLsKwYSPRp08/DB06FH//8w9u3LyBR08fYeXq1Sj0VSGh8jt16mTxvY/ubcXJc7jd5PRlL69rPrbQEx4aiutXrmLr5s1YsWIpFi9egKVLF2HJksXCyciiRQuwcOF8LFy4QMQQoqvtZcuWYsWK5VixYhmWL18mtnGCJ27GRBrXrlzH7z36IN2nGdGle3fhXt/1+eXzauVAb1+0N6lVq5ZQ96cLeroMN7r6jguUoKKwRdRDSvxax0GvTIxtQc9NND78tU0bTJw8Gf+uXYtFi5dg/vyFmD5zFjp06IScuXIjU6bP8McfYxESEsYAHUJQ4fKMFEBkI9dL6WKrbnlY/EbtdtUZaefkMfwocVZacylJF750KUsXeVpi0ElNZU1z/xsaHorgsGCEhAUjNJTuLfkb4kaDdYZszK7u+xXClTFfH+HjfNu2bcK4mbqmcdLxmxKBo0cPoV27tsiXLx+mTp2GRw8fCa8jrFv8iFFYYSDD139gHhO0+kIhjbYbp06dEkHrjEvxryf27SEygrPcj4TbavYrjAcUe9U22bdEtw7L+4sPbdb5oEcRfdjXe3p44ebNO/Dw8ERo6KsSiOMCR/U0JvU+7tEcZzzAoUNHMH7CZFSoUBE/VayMWrVqC9VfRjMfNXokZs+ZjdZt2uCjjz9Czpw5sGTJIuOpYoizMrBXP7NsdqvJaS7hjeXvuO/gtejxdP/efRg6eDAqV6qE/PnzChXnXLmyCw2CnDmzI1euHMjNlDuXcDaTI4f2d958eUQQZG7Llj07Bg4cGKeTifv3HkD1arXxafpMGDdhPDy9PEW/7Bj9s2qFRbfhXKlkkEeqfTH8ANW+9OEH4golqLzB6BuuXpBghWWiITRdybXt0A6ly5QWAbjotYnqGg8fPcKOXbvQrGVzZM2eDalSpUbiJImROUsWEdgtLDQMkWER2qqKOC8rt3UQqm3RFLtEM7frRLQ9XO2wtSLRNxYtQnOo0Hn0E15DeG9PnjwWAyF2mvQ49PDhfWHA9ezZEzx9+kT40efv02f8+5H4pRtVBiyji0RGlf/vEykGwlzR4CAxdsKZa4KDg4TXkObNW4io7VOmTMPWrduxZAlnjlaKgJWxH6y+3vAdaLFcgv7zApuwG/D3F7Ey+N7t27/E8WDAdr+cVZazfbYDE+O/FWbYDkTskWX9GpVjVLya+C2gRKduitg7/v4WVSHN/pAqRGKiTtqP6mI/CRUjS8weuY3/DrfEftLiYbgXg8YZjx8+Qu/evZE/fwF8/U1R9OnbX7hX5zeVkxJVq1TB559/LuwY0qZNi6RJkwpPlOvWrTOeSoeztq+H+40rHtpf0tLVuk+OHbR8Yl5Ud3rZV9iWh6vr2+Lt4YnVK1ehdOkyIuBt4sSJ8c477+Ctt97Gu+++g4QJEyDBu+/inbffwbvvvCOivSdLlgzvvfeesNt5L9F7SPBeQrzzTkL87+130a59B4TG4cTVxg0bReDGPLnzitUbvn8ztPIz5/79e+jduyfSZ0iPd999V7j8PnnqlGUs4eyd6fsZV3k1lKCiEFgbrTZAevDwPubNm4NatWuhWPFiaP3rL9iyZXNUZHPmvn7zBlq3+RVp0qYREjUbGL0U0YNHeFg4IkXiigptQKRBu+U6WlchbET4n/4eNPSCiv7Dyb+tHRLVtehmb9u27SIKOAMKcpWAamq7du3G3r17sHfvbuzbtwcHD+4T6jRM+/fzdy/27Ga+XSI/oytTyOK/OdvvrON2tk9hDldtKOguXLgYf/31j4hcu23bDly5cvWNF1IUjrAOLMw/Zvr9MhnVYxTuoS9DM2RZm70HxcuAAgada8yfN08MMLkiSccbf/75p1DnlYnbmehxkd9j/tIbE7dxP//mMatWrRLfzUuXLsVK/fLunTvo17cvMmbMiMJfFcbYseNx6vSZqAkw9v1///UX6tWti08tEcxTpkyJ33//XazoO8ZVnZSY9xMcQVgFFYtjHY5FRLLa34ozWP7WCyr2AotzuPJy49o1zJg2Hd+WLSvGRHxWmSi0MABu8+bNUKNGdWTKmFGoTSVNnAT5C+RHy1at0LlLZzRp1hRVqlfF9z9UQNVqNTBvwQIRiy4uoNYI1cwKFiyIYsWKYtvWLcYsUfDJHT39uXNnUbZsaSF4UciqV68ebt26adnr7Ehjf+26T1GCyhuNrExU9dIi8fLfT588wvz5c1CiRFHkyZsbbdu2wf79e4VqlCYcaJ3Gc7/nmDZ9Gr4poi39sbLS29elyxdFgxURe2lIL9TItM5BVkjZrTgWVJhHE1YcCyrsuMOEMEJ992HDhmHEiBEYNWoUxo4di/Hjx2PSpEmYOGkiJkwaj8mTJ2Ly5MmYMmVKVOK/ZaIKEl3B9u3bVwgzVi8k9hjvVeEeLDZfXz88ePAId+5wpesJQkLMZ3MU/xWcfbQcbdcjewtHeeU+/e+L5mVd52Uin8nRc7l6D4oXDVdAVv/5J6pVrSoGhk0aN0Ljxo2E56xmzZqJeBYtWrQQqVWrVvj111+FJgRT69atxTa6om3VqqUYLDdu3AQ9evQQgox9TAvX75nfwUsXL4qVlPQZMqBgoYKYOWMGnj+3jzgeGBCIFcuWo3Sp0lGubGl/4XySStZHR3VSIvsY23xystO62sqVI45FOHlqK6jImm0UUqIjrNCj1exZs1CoQEEhgPA5M2bIgO++LYfGjRqhd+9e+Pvvv3Dy5Ans2LFdjDXoDTPl+++jwo8VsH3nDjEBfPjYEWzeugX//PMvtm7bjps3b7l9D65gNPipU6cgT+7c+PHHH3Dw4AFjlihkqZpx9MhREf+Mz/jxxx+jfdt2ePzwoTGbAXlGfV/juk9RgsobjWy8FD4ixZKwh8czLF+2DOXLf4dP03+CLp074uhRBvoJFMKHsO8QA8tIBAYFYO2/a1Dhpx8tlTUt/vxzJYKDmVd2BJp7SApBZg3NVSdg9fslhRPbjoszTIyoOmHCBGHnMHjwYAwYMAD9+/cXibqd/QcMQN8B/TBg4AAMHjJYBNFjkrYR9IJFQYfH0msFO/P58+e7HTVVET34vlkfpKqCezjrMhXxF/0Hycjr/E75PGrlRvFyoUoX7QIaNGgghJNWLSmQMLXEL61aCWGEQgm/Y+3btxeJ8YsYULFDhw5iOyce27alANNaHMNVDa60WB2Z6NustX3qh5iEffj169fQvXt3JE+RHF988TkWLV6I5z7etrpUFgICArFy5Srh7YvjhSxZsgiVMOfIdibbmjZesd9vfz0r8nmMT2CL4z3uwUnT69evCocxfL633v4fPvnkI7Rr8yt279wBD7r59fUVAqEYR4WGCltETu5+/sWXQsjbtmM7AkKCEBIaIoQe5qVwGh7uuJ+h9setWzdw6+Y1BAVxzOL8Kbw8PfHHqNHIlzcvWrZoIUICOMPsbCHBIdi4foMwoOez5s+XDxPHjYeXhwzaacS8Tplvs0cJKm80Wgcg1b04aOQy8o8VKojl2e++K4ft2zaLBsN9TGxgbDgUWnyeP8eUKZNQqGABoX9ZsGABHD58UDtzGL1oaY1LCiNmg1JXgoqGflCgT9rxNMjeuXOn6PSY6EmIiSpg23fswNZt28TsxKYtm7F5yxbh6YpGX1wS5zI4l8D53FwOp+oYXcLSxZ79DJPi1RHbz4gi/vE6v9PX+d4VrxP6byS1FOjFjN82fqd2796NPXuYdmHPnj0i7d27VySp5iz/ltupgbBvn6YOzWPpUer27Vs6uzjzQaWxxlOw+f33nvjggw+RLn06DBo6CHfvOQ7kStvPfv36I0OGDEL7oknTpsKhi2v092MUSvRjg1cLbWDHjx+LbNmyicH7+ylTokmTRti7d5fw6GgGx0Rnz54RK2AfpU2LkaNH4d79+8ZsTlm+fDnq16+HTh3b49LF80Jgcsb9O3fRs8dvyJ83r9A4eaQLF+AuF85dwG/deyB16tTiWevXq4dzp88KAcYcvjO9wCm32dczM5Sg8sZiW0nY6VCybtq0KZIlTYpsWbJg+rSpwjCdUEDRUrhQ1aGgQuP1Hj26I126T5AxUyYxM3PP0lHRy5amSmYrqEStslg6XtdCikTfEVnvnUKWn6+vcHFKA3oaytM9nqclcfbAg4byz57iicWQnnkfPnyI+/fvCy9LN2/eFImzGzTG5wwFV5DcMWiWqkxPnjzFs2ceIogiE8uG90EDff7KbTw/t8nt4l49PaOSzKc/D3/ZycttMnGbo0QjZXmMfrv8t9yvzy+Tq3NEJ/EcLE8mzibpr+MqeXvr79FT+NrnvbAMZbnxV1+m8m/+6v+W+/XJmFeeV/4ak/49mW0zvj/5vo355fvjPtZHR+9Xn+Tx+ncit8lr6cvC0TMzac4kbP8222ZWTvpryqR/19Z3Z6wLzOdlUx98fHiM7XHyWNtz8DjbvPpzenlpdUNL1npivD/7JI+3ln9UOT55giePHou+guXx6PEjPHj4EA8ePhC/dNDB9OjRAzx+8giPnzzWpSemSfQ/Ty1/P+G7f4bH/GXf9Oyp6KOesqxtfuXf+n9r24zHPPPQ5RN/2+6X13nm4QEfX+0dGMvc3aTPb1+u0Utm5zRey9G+mCbjPZgls2OM/zZLxuOc5eU3i+1KU3/Sf5Ptkd9N5vXxYTt6LtR46JSC8aj4N52jaP+2Jm4zJuan50cmag5Qzdn2W2wUS2xh3eFkH1cBEryXALXq1MTR40dFrC5H3Lx5A/Xr10eCBAmQNWsWzJ8/T2hw2CPLwWybmaBiLTPuCQwJxe27D7Btxy5MmjxJaEpQHXzyhMmYNH4SJjBN4O9EjB83QZfGY8zoMRg3dhwmTpiAsX+MwZDBg4TmBd3unj173iZYsZGbN6+jefOmSJ0qlRi8f5YxIxYvXiTK2hk0ZJ8xY4ZQnypZujQWLFgoxhLOoEr9javXMGbMGJQuXRopU6bAl19+jv59++DKpUvG7FFwTLN2zRqhivZV4a+EHS9jpUSX9WvXCxU+aYPTuVMnBAcGO6kyZnVbCSqKaMIB+6iRI5Elc2ZR8Sr+9BOuXr2qdY6iglvUvkLDERJMLyPhwpsHo2cnSZIYpUqVwtatW6OWHtlhmQkqMhkFFjOc7dOQErqrfC8OPsvJk6dEpO21a9eJYH1csWGikSI9mkgjf/7SYJ8rOVy+598ysdPX/1u/jb88Vv8r/zYm67W1VSN5vDHJfEy8N747ztLxl6tS/JV/y3vXJ/255P3yWfVJf+88hzyXTLy2XAWT2+S/jWnzZut96M9tdl2WrfFv/spyl7/Gv/XH6c9r9k6M24xJlhGP15eXLG8+k3wWWd76MtKXC39lfdLyacfK68vzy387emaZpIGt/m+zbTLpy1GWi/7dG+uBvAf9tXlOJlnvZVls2mR972IF1LIayhVSzhhr/95qSXL/NmzZwnJkfWdZrxe/+rRxo/YO9PVc1nHtOto5t21jPde2Mckyp1rDhrXWeibKYP06rNuwHus3bsDa9f9i7YZ/sW7DWmzYtA4bNm2wpI3YsHmTzS/zi39bkvj3xs1Yv2ET1rOd6vZtlMc6+Lcxyf38tcm72X5/1DEsi21a25ary8Y6rW8T+vqk/1vfxvT7jPudbTNLxnuRyayNmSX9O9dv0/c7+japv4a8vvx19MyO7tV4X8b70O/n3ytXrhTnZTwK7dtpHMxZsX4PxRfZ7tvn+ntpi/47HC0iI4ULdaqeJUuRDNlz58C0mVPh5cRbJgUmPmeRIkXw9ttvo1y5cjh58njUGMEWszJwNKi1F1R8/AKw7+Ax9Ow7ALnz5hWD+PTp0iNXjjzIk6sA8uTKh5y58iB79lzI8mVmZP0yM7JlzoYsX2TBZxk+Q5bPMyNX9uz48vNMSJ40MZLTO1m5b7F06XI8fvxMRFwwg++wRvXqSJokiRhDZc+eHUcOHzZmM4UrXXTh/MGHaVDhp4r4869/4Pn8uakWCsde1y5fxdBBQ5AieYooQ30atWfJ/CWWLlmCMIaHMHmt1Ibp2fN3pEiRHN8UKSLidkUX1pe5c+YIxwn0WpYoUSIhDDrHTFAhZu/UHiWovPFoFeTQoUP4vvz3SJ48OT7LlAn9+zFarNbxWFdTaJ9Ct4aR8PT0xpo1/6JQoUJC7at69eo4d/YsIkXQRGk8LztCLTiQMLDXCSo2d+Ggs3TekWqVnKsqERZBKuo+La4YnadghFAfVPxq27iyxBkro06oo3vgChPd63bo0BFdunRB167dhHEiI4tzhYmJEcaZ+De3cz/1ert16yZS165dxbFMnTt3jvqVifrFjv52lDp27BClo8xE/WR9ot4yr8P7YJL3q79v+W/ul/eonbujOAfP265dO6H3TKNNJkaplUnqS8vr8zgmef9dunRG167aczOxLOT9sIxkOcpffdnJ/WZJ5tMfp98mz6F/B2aJz8xkfE9yu/xb3juT/jn096Av0169ekUlGqFSR5mJf+v36fPIJLdR5UJ/TmdJ1j19PeQ55L/1SW432y/Ppy9D+cyyPvI9s07wvevrBO2+mPg39zEP6wLLj+fi+fl8/fr1w0Dakg2mLZm0J+PvoKh/cx/zDBjQD/3790W/fn2ifrXUF3379hGGqjyftFcbNIjn0GzThg4dLNKQoZq9mvVaFvu1IUMwzLJ90MBB4tiRI0fij3HjMGbsHxgxegRGjBqOYSOHYcjwIRg2YhiGDh+GIcOGYsjwYRg6zPpvYRfH36FDMGjIYPE7cPAQDBo8FINoUzdoIAYOHiR+BwweKH778/m4fZC2vT/3WVJUXt3fxm0i/+BBdvv5229Af3Tp0tWm/WrG1tp7orG1ZpTdXPzS6Nr6tzTWbo6WLTWjbeaXSb5n/d/OtjnbL/sQmaRhuGZn0VbcO5Ps4+Tf+n5ObpN9j+y/jM9u7L/k80jDdOPz6e9Pb7Cuvx9jnyu36ftlnpttYMWKFbrVBeNgzvb7w+8dY4LJ+GD6755MMl6Yo38bE+1I3cXfz0/cL+NmcIBcp35tnL1wJiryvBlUz2a5f/TRR0Ltq2HDn3H37m1jNgtyUGv85poNdm0Huvy/X2Agjp8+j/GTpqBuvbooV64sfqzwE2pUr41GDZqgYYPGqFOnLmrUqIlKP1VE5Z8qoVqVaqhetQaqVqqOGlVroG6t2qhRvSpKliyOot98g2ZNm2Hd2vXw8PA2M78RUHirVKkSkrz3nlVQOXLEmM0UanjMmjUL2bPnQJIkyVGtWk2sX79RaCEY8fH2xewZc5A/b36k/Sgt0qRJI1w985oJEryDLp064eKFi0KgMUJ19p9//lnkpa0Q30u0iNRsjcaOG4v3U72PhO8lxNdff41ly5cZcxrQvzt9AZpts0cJKm8sWsURcUhCg8VsB/2bJ0mcFI0bNsGxo8eEn/VI+lsPDdH8tIeEIiQwVEzkHDt6AlWqVEGSJEnEUm7dunVwhW4Ghb0LpXnNUJodLF0IMwmvX5YYLbLjFdXUItBouNFhMqvIr80ocen6wf1Hws0tZwiYqPvKAIJHjx4Vv+xEmI4fP25Jx0Q6duyo+OU+RkznTCydB/Cj4ToAkrZsS/sW/WBVPzi1HaT2tBls8wMlB3tyQKwfCOuFFjNBhh9dKTxIAaZTJwoC/CBTMOAHmr9WIUF+rOWx+kG1mVDApB+0SyFDCityMKD/6Mtf+eGWQgqvKQYNUfdLYYn3oT2TNujvjG7drMKBLB+jgKG/Z6PgYhRUjM8kBtuW4+T55Tn015R/G4UV49/Gbfp71gsM8h709UIvIOgFEbldCjL8mwPvoUM50B6CYcOGCi93HHTLXw6w5d90EkEPeEwcYMtfqkDIX7NExxL6X+bVb2OS5+I1eD35y+tKZxbCiUX//uKebYUwPisFpZ7o06c3BgzorwkMQwZj2LAhGDmSzi1GYdy4sZg4cYKwgZs2bSpmz56FBQvmi4jOjNasRW5eLv6mjrZ9WoZly8wTXXPSveuc2bMxY/o0TJo0ARMmjMfEieMxaeIE7XfSREyZMhnjxv2hPcvAAaIMxk8Yj3Hjx2Hc+LEYO3YMRo8ZhZGjRoo0YuQIDB8xHMNHauU+XKRh4l2J3+HDMXy49isEGZmGamUn3u0wClD85b+taYjub5GG8Tw8ty7p/i3PLerJcNaRIWI/72/Q4EGivVkH6xyoWz1CMTVr1kSosTRvTm9STdCiRTODV6lmaNnSKqwYBQ35t3GA70iokUKB/jgpDOgFFikU6IUDfZ8jBRjZ98jteuGBvzKffpKF55dCtbwXvaBiFMr0kzLyHGaClL5/1P/N1LhxY9EXcKWH6lT6b4sR8S0NjxAqXlQZe/z4ER49eij+1ieqK7pKVGeUatBUdYxOwN9bt29i0KCB+CjtR0iV+n0MHjwQAUFa2AJbrOejLU3+/PnFasr7778v6hLv3xxHg1ozZF5rvrCICDz388ftu3dx5uwZnDhxHCdPnMTp06dx/tx5kc6eOYNTp0+L7afEvlNiP9OZU2dw9vQZnDnDMcFRIWycO3sOT588dRiPh2MFjjMqVaqIxDpBhfY/7uDvH4gdO3ahePFS+N9bbyN58pSoXbsObtyQ7n4tREbi3u37GDZ4BCr+WBnLl63AurVr0ahhQ1G2vG7uXDkxefIE+PnK+mSFk7F169RFihQpxLeK9SU68Dm9vLwxcOAgvPPuO0iSLAm69eiGCxcvGLMKxFBNJP071ePee1aCyhuLrDjhYmaDH2F2IBkyZMLYsePEUi0bRQSFlNBghDNQVHAwQoPC8PjBU0yZPFXMjrBhUKJnxPobN24gIjwUkRGhgN2KivZvnpOVnUJMOL2IcXbIItRo2C9p26Ddshb1XrhVjhCNef36TViwYJEYhHAwsnTpUixcuFAkukBkEgOU+fMxd+5czJkzB3PmyN85mDdvnoih0qdPL4wePUIYJzLwnmMszS8yDOfPn8Umi6qJmeqBUe0gavnfov6iVxXQ9tmrehlVB/TqDxui1A6Y1mHjBqrmWJOdeoLub/219fdvti3q3k1UnWSyu5aJKpT1HtZiA1VndOVhvW97dQqjGoUsV/0+a5nrthn2y/egfyZjXpuycKJmYpas92CvbiK368uFSa/upb83qRamHbcRu3Ztx+7dO7F79y7x8ZeJsX+Y5L+lYa00rtUb2Zolud9qfGvdrjfINe7XDHO1bfJ6ZvelxSqiOtd27NixNSrt3LldtDU+065dO8S/d+ygobDMYzUa3r9/Pw4dOoCjRw+JAQQnFpg4GSH/1idul0m/nQOPI4cO4fCBgzi4f78wKtbiLO3H4YP7cfDAXhw4sE9ci27ZhZrUtq3CMQefgUne766dVjU1Jrlf/lt7XsZ1Yj65zVGSz85f4z7XaafJNp5r506ek/eg5aH6nLUOso1RRY+qef9EqeitWcMYHH9bfuXf+v1/499//7Ekq5qgmfqg8W+Z9P827jNu05+bk2pR/7bsW2tyLr1Kmpl6mlTnktuc3afZc5jdX9R1DPcp/9bfB//N7xT7uLt377iMPM5vaWBAgBgQz5+/QNhNyCS/dfzGMfF7t2TJEpvEa8nvIPPyOH73uDrCduHq+hLGUytbtoxQ+c6VNydmz5llcQEskcNT7WN9+fJFMWHB8QXHC3THS0GeNmGOcW8AayaovBIiIVYxatSsIcoluoIKNThOnDyDHypURMKEmqCTOXNmO2cDrAOPHzzBpvVbsXrl3wgJ1t7ZwgULhRc1uapCI36Wu161jobuZ06dxXfffY98+fKLCR2zFRtnsI6cOnVaCO281qfp02HOvFnw9jVX+5NCir2gYq0fTsd7FpSg8sYiO5Nw8RGrXr2qiIr6zTffiI5LLBsy6i0FlJAghAYzUSUqEnv37Uf9+g1EtFVWVs6U0D0wZ2fCaUQfxkjTOkFFf9VInlZWXFbVSCGw0D2ybcW1lbyjzmIjqGhRhw8fPoJx4yagVy/O0A4QnSCNzBhLRcRRmThR/C0T9+lniJk4Q0x1kaZNG6Nx44ZiBpczV46x3i+X4ak+RpWxkGDtV/wdtU2qmem2hQSLSLO2KmraNqmKxn0yj83f4p3IYy15o7bxHExBCA2VyfZczC/v0Z0kjtddk79GtQJ9MqoV6LfL47XnDRLCoPX+tPsODg4QLq65TM2kL08eK/+2qu9Zk36/LEtrmVrK3HJ9/X6zvLbvxPYY+/2219QnsU33DHwmqhjKpLmglPUhJOqZuU37DREDFD8/H5EC/KVRrGZIa28oa7/NmjSDW36gmOQ267+1pP/bNr9+vzyfNZ/tffiJmVreuzX5iRQQ4KtL/Le2zcfHSzjw4OTJjRvXcfXqFVy8eFF44WOAsbNnT+PMmZNRK6RMJ0+eFIM3mfhvfWIeOgo5e/YsLly8KFZcr1+9its3buLe3bt48uSRMMKnYbG/73P4+XjD9/nzKEPjwJAgBIUGw9ffL8o42pf5LO9Db8Qsn5OBcZkCRdKeWftbloO2X8tj3WbNq99mTbwfeZz+eP6yvHkftvv1Za3tCwwMEP271i7ZRu3ViES086jESOZ0kSrbstzGZNu+HbV7Z8lR3xHV71mSfhvbk0i69mzst6x5+G+p4qsdoz+X/npm92SWjM+gP0dUf66/F32fIO87NMRSl/idcT5Q04gUdeyff/4WKzFMdH7DZBZDRa5A6dXauBLEfDymUaNGws0x81FgEZOTbjB9+jQkSpRQzOBX+KkC/vn3H0RYPIdqyGeJhI+3F+bNnSNsU6Thda1atXDw4EFRLrHHfUFFjD04prFMkjKJVSQxccpJR6uquXOVc3Pu3rkrVtQY1JHPmSNHDiEAusv1G7dQrXotJEqs2bjkzp1b9HtGggKD4e8bhLAQ6xjpxPET4j1ypYTHfvVVIcydO8fmnT55/BiTJ0xBrpx5UaliZXFvrLPRgeebOXOmMMR/++3/IX+BPFi7bg3CHDhRsI2FFzV4M4z1NHMBZyhB5Y0nArNnz0SGDJ+KAEUlS5fC6j9XC7UvNuDQIH4AOJgKEB/CJ0+fYvrMGcibL19UQKMaNWoIGxcOsLiiwg+eNKZnYw+PjERQSCg8PJ/j9u17uHnrDh4+fgw/f3+E8kMZ1VEYBRUpTMkKr0Oqjglj9pNidogrItTz5KoJZ43kTJI2g8QZJqqJrBAzCZxdonrI0qVLsGzZUvFvet7o2fM3kTh76Nw9sewg3eskXz76+1P8F5BtxPgxfdXJ6BxDn6Lar812q82atFvjgJd9jKenBx48uC88BF2+fEUYqHJWkYLGmTNUzaDgYRVKqMZpXD0xJq6gMA/zU7Xj7Llz4ryMiH3t+nU8ePBADOA5AI0ID7Mki+qqrvzls2rPq0/yWW3zattkGzT2E/rtUUeZbCPG4837HmPZW8tac0Ev7/XNwlGZxg9cvxNjPYkUK4s9e/YSqxRUr5R2WPKXk3XSHmvIEKpjanZdTIMG0bZLyytVSpmfRv3uxA3jvY4fP84yc58Av7T+BUeOHLZ7BrYRL29PbN+2TbixLZCvgMjP46jqZvZt5TmCg0OEChztY+l509zYnsi+xdrHmKG3iZVJbuOEqZjwDLeqoztLrvD29BZG5vnzFxDPmTVrVrESbNUWcc616zdRvXoNYZyeKlUqIURaI71bEfdiuB1OeHH1vUSJEkj8XiIhFH7/3Xei72S/Rq5fu4a2bdohe7YcaN36V+EMyZ3n0sNVsKZNmyFR4kRIkDABSpcphT17dxmz6dDXX/24Tv5bCSoKt4jE2LF/IHHiRNpyY5YsmDp1qvD7zVk3zv6wMw0ODcHFy5cwcfIklP2uHJImTybyM3Xp3EnM5BHOvInZ/JBghFs6GRpfHTlyDMNHjkaLlr/g54aN0b5jZ8xfuBBXrl1FkLgGc+orr7WC62XyqE+17EAiIoSeJWdLOXMq7VH4b85GnD9/DufOnceZM+dx+vQ5sZ2DHk0flTOux8XA58zZs2Lb/v37cOzYEdy/f8+lP3JXjevVYj6YUSjiI5wYYbukYwoOmmSi/RfVZPgR3rVrJ/bu1eI/sJ1ywCYT1c/k3wwAK7dRJc2RKhpVo6gGRUGGbomj+9F2H7N2qP+AS2SbNd6Hs+ONeY286f3A6/78+nqi3T/tJ0+dsl1VlCuLcruwtTjDb905oarD7yJXJM+dO21ZlTwTdQzzctDqanad7YPfWtpa8rvPwTBn8TkZYIT2LxxHNGrYGLVr1UG5ct8iSdKkQguDwZXN4Dhh65ZtwmaLghQ1O2hkbk/03qls1/rfKDtZnkKnwGHsA6SQ4w4cL928fhO1atYU5cOVFQqDVIl3Be/n9MmzKFG8pDiWToqoos5+yV1YVrRJk3FcqJpPu0B6byXnTp9D3dp1UbjQ18JWjavC0cXDw1M4DOD5kyVLinr16ogxlD36dyTfk7Ec9YVv3GeLElTecFg95s2biy+//ExUPkrzlStXFgOEJ0+fwc8/ALdu38G/a9cKjzFdu3dDwyaNkZ/+0y0zJI0bNRaSO2dkaHRPISUslOoqgbh27Tr+/Xct+vTpi4qVq6Bilar4pmhRfPllFpT9tiwGDByI06f1kVFl5WWyVnarqGIPO1jOKPD6Qh2G6g/+mpqEpl4TjAD/QPj4WFRYfKhiQhUO+rLX4i74+vgIFQrNLsX8OvY4b1yvHrPOQaGIX1ANhh4DObChoTMdLdDRAD/ynBnmwIarpXPmzBaxFxibgKuhq1atEsFaGbSVwVqlvYDVNmCN2M6o20yrV6/CylUrhBE+7dio180Z0NWrVonIzrYTE7Lt2LYf6wyro4+vEf159Hn1H3F9XuOH3bjNeLx+m9l1HB3/X8ZY5vH5+R29M7N7d37/sl4aB9YR4ZqKdGzheaneTUcY/O6/9fZbYgZ/4aKF8A/wF+2Y396zZ89h3Ljx+L78D6hStTp+69ELLVu2Rpo0HyFr1mzCBvbhw8di9UR/qzTSpko2VckZ8ZyqaRSkzHFdHo7RlatcnRCn0rdrS043hRQJBY5ZM2ciX758eDfBu8iXP5/od0LDzFWjJHdu3cboUaORKUNGoanCeDNUU2XMOivO74WrVBRIa9aogbffegsJEiZEnjy58ddff4qVqVMnT6FOrbooXqy4UNWnGqJrrNfk+z148DCKFy8u3n+mTBkwdepkPH78wOYI9+sutylBReEGXK04eHCfsMuQqypsKKyMa9eux6FDRzFr9lzUbfAzKvz0I1auXoWjx4+hb7++UVFJ8+bNK2w/7t27F6WrS9UJr2deWLF8FTp37oKfGzYUXiZW/bka4yZOQNly5YRE/km6dJgxc6bujlhprVMc1kGBXniJBY7ajEKheCXQ69C06dOFnj0/0NSjp8c0qrFQXUW4Bf7jD5HYz/AjO3nyZCG8UF2T6p6zZ88WvzJRnZWJfzOPlqZjxoxpmD59KmZMnYYpkyZj/NixmDlzOs6ePSVUTazIPsdRZ+HeB9Yx8iOu9XMa+o+7WdJfy9k2/XbjgOFNwFE5xsfn19+rflts61d0ce86/B6zTaVOrQU1pPpPg4Y/Y+v2bWIFc/26dWLFpVjxUqjwYyVMnzEHa9dtRvfuPZE+fUZ8X74ChgwZhnXrNuLpUw8bQYDqXrQfpcoU7V8oBPGccY+j8uW/dcsrMYDjKQpztItN92k6vPdeArRp01qordImxgwKN1w95koIQz1QSBs1ajQCAvTqcbKeOIcCKfvLDBkyWFY9kgh1v/v37+LEiWMi7l2JksWF7S4FD9dYr/nwwUPx7jJmzCTOXbBgQVy5YhZc0t125+g92KMEFYVYAqQXl5Ili4mKzUr48cdp8f335VG7Tj380roNRo/5A9t37hCRjW/d0byEpUuXTgg1+QtoxvRcFhaCitD1joSvty8O7N2PbVu3CV1yLkE+9XiKew/uYfac2UifIT3efvstsVwpdFFtBBJtkGAvqGiTIDGGx+qTQqF4yVgbHlcxqBpBgaRmzZrCdSttzOg5i3ZvTFTNkrYmBw8eEoMX6bmK3pq4osLVFc318GJhrzZ//lyxUkzvSNIjEt0bL5g/T3NzvHARljLv/PlYvnwpLl26gOBoCyrO9rtC/yGXyMGIo2QcVDnapt+uP2dM7/V1w1E5xsfn19+rfpt7A7jYI6/v/nXYDhnskXYUHCuk/TitCB7IoM+FChVEtWrVMXrMWGzbvgt37j7EX3+vE0LLxx+nQ/PmLTFmzFgsWLAYDx48sjjR0aBxPVUyf/zxR6GtwV9345BED0dlrq8rMYdjlkuXLgkbos8//xwffJAabdu1xfUb1xEUQvtd6ZAhXKi7HTp4FK1a/SpU6Rhjhi60qZpn+0rk/bmGnsb4fhJa3CSXKVsa8+fPwV9/rUapUiVRp04t4WmOjh+cw9WmCKFeT7fMBw4eRsWKlZEkiab2X7jwV0JQ4fgsPCLUInQay9FZvXK/nitB5Q1HVg962lm9aiXq1KmNTz9Nj5Tvv48vv/wSjZs0wbx584W9h39AgLAnoR5s927dhKDChsjZT24LDqQvdsvScyTd4YXC44kHfJ4/twghVui3vEqVyvjgg1QYOXKEjVGqJpholVf7t7xTuc3mVNFHtCf3jeQUCkVcIT9OGlTF3L//gIg7U7t2bTEBQq9cjAFADzMyCU9iQm3TB95eXnj69KnQyeYq7u1bt3Dt+jUxEXL58iVcvHhB2Kaxz6LRPAcNTNzOf/OX+a4y5tLlS7h27Qq8vDwMAevY1zgTRORHOSY4Os7RdonZfrNteuR9xuZ+XyecDXocbX+VmN2TbCPuDUxjhzsDSomWh8butO9q376jGCMkTpIEqVKnxhdffClif3C8cP3mTQRbYo78++96lCxVVqyoDBo0GHv27BWq4v5+9Eilu25kJDw9PISHMtqy0JicdjSu0Q+M7cvMvua786yxg0IAvRUyHlThwoWRJUtWtGjZCosWLRVaKieOn8b27bsxYfxkVK9WG5kzZxfBHmlTwknd2HhEY1/JFWauTFGgYBT6YsWK4vvvv8Onn34ivKKy/3Rn7MPJG3pG3LZtO3r26oNs2XPigw/SIGnyFMibLy9mzpqJvfv34PzF8/Dw9LDYObnb3+jrufO8SlB5g5EVld4vwhGB4JBQbNi4UQSsa9yokYgazpgeT588QZglarufjy/OnTuDKZMnoUXz5hg8cCCOCl/h9h2ePD9/6Q2MQR/lIIXeLBhZ+scKPwivXOI+TKLWu9OYFArF64D8MFkFgCdPnmLVqtXCnSp10hctWihc6Yrcdm3ffCBij/E4VzC/8WMpBRV3rqeIH9h/g15P3B/AxR6zum+GbT6OBU6cOCkM31v98otYBaAQsm/fAfhYHOtIjh8/gT59+qFVq9YiHpSr2B30CpY8eXLhZtkYR8QeeV/6pBs/iC2ahSv/dvWUcQn7r6dPH4sgtY0bN8FPP1VCp45dMXLEHxg9ajwG9B+C5s1a44fyFVGzZh2x0nTnzh3jaWIEBTy6Sk5scXUsE1dt6PXUHXj/tOU9eeoUFi9egj59+6N1m3bo0LEzOnTshM5dO2PCpPFYvnIZ9u7bKwQa99TJJO7XcyWovMFECRK6hhwaFoZnHs9w784dPHvyCCHBAUItK8rPvIgD4Q8vz2d4dP8B/J77IpxLiCJuijYAsV+poPChRabXVksgZkKpLz569EgcOnRQCCjCtiUaXjYUCsXrhPZhYj8gP0z0NkR9aRnPgQbwjKMjctv1A3JQEtfI89r2WUpQed0we4+vI+4P4GKPu2Vmn4/fagosjAVD+xLhTMfEaN/L6zmuXr2OW7duueUCmY40UqZMIWzVXmdBRSNCDN7pAn3Xzj2YNXMeevXsh04du2PQgOFYvuxP7Nl9ENeu3jB12RxTOFajamyWLNmiwkhoNivJsXLlKmN2U9j/UqikG/dz5y/g9t37ePLMQwii1K7x8PbE1etXcPHyBdy8dUOshoW5VCfT4349V4LKG4omnMi/7bEdJND3uEXQiLIliaA7EWtHIQYfstLpk5xB1QYoUlC5dOkihg4fJozzKbTIuAUR4RGIDOf5dJdXKBT/AeSHybqiQvWszp07o2LFikLtgRHnnX/s3OkY3MkjkcMX4zFm2xTxm//OO9O+vzLJb6kz9Plc5dUjj3On3NzJYw+Fl5AQLYimOzDwcqpUKYQaOr1YOcf43LbPIv8VszuPLbZX9vP1w927D3DhwkWcPn0Wly9fxePHT+HvF4jwsLi/w1u3bqPn733w+edaxPqkSVOgXLnvsGfPHmNWh4SFhQpPbv7+gSJQppHgkGARg4qOSCiQaTZH+nfi7Lm4TwkqCidoVcndWQZWJE0QkYIGj4rktkhtNUUvkBiFE9ttkXju7S3ch3bp1g07d+0UOuiMLiwCIzGF8de4KqNQKF5v5AdMG7BwBZXxTlq2bI4ff/xBePW6f/++aveKNx5rG9AP+pwhB31y4Ocu8vyvss3ZXpsBKWm7WqtWdRw7ZhajQ4++fOwHx+6PcV4k7ry/uIdeww4eOIqa1esh1fsfoUSx0pg2baaYGH6x2I73HCPrrOv6pwSVNxjZgJ1XEaJVKP2KiKbepe8YHSctKnIYaAnDSPSHDx8RbkbHT5gglhU5gyoFFRGIiVK5TZwC13eoUCjiE2btVj+oiBTqIpywaNz4Z1SrVhkLFsxDYKBr1RCF4s2BbUX/nTW2KYm+bem/ncY8xqTP/7Ixv/7AgQPwySdp0bBhfeGkxzlmz23FUUm8XOS9vVwo6/r6BGDenAXo0K4zJk+eJlZZ3FvZik2pOX4ftnCfq3qtoQQVhRtoFUovqGiVS3ag5kTZwFgEGrqwe/D4AeYvmC/8pV+/fg2hoYxKrwVeYn6rjYrsgFxJ5QqFIv4h26++7doOKh7cvy/clFesWAENGtTFunVrdf1L9IjNZ9WK/v5ifzaFIvbov7N6gcUZ+mNkXjko1G/Xp1dR383bG8MVfPHFZ2jZsgXOntUHgzZDfw57ZL/wKp4uvqDZEfkI+yD3Vqv19eJFIuuk6/qnBBWFG9gbw9t2fPaVzCqkaMIHoVtDRryfO3cODh06ILz7hIeHCD1Ivccvo32M2fkVijcV9z42rxo5gDC2Ze0DyH6Enmn69euHH374QRjQHj16JEbPJnsI2yPtB0Cusd5f9I5TKF4U+kGjuwNIR/XYeA59ehX13fw+Ga4gW7bMwhOgiCcSC8z7BoVz3K0XsmTdqZNm8FglqChc4Kxq6Bu3VPMSyUbn06wb0CqtXlAh/v4BInjbkCFDsGbNPwgJCRLB3kKCg4Sxlp+fP4KDQ2I0UFEo3hSsgryx3cU3HN2jto2eBHfv3i1caFJQYaT569evO2z/3Mw5kvCwMAT5+wsPM4wF4OnpCV9/PwSFhSI0IhwhYSHwD/DDc18vePt4il8fXx/4+QeImcWQ0BBTo1ANXtudD7RC8aKRbccoUMi6aZb0x5rlNZ7HeM6XjfE+Nbiikj79J6hVq4ZwrhE9bJ/DrHReX4zvO66ezni8fC9m2822meV1hjwPj1OCisIJWjVxbmgm3fpJxOqI+M92uxVuMy45A97Pn2P33r0YNmwYBg0ahG3btuLZs6e4e/euCO5Gf+znz1+Az3PfqNUXhUKhIduoSFGCiuzkzdph/Ic2aXSf2bRpU+Hxa+nSpULwMMLJC0awPnXqDPbv3Y9dO3Zi5/bt2L59K3bs2C6Enf0H9uPgkSM4cPgw9h7Yhx27tmPLtk3Yum0Tduzahl17dmPXnr3Ytn0H9u7fp0WIDtZHoZfIcnX94VQoXhzyO2oUJlwl/fHGfa7Sq6jv5u2NxvSMTF+4cAHs2bPb5gjX2J5Lu4I2znn9Mb6z2L4/8/I3Jzp5XcFzSFMC6WzJ+TmVoPKGwmqhT2YYG7krQcV2AMVfbdu27dvRqvUvqFGjBkaOHInFixdj7ty5mDhxIoYNH4HBg4di2bIV8PT0MpxPSwrFm4x5O5Xt7PVsIIwyv2zZMtSqVUv0CxRaAvwZqdqW+/cfYPbsufj550YoWqQYihcphp/r18eoUSMwY8Z0TJgwAb379kHjZk1QsVIlVKxcCY2bNcav7VqhQ+e26PF7N/Ts0wsdOnfCT5Ur4afKFTFpymQR18CeuPwYKxQxRV8Po5Nic/yrqO/27Y3jBboppzvdTJkyiH7B0SqrObbPYt53vq7wKfR2RnphNiZPKMtfnssZ+nwxuZYe7VxKUFHEGE21y3ml0WPfEcjKz2BBATh8+DB69e6FMmXLiAEJV1Soj16vXj3UrVsXjRo1xrBhw7Fnz16hmiHPEVOjWoXiv4TWmsxWPmPzgXrVROLJ48eYMWMGqlatiubNm+PYsWOmq6kHDhzATz9VxEcfpUW+fPnRoX0HEVmZ/Qr117du24ZefXojZ+5cSJY8OcqWKYOFi+Zj0+YN2LxlA7bv2IYtWzdj9uyZKFm6JNJ/lgF9+vYRwees6Hsx+5JWKF4u8hvqTtIPWvX115jPVXpVdd7a3mirevbsWTRv3gyJEydExowZMHDgQFy4cAHBwcHGA53wX23LZu/V7PmMz2+WZD6ewx1BRX9ts2ua4egYuc1Ydx2jBBWFDfoo9dZt9lVcj9k+esB79swLa9euw9ChQ4VwQpfECxYsEPESunfvjp49e4oVlm3btsHDw0M3UNHsYRSKNx2tq/+vCCraU7Bt0+PfyJGjhKDy+++/4erVy8bM8PPzEyuvmTNnRqFChcSg5eTJkzYzrFevX0enrp2RKnVqJE2SBG1a/wIPD1sVMtrD7d+/BxUr/YjPM3+OkaNG4N69u7ocr2NZKv67aK3evcTvJGelmYz7opNefd0PCgwUqpxUEf/ll5bo0KG9GCscPnxIN4npDvrye/XP9fLhM+tXW4xJloksJ5nXNdFb3ZL34ej8+vt0fl4lqCjs0IYT9v82Jj36bazM4eERwkD+5s1buHbtGu7cuSMGB/fu38Wd+3dx685t3Lx5UwR48/PT26boG4/xKgrFm4fWIowrnfo2YtYiiaPt7uDsvLGDM6cHDuxHt25dUbNGNYwdOwb37t0xZsO5c+eFV7CffqyAuXPm4NbNm3YDll07d6JoiWJ4++13kD9fPkyeNAHPvTxs8vj4PMfq1Svx40/lUbpMKSxbsQyenvo8L+5ZFQrnmNU9rcW7l/Sz0sZ90Umvvu5z1eT27dtirMD2yQmHx48f4vlzLxFrzf1Bsr783D3mvwSf21gf9GXiKG9cw2s6WzGR+12/JyWoKFyi70q16m5uo0Kksa+wZ4mIQGhoKMLCWBnFXkREhiM8UnNFHB7BlRPz80isxsMKhcIe/QdI/7GJ3cdaE4u0lu4Kfd/gDhyQLFq4ALVr10SD+nWxfNkyPHv2zCZPSFgENmzYhN69e2PG9Bm4c/OW3QWCgoKxeMlSpP3kY6HTXq1aFWzfuhkBAX42+Z4/98bSpUtQp15dNG3RHPsP0jW6CiypiA+YDRSNbfplJHdb74uD3/mQEHvPn9bYavaYjw9i1/f995Bl4LoszMuTsCyN9TS2uP+elKCicIl+IKJVLfcEFWe42q9QKNxB39nrPyLufwTMkSs4jlq6FX3f4A50Rz5h/Fj88P23aNG8Gfbv22cnOASHhuPY8ZNYv349rl+7htDgEJv95PLlK+jVqw+SJksmBJW2bX/FzZvXEBZum5erMEePHsXSZcvw77q1ePT4kZvRmRWKF40cAOrro7FNv4zkbut9kcTVPcS271PYw7JUgooiHqMfiMihixy+2FcvW0HFXCDRAr4pFIrY4qizl9vN2l/cou8bXMH+4PGjRxg4oB/Kli2Frl07CxVQvSE9zxMaHgHv5z7w9vY2d/0XCaxbt0EY2idKlAjvvfeeiL8QLNwO2+bnuf39/fDcxweBwYFu3adC8XLQt1/ZBozbXkaKD60iJvdi1vvoyy8654orzO7J/p8vCtuJYpP7cLrdiMzHsoyJoOLqGvLczvMpQeUNxkFzchutijnSnTebsdRXeE1v0SjUyLPF9J4Uiv8aMW+nEQhjAEQO0r284OnhKQIlMnl5eMLbwwvenl7w9vKClyf3yf2e8Pb0ho+3DwL8AxARHt2Pk2OCgoKEQXyrVi3x7bdlMW7sH/Dx8TFmE7IJ7dysAoztxyw8OBzTp81A1ixZkTRJUhQuXBirV6+O2m+EEyM8V4SZ0KNQxAuMwoOjpK/D8puqb6P6bWbJ7Pj41C7MnskRzGMcQOuPfxXPJe9JZ5vxSm7J0UXNyswR+ryGZ3IJ87nKb3Z/9ihB5Q2GVUOmmGB+rHkj0IQRWXEdCyrO1MoUijeRmLbT8PBg3Lx5HWv++QtjRo1Gn1690fP3nujdszcG9RuA4YOHYeTQERg2eCgG9B+Avr36iH19evbFkIHDMGncZGz4dwOePX6GyIjoXt0cevf7559/UKdubdSpUwurVq1EiFuuR+UHjRHqI+Hj5YMB/QYiRbLkSJ06NTp17iTcFSsUrydsX7KOu0r6tqg/zmybWTI7Pm7ad9ygHye4ui/eu3G8oX9+V8e/COQ96e7rldySsR5IzMrMDOPx8jh3H0C+R2f53SsUJai8wbBqyBQTzI91dVZZ+c33a3vM9ykUbyKuWpSRsLAwEX9k8uRJ6NihPX6s8ANy58yJTBkzIkP6DMiUMRMyf/4lsmfOhpxZcyB75qzI/PkX+CxTJrEvU8bPkPXLbMifuyAaNWiMfbtpQxJkvEyMYPySMWNGoVKln9C+fVvh/YsefVxj7TNCQ8Nw49pNdGzfCYneS4T06dNj0qRJDoI4GoluaSoULwvjoNCYzOqu2TbjdrNklu9VYLwvmeQzu0JfPhJ5vKtBclxgfD/Ewf3rszhFHu9WZgPGctQniSwbKayYlbPxWLPnlPmMGPM7wngNxyhBRSFwXVUUCsWrwL2uXCMoKFAET2zRogU+/PBDYWQem/RZxs+wcuVq+Pj4Gi8VI06fPo127X7Fd9+VxYAB/XDt2hUHdmyOoXH8jh07Ua9eAyROnBTZs2fDkiWL4eXlZcxqQP8BVSjiG/rBnVmKXjuJ/xgHtHHxnPKcHIQztkxszuUKaoPoo6vHFfL+oytoMa9e+HB0T/rzG1Z+BGb9pNk2YvbOYnr/jlGCikLg7kBIoVC8XGTbdNU+KaRs374NNWrUQJo0aYSg8dZb/xPG5smTJ0fKlClFSpEihTA+f/utt/D2/94S+5MlTya261OSJElQpEhRHD163DRqfHSJiAjH/v370LBhffzww/eYOHE8njx5ZMzmEgokY0aPRsGCBZE4cWIUKVJEBI0NDbX3DGaLo4+tQhEfkHXTUXLVA7xu6NujTMZBc3ThsTIA5osWVIheOIgr9OXhLmZl6eh4s7xGQcN4vKO+M7rHx+x9KEFFoVAo/gPs27cb1apVFUIJhZQECd5FrlzZ0abNr5g8eTIWLFgg0ozp09H454b4PEMGpPsoLZo1aYqJEydi/vz5mDdvXlSaNWsW/v33X3h5eRsvFSOCAgOwacN6VK5cCVWqVMKSJYsQKGKeuOtCQ9t//94d1KtbB8mSJkXSpEmFGtmpUyeMmU2Qgwo5sJDX1CeF4mVirH+OkhnG7a7yxzd4n8bBckzvXX+ulymokNjctyNick79+3d1rLO8ZtscbTfb5mi78d/uowQVhUKheK2JgJfnU4wYPgRJkyYWQsrbb7+FwoULYcyYkWIQz9UWSXhoGA7u24+uHTvj29Jl0Kdnb5w+dTpGqyYM6Hrl8kVcvXIJPs+dCzS+z59j1bIVKFuqNBo1+hmbNm2wxDyhAw131AQYRDYUx48dFc/G5+TKEW1d6DTANTy/Ud3BOFBSKF4mrHPG2Wd3MdbZ160e6589Js+vR7Ztnoe/L1NQUbxolKCiUCgUrzHh4aHYt3c3GjSoJwQUDuCzZPkSI0YMg7e3p8OP9blTZ9Czx2/4rmw5jBg2DJcuX3ZLWKGxPiPJ3717FwcPHhAxUYYMHoQD+/aJfY54/PAhpk2eim8Kf43u3bvhxIljiBD63e4KKhDPs3r1KmTJkkU8J+1Tpk+fCg+PJ8asJhgFFaOw4vr6CkXcogSVmD+/HuO5pLDyupSFwhlKUFEoFIrXmMDAAMydNxdFixYVg/f3EiXE4MGDcPfubURG8oMtsf1oBwcFY8uWLSjyzddIly4dOnTsiFNnTiMg2OjhyzqICAsJx9lT59G6dRsRuyRv3jz49NN0yJghA7p164pLly4gItzEi1ckcOL4MXTu2AGFCubHhPHjcO/eXfoaFjt5Z/pki7x+JG7duolRo0aJ++WzlihRHAcP0nOY0cWx2dn0gorcpx/c2F9ZoXjxGOupuxiPMavz8Rlj+3OFvu06wiisOMureF1QgopCoVC8xvj4PEf//v2RMWNGMXj/4IMPsGbNGste5x/qO3fuoEOHdnj//ZT4MnNmDB42BDfv3Dbksg4ibl69jd979MGHH35s5yHs628KY86cWfDztQ/gSLZs2Yy6tWuiWJGv8deffyIo0KqORvTDLOtdy8EMPexE4MiRI2jQoL6wTeE1K1epjDt3buny6o8xDoDk4MUovClBRaF4+Thqp2Ywr34V1Bn6c6o2/V9ACSoKhULxGkM1rA4dOiBFiveRJGkhaRp3AAAKEElEQVRSlCxVCvv277fsdf5Rf+7jg9WrVqJYsW+QOHEilC5bBtu2b7OxaZEf+yePn2H+3MX4qlARfP11UVStVg3ly5fHF198IbyIpU6dCi1btsC9u3d0x2oE+Ptj2bKlqFa1MqpVqyJUxmzRrmErpOj3RSI8PAwbNmwQKzkUUjJkyIB+/ftZ1NtkPvlrNgDSbzfbZn9lhULxIpEt3lXb0+eLy7yK1wElqCgUCsVrzOPHj9G+XTskT5ECn2bIiC7duuLK1SvGbKYEBwdjz549qFixIhImTIAsWTILmw8zt8HHjpxAj+69ULVaLSxZugLPnnng/Lmz6NGtGzJm0lZzypYtLVSxgoN1gk4kcOv6DfwxejSqV6+Czp074NKli9adbgoKfn7+WLx4CbJmzSauVbt2Lezfvx8hIUa3xPpzGoUSI+5fX6FQKBQvHyWoKBQKxWsMBYbOnbsg9Qcf4pN06dGi5S84d/6cMZsp4WFhIghjjZo18O677yJduk8wZMgg3L4t1amsPHr0FEePncTRYyfw1MNDbKPL4fXr/kWpksUtRvxfYNToEbhz52bUcRHhETh68DDatm2D8uW/xbhxYzT7FAGFA6nO4VxQuH37NoYOHYqPP/5E3GuXLl1w5/ZthIfrVbmII0HFDCWoKBQKRXxGCSoKhULxGuPr64/hw0ciS9bsSJQ4GQoWKow9u/cas5nCoPBXrlxG3Xr1xOD/o4/SoHevXrhxw97db0RkhMhvsy0iXLgmbtq4sXCNnCRJIrGqsmPHjqiI85ERkTiw7wAaNGiA0mVKYtmyJUJdTXcWnZqGPtlC+5RmzZpFBaMcMGAAvDw9HUS2d3weW5SgolAoFPEZJagoFArFa0xYWDg2bNiEylWqilUNRmtfvHixcDVsPoi35dq1K6hbt7Zwbfzxxx9jyJAhYvXCXTw9PDBhwgTkzp1bXD9ZsmTiHHRfTHgfmzdvRZUqVfDtt2WwZcsm+Joa3OuFBnv++usvlChRQjxf2rRpMXbsWAQEBBizOUdewm6DElQUCoUiPqIEFYVCoXjN8XjmiSFDhiFhwvfwzjvv4Pfff8fVq1ddxkXhisjp0ydRqdKPQsj47LPPMGfOHDx7ql/xcA7Vx06cOIFGjRqJa7/99jsoWbIEVq9aJcb+tCGZNGkyvir8FSpXrohjx44gxM4FMnEsqPA5xo0bhw8//FAY7hcpWhQrVqwQ9+82pqdXgopCoVDEZ5SgolAoFK8BTofRkcCmTZtRunQZseJQpEgRLFq0ECGhRkNzWxiDZcOGdcLrFwWVbNmyY+3adfD3i95KhZ+fH6ZMmSQCMCZImAAZP8uAsWPHwN/fDwF+fhg6ZCgKFSqEFi1a4P79e8LVsD16dS3r04aFReDRoyfo3Lkz3uKKTfLk6NCxE46fOGlztEvsT60EFYVCoYjnKEFFoVAo4jGm42sT7ty5i1GjRiNz5sxInTo1mjRphOPHj5oYm1u5evUaunbtgrRpPxICTuXKlXH8+ElhAB9dDh8+hFatmiPF+8mQ7P1kaNWqBXbu3IFD+w+geZOmyJc3L3r27CmEmuhAG5w1a9ahfPkfhDDFVZWJkybjwUN7z2TuoqnE6YUUFRxOoVAo4iNKUFEoFIp4jLuCCm1VKGS0b98eOXLkEDYjnTt1xp49e4VnsLCwMJEvIiISPj6+uHDhIsaNmyDioFBIKVu2LGbOnInHj58aT+0W3t7eWLx4Ib748jO8k+Bt5M2XG82bN0O7tm2RM1t25M2dB+PHj0NQkKvVGgZ3jBT3GxgYhIsXLqFVq9ZIk0YLMsmAltOmzxSCCvM4s8NxtI/btVUd6XHMnUByCoVCoXjZKEFFoVAo4jGuBBX9vuDgUFy+fAV9+/RB0a+LIFfO3Pj+ux8we/ZcXLp0BQ8fPcWNG7fx999r0KrVr/jii8xIkyYNKlSoIAzwnz59hvAYrKZIjh07igo/lEey5EmRMFECfPBBKiFY0K7kxwoVsGnTBoSHO1NH054mIiIUHh7PcPbsOSxYsAhFihRHwoSJhA0MDf5pSE+3yg8fPkRAgL9LWxxz5GqKElQUCoUivqIEFYVCoYjHREdQkVy+eAkrl65E/z4DUL/ez6hRoxZq1a6LmjXr4KefKiFvvgLInDkbShQviR49fsPGjRtF4MjY8uzpU7EqkzNnTrH6oU+Mo/Lg/j2Tu9UTCUSGI8DfF5cvX8LmzVswd+58dO/+O1q0aIUmTZril9a/YMKE8Vi6dCnWr1+Ps2fP4vnz5zEQVngfSvVLoVAo4jNKUFEoFIp4jCtBhXv4n5GIsEjcuXUXG9ZvRM+evVCjRk2UL18BZcuWQ7ly36JVy1+wYP5CXLx4KUotLLZQper69RuoVau2WAGRQkqSxElEsEarEb39/UqYh0b4N2/ewLFjx3Do0BEcPXocR48ew5Ejh0U0+q1bt2Lt2rXYsmWLEFSodhZ9QYXohRXH96RQKBSKV4MSVBQKhSIe41xQ4VauBtivCFBooOvgoKAg+Pr6wtvLC56eTJ4icRWCcUjCwkId2nLEBF5r1MgxyJaFcVXexVtvvYsC+Qph4UIttos7iHsPD0doaChCQmQKiUrBwcFRKSw0FJFuntceJagoFApFfEYJKgqFQhGPcSykEMeCyquCwsiRQ8fRtHErJEuaCilTfohevfri8uWrdpHtXz1KUFEoFIr4jBJUFAqFIh7jfPgc/wQV4vPcDzNnzEG5suXxww8VRWR6roTEP5SgolAoFPEZJagoFArFa0v8FFS4cnLi+GnMmjlHGMPfvk0j+viIElQUCoUiPqMEFYVCoXht0QsqMbXTeDEEB4fguY8vnj/3iTNj/bhHCSoKhUIRn1GCikKhULzWOB5ox6WRfHwi7p5LCSoKhUIRn1GCikKhUPxHibsBfUx4cdeOu+dSgopCoVDEZ5SgolAoFAobKAjEThiQAkBszvEyUIKKQqFQxGeUoKJQKBSKF8DrMPBXgopCoVDEZ5SgolAoFIo3FCWoKBQKRXxGCSoKhUKheEOhcKJPCoVCoYhPKEFFoVAoFAqFQqFQxDuUoKJQKBQKhUKhUCjiHUpQUSgUCoVCoVAoFPEOJagoFAqFQqFQKBSKeIcSVBQKhUKhUCgUCkW8QwkqCoVCoVAoFAqFIt6hBBWFQqFQKBQKhUIR71CCikKhUCgUCoVCoYh3KEFFoVAoFAqFQqFQxDuUoKJQKBQKhUKhUCjiHUpQUSgUCoVCoVAoFPEOJagoFAqFQqFQKBSKeIcSVBQKhUKhUCgUCkW8QwkqCoVCoVAoFAqFIt6hBBWFQqFQKBQKhUIR71CCikKhUCgUCoVCoYh3/A+IABBp3K5QKBQKhUKhUCgUr4z/AeHQkhJWFAqFQqFQKBQKRfzAIqhwVUWhUCgUCoVCoVAo4gcW1S8lqCgUCoVCoVAoFIr4w/8BqOKtf5RSMUYAAAAASUVORK5CYII=)"
      ],
      "metadata": {
        "id": "w6HPflBmoEZ6"
      }
    },
    {
      "cell_type": "markdown",
      "source": [
        "## **Call Option**"
      ],
      "metadata": {
        "id": "m7tNj5W-u6iu"
      }
    },
    {
      "cell_type": "code",
      "source": [
        "strike_price=int(current_price)+1\n",
        "option_det=calls[calls['strike']==strike_price]\n",
        "option_det"
      ],
      "metadata": {
        "colab": {
          "base_uri": "https://localhost:8080/",
          "height": 118
        },
        "id": "7XktE7WapRf0",
        "outputId": "e6b88a06-300e-48a8-cb83-193eefe8413a"
      },
      "execution_count": 36,
      "outputs": [
        {
          "output_type": "execute_result",
          "data": {
            "text/plain": [
              "        contractSymbol             lastTradeDate  strike  lastPrice   bid  \\\n",
              "38  SPY250617C00602000 2025-06-10 13:43:39+00:00   602.0       3.94  3.91   \n",
              "\n",
              "     ask  change  percentChange  volume  openInterest  impliedVolatility  \\\n",
              "38  3.95    0.23       6.199461    15.0           421           0.124032   \n",
              "\n",
              "    inTheMoney contractSize currency  \n",
              "38       False      REGULAR      USD  "
            ],
            "text/html": [
              "\n",
              "  <div id=\"df-e371406b-8017-4605-8e1a-0a5870dc569c\" class=\"colab-df-container\">\n",
              "    <div>\n",
              "<style scoped>\n",
              "    .dataframe tbody tr th:only-of-type {\n",
              "        vertical-align: middle;\n",
              "    }\n",
              "\n",
              "    .dataframe tbody tr th {\n",
              "        vertical-align: top;\n",
              "    }\n",
              "\n",
              "    .dataframe thead th {\n",
              "        text-align: right;\n",
              "    }\n",
              "</style>\n",
              "<table border=\"1\" class=\"dataframe\">\n",
              "  <thead>\n",
              "    <tr style=\"text-align: right;\">\n",
              "      <th></th>\n",
              "      <th>contractSymbol</th>\n",
              "      <th>lastTradeDate</th>\n",
              "      <th>strike</th>\n",
              "      <th>lastPrice</th>\n",
              "      <th>bid</th>\n",
              "      <th>ask</th>\n",
              "      <th>change</th>\n",
              "      <th>percentChange</th>\n",
              "      <th>volume</th>\n",
              "      <th>openInterest</th>\n",
              "      <th>impliedVolatility</th>\n",
              "      <th>inTheMoney</th>\n",
              "      <th>contractSize</th>\n",
              "      <th>currency</th>\n",
              "    </tr>\n",
              "  </thead>\n",
              "  <tbody>\n",
              "    <tr>\n",
              "      <th>38</th>\n",
              "      <td>SPY250617C00602000</td>\n",
              "      <td>2025-06-10 13:43:39+00:00</td>\n",
              "      <td>602.0</td>\n",
              "      <td>3.94</td>\n",
              "      <td>3.91</td>\n",
              "      <td>3.95</td>\n",
              "      <td>0.23</td>\n",
              "      <td>6.199461</td>\n",
              "      <td>15.0</td>\n",
              "      <td>421</td>\n",
              "      <td>0.124032</td>\n",
              "      <td>False</td>\n",
              "      <td>REGULAR</td>\n",
              "      <td>USD</td>\n",
              "    </tr>\n",
              "  </tbody>\n",
              "</table>\n",
              "</div>\n",
              "    <div class=\"colab-df-buttons\">\n",
              "\n",
              "  <div class=\"colab-df-container\">\n",
              "    <button class=\"colab-df-convert\" onclick=\"convertToInteractive('df-e371406b-8017-4605-8e1a-0a5870dc569c')\"\n",
              "            title=\"Convert this dataframe to an interactive table.\"\n",
              "            style=\"display:none;\">\n",
              "\n",
              "  <svg xmlns=\"http://www.w3.org/2000/svg\" height=\"24px\" viewBox=\"0 -960 960 960\">\n",
              "    <path d=\"M120-120v-720h720v720H120Zm60-500h600v-160H180v160Zm220 220h160v-160H400v160Zm0 220h160v-160H400v160ZM180-400h160v-160H180v160Zm440 0h160v-160H620v160ZM180-180h160v-160H180v160Zm440 0h160v-160H620v160Z\"/>\n",
              "  </svg>\n",
              "    </button>\n",
              "\n",
              "  <style>\n",
              "    .colab-df-container {\n",
              "      display:flex;\n",
              "      gap: 12px;\n",
              "    }\n",
              "\n",
              "    .colab-df-convert {\n",
              "      background-color: #E8F0FE;\n",
              "      border: none;\n",
              "      border-radius: 50%;\n",
              "      cursor: pointer;\n",
              "      display: none;\n",
              "      fill: #1967D2;\n",
              "      height: 32px;\n",
              "      padding: 0 0 0 0;\n",
              "      width: 32px;\n",
              "    }\n",
              "\n",
              "    .colab-df-convert:hover {\n",
              "      background-color: #E2EBFA;\n",
              "      box-shadow: 0px 1px 2px rgba(60, 64, 67, 0.3), 0px 1px 3px 1px rgba(60, 64, 67, 0.15);\n",
              "      fill: #174EA6;\n",
              "    }\n",
              "\n",
              "    .colab-df-buttons div {\n",
              "      margin-bottom: 4px;\n",
              "    }\n",
              "\n",
              "    [theme=dark] .colab-df-convert {\n",
              "      background-color: #3B4455;\n",
              "      fill: #D2E3FC;\n",
              "    }\n",
              "\n",
              "    [theme=dark] .colab-df-convert:hover {\n",
              "      background-color: #434B5C;\n",
              "      box-shadow: 0px 1px 3px 1px rgba(0, 0, 0, 0.15);\n",
              "      filter: drop-shadow(0px 1px 2px rgba(0, 0, 0, 0.3));\n",
              "      fill: #FFFFFF;\n",
              "    }\n",
              "  </style>\n",
              "\n",
              "    <script>\n",
              "      const buttonEl =\n",
              "        document.querySelector('#df-e371406b-8017-4605-8e1a-0a5870dc569c button.colab-df-convert');\n",
              "      buttonEl.style.display =\n",
              "        google.colab.kernel.accessAllowed ? 'block' : 'none';\n",
              "\n",
              "      async function convertToInteractive(key) {\n",
              "        const element = document.querySelector('#df-e371406b-8017-4605-8e1a-0a5870dc569c');\n",
              "        const dataTable =\n",
              "          await google.colab.kernel.invokeFunction('convertToInteractive',\n",
              "                                                    [key], {});\n",
              "        if (!dataTable) return;\n",
              "\n",
              "        const docLinkHtml = 'Like what you see? Visit the ' +\n",
              "          '<a target=\"_blank\" href=https://colab.research.google.com/notebooks/data_table.ipynb>data table notebook</a>'\n",
              "          + ' to learn more about interactive tables.';\n",
              "        element.innerHTML = '';\n",
              "        dataTable['output_type'] = 'display_data';\n",
              "        await google.colab.output.renderOutput(dataTable, element);\n",
              "        const docLink = document.createElement('div');\n",
              "        docLink.innerHTML = docLinkHtml;\n",
              "        element.appendChild(docLink);\n",
              "      }\n",
              "    </script>\n",
              "  </div>\n",
              "\n",
              "\n",
              "  <div id=\"id_c2098fcf-f8d1-4a08-80ef-75f559d66097\">\n",
              "    <style>\n",
              "      .colab-df-generate {\n",
              "        background-color: #E8F0FE;\n",
              "        border: none;\n",
              "        border-radius: 50%;\n",
              "        cursor: pointer;\n",
              "        display: none;\n",
              "        fill: #1967D2;\n",
              "        height: 32px;\n",
              "        padding: 0 0 0 0;\n",
              "        width: 32px;\n",
              "      }\n",
              "\n",
              "      .colab-df-generate:hover {\n",
              "        background-color: #E2EBFA;\n",
              "        box-shadow: 0px 1px 2px rgba(60, 64, 67, 0.3), 0px 1px 3px 1px rgba(60, 64, 67, 0.15);\n",
              "        fill: #174EA6;\n",
              "      }\n",
              "\n",
              "      [theme=dark] .colab-df-generate {\n",
              "        background-color: #3B4455;\n",
              "        fill: #D2E3FC;\n",
              "      }\n",
              "\n",
              "      [theme=dark] .colab-df-generate:hover {\n",
              "        background-color: #434B5C;\n",
              "        box-shadow: 0px 1px 3px 1px rgba(0, 0, 0, 0.15);\n",
              "        filter: drop-shadow(0px 1px 2px rgba(0, 0, 0, 0.3));\n",
              "        fill: #FFFFFF;\n",
              "      }\n",
              "    </style>\n",
              "    <button class=\"colab-df-generate\" onclick=\"generateWithVariable('option_det')\"\n",
              "            title=\"Generate code using this dataframe.\"\n",
              "            style=\"display:none;\">\n",
              "\n",
              "  <svg xmlns=\"http://www.w3.org/2000/svg\" height=\"24px\"viewBox=\"0 0 24 24\"\n",
              "       width=\"24px\">\n",
              "    <path d=\"M7,19H8.4L18.45,9,17,7.55,7,17.6ZM5,21V16.75L18.45,3.32a2,2,0,0,1,2.83,0l1.4,1.43a1.91,1.91,0,0,1,.58,1.4,1.91,1.91,0,0,1-.58,1.4L9.25,21ZM18.45,9,17,7.55Zm-12,3A5.31,5.31,0,0,0,4.9,8.1,5.31,5.31,0,0,0,1,6.5,5.31,5.31,0,0,0,4.9,4.9,5.31,5.31,0,0,0,6.5,1,5.31,5.31,0,0,0,8.1,4.9,5.31,5.31,0,0,0,12,6.5,5.46,5.46,0,0,0,6.5,12Z\"/>\n",
              "  </svg>\n",
              "    </button>\n",
              "    <script>\n",
              "      (() => {\n",
              "      const buttonEl =\n",
              "        document.querySelector('#id_c2098fcf-f8d1-4a08-80ef-75f559d66097 button.colab-df-generate');\n",
              "      buttonEl.style.display =\n",
              "        google.colab.kernel.accessAllowed ? 'block' : 'none';\n",
              "\n",
              "      buttonEl.onclick = () => {\n",
              "        google.colab.notebook.generateWithVariable('option_det');\n",
              "      }\n",
              "      })();\n",
              "    </script>\n",
              "  </div>\n",
              "\n",
              "    </div>\n",
              "  </div>\n"
            ],
            "application/vnd.google.colaboratory.intrinsic+json": {
              "type": "dataframe",
              "variable_name": "option_det",
              "summary": "{\n  \"name\": \"option_det\",\n  \"rows\": 1,\n  \"fields\": [\n    {\n      \"column\": \"contractSymbol\",\n      \"properties\": {\n        \"dtype\": \"string\",\n        \"num_unique_values\": 1,\n        \"samples\": [\n          \"SPY250617C00602000\"\n        ],\n        \"semantic_type\": \"\",\n        \"description\": \"\"\n      }\n    },\n    {\n      \"column\": \"lastTradeDate\",\n      \"properties\": {\n        \"dtype\": \"date\",\n        \"min\": \"2025-06-10 13:43:39+00:00\",\n        \"max\": \"2025-06-10 13:43:39+00:00\",\n        \"num_unique_values\": 1,\n        \"samples\": [\n          \"2025-06-10 13:43:39+00:00\"\n        ],\n        \"semantic_type\": \"\",\n        \"description\": \"\"\n      }\n    },\n    {\n      \"column\": \"strike\",\n      \"properties\": {\n        \"dtype\": \"number\",\n        \"std\": null,\n        \"min\": 602.0,\n        \"max\": 602.0,\n        \"num_unique_values\": 1,\n        \"samples\": [\n          602.0\n        ],\n        \"semantic_type\": \"\",\n        \"description\": \"\"\n      }\n    },\n    {\n      \"column\": \"lastPrice\",\n      \"properties\": {\n        \"dtype\": \"number\",\n        \"std\": null,\n        \"min\": 3.94,\n        \"max\": 3.94,\n        \"num_unique_values\": 1,\n        \"samples\": [\n          3.94\n        ],\n        \"semantic_type\": \"\",\n        \"description\": \"\"\n      }\n    },\n    {\n      \"column\": \"bid\",\n      \"properties\": {\n        \"dtype\": \"number\",\n        \"std\": null,\n        \"min\": 3.91,\n        \"max\": 3.91,\n        \"num_unique_values\": 1,\n        \"samples\": [\n          3.91\n        ],\n        \"semantic_type\": \"\",\n        \"description\": \"\"\n      }\n    },\n    {\n      \"column\": \"ask\",\n      \"properties\": {\n        \"dtype\": \"number\",\n        \"std\": null,\n        \"min\": 3.95,\n        \"max\": 3.95,\n        \"num_unique_values\": 1,\n        \"samples\": [\n          3.95\n        ],\n        \"semantic_type\": \"\",\n        \"description\": \"\"\n      }\n    },\n    {\n      \"column\": \"change\",\n      \"properties\": {\n        \"dtype\": \"number\",\n        \"std\": null,\n        \"min\": 0.23000002,\n        \"max\": 0.23000002,\n        \"num_unique_values\": 1,\n        \"samples\": [\n          0.23000002\n        ],\n        \"semantic_type\": \"\",\n        \"description\": \"\"\n      }\n    },\n    {\n      \"column\": \"percentChange\",\n      \"properties\": {\n        \"dtype\": \"number\",\n        \"std\": null,\n        \"min\": 6.1994615,\n        \"max\": 6.1994615,\n        \"num_unique_values\": 1,\n        \"samples\": [\n          6.1994615\n        ],\n        \"semantic_type\": \"\",\n        \"description\": \"\"\n      }\n    },\n    {\n      \"column\": \"volume\",\n      \"properties\": {\n        \"dtype\": \"number\",\n        \"std\": null,\n        \"min\": 15.0,\n        \"max\": 15.0,\n        \"num_unique_values\": 1,\n        \"samples\": [\n          15.0\n        ],\n        \"semantic_type\": \"\",\n        \"description\": \"\"\n      }\n    },\n    {\n      \"column\": \"openInterest\",\n      \"properties\": {\n        \"dtype\": \"number\",\n        \"std\": null,\n        \"min\": 421,\n        \"max\": 421,\n        \"num_unique_values\": 1,\n        \"samples\": [\n          421\n        ],\n        \"semantic_type\": \"\",\n        \"description\": \"\"\n      }\n    },\n    {\n      \"column\": \"impliedVolatility\",\n      \"properties\": {\n        \"dtype\": \"number\",\n        \"std\": null,\n        \"min\": 0.124032197265625,\n        \"max\": 0.124032197265625,\n        \"num_unique_values\": 1,\n        \"samples\": [\n          0.124032197265625\n        ],\n        \"semantic_type\": \"\",\n        \"description\": \"\"\n      }\n    },\n    {\n      \"column\": \"inTheMoney\",\n      \"properties\": {\n        \"dtype\": \"boolean\",\n        \"num_unique_values\": 1,\n        \"samples\": [\n          false\n        ],\n        \"semantic_type\": \"\",\n        \"description\": \"\"\n      }\n    },\n    {\n      \"column\": \"contractSize\",\n      \"properties\": {\n        \"dtype\": \"string\",\n        \"num_unique_values\": 1,\n        \"samples\": [\n          \"REGULAR\"\n        ],\n        \"semantic_type\": \"\",\n        \"description\": \"\"\n      }\n    },\n    {\n      \"column\": \"currency\",\n      \"properties\": {\n        \"dtype\": \"string\",\n        \"num_unique_values\": 1,\n        \"samples\": [\n          \"USD\"\n        ],\n        \"semantic_type\": \"\",\n        \"description\": \"\"\n      }\n    }\n  ]\n}"
            }
          },
          "metadata": {},
          "execution_count": 36
        }
      ]
    },
    {
      "cell_type": "code",
      "source": [
        "actual_price= option_det['lastPrice'].values[0]"
      ],
      "metadata": {
        "id": "2wSXC6BeqBDL"
      },
      "execution_count": 37,
      "outputs": []
    },
    {
      "cell_type": "code",
      "source": [
        "#Required Data\n",
        "S = current_price\n",
        "K = strike_price\n",
        "r = latest_rate\n",
        "sigma = annual_vol\n",
        "print(sigma)\n",
        "T=(float)(6/252)"
      ],
      "metadata": {
        "colab": {
          "base_uri": "https://localhost:8080/"
        },
        "id": "-yKOinnSqZd9",
        "outputId": "b80451be-3271-46da-c92e-0ffb457facc8"
      },
      "execution_count": 38,
      "outputs": [
        {
          "output_type": "stream",
          "name": "stdout",
          "text": [
            "0.16506692070826784\n"
          ]
        }
      ]
    },
    {
      "cell_type": "code",
      "source": [
        "d1=(np.log(S/K) + (r+(sigma**2)/2)*T) / (sigma*np.sqrt(T))\n",
        "d1"
      ],
      "metadata": {
        "id": "I5lBvYS3RmDA",
        "colab": {
          "base_uri": "https://localhost:8080/"
        },
        "outputId": "cb98a218-0471-4d1a-8bae-aa3b676b78b9"
      },
      "execution_count": 39,
      "outputs": [
        {
          "output_type": "execute_result",
          "data": {
            "text/plain": [
              "np.float64(-0.009216122931112793)"
            ]
          },
          "metadata": {},
          "execution_count": 39
        }
      ]
    },
    {
      "cell_type": "code",
      "source": [
        "d2=d1-(sigma*np.sqrt(T))\n",
        "d2"
      ],
      "metadata": {
        "id": "OSXFf23ERmGH",
        "colab": {
          "base_uri": "https://localhost:8080/"
        },
        "outputId": "1046d3fa-9a70-4fee-82c5-3a4ea7b5c01d"
      },
      "execution_count": 40,
      "outputs": [
        {
          "output_type": "execute_result",
          "data": {
            "text/plain": [
              "np.float64(-0.03468650176432552)"
            ]
          },
          "metadata": {},
          "execution_count": 40
        }
      ]
    },
    {
      "cell_type": "code",
      "source": [
        "from scipy.stats import norm"
      ],
      "metadata": {
        "id": "rL7Z2YOvvtsq"
      },
      "execution_count": 41,
      "outputs": []
    },
    {
      "cell_type": "code",
      "source": [
        "model_price = S*norm.cdf(d1) - K*(np.exp(-r*T))*norm.cdf(d2)\n",
        "model_price"
      ],
      "metadata": {
        "id": "zxH59CzaRmIW",
        "colab": {
          "base_uri": "https://localhost:8080/"
        },
        "outputId": "a429eb39-1046-438f-dd7f-a7ce1fd93028"
      },
      "execution_count": 42,
      "outputs": [
        {
          "output_type": "execute_result",
          "data": {
            "text/plain": [
              "np.float64(5.942386638491087)"
            ]
          },
          "metadata": {},
          "execution_count": 42
        }
      ]
    },
    {
      "cell_type": "markdown",
      "source": [
        "## **Conclusion**"
      ],
      "metadata": {
        "id": "iMaMJcmVBEVK"
      }
    },
    {
      "cell_type": "markdown",
      "source": [
        "So Modeled Option's Price = $6.24\n",
        "\n",
        "Whereas the actual price = $4.61\n",
        "\n",
        "As (Actual < Modeled) an asset is underprices(good for the buyer)\n",
        "\n",
        "And The value of price is same unlike the binomial model where the modeled price got more and more finer as N increased."
      ],
      "metadata": {
        "id": "aWsbMMl7BCZK"
      }
    },
    {
      "cell_type": "code",
      "source": [],
      "metadata": {
        "id": "qt8wI405-aYA"
      },
      "execution_count": 42,
      "outputs": []
    },
    {
      "cell_type": "markdown",
      "source": [
        "## **Put Option**"
      ],
      "metadata": {
        "id": "8aZl6uzb-LvR"
      }
    },
    {
      "cell_type": "code",
      "source": [
        "strike_price=int(current_price)+1\n",
        "option_det=puts[puts['strike']==strike_price]\n",
        "option_det"
      ],
      "metadata": {
        "id": "C7XYvLsNRmKl",
        "colab": {
          "base_uri": "https://localhost:8080/",
          "height": 118
        },
        "outputId": "98b6dfc1-5c43-4b51-c5d0-b80b8dbc0e56"
      },
      "execution_count": 43,
      "outputs": [
        {
          "output_type": "execute_result",
          "data": {
            "text/plain": [
              "        contractSymbol             lastTradeDate  strike  lastPrice   bid  \\\n",
              "74  SPY250617P00602000 2025-06-10 13:43:49+00:00   602.0       5.07  5.03   \n",
              "\n",
              "     ask  change  percentChange  volume  openInterest  impliedVolatility  \\\n",
              "74  5.06    -0.6     -10.582009    26.0           166           0.128732   \n",
              "\n",
              "    inTheMoney contractSize currency  \n",
              "74        True      REGULAR      USD  "
            ],
            "text/html": [
              "\n",
              "  <div id=\"df-96c48b01-8359-4134-998c-22e24c35b727\" class=\"colab-df-container\">\n",
              "    <div>\n",
              "<style scoped>\n",
              "    .dataframe tbody tr th:only-of-type {\n",
              "        vertical-align: middle;\n",
              "    }\n",
              "\n",
              "    .dataframe tbody tr th {\n",
              "        vertical-align: top;\n",
              "    }\n",
              "\n",
              "    .dataframe thead th {\n",
              "        text-align: right;\n",
              "    }\n",
              "</style>\n",
              "<table border=\"1\" class=\"dataframe\">\n",
              "  <thead>\n",
              "    <tr style=\"text-align: right;\">\n",
              "      <th></th>\n",
              "      <th>contractSymbol</th>\n",
              "      <th>lastTradeDate</th>\n",
              "      <th>strike</th>\n",
              "      <th>lastPrice</th>\n",
              "      <th>bid</th>\n",
              "      <th>ask</th>\n",
              "      <th>change</th>\n",
              "      <th>percentChange</th>\n",
              "      <th>volume</th>\n",
              "      <th>openInterest</th>\n",
              "      <th>impliedVolatility</th>\n",
              "      <th>inTheMoney</th>\n",
              "      <th>contractSize</th>\n",
              "      <th>currency</th>\n",
              "    </tr>\n",
              "  </thead>\n",
              "  <tbody>\n",
              "    <tr>\n",
              "      <th>74</th>\n",
              "      <td>SPY250617P00602000</td>\n",
              "      <td>2025-06-10 13:43:49+00:00</td>\n",
              "      <td>602.0</td>\n",
              "      <td>5.07</td>\n",
              "      <td>5.03</td>\n",
              "      <td>5.06</td>\n",
              "      <td>-0.6</td>\n",
              "      <td>-10.582009</td>\n",
              "      <td>26.0</td>\n",
              "      <td>166</td>\n",
              "      <td>0.128732</td>\n",
              "      <td>True</td>\n",
              "      <td>REGULAR</td>\n",
              "      <td>USD</td>\n",
              "    </tr>\n",
              "  </tbody>\n",
              "</table>\n",
              "</div>\n",
              "    <div class=\"colab-df-buttons\">\n",
              "\n",
              "  <div class=\"colab-df-container\">\n",
              "    <button class=\"colab-df-convert\" onclick=\"convertToInteractive('df-96c48b01-8359-4134-998c-22e24c35b727')\"\n",
              "            title=\"Convert this dataframe to an interactive table.\"\n",
              "            style=\"display:none;\">\n",
              "\n",
              "  <svg xmlns=\"http://www.w3.org/2000/svg\" height=\"24px\" viewBox=\"0 -960 960 960\">\n",
              "    <path d=\"M120-120v-720h720v720H120Zm60-500h600v-160H180v160Zm220 220h160v-160H400v160Zm0 220h160v-160H400v160ZM180-400h160v-160H180v160Zm440 0h160v-160H620v160ZM180-180h160v-160H180v160Zm440 0h160v-160H620v160Z\"/>\n",
              "  </svg>\n",
              "    </button>\n",
              "\n",
              "  <style>\n",
              "    .colab-df-container {\n",
              "      display:flex;\n",
              "      gap: 12px;\n",
              "    }\n",
              "\n",
              "    .colab-df-convert {\n",
              "      background-color: #E8F0FE;\n",
              "      border: none;\n",
              "      border-radius: 50%;\n",
              "      cursor: pointer;\n",
              "      display: none;\n",
              "      fill: #1967D2;\n",
              "      height: 32px;\n",
              "      padding: 0 0 0 0;\n",
              "      width: 32px;\n",
              "    }\n",
              "\n",
              "    .colab-df-convert:hover {\n",
              "      background-color: #E2EBFA;\n",
              "      box-shadow: 0px 1px 2px rgba(60, 64, 67, 0.3), 0px 1px 3px 1px rgba(60, 64, 67, 0.15);\n",
              "      fill: #174EA6;\n",
              "    }\n",
              "\n",
              "    .colab-df-buttons div {\n",
              "      margin-bottom: 4px;\n",
              "    }\n",
              "\n",
              "    [theme=dark] .colab-df-convert {\n",
              "      background-color: #3B4455;\n",
              "      fill: #D2E3FC;\n",
              "    }\n",
              "\n",
              "    [theme=dark] .colab-df-convert:hover {\n",
              "      background-color: #434B5C;\n",
              "      box-shadow: 0px 1px 3px 1px rgba(0, 0, 0, 0.15);\n",
              "      filter: drop-shadow(0px 1px 2px rgba(0, 0, 0, 0.3));\n",
              "      fill: #FFFFFF;\n",
              "    }\n",
              "  </style>\n",
              "\n",
              "    <script>\n",
              "      const buttonEl =\n",
              "        document.querySelector('#df-96c48b01-8359-4134-998c-22e24c35b727 button.colab-df-convert');\n",
              "      buttonEl.style.display =\n",
              "        google.colab.kernel.accessAllowed ? 'block' : 'none';\n",
              "\n",
              "      async function convertToInteractive(key) {\n",
              "        const element = document.querySelector('#df-96c48b01-8359-4134-998c-22e24c35b727');\n",
              "        const dataTable =\n",
              "          await google.colab.kernel.invokeFunction('convertToInteractive',\n",
              "                                                    [key], {});\n",
              "        if (!dataTable) return;\n",
              "\n",
              "        const docLinkHtml = 'Like what you see? Visit the ' +\n",
              "          '<a target=\"_blank\" href=https://colab.research.google.com/notebooks/data_table.ipynb>data table notebook</a>'\n",
              "          + ' to learn more about interactive tables.';\n",
              "        element.innerHTML = '';\n",
              "        dataTable['output_type'] = 'display_data';\n",
              "        await google.colab.output.renderOutput(dataTable, element);\n",
              "        const docLink = document.createElement('div');\n",
              "        docLink.innerHTML = docLinkHtml;\n",
              "        element.appendChild(docLink);\n",
              "      }\n",
              "    </script>\n",
              "  </div>\n",
              "\n",
              "\n",
              "  <div id=\"id_8633985b-9756-40e5-8719-fa17236cfd3e\">\n",
              "    <style>\n",
              "      .colab-df-generate {\n",
              "        background-color: #E8F0FE;\n",
              "        border: none;\n",
              "        border-radius: 50%;\n",
              "        cursor: pointer;\n",
              "        display: none;\n",
              "        fill: #1967D2;\n",
              "        height: 32px;\n",
              "        padding: 0 0 0 0;\n",
              "        width: 32px;\n",
              "      }\n",
              "\n",
              "      .colab-df-generate:hover {\n",
              "        background-color: #E2EBFA;\n",
              "        box-shadow: 0px 1px 2px rgba(60, 64, 67, 0.3), 0px 1px 3px 1px rgba(60, 64, 67, 0.15);\n",
              "        fill: #174EA6;\n",
              "      }\n",
              "\n",
              "      [theme=dark] .colab-df-generate {\n",
              "        background-color: #3B4455;\n",
              "        fill: #D2E3FC;\n",
              "      }\n",
              "\n",
              "      [theme=dark] .colab-df-generate:hover {\n",
              "        background-color: #434B5C;\n",
              "        box-shadow: 0px 1px 3px 1px rgba(0, 0, 0, 0.15);\n",
              "        filter: drop-shadow(0px 1px 2px rgba(0, 0, 0, 0.3));\n",
              "        fill: #FFFFFF;\n",
              "      }\n",
              "    </style>\n",
              "    <button class=\"colab-df-generate\" onclick=\"generateWithVariable('option_det')\"\n",
              "            title=\"Generate code using this dataframe.\"\n",
              "            style=\"display:none;\">\n",
              "\n",
              "  <svg xmlns=\"http://www.w3.org/2000/svg\" height=\"24px\"viewBox=\"0 0 24 24\"\n",
              "       width=\"24px\">\n",
              "    <path d=\"M7,19H8.4L18.45,9,17,7.55,7,17.6ZM5,21V16.75L18.45,3.32a2,2,0,0,1,2.83,0l1.4,1.43a1.91,1.91,0,0,1,.58,1.4,1.91,1.91,0,0,1-.58,1.4L9.25,21ZM18.45,9,17,7.55Zm-12,3A5.31,5.31,0,0,0,4.9,8.1,5.31,5.31,0,0,0,1,6.5,5.31,5.31,0,0,0,4.9,4.9,5.31,5.31,0,0,0,6.5,1,5.31,5.31,0,0,0,8.1,4.9,5.31,5.31,0,0,0,12,6.5,5.46,5.46,0,0,0,6.5,12Z\"/>\n",
              "  </svg>\n",
              "    </button>\n",
              "    <script>\n",
              "      (() => {\n",
              "      const buttonEl =\n",
              "        document.querySelector('#id_8633985b-9756-40e5-8719-fa17236cfd3e button.colab-df-generate');\n",
              "      buttonEl.style.display =\n",
              "        google.colab.kernel.accessAllowed ? 'block' : 'none';\n",
              "\n",
              "      buttonEl.onclick = () => {\n",
              "        google.colab.notebook.generateWithVariable('option_det');\n",
              "      }\n",
              "      })();\n",
              "    </script>\n",
              "  </div>\n",
              "\n",
              "    </div>\n",
              "  </div>\n"
            ],
            "application/vnd.google.colaboratory.intrinsic+json": {
              "type": "dataframe",
              "variable_name": "option_det",
              "summary": "{\n  \"name\": \"option_det\",\n  \"rows\": 1,\n  \"fields\": [\n    {\n      \"column\": \"contractSymbol\",\n      \"properties\": {\n        \"dtype\": \"string\",\n        \"num_unique_values\": 1,\n        \"samples\": [\n          \"SPY250617P00602000\"\n        ],\n        \"semantic_type\": \"\",\n        \"description\": \"\"\n      }\n    },\n    {\n      \"column\": \"lastTradeDate\",\n      \"properties\": {\n        \"dtype\": \"date\",\n        \"min\": \"2025-06-10 13:43:49+00:00\",\n        \"max\": \"2025-06-10 13:43:49+00:00\",\n        \"num_unique_values\": 1,\n        \"samples\": [\n          \"2025-06-10 13:43:49+00:00\"\n        ],\n        \"semantic_type\": \"\",\n        \"description\": \"\"\n      }\n    },\n    {\n      \"column\": \"strike\",\n      \"properties\": {\n        \"dtype\": \"number\",\n        \"std\": null,\n        \"min\": 602.0,\n        \"max\": 602.0,\n        \"num_unique_values\": 1,\n        \"samples\": [\n          602.0\n        ],\n        \"semantic_type\": \"\",\n        \"description\": \"\"\n      }\n    },\n    {\n      \"column\": \"lastPrice\",\n      \"properties\": {\n        \"dtype\": \"number\",\n        \"std\": null,\n        \"min\": 5.07,\n        \"max\": 5.07,\n        \"num_unique_values\": 1,\n        \"samples\": [\n          5.07\n        ],\n        \"semantic_type\": \"\",\n        \"description\": \"\"\n      }\n    },\n    {\n      \"column\": \"bid\",\n      \"properties\": {\n        \"dtype\": \"number\",\n        \"std\": null,\n        \"min\": 5.03,\n        \"max\": 5.03,\n        \"num_unique_values\": 1,\n        \"samples\": [\n          5.03\n        ],\n        \"semantic_type\": \"\",\n        \"description\": \"\"\n      }\n    },\n    {\n      \"column\": \"ask\",\n      \"properties\": {\n        \"dtype\": \"number\",\n        \"std\": null,\n        \"min\": 5.06,\n        \"max\": 5.06,\n        \"num_unique_values\": 1,\n        \"samples\": [\n          5.06\n        ],\n        \"semantic_type\": \"\",\n        \"description\": \"\"\n      }\n    },\n    {\n      \"column\": \"change\",\n      \"properties\": {\n        \"dtype\": \"number\",\n        \"std\": null,\n        \"min\": -0.5999999,\n        \"max\": -0.5999999,\n        \"num_unique_values\": 1,\n        \"samples\": [\n          -0.5999999\n        ],\n        \"semantic_type\": \"\",\n        \"description\": \"\"\n      }\n    },\n    {\n      \"column\": \"percentChange\",\n      \"properties\": {\n        \"dtype\": \"number\",\n        \"std\": null,\n        \"min\": -10.582009,\n        \"max\": -10.582009,\n        \"num_unique_values\": 1,\n        \"samples\": [\n          -10.582009\n        ],\n        \"semantic_type\": \"\",\n        \"description\": \"\"\n      }\n    },\n    {\n      \"column\": \"volume\",\n      \"properties\": {\n        \"dtype\": \"number\",\n        \"std\": null,\n        \"min\": 26.0,\n        \"max\": 26.0,\n        \"num_unique_values\": 1,\n        \"samples\": [\n          26.0\n        ],\n        \"semantic_type\": \"\",\n        \"description\": \"\"\n      }\n    },\n    {\n      \"column\": \"openInterest\",\n      \"properties\": {\n        \"dtype\": \"number\",\n        \"std\": null,\n        \"min\": 166,\n        \"max\": 166,\n        \"num_unique_values\": 1,\n        \"samples\": [\n          166\n        ],\n        \"semantic_type\": \"\",\n        \"description\": \"\"\n      }\n    },\n    {\n      \"column\": \"impliedVolatility\",\n      \"properties\": {\n        \"dtype\": \"number\",\n        \"std\": null,\n        \"min\": 0.1287318572998047,\n        \"max\": 0.1287318572998047,\n        \"num_unique_values\": 1,\n        \"samples\": [\n          0.1287318572998047\n        ],\n        \"semantic_type\": \"\",\n        \"description\": \"\"\n      }\n    },\n    {\n      \"column\": \"inTheMoney\",\n      \"properties\": {\n        \"dtype\": \"boolean\",\n        \"num_unique_values\": 1,\n        \"samples\": [\n          true\n        ],\n        \"semantic_type\": \"\",\n        \"description\": \"\"\n      }\n    },\n    {\n      \"column\": \"contractSize\",\n      \"properties\": {\n        \"dtype\": \"string\",\n        \"num_unique_values\": 1,\n        \"samples\": [\n          \"REGULAR\"\n        ],\n        \"semantic_type\": \"\",\n        \"description\": \"\"\n      }\n    },\n    {\n      \"column\": \"currency\",\n      \"properties\": {\n        \"dtype\": \"string\",\n        \"num_unique_values\": 1,\n        \"samples\": [\n          \"USD\"\n        ],\n        \"semantic_type\": \"\",\n        \"description\": \"\"\n      }\n    }\n  ]\n}"
            }
          },
          "metadata": {},
          "execution_count": 43
        }
      ]
    },
    {
      "cell_type": "code",
      "source": [
        "#Required Data\n",
        "S = current_price\n",
        "K = strike_price\n",
        "r = latest_rate\n",
        "sigma = annual_vol\n",
        "print(sigma)\n",
        "T=(float)(6/252)"
      ],
      "metadata": {
        "id": "7yNksHqVRmMp",
        "colab": {
          "base_uri": "https://localhost:8080/"
        },
        "outputId": "db238d11-5a52-48f6-ef60-88ebb97bfed8"
      },
      "execution_count": 44,
      "outputs": [
        {
          "output_type": "stream",
          "name": "stdout",
          "text": [
            "0.16506692070826784\n"
          ]
        }
      ]
    },
    {
      "cell_type": "code",
      "source": [
        "d1=(np.log(S/K) + (r+(sigma**2)/2)*T) / (sigma*np.sqrt(T))\n",
        "d1"
      ],
      "metadata": {
        "id": "ojJx4OV7RmRv",
        "colab": {
          "base_uri": "https://localhost:8080/"
        },
        "outputId": "4c572cb7-eb80-4b42-f18b-46ba026c7dd8"
      },
      "execution_count": 45,
      "outputs": [
        {
          "output_type": "execute_result",
          "data": {
            "text/plain": [
              "np.float64(-0.009216122931112793)"
            ]
          },
          "metadata": {},
          "execution_count": 45
        }
      ]
    },
    {
      "cell_type": "code",
      "source": [
        "d2=d1-(sigma*np.sqrt(T))\n",
        "d2"
      ],
      "metadata": {
        "id": "bpTH7x1vRmVY",
        "colab": {
          "base_uri": "https://localhost:8080/"
        },
        "outputId": "36a1709b-18ef-4794-da54-923620b6bc6a"
      },
      "execution_count": 46,
      "outputs": [
        {
          "output_type": "execute_result",
          "data": {
            "text/plain": [
              "np.float64(-0.03468650176432552)"
            ]
          },
          "metadata": {},
          "execution_count": 46
        }
      ]
    },
    {
      "cell_type": "code",
      "source": [
        "model_price = K*(np.exp(-r*T))*norm.cdf(-d2) - S*norm.cdf(-d1)\n",
        "model_price"
      ],
      "metadata": {
        "id": "unUscSiyRmXW",
        "colab": {
          "base_uri": "https://localhost:8080/"
        },
        "outputId": "abb4c64b-772e-4188-bbe9-6b303502697c"
      },
      "execution_count": 47,
      "outputs": [
        {
          "output_type": "execute_result",
          "data": {
            "text/plain": [
              "np.float64(6.278535401435306)"
            ]
          },
          "metadata": {},
          "execution_count": 47
        }
      ]
    },
    {
      "cell_type": "markdown",
      "source": [
        "## ***Conclusion***"
      ],
      "metadata": {
        "id": "b-sdG5d2BNMw"
      }
    },
    {
      "cell_type": "markdown",
      "source": [
        "So Modeled Option's Price = $5.95\n",
        "\n",
        "Whereas the actual price = $4.71\n",
        "\n",
        "As (Actual < Modeled) an asset is underprices(good for the buyer)\n",
        "\n",
        "And The value of price is same unlike the binomial model where the modeled price got more and more finer as N increased."
      ],
      "metadata": {
        "id": "wybqXpCsBIQg"
      }
    },
    {
      "cell_type": "code",
      "source": [],
      "metadata": {
        "id": "7TIyExu_RmZx"
      },
      "execution_count": 47,
      "outputs": []
    },
    {
      "cell_type": "code",
      "source": [],
      "metadata": {
        "id": "Sd7aqGm1RmcX"
      },
      "execution_count": 47,
      "outputs": []
    }
  ]
}